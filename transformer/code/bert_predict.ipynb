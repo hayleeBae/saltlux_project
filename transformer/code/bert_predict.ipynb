{
 "cells": [
  {
   "cell_type": "markdown",
   "metadata": {},
   "source": [
    "- 전처리 미포함, 학습"
   ]
  },
  {
   "cell_type": "code",
   "execution_count": 5,
   "metadata": {},
   "outputs": [],
   "source": [
    "import pandas as pd\n",
    "\n",
    "review_jungrang_ori = pd.read_csv('C:/Users/user/Desktop/saltlux_project/ML_DL/preprocess/JungrangTotal.csv', index_col=0)\n",
    "review_jungrang_ori = review_jungrang_ori[['name', 'nickname', 'content']].reset_index(drop=True)"
   ]
  },
  {
   "cell_type": "code",
   "execution_count": 6,
   "metadata": {},
   "outputs": [
    {
     "data": {
      "text/html": [
       "<div>\n",
       "<style scoped>\n",
       "    .dataframe tbody tr th:only-of-type {\n",
       "        vertical-align: middle;\n",
       "    }\n",
       "\n",
       "    .dataframe tbody tr th {\n",
       "        vertical-align: top;\n",
       "    }\n",
       "\n",
       "    .dataframe thead th {\n",
       "        text-align: right;\n",
       "    }\n",
       "</style>\n",
       "<table border=\"1\" class=\"dataframe\">\n",
       "  <thead>\n",
       "    <tr style=\"text-align: right;\">\n",
       "      <th></th>\n",
       "      <th>name</th>\n",
       "      <th>nickname</th>\n",
       "      <th>content</th>\n",
       "    </tr>\n",
       "  </thead>\n",
       "  <tbody>\n",
       "    <tr>\n",
       "      <th>0</th>\n",
       "      <td>365mc모인이비인후과의원</td>\n",
       "      <td>Wiseburge David</td>\n",
       "      <td>사가정 모인 이비인후과 항상 만원이다</td>\n",
       "    </tr>\n",
       "    <tr>\n",
       "      <th>1</th>\n",
       "      <td>365mc모인이비인후과의원</td>\n",
       "      <td>Dk9</td>\n",
       "      <td>좋아요</td>\n",
       "    </tr>\n",
       "    <tr>\n",
       "      <th>2</th>\n",
       "      <td>365mc모인이비인후과의원</td>\n",
       "      <td>귀한집딸z</td>\n",
       "      <td>좋아요</td>\n",
       "    </tr>\n",
       "    <tr>\n",
       "      <th>3</th>\n",
       "      <td>365mc모인이비인후과의원</td>\n",
       "      <td>꽃길걷는중임</td>\n",
       "      <td>항상 친절한 진료 감사합니다~</td>\n",
       "    </tr>\n",
       "    <tr>\n",
       "      <th>4</th>\n",
       "      <td>365mc모인이비인후과의원</td>\n",
       "      <td>막둥</td>\n",
       "      <td>ㅇㅇ</td>\n",
       "    </tr>\n",
       "    <tr>\n",
       "      <th>...</th>\n",
       "      <td>...</td>\n",
       "      <td>...</td>\n",
       "      <td>...</td>\n",
       "    </tr>\n",
       "    <tr>\n",
       "      <th>5970</th>\n",
       "      <td>효치과의원</td>\n",
       "      <td>fpvocalist</td>\n",
       "      <td>굳</td>\n",
       "    </tr>\n",
       "    <tr>\n",
       "      <th>5971</th>\n",
       "      <td>효치과의원</td>\n",
       "      <td>소보루39</td>\n",
       "      <td>좋아요</td>\n",
       "    </tr>\n",
       "    <tr>\n",
       "      <th>5972</th>\n",
       "      <td>효치과의원</td>\n",
       "      <td>1vvovv1</td>\n",
       "      <td>친절하십니다 과잉진료 없음</td>\n",
       "    </tr>\n",
       "    <tr>\n",
       "      <th>5973</th>\n",
       "      <td>효치과의원</td>\n",
       "      <td>버럭아저씨</td>\n",
       "      <td>친절해요..</td>\n",
       "    </tr>\n",
       "    <tr>\n",
       "      <th>5974</th>\n",
       "      <td>효치과의원</td>\n",
       "      <td>fpvocalist</td>\n",
       "      <td>좋아요~~</td>\n",
       "    </tr>\n",
       "  </tbody>\n",
       "</table>\n",
       "<p>5975 rows × 3 columns</p>\n",
       "</div>"
      ],
      "text/plain": [
       "                name         nickname               content\n",
       "0     365mc모인이비인후과의원  Wiseburge David  사가정 모인 이비인후과 항상 만원이다\n",
       "1     365mc모인이비인후과의원              Dk9                   좋아요\n",
       "2     365mc모인이비인후과의원            귀한집딸z                   좋아요\n",
       "3     365mc모인이비인후과의원           꽃길걷는중임     항상 친절한 진료 감사합니다~ \n",
       "4     365mc모인이비인후과의원               막둥                    ㅇㅇ\n",
       "...              ...              ...                   ...\n",
       "5970           효치과의원       fpvocalist                     굳\n",
       "5971           효치과의원            소보루39                   좋아요\n",
       "5972           효치과의원          1vvovv1        친절하십니다 과잉진료 없음\n",
       "5973           효치과의원            버럭아저씨                친절해요..\n",
       "5974           효치과의원       fpvocalist                 좋아요~~\n",
       "\n",
       "[5975 rows x 3 columns]"
      ]
     },
     "execution_count": 6,
     "metadata": {},
     "output_type": "execute_result"
    }
   ],
   "source": [
    "review_jungrang_ori['content'] = review_jungrang_ori['content'].str.replace('\\n', ' ')\n",
    "review_jungrang_ori = review_jungrang_ori.reset_index(drop=True)\n",
    "review_jungrang_ori"
   ]
  },
  {
   "cell_type": "code",
   "execution_count": 7,
   "metadata": {},
   "outputs": [
    {
     "name": "stderr",
     "output_type": "stream",
     "text": [
      "Some weights of BertForSequenceClassification were not initialized from the model checkpoint at bert-base-uncased and are newly initialized: ['classifier.weight', 'classifier.bias']\n",
      "You should probably TRAIN this model on a down-stream task to be able to use it for predictions and inference.\n"
     ]
    }
   ],
   "source": [
    "from transformers import BertTokenizer, BertForSequenceClassification\n",
    "from torch.nn.functional import softmax\n",
    "import torch\n",
    "\n",
    "# 'content' 컬럼의 데이터를 리스트로 추출\n",
    "texts = review_jungrang_ori['content'].tolist()\n",
    "\n",
    "# BERT 모델 및 토크나이저 불러오기\n",
    "model_name = 'bert-base-uncased'\n",
    "tokenizer = BertTokenizer.from_pretrained(model_name)\n",
    "model = BertForSequenceClassification.from_pretrained(model_name)\n",
    "\n",
    "# 결과를 저장할 리스트 초기화\n",
    "results = []\n",
    "\n",
    "# 임계값 설정\n",
    "threshold = 0.4\n",
    "\n",
    "# 각 텍스트에 대해 확률 계산 및 결과 저장\n",
    "for text in texts:\n",
    "    tokens = tokenizer(text, return_tensors='pt')\n",
    "    with torch.no_grad():\n",
    "        logits = model(**tokens).logits\n",
    "\n",
    "    probs = softmax(logits, dim=1).squeeze().tolist()\n",
    "    result_str = f\"긍정 확률: {probs[1]:.2%}, 부정 확률: {probs[0]:.2%}\"\n",
    "    results.append({'Text': text, 'Result': result_str})\n",
    "\n",
    "# 결과를 DataFrame으로 변환\n",
    "results_df = pd.DataFrame(results)\n",
    "\n",
    "# 결과를 CSV 파일로 저장\n",
    "results_df.to_csv('../results/bert_results_ori_0.4prob.csv', index=False)"
   ]
  }
 ],
 "metadata": {
  "kernelspec": {
   "display_name": "torch",
   "language": "python",
   "name": "python3"
  },
  "language_info": {
   "codemirror_mode": {
    "name": "ipython",
    "version": 3
   },
   "file_extension": ".py",
   "mimetype": "text/x-python",
   "name": "python",
   "nbconvert_exporter": "python",
   "pygments_lexer": "ipython3",
   "version": "3.9.13"
  }
 },
 "nbformat": 4,
 "nbformat_minor": 2
}
