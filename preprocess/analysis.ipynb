{
 "cells": [
  {
   "cell_type": "markdown",
   "metadata": {},
   "source": [
    "## konlpy 예시"
   ]
  },
  {
   "cell_type": "code",
   "execution_count": 54,
   "metadata": {},
   "outputs": [
    {
     "name": "stdout",
     "output_type": "stream",
     "text": [
      "['한국어', '텍스트', '데이터', '전', '처리', '예시', '입니다', '']\n"
     ]
    }
   ],
   "source": [
    "from konlpy.tag import Okt\n",
    "import re\n",
    "\n",
    "# 예시 텍스트 데이터\n",
    "text_data = \"한국어 텍스트 데이터 전처리 예시입니다.\"\n",
    "\n",
    "# Okt 형태소 분석기 생성\n",
    "okt = Okt()\n",
    "\n",
    "# 한국어 형태소 분석\n",
    "tokens = okt.morphs(text_data)\n",
    "\n",
    "# 특수 문자 및 숫자 제거\n",
    "tokens = [re.sub(r'[^가-힣\\s]', '', token) for token in tokens]\n",
    "\n",
    "# 불용어 처리 (불용어 사전은 적절히 구축해야 합니다)\n",
    "stop_words = ['은', '는', '이', '가', '을', '를']\n",
    "tokens = [word for word in tokens if word not in stop_words]\n",
    "\n",
    "# 전처리된 토큰 출력\n",
    "print(tokens)\n"
   ]
  },
  {
   "cell_type": "markdown",
   "metadata": {},
   "source": [
    "## 감성사전 수집"
   ]
  },
  {
   "cell_type": "code",
   "execution_count": 45,
   "metadata": {},
   "outputs": [],
   "source": [
    "import pandas as pd"
   ]
  },
  {
   "cell_type": "code",
   "execution_count": 48,
   "metadata": {},
   "outputs": [
    {
     "data": {
      "text/html": [
       "<div>\n",
       "<style scoped>\n",
       "    .dataframe tbody tr th:only-of-type {\n",
       "        vertical-align: middle;\n",
       "    }\n",
       "\n",
       "    .dataframe tbody tr th {\n",
       "        vertical-align: top;\n",
       "    }\n",
       "\n",
       "    .dataframe thead th {\n",
       "        text-align: right;\n",
       "    }\n",
       "</style>\n",
       "<table border=\"1\" class=\"dataframe\">\n",
       "  <thead>\n",
       "    <tr style=\"text-align: right;\">\n",
       "      <th></th>\n",
       "      <th>words</th>\n",
       "      <th>sentiment</th>\n",
       "    </tr>\n",
       "  </thead>\n",
       "  <tbody>\n",
       "    <tr>\n",
       "      <th>0</th>\n",
       "      <td>(-;</td>\n",
       "      <td>1.0</td>\n",
       "    </tr>\n",
       "    <tr>\n",
       "      <th>1</th>\n",
       "      <td>(;_;)</td>\n",
       "      <td>-1.0</td>\n",
       "    </tr>\n",
       "    <tr>\n",
       "      <th>2</th>\n",
       "      <td>(^^)</td>\n",
       "      <td>1.0</td>\n",
       "    </tr>\n",
       "    <tr>\n",
       "      <th>3</th>\n",
       "      <td>(^-^)</td>\n",
       "      <td>1.0</td>\n",
       "    </tr>\n",
       "    <tr>\n",
       "      <th>4</th>\n",
       "      <td>(^^*</td>\n",
       "      <td>1.0</td>\n",
       "    </tr>\n",
       "    <tr>\n",
       "      <th>...</th>\n",
       "      <td>...</td>\n",
       "      <td>...</td>\n",
       "    </tr>\n",
       "    <tr>\n",
       "      <th>14850</th>\n",
       "      <td>갈등 -1</td>\n",
       "      <td>NaN</td>\n",
       "    </tr>\n",
       "    <tr>\n",
       "      <th>14851</th>\n",
       "      <td>의혹</td>\n",
       "      <td>-1.0</td>\n",
       "    </tr>\n",
       "    <tr>\n",
       "      <th>14852</th>\n",
       "      <td>내팽개치다</td>\n",
       "      <td>-2.0</td>\n",
       "    </tr>\n",
       "    <tr>\n",
       "      <th>14853</th>\n",
       "      <td>횡령</td>\n",
       "      <td>-2.0</td>\n",
       "    </tr>\n",
       "    <tr>\n",
       "      <th>14854</th>\n",
       "      <td>불안증</td>\n",
       "      <td>-2.0</td>\n",
       "    </tr>\n",
       "  </tbody>\n",
       "</table>\n",
       "<p>14855 rows × 2 columns</p>\n",
       "</div>"
      ],
      "text/plain": [
       "       words  sentiment\n",
       "0        (-;        1.0\n",
       "1      (;_;)       -1.0\n",
       "2       (^^)        1.0\n",
       "3      (^-^)        1.0\n",
       "4       (^^*        1.0\n",
       "...      ...        ...\n",
       "14850  갈등 -1        NaN\n",
       "14851     의혹       -1.0\n",
       "14852  내팽개치다       -2.0\n",
       "14853     횡령       -2.0\n",
       "14854    불안증       -2.0\n",
       "\n",
       "[14855 rows x 2 columns]"
      ]
     },
     "execution_count": 48,
     "metadata": {},
     "output_type": "execute_result"
    }
   ],
   "source": [
    "# 공백으로 구분된 text_file : tab으로 구분 -> NaN 추가 처리\n",
    "sentiword_dict = pd.read_csv('C:/Users/user/Desktop/preprocess/SentiWord_Dict.txt', sep = \"\\t\", encoding = \"utf-8\",\n",
    "                              header=None, names=['words', 'sentiment'])\n",
    "sentiword_dict"
   ]
  },
  {
   "cell_type": "code",
   "execution_count": 49,
   "metadata": {},
   "outputs": [
    {
     "data": {
      "text/plain": [
       "1"
      ]
     },
     "execution_count": 49,
     "metadata": {},
     "output_type": "execute_result"
    }
   ],
   "source": [
    "sentiword_dict['sentiment'].isnull().sum()"
   ]
  },
  {
   "cell_type": "code",
   "execution_count": 50,
   "metadata": {},
   "outputs": [],
   "source": [
    "sentiword_dict.loc[14850, 'words'] = '갈등'\n",
    "sentiword_dict.loc[14850, 'sentiment'] = -1"
   ]
  },
  {
   "cell_type": "code",
   "execution_count": 51,
   "metadata": {},
   "outputs": [
    {
     "data": {
      "text/plain": [
       "0"
      ]
     },
     "execution_count": 51,
     "metadata": {},
     "output_type": "execute_result"
    }
   ],
   "source": [
    "sentiword_dict['sentiment'].isnull().sum()"
   ]
  },
  {
   "cell_type": "code",
   "execution_count": 53,
   "metadata": {},
   "outputs": [
    {
     "data": {
      "text/html": [
       "<div>\n",
       "<style scoped>\n",
       "    .dataframe tbody tr th:only-of-type {\n",
       "        vertical-align: middle;\n",
       "    }\n",
       "\n",
       "    .dataframe tbody tr th {\n",
       "        vertical-align: top;\n",
       "    }\n",
       "\n",
       "    .dataframe thead th {\n",
       "        text-align: right;\n",
       "    }\n",
       "</style>\n",
       "<table border=\"1\" class=\"dataframe\">\n",
       "  <thead>\n",
       "    <tr style=\"text-align: right;\">\n",
       "      <th></th>\n",
       "      <th>words</th>\n",
       "      <th>sentiment</th>\n",
       "    </tr>\n",
       "  </thead>\n",
       "  <tbody>\n",
       "    <tr>\n",
       "      <th>0</th>\n",
       "      <td>(-;</td>\n",
       "      <td>1</td>\n",
       "    </tr>\n",
       "    <tr>\n",
       "      <th>1</th>\n",
       "      <td>(;_;)</td>\n",
       "      <td>-1</td>\n",
       "    </tr>\n",
       "    <tr>\n",
       "      <th>2</th>\n",
       "      <td>(^^)</td>\n",
       "      <td>1</td>\n",
       "    </tr>\n",
       "    <tr>\n",
       "      <th>3</th>\n",
       "      <td>(^-^)</td>\n",
       "      <td>1</td>\n",
       "    </tr>\n",
       "    <tr>\n",
       "      <th>4</th>\n",
       "      <td>(^^*</td>\n",
       "      <td>1</td>\n",
       "    </tr>\n",
       "    <tr>\n",
       "      <th>...</th>\n",
       "      <td>...</td>\n",
       "      <td>...</td>\n",
       "    </tr>\n",
       "    <tr>\n",
       "      <th>14850</th>\n",
       "      <td>갈등</td>\n",
       "      <td>-1</td>\n",
       "    </tr>\n",
       "    <tr>\n",
       "      <th>14851</th>\n",
       "      <td>의혹</td>\n",
       "      <td>-1</td>\n",
       "    </tr>\n",
       "    <tr>\n",
       "      <th>14852</th>\n",
       "      <td>내팽개치다</td>\n",
       "      <td>-2</td>\n",
       "    </tr>\n",
       "    <tr>\n",
       "      <th>14853</th>\n",
       "      <td>횡령</td>\n",
       "      <td>-2</td>\n",
       "    </tr>\n",
       "    <tr>\n",
       "      <th>14854</th>\n",
       "      <td>불안증</td>\n",
       "      <td>-2</td>\n",
       "    </tr>\n",
       "  </tbody>\n",
       "</table>\n",
       "<p>14855 rows × 2 columns</p>\n",
       "</div>"
      ],
      "text/plain": [
       "       words  sentiment\n",
       "0        (-;          1\n",
       "1      (;_;)         -1\n",
       "2       (^^)          1\n",
       "3      (^-^)          1\n",
       "4       (^^*          1\n",
       "...      ...        ...\n",
       "14850     갈등         -1\n",
       "14851     의혹         -1\n",
       "14852  내팽개치다         -2\n",
       "14853     횡령         -2\n",
       "14854    불안증         -2\n",
       "\n",
       "[14855 rows x 2 columns]"
      ]
     },
     "execution_count": 53,
     "metadata": {},
     "output_type": "execute_result"
    }
   ],
   "source": [
    "sentiword_dict['sentiment'] = sentiword_dict['sentiment'].astype(int)\n",
    "sentiword_dict"
   ]
  },
  {
   "cell_type": "code",
   "execution_count": 133,
   "metadata": {},
   "outputs": [
    {
     "data": {
      "text/plain": [
       "array([ 1, -1,  0, -2,  2])"
      ]
     },
     "execution_count": 133,
     "metadata": {},
     "output_type": "execute_result"
    }
   ],
   "source": [
    "sentiword_dict['sentiment'].unique()"
   ]
  },
  {
   "cell_type": "code",
   "execution_count": null,
   "metadata": {},
   "outputs": [],
   "source": [
    "# -1, -2 : 부정\n",
    "# 0 : 중립\n",
    "# 1, 2 : 긍정"
   ]
  },
  {
   "cell_type": "markdown",
   "metadata": {},
   "source": [
    "## 데이터 전처리"
   ]
  },
  {
   "cell_type": "code",
   "execution_count": 123,
   "metadata": {},
   "outputs": [
    {
     "data": {
      "text/html": [
       "<div>\n",
       "<style scoped>\n",
       "    .dataframe tbody tr th:only-of-type {\n",
       "        vertical-align: middle;\n",
       "    }\n",
       "\n",
       "    .dataframe tbody tr th {\n",
       "        vertical-align: top;\n",
       "    }\n",
       "\n",
       "    .dataframe thead th {\n",
       "        text-align: right;\n",
       "    }\n",
       "</style>\n",
       "<table border=\"1\" class=\"dataframe\">\n",
       "  <thead>\n",
       "    <tr style=\"text-align: right;\">\n",
       "      <th></th>\n",
       "      <th>name</th>\n",
       "      <th>hospital_id</th>\n",
       "      <th>nickname</th>\n",
       "      <th>content</th>\n",
       "      <th>date</th>\n",
       "      <th>revisit</th>\n",
       "    </tr>\n",
       "  </thead>\n",
       "  <tbody>\n",
       "    <tr>\n",
       "      <th>0</th>\n",
       "      <td>365mc모인이비인후과의원</td>\n",
       "      <td>19527111</td>\n",
       "      <td>Wiseburge David</td>\n",
       "      <td>사가정\\n모인 이비인후과\\n항상 만원이다</td>\n",
       "      <td>11.24.금</td>\n",
       "      <td>4번째 방문</td>\n",
       "    </tr>\n",
       "    <tr>\n",
       "      <th>1</th>\n",
       "      <td>365mc모인이비인후과의원</td>\n",
       "      <td>19527111</td>\n",
       "      <td>Dk9</td>\n",
       "      <td>좋아요</td>\n",
       "      <td>11.23.목</td>\n",
       "      <td>1번째 방문</td>\n",
       "    </tr>\n",
       "    <tr>\n",
       "      <th>2</th>\n",
       "      <td>365mc모인이비인후과의원</td>\n",
       "      <td>19527111</td>\n",
       "      <td>귀한집딸z</td>\n",
       "      <td>좋아요</td>\n",
       "      <td>11.20.월</td>\n",
       "      <td>2번째 방문</td>\n",
       "    </tr>\n",
       "    <tr>\n",
       "      <th>3</th>\n",
       "      <td>365mc모인이비인후과의원</td>\n",
       "      <td>19527111</td>\n",
       "      <td>꽃길걷는중임</td>\n",
       "      <td>항상 친절한 진료 감사합니다~</td>\n",
       "      <td>11.20.월</td>\n",
       "      <td>2번째 방문</td>\n",
       "    </tr>\n",
       "    <tr>\n",
       "      <th>4</th>\n",
       "      <td>365mc모인이비인후과의원</td>\n",
       "      <td>19527111</td>\n",
       "      <td>막둥</td>\n",
       "      <td>ㅇㅇ</td>\n",
       "      <td>11.18.토</td>\n",
       "      <td>4번째 방문</td>\n",
       "    </tr>\n",
       "  </tbody>\n",
       "</table>\n",
       "</div>"
      ],
      "text/plain": [
       "             name  hospital_id         nickname                 content  \\\n",
       "0  365mc모인이비인후과의원     19527111  Wiseburge David  사가정\\n모인 이비인후과\\n항상 만원이다   \n",
       "1  365mc모인이비인후과의원     19527111              Dk9                     좋아요   \n",
       "2  365mc모인이비인후과의원     19527111            귀한집딸z                     좋아요   \n",
       "3  365mc모인이비인후과의원     19527111           꽃길걷는중임       항상 친절한 진료 감사합니다~    \n",
       "4  365mc모인이비인후과의원     19527111               막둥                      ㅇㅇ   \n",
       "\n",
       "      date revisit  \n",
       "0  11.24.금  4번째 방문  \n",
       "1  11.23.목  1번째 방문  \n",
       "2  11.20.월  2번째 방문  \n",
       "3  11.20.월  2번째 방문  \n",
       "4  11.18.토  4번째 방문  "
      ]
     },
     "execution_count": 123,
     "metadata": {},
     "output_type": "execute_result"
    }
   ],
   "source": [
    "review_jungrang = pd.read_csv('C:/Users/user/Desktop/preprocess/JungrangTotal.csv', index_col=0)\n",
    "review_jungrang.head()"
   ]
  },
  {
   "cell_type": "code",
   "execution_count": 124,
   "metadata": {},
   "outputs": [
    {
     "data": {
      "text/html": [
       "<div>\n",
       "<style scoped>\n",
       "    .dataframe tbody tr th:only-of-type {\n",
       "        vertical-align: middle;\n",
       "    }\n",
       "\n",
       "    .dataframe tbody tr th {\n",
       "        vertical-align: top;\n",
       "    }\n",
       "\n",
       "    .dataframe thead th {\n",
       "        text-align: right;\n",
       "    }\n",
       "</style>\n",
       "<table border=\"1\" class=\"dataframe\">\n",
       "  <thead>\n",
       "    <tr style=\"text-align: right;\">\n",
       "      <th></th>\n",
       "      <th>name</th>\n",
       "      <th>content</th>\n",
       "    </tr>\n",
       "  </thead>\n",
       "  <tbody>\n",
       "    <tr>\n",
       "      <th>0</th>\n",
       "      <td>365mc모인이비인후과의원</td>\n",
       "      <td>사가정\\n모인 이비인후과\\n항상 만원이다</td>\n",
       "    </tr>\n",
       "    <tr>\n",
       "      <th>1</th>\n",
       "      <td>365mc모인이비인후과의원</td>\n",
       "      <td>좋아요</td>\n",
       "    </tr>\n",
       "    <tr>\n",
       "      <th>2</th>\n",
       "      <td>365mc모인이비인후과의원</td>\n",
       "      <td>좋아요</td>\n",
       "    </tr>\n",
       "    <tr>\n",
       "      <th>3</th>\n",
       "      <td>365mc모인이비인후과의원</td>\n",
       "      <td>항상 친절한 진료 감사합니다~</td>\n",
       "    </tr>\n",
       "    <tr>\n",
       "      <th>4</th>\n",
       "      <td>365mc모인이비인후과의원</td>\n",
       "      <td>ㅇㅇ</td>\n",
       "    </tr>\n",
       "    <tr>\n",
       "      <th>...</th>\n",
       "      <td>...</td>\n",
       "      <td>...</td>\n",
       "    </tr>\n",
       "    <tr>\n",
       "      <th>5970</th>\n",
       "      <td>효치과의원</td>\n",
       "      <td>굳</td>\n",
       "    </tr>\n",
       "    <tr>\n",
       "      <th>5971</th>\n",
       "      <td>효치과의원</td>\n",
       "      <td>좋아요</td>\n",
       "    </tr>\n",
       "    <tr>\n",
       "      <th>5972</th>\n",
       "      <td>효치과의원</td>\n",
       "      <td>친절하십니다\\n과잉진료 없음</td>\n",
       "    </tr>\n",
       "    <tr>\n",
       "      <th>5973</th>\n",
       "      <td>효치과의원</td>\n",
       "      <td>친절해요..</td>\n",
       "    </tr>\n",
       "    <tr>\n",
       "      <th>5974</th>\n",
       "      <td>효치과의원</td>\n",
       "      <td>좋아요~~</td>\n",
       "    </tr>\n",
       "  </tbody>\n",
       "</table>\n",
       "<p>5975 rows × 2 columns</p>\n",
       "</div>"
      ],
      "text/plain": [
       "                name                 content\n",
       "0     365mc모인이비인후과의원  사가정\\n모인 이비인후과\\n항상 만원이다\n",
       "1     365mc모인이비인후과의원                     좋아요\n",
       "2     365mc모인이비인후과의원                     좋아요\n",
       "3     365mc모인이비인후과의원       항상 친절한 진료 감사합니다~ \n",
       "4     365mc모인이비인후과의원                      ㅇㅇ\n",
       "...              ...                     ...\n",
       "5970           효치과의원                       굳\n",
       "5971           효치과의원                     좋아요\n",
       "5972           효치과의원         친절하십니다\\n과잉진료 없음\n",
       "5973           효치과의원                  친절해요..\n",
       "5974           효치과의원                   좋아요~~\n",
       "\n",
       "[5975 rows x 2 columns]"
      ]
     },
     "execution_count": 124,
     "metadata": {},
     "output_type": "execute_result"
    }
   ],
   "source": [
    "review_jungrang = review_jungrang[['name', 'content']].reset_index(drop=True)\n",
    "review_jungrang"
   ]
  },
  {
   "cell_type": "code",
   "execution_count": 125,
   "metadata": {},
   "outputs": [
    {
     "name": "stdout",
     "output_type": "stream",
     "text": [
      "<class 'pandas.core.frame.DataFrame'>\n",
      "RangeIndex: 5975 entries, 0 to 5974\n",
      "Data columns (total 2 columns):\n",
      " #   Column   Non-Null Count  Dtype \n",
      "---  ------   --------------  ----- \n",
      " 0   name     5975 non-null   object\n",
      " 1   content  5975 non-null   object\n",
      "dtypes: object(2)\n",
      "memory usage: 93.5+ KB\n"
     ]
    }
   ],
   "source": [
    "review_jungrang.info()"
   ]
  },
  {
   "cell_type": "code",
   "execution_count": 126,
   "metadata": {},
   "outputs": [],
   "source": [
    "# 결측치 제거 -> null값 없음\n",
    "review_jungrang.dropna(inplace=True)"
   ]
  },
  {
   "cell_type": "code",
   "execution_count": 127,
   "metadata": {},
   "outputs": [
    {
     "data": {
      "text/html": [
       "<div>\n",
       "<style scoped>\n",
       "    .dataframe tbody tr th:only-of-type {\n",
       "        vertical-align: middle;\n",
       "    }\n",
       "\n",
       "    .dataframe tbody tr th {\n",
       "        vertical-align: top;\n",
       "    }\n",
       "\n",
       "    .dataframe thead th {\n",
       "        text-align: right;\n",
       "    }\n",
       "</style>\n",
       "<table border=\"1\" class=\"dataframe\">\n",
       "  <thead>\n",
       "    <tr style=\"text-align: right;\">\n",
       "      <th></th>\n",
       "      <th>name</th>\n",
       "      <th>content</th>\n",
       "    </tr>\n",
       "  </thead>\n",
       "  <tbody>\n",
       "    <tr>\n",
       "      <th>2</th>\n",
       "      <td>365mc모인이비인후과의원</td>\n",
       "      <td>좋아요</td>\n",
       "    </tr>\n",
       "    <tr>\n",
       "      <th>5</th>\n",
       "      <td>365mc모인이비인후과의원</td>\n",
       "      <td>ㅇㅇ</td>\n",
       "    </tr>\n",
       "    <tr>\n",
       "      <th>6</th>\n",
       "      <td>365mc모인이비인후과의원</td>\n",
       "      <td>ㅇㅇ</td>\n",
       "    </tr>\n",
       "    <tr>\n",
       "      <th>7</th>\n",
       "      <td>365mc모인이비인후과의원</td>\n",
       "      <td>ㅇㅇ</td>\n",
       "    </tr>\n",
       "    <tr>\n",
       "      <th>9</th>\n",
       "      <td>365mc모인이비인후과의원</td>\n",
       "      <td>굿</td>\n",
       "    </tr>\n",
       "    <tr>\n",
       "      <th>...</th>\n",
       "      <td>...</td>\n",
       "      <td>...</td>\n",
       "    </tr>\n",
       "    <tr>\n",
       "      <th>5965</th>\n",
       "      <td>효치과의원</td>\n",
       "      <td>친절해요!</td>\n",
       "    </tr>\n",
       "    <tr>\n",
       "      <th>5968</th>\n",
       "      <td>효치과의원</td>\n",
       "      <td>굳굳</td>\n",
       "    </tr>\n",
       "    <tr>\n",
       "      <th>5970</th>\n",
       "      <td>효치과의원</td>\n",
       "      <td>굳</td>\n",
       "    </tr>\n",
       "    <tr>\n",
       "      <th>5971</th>\n",
       "      <td>효치과의원</td>\n",
       "      <td>좋아요</td>\n",
       "    </tr>\n",
       "    <tr>\n",
       "      <th>5973</th>\n",
       "      <td>효치과의원</td>\n",
       "      <td>친절해요..</td>\n",
       "    </tr>\n",
       "  </tbody>\n",
       "</table>\n",
       "<p>2829 rows × 2 columns</p>\n",
       "</div>"
      ],
      "text/plain": [
       "                name content\n",
       "2     365mc모인이비인후과의원     좋아요\n",
       "5     365mc모인이비인후과의원      ㅇㅇ\n",
       "6     365mc모인이비인후과의원      ㅇㅇ\n",
       "7     365mc모인이비인후과의원      ㅇㅇ\n",
       "9     365mc모인이비인후과의원       굿\n",
       "...              ...     ...\n",
       "5965           효치과의원   친절해요!\n",
       "5968           효치과의원      굳굳\n",
       "5970           효치과의원       굳\n",
       "5971           효치과의원     좋아요\n",
       "5973           효치과의원  친절해요..\n",
       "\n",
       "[2829 rows x 2 columns]"
      ]
     },
     "execution_count": 127,
     "metadata": {},
     "output_type": "execute_result"
    }
   ],
   "source": [
    "# 중복값 확인\n",
    "duplicated = review_jungrang[review_jungrang['content'].duplicated()]\n",
    "duplicated"
   ]
  },
  {
   "cell_type": "code",
   "execution_count": 128,
   "metadata": {},
   "outputs": [
    {
     "data": {
      "text/plain": [
       "(3146, 2)"
      ]
     },
     "execution_count": 128,
     "metadata": {},
     "output_type": "execute_result"
    }
   ],
   "source": [
    "# 중복값 제거\n",
    "review_jungrang.drop_duplicates(subset=['content'], inplace=True)\n",
    "review_jungrang.shape"
   ]
  },
  {
   "cell_type": "code",
   "execution_count": 129,
   "metadata": {},
   "outputs": [
    {
     "data": {
      "text/html": [
       "<div>\n",
       "<style scoped>\n",
       "    .dataframe tbody tr th:only-of-type {\n",
       "        vertical-align: middle;\n",
       "    }\n",
       "\n",
       "    .dataframe tbody tr th {\n",
       "        vertical-align: top;\n",
       "    }\n",
       "\n",
       "    .dataframe thead th {\n",
       "        text-align: right;\n",
       "    }\n",
       "</style>\n",
       "<table border=\"1\" class=\"dataframe\">\n",
       "  <thead>\n",
       "    <tr style=\"text-align: right;\">\n",
       "      <th></th>\n",
       "      <th>name</th>\n",
       "      <th>content</th>\n",
       "    </tr>\n",
       "  </thead>\n",
       "  <tbody>\n",
       "    <tr>\n",
       "      <th>0</th>\n",
       "      <td>365mc모인이비인후과의원</td>\n",
       "      <td>사가정\\n모인 이비인후과\\n항상 만원이다</td>\n",
       "    </tr>\n",
       "    <tr>\n",
       "      <th>1</th>\n",
       "      <td>365mc모인이비인후과의원</td>\n",
       "      <td>좋아요</td>\n",
       "    </tr>\n",
       "    <tr>\n",
       "      <th>2</th>\n",
       "      <td>365mc모인이비인후과의원</td>\n",
       "      <td>항상 친절한 진료 감사합니다~</td>\n",
       "    </tr>\n",
       "    <tr>\n",
       "      <th>3</th>\n",
       "      <td>365mc모인이비인후과의원</td>\n",
       "      <td>ㅇㅇ</td>\n",
       "    </tr>\n",
       "    <tr>\n",
       "      <th>4</th>\n",
       "      <td>365mc모인이비인후과의원</td>\n",
       "      <td>굿</td>\n",
       "    </tr>\n",
       "    <tr>\n",
       "      <th>...</th>\n",
       "      <td>...</td>\n",
       "      <td>...</td>\n",
       "    </tr>\n",
       "    <tr>\n",
       "      <th>3141</th>\n",
       "      <td>효치과의원</td>\n",
       "      <td>원장님, 간호사님 친절하시고 무엇보다도 과잉진료가 없어서 만족합니다.</td>\n",
       "    </tr>\n",
       "    <tr>\n",
       "      <th>3142</th>\n",
       "      <td>효치과의원</td>\n",
       "      <td>젛아요!</td>\n",
       "    </tr>\n",
       "    <tr>\n",
       "      <th>3143</th>\n",
       "      <td>효치과의원</td>\n",
       "      <td>네</td>\n",
       "    </tr>\n",
       "    <tr>\n",
       "      <th>3144</th>\n",
       "      <td>효치과의원</td>\n",
       "      <td>친절하십니다\\n과잉진료 없음</td>\n",
       "    </tr>\n",
       "    <tr>\n",
       "      <th>3145</th>\n",
       "      <td>효치과의원</td>\n",
       "      <td>좋아요~~</td>\n",
       "    </tr>\n",
       "  </tbody>\n",
       "</table>\n",
       "<p>3146 rows × 2 columns</p>\n",
       "</div>"
      ],
      "text/plain": [
       "                name                                 content\n",
       "0     365mc모인이비인후과의원                  사가정\\n모인 이비인후과\\n항상 만원이다\n",
       "1     365mc모인이비인후과의원                                     좋아요\n",
       "2     365mc모인이비인후과의원                       항상 친절한 진료 감사합니다~ \n",
       "3     365mc모인이비인후과의원                                      ㅇㅇ\n",
       "4     365mc모인이비인후과의원                                       굿\n",
       "...              ...                                     ...\n",
       "3141           효치과의원  원장님, 간호사님 친절하시고 무엇보다도 과잉진료가 없어서 만족합니다.\n",
       "3142           효치과의원                                    젛아요!\n",
       "3143           효치과의원                                       네\n",
       "3144           효치과의원                         친절하십니다\\n과잉진료 없음\n",
       "3145           효치과의원                                   좋아요~~\n",
       "\n",
       "[3146 rows x 2 columns]"
      ]
     },
     "execution_count": 129,
     "metadata": {},
     "output_type": "execute_result"
    }
   ],
   "source": [
    "review_jungrang.reset_index(drop=True)"
   ]
  },
  {
   "cell_type": "code",
   "execution_count": 130,
   "metadata": {},
   "outputs": [
    {
     "data": {
      "text/plain": [
       "0                         사가정 모인 이비인후과 항상 만원이다\n",
       "1                                          좋아요\n",
       "3                            항상 친절한 진료 감사합니다~ \n",
       "4                                           ㅇㅇ\n",
       "8                                            굿\n",
       "                         ...                  \n",
       "5966    원장님, 간호사님 친절하시고 무엇보다도 과잉진료가 없어서 만족합니다.\n",
       "5967                                      젛아요!\n",
       "5969                                         네\n",
       "5972                            친절하십니다 과잉진료 없음\n",
       "5974                                     좋아요~~\n",
       "Name: content, Length: 3146, dtype: object"
      ]
     },
     "execution_count": 130,
     "metadata": {},
     "output_type": "execute_result"
    }
   ],
   "source": [
    "review_jungrang['content'] = review_jungrang['content'].str.replace('\\n', ' ')\n",
    "review_jungrang['content']"
   ]
  },
  {
   "cell_type": "code",
   "execution_count": 131,
   "metadata": {},
   "outputs": [
    {
     "data": {
      "text/html": [
       "<div>\n",
       "<style scoped>\n",
       "    .dataframe tbody tr th:only-of-type {\n",
       "        vertical-align: middle;\n",
       "    }\n",
       "\n",
       "    .dataframe tbody tr th {\n",
       "        vertical-align: top;\n",
       "    }\n",
       "\n",
       "    .dataframe thead th {\n",
       "        text-align: right;\n",
       "    }\n",
       "</style>\n",
       "<table border=\"1\" class=\"dataframe\">\n",
       "  <thead>\n",
       "    <tr style=\"text-align: right;\">\n",
       "      <th></th>\n",
       "      <th>content</th>\n",
       "    </tr>\n",
       "  </thead>\n",
       "  <tbody>\n",
       "    <tr>\n",
       "      <th>0</th>\n",
       "      <td>사가정 모인 이비인후과 항상 만원이다</td>\n",
       "    </tr>\n",
       "    <tr>\n",
       "      <th>1</th>\n",
       "      <td>좋아요</td>\n",
       "    </tr>\n",
       "    <tr>\n",
       "      <th>3</th>\n",
       "      <td>항상 친절한 진료 감사합니다</td>\n",
       "    </tr>\n",
       "    <tr>\n",
       "      <th>4</th>\n",
       "      <td></td>\n",
       "    </tr>\n",
       "    <tr>\n",
       "      <th>8</th>\n",
       "      <td>굿</td>\n",
       "    </tr>\n",
       "    <tr>\n",
       "      <th>...</th>\n",
       "      <td>...</td>\n",
       "    </tr>\n",
       "    <tr>\n",
       "      <th>5966</th>\n",
       "      <td>원장님  간호사님 친절하시고 무엇보다도 과잉진료가 없어서 만족합니다</td>\n",
       "    </tr>\n",
       "    <tr>\n",
       "      <th>5967</th>\n",
       "      <td>젛아요</td>\n",
       "    </tr>\n",
       "    <tr>\n",
       "      <th>5969</th>\n",
       "      <td>네</td>\n",
       "    </tr>\n",
       "    <tr>\n",
       "      <th>5972</th>\n",
       "      <td>친절하십니다 과잉진료 없음</td>\n",
       "    </tr>\n",
       "    <tr>\n",
       "      <th>5974</th>\n",
       "      <td>좋아요</td>\n",
       "    </tr>\n",
       "  </tbody>\n",
       "</table>\n",
       "<p>3146 rows × 1 columns</p>\n",
       "</div>"
      ],
      "text/plain": [
       "                                     content\n",
       "0                       사가정 모인 이비인후과 항상 만원이다\n",
       "1                                        좋아요\n",
       "3                          항상 친절한 진료 감사합니다  \n",
       "4                                           \n",
       "8                                          굿\n",
       "...                                      ...\n",
       "5966  원장님  간호사님 친절하시고 무엇보다도 과잉진료가 없어서 만족합니다 \n",
       "5967                                    젛아요 \n",
       "5969                                       네\n",
       "5972                          친절하십니다 과잉진료 없음\n",
       "5974                                   좋아요  \n",
       "\n",
       "[3146 rows x 1 columns]"
      ]
     },
     "execution_count": 131,
     "metadata": {},
     "output_type": "execute_result"
    }
   ],
   "source": [
    "review_jungrang['content'] = review_jungrang['content'].str.replace('[~!]', ' ', regex=True)\n",
    "review_jungrang['content'] = review_jungrang['content'].str.replace('[^가-힣]', ' ', regex=True)\n",
    "review_jungrang[['content']]"
   ]
  },
  {
   "cell_type": "code",
   "execution_count": 132,
   "metadata": {},
   "outputs": [
    {
     "data": {
      "text/html": [
       "<div>\n",
       "<style scoped>\n",
       "    .dataframe tbody tr th:only-of-type {\n",
       "        vertical-align: middle;\n",
       "    }\n",
       "\n",
       "    .dataframe tbody tr th {\n",
       "        vertical-align: top;\n",
       "    }\n",
       "\n",
       "    .dataframe thead th {\n",
       "        text-align: right;\n",
       "    }\n",
       "</style>\n",
       "<table border=\"1\" class=\"dataframe\">\n",
       "  <thead>\n",
       "    <tr style=\"text-align: right;\">\n",
       "      <th></th>\n",
       "      <th>name</th>\n",
       "      <th>content</th>\n",
       "    </tr>\n",
       "  </thead>\n",
       "  <tbody>\n",
       "    <tr>\n",
       "      <th>0</th>\n",
       "      <td>365mc모인이비인후과의원</td>\n",
       "      <td>사가정 모인 이비인후과 항상 만원이다</td>\n",
       "    </tr>\n",
       "    <tr>\n",
       "      <th>1</th>\n",
       "      <td>365mc모인이비인후과의원</td>\n",
       "      <td>좋아요</td>\n",
       "    </tr>\n",
       "    <tr>\n",
       "      <th>2</th>\n",
       "      <td>365mc모인이비인후과의원</td>\n",
       "      <td>항상 친절한 진료 감사합니다</td>\n",
       "    </tr>\n",
       "    <tr>\n",
       "      <th>3</th>\n",
       "      <td>365mc모인이비인후과의원</td>\n",
       "      <td></td>\n",
       "    </tr>\n",
       "    <tr>\n",
       "      <th>4</th>\n",
       "      <td>365mc모인이비인후과의원</td>\n",
       "      <td>굿</td>\n",
       "    </tr>\n",
       "    <tr>\n",
       "      <th>...</th>\n",
       "      <td>...</td>\n",
       "      <td>...</td>\n",
       "    </tr>\n",
       "    <tr>\n",
       "      <th>3141</th>\n",
       "      <td>효치과의원</td>\n",
       "      <td>원장님  간호사님 친절하시고 무엇보다도 과잉진료가 없어서 만족합니다</td>\n",
       "    </tr>\n",
       "    <tr>\n",
       "      <th>3142</th>\n",
       "      <td>효치과의원</td>\n",
       "      <td>젛아요</td>\n",
       "    </tr>\n",
       "    <tr>\n",
       "      <th>3143</th>\n",
       "      <td>효치과의원</td>\n",
       "      <td>네</td>\n",
       "    </tr>\n",
       "    <tr>\n",
       "      <th>3144</th>\n",
       "      <td>효치과의원</td>\n",
       "      <td>친절하십니다 과잉진료 없음</td>\n",
       "    </tr>\n",
       "    <tr>\n",
       "      <th>3145</th>\n",
       "      <td>효치과의원</td>\n",
       "      <td>좋아요</td>\n",
       "    </tr>\n",
       "  </tbody>\n",
       "</table>\n",
       "<p>3146 rows × 2 columns</p>\n",
       "</div>"
      ],
      "text/plain": [
       "                name                                 content\n",
       "0     365mc모인이비인후과의원                    사가정 모인 이비인후과 항상 만원이다\n",
       "1     365mc모인이비인후과의원                                     좋아요\n",
       "2     365mc모인이비인후과의원                       항상 친절한 진료 감사합니다  \n",
       "3     365mc모인이비인후과의원                                        \n",
       "4     365mc모인이비인후과의원                                       굿\n",
       "...              ...                                     ...\n",
       "3141           효치과의원  원장님  간호사님 친절하시고 무엇보다도 과잉진료가 없어서 만족합니다 \n",
       "3142           효치과의원                                    젛아요 \n",
       "3143           효치과의원                                       네\n",
       "3144           효치과의원                          친절하십니다 과잉진료 없음\n",
       "3145           효치과의원                                   좋아요  \n",
       "\n",
       "[3146 rows x 2 columns]"
      ]
     },
     "execution_count": 132,
     "metadata": {},
     "output_type": "execute_result"
    }
   ],
   "source": [
    "review_jungrang = review_jungrang.reset_index(drop=True)\n",
    "review_jungrang"
   ]
  },
  {
   "cell_type": "markdown",
   "metadata": {},
   "source": [
    "## 형태소 분석"
   ]
  },
  {
   "cell_type": "code",
   "execution_count": null,
   "metadata": {},
   "outputs": [],
   "source": [
    "# 감성 사전 형태소 리스트\n",
    "pos_subset = "
   ]
  },
  {
   "cell_type": "code",
   "execution_count": 88,
   "metadata": {},
   "outputs": [],
   "source": [
    "from konlpy.tag import Okt\n",
    "\n",
    "# 분절도구, 문장을 분해해서 형태소 단위로 반환기능 제공\n",
    "tokenizer = Okt()"
   ]
  },
  {
   "cell_type": "code",
   "execution_count": 90,
   "metadata": {},
   "outputs": [
    {
     "data": {
      "text/plain": [
       "'사가정 모인 이비인후과 항상 만원이다'"
      ]
     },
     "execution_count": 90,
     "metadata": {},
     "output_type": "execute_result"
    }
   ],
   "source": [
    "review_jungrang['content'][0]"
   ]
  },
  {
   "cell_type": "code",
   "execution_count": 89,
   "metadata": {},
   "outputs": [
    {
     "data": {
      "text/plain": [
       "['사가정', '모인', '이비인후과', '항상', '만원', '이다']"
      ]
     },
     "execution_count": 89,
     "metadata": {},
     "output_type": "execute_result"
    }
   ],
   "source": [
    "tokenizer.morphs(review_jungrang['content'][0])"
   ]
  },
  {
   "cell_type": "code",
   "execution_count": 91,
   "metadata": {},
   "outputs": [
    {
     "data": {
      "text/plain": [
       "'사가정 모인 이비인후과 항상 만원 이다'"
      ]
     },
     "execution_count": 91,
     "metadata": {},
     "output_type": "execute_result"
    }
   ],
   "source": [
    "# Okt분석기 결과 명사 동사 조사 등등 단위로 쪼갬\n",
    "# 영어권 기반으로 만들어진 keras 지원 토크나이저를 사용하면 영어처럼 공백단위로 분절해서 의미 해석 문제\n",
    "# 문장 -> 형태소 분해 -> 공백 단위로 합치기 -> ? 의미 있나\n",
    "' '.join(tokenizer.morphs(review_jungrang['content'][0]))"
   ]
  },
  {
   "cell_type": "code",
   "execution_count": 92,
   "metadata": {},
   "outputs": [],
   "source": [
    "# 함수화\n",
    "review_jungrang['content'] = review_jungrang['content'].apply(lambda x: ' '.join(tokenizer.morphs(x)))"
   ]
  },
  {
   "cell_type": "code",
   "execution_count": 94,
   "metadata": {},
   "outputs": [
    {
     "name": "stdout",
     "output_type": "stream",
     "text": [
      "WARNING:tensorflow:From c:\\Users\\user\\Desktop\\preprocess\\venv38\\lib\\site-packages\\keras\\src\\losses.py:2976: The name tf.losses.sparse_softmax_cross_entropy is deprecated. Please use tf.compat.v1.losses.sparse_softmax_cross_entropy instead.\n",
      "\n"
     ]
    }
   ],
   "source": [
    "from tensorflow.keras.preprocessing.text import Tokenizer\n",
    "\n",
    "nlp_tokenizer = Tokenizer()"
   ]
  },
  {
   "cell_type": "code",
   "execution_count": 95,
   "metadata": {},
   "outputs": [],
   "source": [
    "# 문장 => 분절 => 토큰분해 => 사전구축 모두 완료\n",
    "nlp_tokenizer.fit_on_texts( review_jungrang['content'] )"
   ]
  },
  {
   "cell_type": "code",
   "execution_count": 96,
   "metadata": {},
   "outputs": [
    {
     "data": {
      "text/plain": [
       "3146"
      ]
     },
     "execution_count": 96,
     "metadata": {},
     "output_type": "execute_result"
    }
   ],
   "source": [
    "# 사전화 과정까지 마무리한 문장의 총 수\n",
    "nlp_tokenizer.document_count"
   ]
  },
  {
   "cell_type": "code",
   "execution_count": 97,
   "metadata": {},
   "outputs": [
    {
     "data": {
      "text/plain": [
       "3146"
      ]
     },
     "execution_count": 97,
     "metadata": {},
     "output_type": "execute_result"
    }
   ],
   "source": [
    "# 벡터화\n",
    "doc_vectors = nlp_tokenizer.texts_to_sequences(review_jungrang['content'])\n",
    "len(doc_vectors)"
   ]
  },
  {
   "cell_type": "code",
   "execution_count": 98,
   "metadata": {},
   "outputs": [
    {
     "data": {
      "text/plain": [
       "('사가정 모인 이비인후과 항상 만원 이다', [849, 2690, 850, 50, 1116, 619])"
      ]
     },
     "execution_count": 98,
     "metadata": {},
     "output_type": "execute_result"
    }
   ],
   "source": [
    "review_jungrang['content'][0], doc_vectors[0]"
   ]
  },
  {
   "cell_type": "code",
   "execution_count": 99,
   "metadata": {},
   "outputs": [
    {
     "data": {
      "text/plain": [
       "('좋아요', [12])"
      ]
     },
     "execution_count": 99,
     "metadata": {},
     "output_type": "execute_result"
    }
   ],
   "source": [
    "review_jungrang['content'][1], doc_vectors[1]"
   ]
  },
  {
   "cell_type": "code",
   "execution_count": 100,
   "metadata": {},
   "outputs": [],
   "source": [
    "# 문장의 벡터 길이가 제각각이니까 보정이 필요 -> 패딩\n",
    "# 최대 문장 길이 기반(데이터 량이 커질 확률이 존재), 특정 길이로 맞출것인지(정보 손실 가능성 존재)"
   ]
  },
  {
   "cell_type": "code",
   "execution_count": 101,
   "metadata": {},
   "outputs": [
    {
     "data": {
      "text/plain": [
       "113"
      ]
     },
     "execution_count": 101,
     "metadata": {},
     "output_type": "execute_result"
    }
   ],
   "source": [
    "# 벡터 문장들 중 가장 큰 길이 획득\n",
    "max_len = max([len(v) for v in doc_vectors])\n",
    "max_len"
   ]
  },
  {
   "cell_type": "code",
   "execution_count": 102,
   "metadata": {},
   "outputs": [
    {
     "data": {
      "text/plain": [
       "(3146, 114)"
      ]
     },
     "execution_count": 102,
     "metadata": {},
     "output_type": "execute_result"
    }
   ],
   "source": [
    "from tensorflow.keras.preprocessing.sequence import pad_sequences\n",
    "# pad_sequences -> 맨 앞자리는 항상 0으로 채운다(데이터로 사용 x) : 1+113\n",
    "padded_x = pad_sequences(doc_vectors, 1+max_len)\n",
    "padded_x.shape"
   ]
  },
  {
   "cell_type": "code",
   "execution_count": 105,
   "metadata": {},
   "outputs": [
    {
     "data": {
      "text/plain": [
       "array([  0,   0,   0,   0,   0,   0,   0,   0,   0,   0,   0,   0,   0,\n",
       "         0,   0,   0,   0,   0,   0,   0,   0,   0,   0,   0,   0,   0,\n",
       "         0,   0,   0,   0,   0,   0,   0,   0,   0,   0,   0,   0,   0,\n",
       "         0,   0,   0,   0,   0,   0,   0,   0,   0,   0,   0,   0,   0,\n",
       "         0,   0,   0,   0,   0,   0,   0,   0,   0,   0,   0,   0,   0,\n",
       "         0,   0,   0,   0,   0,   0,   0,   0,   0,   0,   0,   0,   0,\n",
       "         0,   0,   0,   0,   0,   0,   0,   0,   0,   0,   0,   0,   0,\n",
       "         0,   0,   0,   0,   0,   0,   0,   0,   0,   0,   0,   0,   0,\n",
       "         0,   0,   0,   0,   0,   0,  50, 104,   4,  35])"
      ]
     },
     "execution_count": 105,
     "metadata": {},
     "output_type": "execute_result"
    }
   ],
   "source": [
    "# 데이터는 뒤에 두고, 앞부분은 모두 0으로 채움\n",
    "# 토크나이저 별로 문장의 시작, 문장의 끝, 패딩 등 기호로 사용\n",
    "# <pad>, ... => 별도의 토크나이저도 존재\n",
    "padded_x[2]"
   ]
  },
  {
   "cell_type": "code",
   "execution_count": 107,
   "metadata": {},
   "outputs": [
    {
     "name": "stdout",
     "output_type": "stream",
     "text": [
      "{1: '도', 2: '잘', 3: '이', 4: '진료', 5: '치료', 6: '에', 7: '님', 8: '너무', 9: '선생님', 10: '가', 11: '원장', 12: '좋아요', 13: '들', 14: '친절하시고', 15: '설명', 16: '의사', 17: '친절하고', 18: '을', 19: '간호사', 20: '병원', 21: '더', 22: '치과', 23: '를', 24: '곳', 25: '친절하게', 26: '안', 27: '보기', 28: '방문', 29: '분들', 30: '은', 31: '으로', 32: '내용', 33: '다', 34: '고', 35: '감사합니다', 36: '해주셔서', 37: '하고', 38: '요', 39: '친절하세요', 40: '는', 41: '꼼꼼하게', 42: '로', 43: '친절해요', 44: '직원', 45: '침', 46: '쌤', 47: '과', 48: '모두', 49: '때', 50: '항상', 51: '해주세요', 52: '상담', 53: '해', 54: '정말', 55: '입니다', 56: '받고', 57: '에서', 58: '과잉', 59: '여기', 60: '해주시고', 61: '분', 62: '만', 63: '많이', 64: '한', 65: '의', 66: '했는데', 67: '추천', 68: '같아요', 69: '까지', 70: '다른', 71: '것', 72: '한의원', 73: '친절', 74: '꼼꼼히', 75: '처음', 76: '효과', 77: '스케일링', 78: '좋았어요', 79: 'ㅎㅎ', 80: '넘', 81: '약', 82: '환자', 83: '마음', 84: '서', 85: '합니다', 86: '봐주세요', 87: '통증', 88: '진짜', 89: '시설', 90: '해주십니다', 91: '해서', 92: '없이', 93: '중', 94: '검진', 95: '해주시', 96: '오늘', 97: '적', 98: '기분', 99: '인데', 100: '하는', 101: '친절하셔서', 102: '좋습니다', 103: '시술', 104: '친절한', 105: '엄청', 106: '주사', 107: '깨끗하고', 108: '허리', 109: '아이', 110: '하게', 111: '와', 112: '저', 113: '👍', 114: '께서', 115: '마다', 116: '갔는데', 117: '샘', 118: '내', 119: '부터', 120: '했어요', 121: '아프게', 122: '하나', 123: '검사', 124: '물리치료', 125: '좋은', 126: '갑니다', 127: '없고', 128: '후', 129: '최고', 130: '할', 131: 'ㅠㅠ', 132: '시간', 133: '치아', 134: '말', 135: '수', 136: '제', 137: '이라', 138: '집', 139: '사람', 140: '보다', 141: '또', 142: '맞고', 143: '좀', 144: '실력', 145: '게', 146: '늘', 147: '굿', 148: '데스크', 149: '인', 150: '아주', 151: '세심', 152: '친절하십니다', 153: '감사', 154: '생각', 155: '해주셨어요', 156: '이에요', 157: '갈', 158: '근처', 159: '대기', 160: '두', 161: '바로', 162: '아파서', 163: '동네', 164: '하시고', 165: '않게', 166: '앞', 167: '다시', 168: '좋았습니다', 169: '있어요', 170: '자세히', 171: '주셔서', 172: '친절합니다', 173: '대', 174: '왔어요', 175: '있어서', 176: '때문', 177: '처방', 178: '어깨', 179: '했습니다', 180: '이랑', 181: '계속', 182: '아픈', 183: '예약', 184: '에도', 185: '받았습니다', 186: '봐주시고', 187: '아프지', 188: '리뷰', 189: '관리', 190: '걱정', 191: '해요', 192: '완전', 193: '한번', 194: '다음', 195: '있는', 196: '몸', 197: '봐주셔서', 198: '못', 199: '자주', 200: '께', 201: '좋네요', 202: '깔끔하고', 203: '피부', 204: '번', 205: '전', 206: '정도', 207: '비', 208: 'ㅠ', 209: '주', 210: '기', 211: '랑', 212: '사랑니', 213: '받았어요', 214: '대해', 215: '하세요', 216: '거', 217: '목', 218: '그', 219: '자세하게', 220: '임플란트', 221: '도수', 222: '해주시네요', 223: '하', 224: '받았는데', 225: '받으러', 226: '라', 227: '이용', 228: '보고', 229: '마취', 230: 'ㅎ', 231: '가는', 232: '왔는데', 233: '느낌', 234: '네', 235: '맘', 236: '교정', 237: '편안하게', 238: '오래', 239: '친절히', 240: '덕분', 241: '안내', 242: '치위생사', 243: '나', 244: '주차', 245: '해줘요', 246: '1', 247: '일', 248: '이번', 249: '친절해서', 250: '독감', 251: '편하게', 252: '가격', 253: '필러', 254: '왜', 255: '하셔서', 256: '있습니다', 257: '감사해요', 258: '드립니다', 259: '다니고', 260: '좋아졌어요', 261: '그리고', 262: '분위기', 263: '부분', 264: '진행', 265: '감동', 266: '아', 267: '주시', 268: '꾸준히', 269: '지인', 270: '한테', 271: '이런', 272: '않고', 273: '발치', 274: '응대', 275: '봐주십니다', 276: '믿고', 277: '재', 278: '심', 279: '신경', 280: '얼굴', 281: '말씀', 282: '첫', 283: '보톡스', 284: '이제', 285: '여', 286: '없어서', 287: '받아', 288: '3', 289: '사', 290: '실', 291: '하러', 292: '예요', 293: '주세요', 294: '증상', 295: '정착', 296: '모든', 297: '충치', 298: '2', 299: '에게', 300: '이렇게', 301: '같이', 302: '추나', 303: '내과', 304: '하는데', 305: '소개', 306: '오랜', 307: '치료받고', 308: '알', 309: '정기', 310: '믿음', 311: '정형외과', 312: '수술', 313: '꼼꼼해요', 314: '꼭', 315: '가서', 316: '무엇', 317: '좋고', 318: '상태', 319: '필요한', 320: '좋게', 321: '상세', 322: '온', 323: '잇몸', 324: '다니는', 325: '만족합니다', 326: '점', 327: '해주시는', 328: '친절하셔요', 329: '들어요', 330: '좋으세요', 331: '친철', 332: '원', 333: '올', 334: '부위', 335: '다녀', 336: '그냥', 337: '손', 338: '니', 339: '신뢰', 340: '접수', 341: '동안', 342: '아프고', 343: '주심', 344: '같은', 345: '열심히', 346: '조금', 347: '하면서', 348: '스켈링', 349: '듯', 350: '맞으러', 351: '고민', 352: '에요', 353: '실장', 354: '시', 355: '조아요', 356: '특히', 357: '비용', 358: '없어요', 359: '빠르게', 360: '날', 361: 'ᆢ', 362: '진심', 363: '진단', 364: '♡', 365: '드려요', 366: '이유', 367: '이나', 368: '꼼꼼하고', 369: '매우', 370: '지', 371: '해야', 372: '만족', 373: '일요일', 374: '친절하신', 375: '간호', 376: '있는데', 377: '하지', 378: '많은', 379: '주변', 380: '왔네요', 381: '예', 382: '가요', 383: '오래된', 384: '되는', 385: '새로', 386: '몇', 387: '데', 388: '에는', 389: '전혀', 390: '가족', 391: '짱', 392: '감사했습니다', 393: '그래서', 394: '왔습니다', 395: '째', 396: '자세한', 397: '걸', 398: '라고', 399: '친절하시구', 400: '손목', 401: '되어', 402: '있어', 403: '제일', 404: '역시', 405: '엄마', 406: '된', 407: '빨리', 408: '문제', 409: '하시는', 410: '받을', 411: '체크', 412: '면', 413: 'ㅋㅋ', 414: '굳', 415: '딱', 416: '긴장', 417: '있을', 418: '엔', 419: '주십니다', 420: '참', 421: '다녀왔어요', 422: '후기', 423: '들도', 424: '먹고', 425: '저희', 426: '좋', 427: '이고', 428: '진', 429: '차', 430: '매번', 431: '좋아용', 432: '별로', 433: '하면', 434: '무조건', 435: '계신', 436: '도움', 437: '여러', 438: '거의', 439: '군데', 440: '봐주시네요', 441: '하네요', 442: '편안한', 443: '소아과', 444: '봤는데', 445: '여자', 446: '이해', 447: '수액', 448: '많아서', 449: '친절하시네요', 450: '입원', 451: '가지', 452: '건강검진', 453: '제대로', 454: '한결', 455: '내시경', 456: '여기는', 457: '끝', 458: '임', 459: '눈', 460: '금방', 461: '이네', 462: '한약', 463: '건물', 464: '처럼', 465: '얘기', 466: '전문', 467: '친절하', 468: '단골', 469: '간', 470: '내부', 471: '언제나', 472: '해주고', 473: '다니던', 474: '아파', 475: '돈', 476: '배려', 477: '진찰', 478: '하기', 479: '위해', 480: '합리', 481: '습', 482: '검색', 483: '층', 484: '고생', 485: '넓고', 486: '근데', 487: '갑자기', 488: '세', 489: '꼼꼼하세요', 490: '되고', 491: '👍🏻', 492: '절대', 493: '접종', 494: '모습', 495: '갔어요', 496: '보세요', 497: '편해요', 498: '심해서', 499: 'ㅋ', 500: '다리', 501: '감기', 502: '생겨서', 503: '급하게', 504: '위생', 505: '직접', 506: '아니라', 507: '있게', 508: '디스크', 509: '연세', 510: '히', 511: '함', 512: '상', 513: '가까워서', 514: '해주셔요', 515: '있고', 516: '개', 517: '해줘서', 518: '인지', 519: '보니', 520: '보통', 521: '했네요', 522: '시작', 523: '약도', 524: '👍👍', 525: \"'\", 526: '개월', 527: '어', 528: '봐', 529: '친절하셨어요', 530: '안심', 531: 'ㆍ', 532: '손가락', 533: '강', 534: '선택', 535: '4', 536: '않아요', 537: '😀', 538: '좋겠어요', 539: '꼼꼼한', 540: '쪽', 541: '호전', 542: '의료', 543: '알려주시고', 544: '는데', 545: '깨끗해서', 546: '굉장히', 547: '봐요', 548: '그런지', 549: '일단', 550: '잘해주시고', 551: '편히', 552: '확인', 553: '줄', 554: '식', 555: '구', 556: '대학병원', 557: '양심', 558: '의원', 559: '해줍니다', 560: '없는', 561: '많아요', 562: '뒤', 563: '해주신', 564: '받아서', 565: '살', 566: '이상', 567: '한다고', 568: '좋아서', 569: '알려주셔서', 570: '어떻게', 571: '산부인과', 572: '토요일', 573: '최대한', 574: '쾌적하고', 575: '받는', 576: '절하', 577: '금액', 578: '어머니', 579: '모시', 580: '큰', 581: '신경치료', 582: '장님', 583: '아프면', 584: '건강', 585: '염증', 586: '감사했어요', 587: '코로나', 588: '같아서', 589: '않아서', 590: '친절함', 591: '오픈', 592: '불편한', 593: '운동', 594: '니까', 595: '확실히', 596: '용', 597: '아들', 598: '제거', 599: '결과', 600: '그래도', 601: '니당', 602: '해주는', 603: '잘해주세요', 604: '보험', 605: '…', 606: '됩니다', 607: 'ㅜ', 608: '저렴하고', 609: '예정', 610: '지금', 611: '부담', 612: '뭐', 613: '형', 614: '및', 615: '오후', 616: '충격파', 617: '되서', 618: '이벤트', 619: '이다', 620: '어금니', 621: '속', 622: '불친절', 623: '가까운', 624: '같아', 625: '싶은', 626: '없네요', 627: '받은', 628: '아플', 629: '주시네요', 630: '봄', 631: '이후', 632: '자세하고', 633: '감', 634: '1년', 635: '봅니다', 636: '맞았는데', 637: '같습니다', 638: '하시네요', 639: '쉽게', 640: '하려고', 641: '하다가', 642: '젠', 643: '레진', 644: '그런', 645: '엑스레이', 646: 'ㅋㅋㅋ', 647: '가성', 648: '괜찮아요', 649: '자리', 650: '봐주시는', 651: '김', 652: '수납', 653: 'ㅜㅜ', 654: '봐주셨어요', 655: '과는', 656: '재활', 657: '좋음', 658: '다닐', 659: '개원', 660: '30분', 661: '건', 662: '써서', 663: '내내', 664: '이마', 665: '기적', 666: '친구', 667: '첨', 668: '본', 669: '전체', 670: '6', 671: '선물', 672: '여기저기', 673: '되게', 674: '씩', 675: '괜찮은', 676: '근', 677: '주차장', 678: '예전', 679: '아침', 680: '하셔요', 681: '좋아여', 682: '보약', 683: '팔', 684: '가세', 685: '등등', 686: '하루', 687: '깨끗해요', 688: '굿굿', 689: '해주셨습니다', 690: '위', 691: '발목', 692: '한의사', 693: '점점', 694: '와서', 695: '😄', 696: '만에', 697: '마지막', 698: '야간', 699: '다녔는데', 700: '같은데', 701: '최신', 702: '맞는', 703: '맞아요', 704: '기도', 705: '가장', 706: '들어', 707: '했고', 708: '권유', 709: '전부', 710: '많은데', 711: '달', 712: '😊', 713: '예방접종', 714: '남자', 715: '거리', 716: '만큼', 717: '매주', 718: '함께', 719: '하라', 720: '초음파', 721: '이었는데', 722: '가네요', 723: '다신', 724: '없어', 725: '상봉', 726: '빠르고', 727: '얼마', 728: '좋아져서', 729: '열', 730: '지만', 731: '이야기', 732: '같네요', 733: '이전', 734: '5', 735: '이름', 736: '맛집', 737: '였는데', 738: '시원하게', 739: '추가', 740: '보', 741: '일등', 742: '처리', 743: '손님', 744: '먼저', 745: '않은', 746: '정성', 747: '좋아지고', 748: '받았네요', 749: '치', 750: '다음주', 751: '여서', 752: '했던', 753: '될', 754: '하겠습니다', 755: '생활', 756: '영수증', 757: '번창', 758: '봉침', 759: '이세', 760: '외과', 761: '참고', 762: '우리', 763: '기본', 764: '파스', 765: '두번째', 766: '조어', 767: '추석', 768: '대한', 769: '편한', 770: '년', 771: '해주십니당', 772: '담', 773: '조용하고', 774: '서비스', 775: '깔끔해요', 776: '맞을', 777: '여긴', 778: '피', 779: '다닌', 780: '고맙습니다', 781: '가봤는데', 782: '좋으시고', 783: '다이어트', 784: '나서', 785: '등', 786: '않아', 787: '자기', 788: '할수', 789: '따로', 790: '땐', 791: '일이', 792: '겁', 793: '주치의', 794: '동', 795: '무릎', 796: '경력', 797: '추합니다', 798: '잘해주셔서', 799: '갔다가', 800: '뿐', 801: 'ㅎㅎㅎ', 802: '있었어요', 803: '본인', 804: '일주일', 805: '중이', 806: '성의', 807: '보는', 808: '봐서', 809: '뼈', 810: '부모님', 811: '나았어요', 812: '\\U0001f979', 813: '다만', 814: '무서웠는데', 815: '하다', 816: '가게', 817: '하는게', 818: '있었습니다', 819: '할거', 820: '번째', 821: '요즘', 822: '나이', 823: '남편', 824: '신', 825: '없음', 826: '인상', 827: '돼서', 828: '치료받으러', 829: '원래', 830: '전문의', 831: '오랫동안', 832: '언니', 833: '너', 834: '편', 835: '하는지', 836: '처방전', 837: '말투', 838: '봤어요', 839: '이신', 840: '아닌', 841: '화장실', 842: '평일', 843: '경험', 844: '맞게', 845: '가깝고', 846: '레이저', 847: '해도', 848: '영', 849: '사가정', 850: '이비인후과', 851: '명의', 852: 'ㅡ', 853: '일반', 854: '자세해요', 855: '할머니', 856: '쏘', 857: '턱', 858: '기억', 859: '너무나', 860: '저렴하게', 861: '안좋아서', 862: '덕', 863: '센스', 864: '이라고', 865: '가는데', 866: '화', 867: '사진', 868: '들어주시고', 869: '스럽게', 870: '놔주셔서', 871: '공감', 872: '돼요', 873: '맞아', 874: '있네요', 875: '좋아', 876: '에서는', 877: '찾다가', 878: '감사합니당', 879: '정확한', 880: '성', 881: '있다', 882: '보시', 883: '다닙니다', 884: '있으면', 885: '링', 886: '만족해요', 887: '있었는데', 888: '강추', 889: '문', 890: '다니다가', 891: '우연히', 892: '카운터', 893: '꼼꼼하시고', 894: '일찍', 895: '기계', 896: '유지', 897: '써주셔서', 898: '이지만', 899: '되었습니다', 900: '타', 901: '다녀요', 902: '하여', 903: '느껴져서', 904: '있으신', 905: '서도', 906: '칭찬', 907: '성심', 908: '성의껏', 909: '별', 910: '☺️', 911: '깔끔해서', 912: '방법', 913: '인생', 914: '차분하고', 915: '라도', 916: '쭉', 917: '많고', 918: '불친절하고', 919: '맞았어요', 920: '좋으십니다', 921: '크고', 922: '안마', 923: '쾌적해요', 924: '서울', 925: '발', 926: '아직', 927: '목소리', 928: '미소', 929: '편하고', 930: '죠', 931: '차분히', 932: '서류', 933: '그렇게', 934: '많네요', 935: '연락', 936: '놀랐어요', 937: '인사', 938: '친절하세용', 939: '이사', 940: '작년', 941: '건지', 942: '어르신', 943: '위치', 944: '해주', 945: '다녀왔는데', 946: '만족스러워요', 947: '다행', 948: '점심시간', 949: '없습니다', 950: '저렴한', 951: '된다고', 952: '했더니', 953: '근육', 954: '하지만', 955: '토닝', 956: '대표', 957: '짜증', 958: '모드', 959: '볼', 960: '갔더니', 961: '으로도', 962: '받고있어요', 963: '안해', 964: '튼', 965: '분도', 966: '흑', 967: '조', 968: '안되서', 969: '기간', 970: '크라운', 971: '앉아서', 972: '했었는데', 973: '됐는데', 974: '자세', 975: '아버지', 976: '어제', 977: '대로', 978: '마무리', 979: '휴', 980: '그렇고', 981: '회복', 982: '쓰는데', 983: '오래오래', 984: '다쳐서', 985: '삐끗', 986: '햇', 987: '으', 988: 'ㅇ', 989: '곳도', 990: '드리고', 991: '준비', 992: '체질', 993: '평소', 994: '출산', 995: '놔주세요', 996: '아픈데', 997: '되요', 998: '좋겠네요', 999: '방', 1000: '해주셨는데', 1001: '하십니다', 1002: '나면', 1003: '하며', 1004: '남겨', 1005: '인가', 1006: '가능한', 1007: '개인', 1008: '다니는데', 1009: '복용', 1010: '❤️', 1011: '않도록', 1012: '보려구요', 1013: '찾아간', 1014: '100', 1015: '깨져서', 1016: '하기로', 1017: '였어요', 1018: '혈압', 1019: '듣고', 1020: '놔주시고', 1021: '울', 1022: '다르게', 1023: '중화역', 1024: '하려고요', 1025: '적극', 1026: '그동안', 1027: '조금씩', 1028: '당황', 1029: '뭔가', 1030: '다시는', 1031: '먼', 1032: '좋으신', 1033: '자체', 1034: '물리치료사', 1035: '개운하고', 1036: '정', 1037: '정신', 1038: '없었어요', 1039: '최근', 1040: '아팠는데', 1041: '아닌듯', 1042: '비싼', 1043: '이었습니다', 1044: '모르고', 1045: '받으니', 1046: '싶어', 1047: '수고', 1048: '깨끗', 1049: '한지', 1050: '가려구요', 1051: '침대', 1052: '멀어도', 1053: '전화', 1054: '정성껏', 1055: '병동', 1056: '떨어져서', 1057: '입술', 1058: '무슨', 1059: '세상', 1060: '되네요', 1061: '최악', 1062: '음', 1063: '10', 1064: '머리', 1065: '임신', 1066: '주위', 1067: 'ㅡㅡ', 1068: '여의사', 1069: '좋은데', 1070: '질문', 1071: '인테리어', 1072: '습관', 1073: '전반', 1074: '편안하고', 1075: '넘게', 1076: '해주시는데', 1077: '2시간', 1078: '밝고', 1079: '사가정역', 1080: '중랑구', 1081: '쯤', 1082: '길어요', 1083: '오면', 1084: '마사지', 1085: '다녀왔습니다', 1086: '세밀', 1087: '무', 1088: '가면', 1089: '말고', 1090: '에서도', 1091: '할게요', 1092: '보건', 1093: '투석', 1094: '메이', 1095: '퓨어', 1096: '리쥬란', 1097: '보면', 1098: '했는데도', 1099: '들어서', 1100: '라서', 1101: '봐주셔요', 1102: '주말', 1103: '일부러', 1104: '방향', 1105: '비교', 1106: '됐어요', 1107: '깨끗한', 1108: '신분', 1109: '마감', 1110: '정상', 1111: '아파요', 1112: '깔끔하게', 1113: '시험관', 1114: '한글', 1115: '함소', 1116: '만원', 1117: 'ㅇㅇ', 1118: '보호자', 1119: '스타일', 1120: '금', 1121: '가고', 1122: '않는', 1123: '팔꿈치', 1124: '무서워', 1125: '자상하게', 1126: '몇번', 1127: '청구', 1128: '였습니다', 1129: '세번', 1130: '무서워서', 1131: '편이', 1132: '그런데', 1133: '츤데레', 1134: '심한', 1135: '변함', 1136: '입니다내용', 1137: '했음', 1138: '종종', 1139: '습니다', 1140: '끝나고', 1141: '나왔습니다', 1142: '경옥고', 1143: '주셨어요', 1144: '당분간', 1145: '치료받을', 1146: '답변', 1147: '부탁드려요', 1148: '찾게', 1149: '줄어들고', 1150: 'ㅈ', 1151: '가끔', 1152: '훨씬', 1153: '같다', 1154: '놓으십니다', 1155: '강력', 1156: '친절하시구요', 1157: '결제', 1158: '아는', 1159: '어디', 1160: '근방', 1161: '블로그', 1162: '늦게', 1163: '청결하고', 1164: '법도', 1165: '해주시더라구요', 1166: '봐주고', 1167: '2년', 1168: '스켈', 1169: '가본', 1170: '옛날', 1171: '시원하고', 1172: '무리', 1173: '없을', 1174: '따뜻한', 1175: '찜질', 1176: '신기하게', 1177: '나왔어요', 1178: '엘', 1179: '오랫', 1180: '어쩔', 1181: '바', 1182: '따뜻하게', 1183: '했을', 1184: '처', 1185: '해주신거', 1186: '갔습니다', 1187: '하시면서', 1188: '학교', 1189: '옵니다', 1190: '가야', 1191: '갔는데도', 1192: '당장', 1193: '알았는데', 1194: '애기', 1195: '변화', 1196: '보이', 1197: '다니려', 1198: '9', 1199: '계획', 1200: '유치', 1201: '음식', 1202: '그저', 1203: '스트레스', 1204: '불안', 1205: '멀리', 1206: '가도', 1207: '없어져서', 1208: '내일', 1209: '항생제', 1210: '사분', 1211: '가기', 1212: '길어서', 1213: 'good', 1214: '됨', 1215: '녹색병원', 1216: '라는', 1217: '왕', 1218: '와중', 1219: '아픔', 1220: '와야겠어요', 1221: '친절했어요', 1222: '옆', 1223: '리', 1224: '좋아졌습니다', 1225: '싹', 1226: '안나', 1227: '매년', 1228: '있', 1229: '지난번', 1230: '이빨', 1231: '급', 1232: '권', 1233: '친절하셨고', 1234: '인플란트', 1235: '며', 1236: '사실', 1237: '약국', 1238: '오전', 1239: '섬세하고', 1240: '빨라요', 1241: '운영', 1242: '하시길', 1243: '물', 1244: '한다는', 1245: '하였는데', 1246: '천천히', 1247: '많지', 1248: '촬영', 1249: '하였습니다', 1250: '입구', 1251: '한다', 1252: '웃는', 1253: '해준', 1254: '되었어요', 1255: '깔', 1256: '끔', 1257: '깔끔한', 1258: '우선', 1259: '강요', 1260: '3일', 1261: '넘나', 1262: '편안해요', 1263: '아기', 1264: '소', 1265: '해주시고요', 1266: '덜', 1267: '그것', 1268: '의학과', 1269: '이라도', 1270: '지도', 1271: '많지만', 1272: '당', 1273: '드', 1274: '않습니다', 1275: '들어갔는데', 1276: '소독', 1277: '옴', 1278: '친절하시고요', 1279: '완화', 1280: '종합', 1281: '포함', 1282: '신속하게', 1283: '한숨', 1284: '대답', 1285: 'ㅠㅠㅠ', 1286: '매달', 1287: '되어서', 1288: '면목', 1289: '공간', 1290: '해주시면서', 1291: '차분하게', 1292: '발급', 1293: '주민', 1294: '업무', 1295: '생긴', 1296: '10분', 1297: '준', 1298: '필수', 1299: '챙겨', 1300: '미', 1301: '유', 1302: '냄새', 1303: '퇴근', 1304: '잘해주고', 1305: '갔을', 1306: '왼쪽', 1307: '없으시고', 1308: '간단히', 1309: '글', 1310: '아픈지', 1311: '지속', 1312: '이를', 1313: '뽑아', 1314: '체외', 1315: '남깁니다', 1316: '하고있어요', 1317: '아쉬워요', 1318: '며칠', 1319: '공장', 1320: '많아', 1321: '나중', 1322: '오게', 1323: '정확하게', 1324: '불편하면', 1325: '받다가', 1326: '가고싶지', 1327: '드디어', 1328: '장', 1329: '과정', 1330: '눈가', 1331: '편리해요', 1332: '만족스러웠습니다', 1333: '지원', 1334: '외', 1335: '입', 1336: '지점', 1337: '저렴해요', 1338: '빠른', 1339: '있음', 1340: '놓였어요', 1341: '인대', 1342: '관련', 1343: '바람', 1344: '해주실', 1345: '사항', 1346: 'b', 1347: '오라', 1348: '친절한듯', 1349: '에선', 1350: '다녔던', 1351: '사도', 1352: '경', 1353: '신랑', 1354: '받았고', 1355: '접근성', 1356: '맞춰', 1357: '직장인', 1358: '궁금한', 1359: '친', 1360: '안과', 1361: '양제', 1362: '찾아서', 1363: '신내동', 1364: '팅', 1365: '밤', 1366: '날씨', 1367: '다니고있어요', 1368: '김혜인', 1369: '7', 1370: '병', 1371: '간식', 1372: '병실', 1373: '어수선하고', 1374: '가라', 1375: '거기', 1376: '다해', 1377: '테니스', 1378: '상처', 1379: '체', 1380: '속이', 1381: '편해졌어요', 1382: '치루', 1383: '편안합니다', 1384: '여러분', 1385: '👍👍👍', 1386: '🥰', 1387: '자고', 1388: '평생', 1389: '찾았어요', 1390: '고해', 1391: '여전히', 1392: '안좋을', 1393: '느껴져요', 1394: '치료받는', 1395: '대충대충', 1396: '좋아졌네요', 1397: '금손', 1398: '부항', 1399: '새', 1400: '옷', 1401: '심히', 1402: '🙏', 1403: '교통사고', 1404: '후유증', 1405: '나아졌어요', 1406: '치료받았는데', 1407: '받을수', 1408: '침잘', 1409: '들립니다', 1410: '하시는것', 1411: '먹어', 1412: '맞은', 1413: '지난주', 1414: '비염', 1415: '가능합니다', 1416: '맞춰서', 1417: '홍', 1418: '우와', 1419: '반신반의', 1420: '오래전', 1421: '있었네요', 1422: '허', 1423: '기계로', 1424: '치가', 1425: '알아서', 1426: '다양한', 1427: '감사합니', 1428: '진철', 1429: '중요한', 1430: '위주', 1431: '써', 1432: '정리', 1433: '척추', 1434: '구석', 1435: '원했는데', 1436: '만족하셔서', 1437: '원인', 1438: '모르게', 1439: '받았', 1440: '보다도', 1441: '잠깐', 1442: '프로', 1443: '입니당', 1444: '최선', 1445: '걸려', 1446: '어이', 1447: '했지만', 1448: '좀더', 1449: '대하', 1450: '초', 1451: '있다고', 1452: '구강', 1453: '불친절해요', 1454: '이든', 1455: '기기', 1456: '장치', 1457: '마스크', 1458: '불편하고', 1459: '마세요', 1460: '친잘', 1461: '봐줘요', 1462: '맛', 1463: '오니', 1464: '이하', 1465: '20년', 1466: '얼마나', 1467: '왔었는데', 1468: '붓기', 1469: '파서', 1470: '받', 1471: '치실', 1472: '다행히', 1473: '맞아서', 1474: '안정감', 1475: '진로', 1476: '나름', 1477: '찾아갔는데', 1478: '친절하구', 1479: '기다립니다', 1480: '에겐', 1481: '그만큼', 1482: '안좋은', 1483: '않은데', 1484: '좋아지는', 1485: '편해지는', 1486: '연휴', 1487: '기대', 1488: '무과', 1489: '받기', 1490: '어디가', 1491: '“', 1492: '싫다', 1493: '급여', 1494: '응급실', 1495: '내고', 1496: '타가', 1497: '편해서', 1498: '증', 1499: 'mri', 1500: '비급', 1501: '복부', 1502: '된거', 1503: '반말', 1504: '잠', 1505: '들어가자마자', 1506: '불편하지', 1507: '친절하셨습니다', 1508: '싶어요', 1509: '들고', 1510: '참다', 1511: '1시간', 1512: '조카', 1513: '티', 1514: '예쁘게', 1515: '든', 1516: '되었는데', 1517: '욤', 1518: '거울', 1519: '모', 1520: '행사', 1521: '대기실', 1522: '질', 1523: '나올', 1524: '잘해주십니다', 1525: '오른쪽', 1526: '상황', 1527: '검', 1528: '받는데', 1529: '시려서', 1530: '입니', 1531: '출신', 1532: '해주셨으면', 1533: '구매', 1534: '강남', 1535: '들었습니다', 1536: '어요', 1537: '찾아', 1538: '않지만', 1539: '갈거', 1540: '\\U0001faf6🏻', 1541: '스탭', 1542: '요청', 1543: '당뇨', 1544: '좋다', 1545: '디테일', 1546: '오히려', 1547: '혹시', 1548: '누가', 1549: '면목동', 1550: '용하는', 1551: '네요', 1552: '조아', 1553: '워', 1554: '솔직히', 1555: '총', 1556: '피부관리', 1557: 'ㅋㅋㅋㅋ', 1558: '아시', 1559: '관', 1560: '백', 1561: '석호', 1562: '좋았', 1563: '갈게요', 1564: '바르는', 1565: '없다고', 1566: '굳이', 1567: '2만원', 1568: '들어주셔서', 1569: '김정우', 1570: '할게', 1571: '분과', 1572: '외래', 1573: '💕', 1574: '갑', 1575: '보십니다', 1576: '바쁜', 1577: '선생', 1578: '친절한데', 1579: '끼리', 1580: '아무', 1581: '제발', 1582: '할것도', 1583: '될까', 1584: '난', 1585: '\\U0001f979\\U0001f979', 1586: '밝은', 1587: '신데도', 1588: '쉬', 1589: '명도', 1590: '않았어요', 1591: '하더라구요', 1592: '주셨고', 1593: '료', 1594: '해주셨네요', 1595: '불편합니다', 1596: '윈', 1597: '톤', 1598: '시켜주시고', 1599: '갓', 1600: '받는다고', 1601: '야', 1602: '크게', 1603: '약제', 1604: '🤗🤗', 1605: '날짜', 1606: '월', 1607: '병명', 1608: '오', 1609: '약간', 1610: '좋았네요', 1611: '권하지', 1612: '물론', 1613: '비추', 1614: '염', 1615: '주름', 1616: '사랑', 1617: '대박', 1618: '캐치', 1619: '해주시는게', 1620: '주신', 1621: '행복한', 1622: '자연', 1623: '남기고', 1624: '시스템', 1625: '우리동네', 1626: '플러스', 1627: '문제점', 1628: '암', 1629: '되면', 1630: '4일', 1631: '당연히', 1632: '먹을', 1633: '표정', 1634: '가까워', 1635: '미백', 1636: '하려구요', 1637: '해주셨고', 1638: '엇', 1639: '올게요', 1640: '무섭지', 1641: '체계', 1642: '플', 1643: '느끼지만', 1644: '저렴', 1645: '건데', 1646: '장비', 1647: '많았는데', 1648: '경청', 1649: '매', 1650: '비싸지', 1651: '와도', 1652: '어떤', 1653: '그럼', 1654: '누구', 1655: '병행', 1656: '맞음', 1657: '해결', 1658: '3년', 1659: '약지', 1660: '걸려서', 1661: '나왔네요', 1662: '젊은', 1663: '따라', 1664: '받아요', 1665: '해주시구요', 1666: '이십', 1667: '가던', 1668: '끊고', 1669: '실로', 1670: '장례식', 1671: '석', 1672: '교수', 1673: '삼', 1674: '삼진', 1675: '종류', 1676: '지내고', 1677: '확', 1678: '매장', 1679: '기미', 1680: '비립', 1681: '타고', 1682: '다소', 1683: '팔뚝', 1684: '있었지만', 1685: '필요', 1686: '이어서', 1687: '해주시더라고요', 1688: '보여요', 1689: '링크', 1690: '자주자주', 1691: '찍어서', 1692: '차이', 1693: '깜짝', 1694: '봤네요', 1695: '친정', 1696: '앙', 1697: '해보고', 1698: '기다리는', 1699: '점도', 1700: '하는데요', 1701: '같음', 1702: '최', 1703: '있으', 1704: '달라', 1705: '청결', 1706: '꾸준하게', 1707: '사라졌습니다', 1708: '아픈게', 1709: '같고', 1710: '주의', 1711: '년전', 1712: '해야하는', 1713: '해주어서', 1714: '했는데요', 1715: '오는', 1716: '이라는', 1717: '뽑으러', 1718: '신경안', 1719: '계셔서', 1720: '아니고', 1721: '뽑았습니다', 1722: '찾은', 1723: '해주시며', 1724: '자', 1725: '유아', 1726: '견적', 1727: '사용', 1728: '절', 1729: '벌써', 1730: '♡♡', 1731: '무서운데', 1732: '어릴', 1733: '하시는데', 1734: '화이팅', 1735: '잘하', 1736: '잠도', 1737: '파', 1738: '하시더라고요', 1739: '환경', 1740: '1회', 1741: '출구', 1742: '겁니다', 1743: '받습니다', 1744: '찐', 1745: '의자', 1746: '이시고', 1747: '애', 1748: '되', 1749: '하니', 1750: '하시면', 1751: '래서', 1752: '줘요', 1753: '주기', 1754: '여쭤', 1755: '쓸', 1756: '언제', 1757: '날때', 1758: '입장', 1759: '한결같이', 1760: '챙겨주셔서', 1761: '진정', 1762: '적용', 1763: '해주시니', 1764: '하시는거', 1765: '직장', 1766: '소리', 1767: '주셨습니다', 1768: '놔주시는', 1769: '있지만', 1770: '따듯', 1771: '전신', 1772: '👍🏻👍🏻', 1773: '있길', 1774: '5년', 1775: '졸업', 1776: '채취', 1777: '소식', 1778: '난임', 1779: '결혼', 1780: '살이', 1781: '틀니', 1782: '장스', 1783: '컨디션', 1784: '심장', 1785: '분소', 1786: '간염', 1787: '채움', 1788: '눈밑', 1789: '모친', 1790: '해주네요', 1791: '쓰던', 1792: '보호대', 1793: '가보길', 1794: '비싸다', 1795: '까', 1796: '친철해', 1797: '다리꼬', 1798: '리가', 1799: '저쪽', 1800: '많다', 1801: '소변', 1802: '싶지', 1803: '토', 1804: '초등학생', 1805: '다닌지', 1806: '꾸준한', 1807: '물리', 1808: '불', 1809: '핀', 1810: '맞는거', 1811: '시원합니다', 1812: '불편했는데', 1813: '나주시', 1814: '대부분', 1815: '\\U0001faf6', 1816: '경우', 1817: '더한', 1818: '그런거', 1819: '박', 1820: '귀가', 1821: '적당합니다', 1822: '떨면서', 1823: '인형', 1824: '기선', 1825: '보아', 1826: '재료', 1827: '던', 1828: '그대로', 1829: '친절함에', 1830: '멀지만', 1831: '거평', 1832: '양약', 1833: '력', 1834: '이기', 1835: '되었지만', 1836: '받는거', 1837: '이런거', 1838: '소화', 1839: '생리', 1840: '보려고', 1841: '먹었는데', 1842: '열정', 1843: 'ㅣ', 1844: '항', 1845: '맞나', 1846: '건성건성', 1847: '오진', 1848: '치열', 1849: '받구', 1850: '다정한', 1851: '어른', 1852: '맛사지', 1853: '들렀는데', 1854: '배', 1855: '뜸', 1856: '타임', 1857: '뵙겠습니다', 1858: '약과', 1859: '20', 1860: '맞는게', 1861: '시원해요', 1862: '보는데', 1863: '친전', 1864: '원할', 1865: '졌어요', 1866: '면목역', 1867: '하시는듯', 1868: '맞추고', 1869: '뒷', 1870: '아아', 1871: '있었던', 1872: '역', 1873: '당연하고요', 1874: '냐', 1875: '가시', 1876: '싶습니다', 1877: '6시', 1878: '차원', 1879: '홍보', 1880: '왕창', 1881: '세게', 1882: '좋아하는데', 1883: '출근', 1884: '기술', 1885: '인지도', 1886: '상냥하게', 1887: '♡♡♡', 1888: '산후', 1889: '힐링', 1890: '야한다고', 1891: '육아', 1892: '힘들어서', 1893: '심하여', 1894: '발바닥', 1895: '가벼워졌어요', 1896: '얼른', 1897: '나았으면', 1898: '안고', 1899: '의학', 1900: '보우', 1901: '놓아주시고', 1902: '골반', 1903: '일자', 1904: '굿모닝', 1905: '순간', 1906: '멋대로', 1907: '분한', 1908: '진이었는데', 1909: '해주신다', 1910: '했다가', 1911: '흔들리는', 1912: '❤', 1913: '한가해서', 1914: '볼수있었어요', 1915: '깨끗합니다', 1916: '보이는', 1917: '간판', 1918: '깔끔했어요', 1919: '아니라고', 1920: '인레', 1921: '찍고', 1922: '다녔지만', 1923: '찬', 1924: '뿌리', 1925: '나오고', 1926: '들어가는', 1927: '다니기', 1928: '무섭다', 1929: '그만', 1930: '싶다', 1931: '잘해주셨어요', 1932: '자상해요', 1933: '안녕하세요', 1934: '약물', 1935: '새로오신', 1936: '사라졌어요', 1937: '편해져요', 1938: '행복하게', 1939: '부기', 1940: '빠지고', 1941: '애용', 1942: '편해져서', 1943: '엘보', 1944: '가아', 1945: '왔다가', 1946: '맞고나니', 1947: '좋아지고있어요', 1948: '푸근한', 1949: '인거', 1950: '세명', 1951: '았', 1952: '포스', 1953: '빠져서', 1954: '무한', 1955: '옮겨', 1956: '그렇지', 1957: '안되고', 1958: '딸', 1959: '성적', 1960: '크림', 1961: '사마귀', 1962: '정직', 1963: '봐주시는거', 1964: '생기', 1965: '러너', 1966: '수준', 1967: '필요할', 1968: '생겨', 1969: '돌아왔어요', 1970: '지수', 1971: '받아야', 1972: '과도', 1973: '편합니다', 1974: '나아지고', 1975: '아쉬울', 1976: '위안', 1977: '친절함은', 1978: '💜', 1979: '심하게', 1980: '했구요', 1981: '있는게', 1982: '참다가', 1983: '최소한', 1984: '5만원', 1985: '골절', 1986: '문병원', 1987: '관심', 1988: '할수있는', 1989: '저려서', 1990: '뻔', 1991: '안좋으셔서', 1992: '쾌적함', 1993: '젛아', 1994: '보셔요', 1995: '나쁘게', 1996: '찍', 1997: '모르겠지만', 1998: '아주머니', 1999: '웃음', 2000: '나더라구요', 2001: '차분한', 2002: '편했습니다', 2003: '좋구요', 2004: '놔주십니다', 2005: '자상하시고', 2006: '살짝', 2007: '비는', 2008: '갈수', 2009: '좋구', 2010: '보시고', 2011: '친절하니', 2012: '나아요', 2013: '개운합니다', 2014: '개운해요', 2015: '바로바로', 2016: '만족스러웠어요', 2017: '부어', 2018: '보람', 2019: '앞니', 2020: '좋아하네요', 2021: '😁', 2022: '꼼꼼해서', 2023: '하임', 2024: '세세하게', 2025: '무서워요', 2026: '중요하다고', 2027: '삶', 2028: '깨끗했어요', 2029: '미루고', 2030: '매복', 2031: '맨', 2032: '깨끗하게', 2033: '불편함', 2034: '많으셔서', 2035: '좋으네요', 2036: '닥터', 2037: '책', 2038: '즐겁게', 2039: '놀', 2040: '백신', 2041: '청력', 2042: '됐습니다', 2043: '않으시네요', 2044: '학', 2045: '쾌적해서', 2046: '해주셨음', 2047: 'ㅊ', 2048: '댜', 2049: '뺐는데', 2050: '센터', 2051: '하고도', 2052: '뒤에', 2053: '불러서', 2054: '장소', 2055: 'ㅅ', 2056: '서울대', 2057: '34년', 2058: '믿고가는', 2059: '아쉬운', 2060: '정직한', 2061: '로는', 2062: '공진단', 2063: '로테이션', 2064: '비뇨기', 2065: '괜찮고', 2066: '친절하다', 2067: '아퍼서', 2068: '많음', 2069: '혈', 2070: '기존', 2071: '할인', 2072: '🙌', 2073: '임산부', 2074: '사가', 2075: '뵙네요', 2076: '조심', 2077: '바뀐', 2078: '보라', 2079: '지방', 2080: '있다면', 2081: '모델링', 2082: '오시', 2083: '봐야', 2084: '일상', 2085: '투', 2086: '관절', 2087: '찾던', 2088: '러스크', 2089: '빈말', 2090: '치료받았어요', 2091: '한자리', 2092: '있죠', 2093: '꼼꼼합니다', 2094: '믿는', 2095: '두통', 2096: '인해서', 2097: '엥', 2098: '꼼꼼히잘', 2099: '웃김', 2100: '두근두근', 2101: '아쿠아', 2102: '드렸는데', 2103: '이드', 2104: '베리', 2105: '가능하고', 2106: '마디', 2107: '고개', 2108: '아쉽네요', 2109: '신지수', 2110: '발가락', 2111: '네이버', 2112: '편한거', 2113: '까지는', 2114: '떨렸는데', 2115: '작', 2116: '나옵니다', 2117: '여유', 2118: '이소정', 2119: '많으세요', 2120: '에가', 2121: '들어갈', 2122: '챙겨주시는', 2123: '조아여', 2124: '싸가지', 2125: '보러', 2126: '리플', 2127: '보는거', 2128: '이미지', 2129: '수다', 2130: '창틀', 2131: '정수기', 2132: '괜히', 2133: '움', 2134: '친절히잘', 2135: '에게는', 2136: '똑같은', 2137: '나도', 2138: '나옴', 2139: '계산', 2140: '안되는', 2141: '되길', 2142: '구리', 2143: '외모', 2144: '효', 2145: '곧', 2146: '분만', 2147: '혈액', 2148: '바쁘', 2149: '문진', 2150: '갔고', 2151: '친절하진', 2152: '알아보고', 2153: '받으시고', 2154: '왼', 2155: '분간', 2156: '호사', 2157: '계실', 2158: '아쉽', 2159: '보조', 2160: '답', 2161: '감정', 2162: '기다리지', 2163: '가능해요', 2164: '괜찮네요', 2165: '전후', 2166: '백내장', 2167: '누워서', 2168: '시크', 2169: '하신데', 2170: '느낌이었어요', 2171: '물어봐주시고', 2172: '청결하게', 2173: '친절하여', 2174: '할지', 2175: '신상', 2176: '않나', 2177: '상봉동', 2178: '친절하시게', 2179: '지역', 2180: '하셨습니다', 2181: '아가리', 2182: '알았어요', 2183: '태도', 2184: '했', 2185: '푹푹', 2186: '가시는게', 2187: '싶으시면', 2188: '친절하셔용', 2189: '다양하고', 2190: '바르고', 2191: '누워', 2192: '편해', 2193: '할수있게', 2194: '부탁드립니다', 2195: '장갑', 2196: '욕심', 2197: '‼️‼️', 2198: '즈', 2199: '입니디', 2200: '필요하지', 2201: '유도', 2202: '겸', 2203: '부드럽게', 2204: '무서워하는', 2205: '연말', 2206: '특유', 2207: '들어가면', 2208: '좋았고', 2209: '목적', 2210: '스', 2211: '느껴져', 2212: '초심', 2213: '잃지', 2214: '쵝오', 2215: '기다리고', 2216: '이차', 2217: '일상생활', 2218: '없게', 2219: '개선', 2220: '느껴졌습니다', 2221: '그때', 2222: '치료받', 2223: '기를', 2224: '되었', 2225: '저녁', 2226: '푹', 2227: '친절하세여', 2228: '친절하신데', 2229: '바늘', 2230: '움직', 2231: '이며', 2232: '오셔서', 2233: '친절해', 2234: '찾은듯', 2235: '지하철', 2236: '편리하고', 2237: '치과의사', 2238: '빼', 2239: '하는데도', 2240: '없었는데', 2241: '서서', 2242: '다닐것', 2243: '시려', 2244: '편안했어요', 2245: '치료받았음', 2246: '맞았습니다', 2247: '긴한데', 2248: '해주시는것', 2249: '뜻', 2250: '밖에', 2251: '실비', 2252: '않을거', 2253: '공포증', 2254: '서야', 2255: '도와주시는', 2256: '맞춤', 2257: '의술', 2258: '좋아오', 2259: '불안하지', 2260: '재발', 2261: '전이', 2262: '괜찮다고', 2263: '런가', 2264: '없는거', 2265: '보이네요', 2266: '전기', 2267: '수가', 2268: '의견', 2269: '여름', 2270: '닷', 2271: '땜', 2272: '경차', 2273: '단술', 2274: '무료', 2275: '후다닥', 2276: '있을거', 2277: '해야겠어요', 2278: '그래요', 2279: '차도', 2280: '벽', 2281: '둘', 2282: '불친절함', 2283: '나왔는데', 2284: '8월', 2285: '다녀온', 2286: '막', 2287: '받으면서', 2288: '이제야', 2289: '골다공증', 2290: '하는거', 2291: '😂', 2292: '사각', 2293: '지루', 2294: '피부염', 2295: '🤗', 2296: '다녔어요', 2297: '알맞게', 2298: '뽑아주셨습니다', 2299: '집니다', 2300: '집앞', 2301: '급할', 2302: '다녔습니다', 2303: '이라서', 2304: '인증', 2305: '방과', 2306: '충', 2307: '베드', 2308: '핫', 2309: '받고나니', 2310: '뭉친', 2311: '영양', 2312: '저리', 2313: '힘', 2314: '신기했어요', 2315: '터널', 2316: '증후군', 2317: '갔었는데', 2318: '자극', 2319: '갈거에요', 2320: '심해지면', 2321: '뵐게요', 2322: '없다', 2323: '노력', 2324: '만점', 2325: '그리구', 2326: '아프긴', 2327: '아프다고', 2328: '모를', 2329: '대충', 2330: '필요해서', 2331: '당일', 2332: '다녀옴', 2333: '많으', 2334: '육', 2335: '번만', 2336: '가려고', 2337: '입시', 2338: '폐렴', 2339: '건강하게', 2340: '지나가다', 2341: '아쉽습니다', 2342: '만족도', 2343: '4회', 2344: '받다', 2345: '대중교통', 2346: '체험', 2347: '셀프', 2348: '올록', 2349: '종', 2350: '신지', 2351: '어시스트', 2352: '이지', 2353: '컷슬린', 2354: '으로는', 2355: '부원장', 2356: '풀어주시고', 2357: '3분', 2358: '빼고', 2359: '가셔야', 2360: '코디', 2361: '멋', 2362: '로만', 2363: '체인점', 2364: '마주치고', 2365: '컴퓨터', 2366: '맡겨', 2367: '̆̈', 2368: '해용', 2369: '슈', 2370: '어린', 2371: '가능', 2372: '자질', 2373: '팔자주름', 2374: '결정', 2375: '찍어', 2376: '친절하신거', 2377: '긴', 2378: '넘치시는', 2379: '해주셨어', 2380: '봣', 2381: '피코', 2382: '붐비지', 2383: '상당히', 2384: '좋아집니다', 2385: '아니여서', 2386: '듭니', 2387: '친절하세오', 2388: 'ㅎㅎㅎㅎ', 2389: '어머님', 2390: '풀렸어요', 2391: '쓰는', 2392: '생긴지', 2393: '길지', 2394: '가방', 2395: '안된', 2396: '있을까', 2397: '싶었는데', 2398: '광', 2399: '하길', 2400: '엄', 2401: '청', 2402: '종아리', 2403: '신용', 2404: '성실하게', 2405: '야한다', 2406: '다니겠습니다', 2407: '깔끔하니', 2408: '와이프', 2409: '없었네요', 2410: '내서', 2411: '잘해줘요', 2412: '하셨고', 2413: '찾았네요', 2414: '만족하고', 2415: '간만', 2416: '먹는', 2417: '이도', 2418: '썩어서', 2419: '덧', 2420: '느꼈습니다', 2421: '구내염', 2422: '드네', 2423: '무리한', 2424: '되지', 2425: '손길', 2426: '찾고계시다면', 2427: '아팠습니다', 2428: '금새', 2429: '하셨는데', 2430: '주시면서', 2431: '살릴수', 2432: '살려', 2433: '드렸어요', 2434: '뽑고', 2435: '고마워요', 2436: '꼼꼼하시더라구요', 2437: '워낙', 2438: '부담스러운데', 2439: '왓습니', 2440: '들리고', 2441: '잡고', 2442: '서지', 2443: '걷지도', 2444: '같다며', 2445: '예상', 2446: '하시구요', 2447: '입니다요', 2448: '친절하십니당', 2449: '오길', 2450: '9시', 2451: '계', 2452: '300', 2453: '치주염', 2454: '부족한', 2455: '천', 2456: '부러져서', 2457: '오기', 2458: '친절하시', 2459: '궁', 2460: '건강하세요', 2461: '간호원', 2462: '부자', 2463: '우림', 2464: '시장', 2465: '명', 2466: '무척', 2467: '심했는데', 2468: '꼼꼼', 2469: '위드', 2470: '칫솔질', 2471: '좋다고', 2472: '듣기', 2473: '친절하면', 2474: '따라서', 2475: '성인', 2476: '되니', 2477: '대비', 2478: '했다', 2479: '아닌가요', 2480: '긴장도', 2481: '됐었는데', 2482: '나오면', 2483: '나가서', 2484: '없지', 2485: '심장병', 2486: '보철', 2487: '괜', 2488: '없는지', 2489: '치고', 2490: '였네요', 2491: '갔다', 2492: '없는데', 2493: '불친절합니다', 2494: '아버님', 2495: '용품', 2496: '와요', 2497: '한건데', 2498: '는걸', 2499: '미루지', 2500: '어느', 2501: '시력', 2502: '고객', 2503: '그림', 2504: '없으면', 2505: '외관', 2506: '나긋나긋', 2507: '제때', 2508: '닦고', 2509: '느끼며', 2510: '이었고', 2511: '간건데', 2512: 'ㄷㄷ', 2513: '홍치', 2514: '행복', 2515: '찾았습니다', 2516: '불편', 2517: '야하는', 2518: '선', 2519: '더욱', 2520: '하는것도', 2521: '안쪽', 2522: '담당', 2523: '어디서', 2524: '많습니다', 2525: '친절하지', 2526: '않음', 2527: '자상하셔서', 2528: '하시니', 2529: '친절하시니', 2530: '무섭지만', 2531: '40분', 2532: '스피드', 2533: '있으셔서', 2534: '좋더라고요', 2535: '해보니', 2536: '해주시니까', 2537: '결국', 2538: '엘리베이터', 2539: '놔주시네요', 2540: '맞으면', 2541: '똑같이', 2542: '줘서', 2543: '성모', 2544: '입안', 2545: '큰소리', 2546: '불쾌했습니다', 2547: '불친절하게', 2548: '속눈썹', 2549: '기다려', 2550: '냉동', 2551: '보시는것', 2552: '받으면', 2553: '인원', 2554: '했는지', 2555: '부터는', 2556: '불친절해도', 2557: '그랬네요', 2558: '돌아가고', 2559: '부드러워졌어요', 2560: '처치', 2561: '아요', 2562: '있도록', 2563: '끝났어요', 2564: '앞두고', 2565: '뽑아주셨어요', 2566: '‼️', 2567: '해야하는지', 2568: '하려면', 2569: '🙂', 2570: '좋을것', 2571: '정말로', 2572: '관절염', 2573: '감각', 2574: '감사하네요', 2575: '이명', 2576: '엘에이', 2577: '남', 2578: '셔', 2579: '같았어요', 2580: '놓으시고', 2581: '봤지만', 2582: '하길래', 2583: '다녀오면', 2584: '있는지', 2585: '부족해서', 2586: '하시니까', 2587: '10년', 2588: '무섭게', 2589: '청결해서', 2590: '돈벌이', 2591: '가는걸', 2592: '영상의학', 2593: '찿', 2594: '귀', 2595: '기울려', 2596: '많으신', 2597: '파열', 2598: '우', 2599: '코', 2600: '알려주세요', 2601: '잘해주', 2602: '😃', 2603: '아팠었는데', 2604: '높은', 2605: '주는', 2606: '부탁드립니다내용', 2607: '본것', 2608: '두려운', 2609: '아가', 2610: '고통', 2611: '나섰습니다', 2612: '주파', 2613: '창구', 2614: '받아도', 2615: '당연한', 2616: '소아', 2617: '사라져서', 2618: '살았는데', 2619: '악', 2620: '래', 2621: '자꾸', 2622: '아니었네요', 2623: '살다', 2624: '\\U0001fa77\\U0001fa77\\U0001fa77', 2625: '반', 2626: '놓는', 2627: '않았지만', 2628: '추', 2629: '한쪽', 2630: '저렴하네요', 2631: '발렛파킹', 2632: '좋지', 2633: '보단', 2634: '🙏🙏🙏', 2635: '과장', 2636: '따뜻하세요', 2637: '주사실', 2638: '무성의', 2639: '계신데', 2640: '혜인', 2641: '걸이', 2642: '마리아', 2643: '해봅니다', 2644: '극', 2645: '쉬워요', 2646: '있기를', 2647: '배란', 2648: '더니', 2649: '하구요', 2650: '확실하니까', 2651: '빠지던', 2652: '체중', 2653: '왔', 2654: '미용', 2655: '하시구', 2656: '샌', 2657: '실제', 2658: '늦게까지', 2659: '양', 2660: '중딩', 2661: '♥︎', 2662: '쯔', 2663: '할아버지', 2664: '원하였는데', 2665: '찾아주시고', 2666: '11', 2667: '걷게', 2668: '허준', 2669: '살맛', 2670: '납니다', 2671: '마트', 2672: '초록', 2673: '되여', 2674: '용해', 2675: '안좋으면', 2676: '테라', 2677: '싶을', 2678: '어려', 2679: '지나서', 2680: '기운', 2681: '노곤', 2682: '소파', 2683: '꼼꼼하셔서', 2684: '빈혈', 2685: '하니까', 2686: '뒤에와서', 2687: '나눠', 2688: '산', 2689: '알음', 2690: '모인', 2691: '의욕', 2692: '복', 2693: '돋아주십니다', 2694: 'ㄱㅅ', 2695: '아유', 2696: '김용민', 2697: '신명호', 2698: '하셔오', 2699: '인실인데', 2700: '넓다', 2701: '물통', 2702: '양치', 2703: '세트', 2704: '수건', 2705: '받았다', 2706: '간병', 2707: '통합', 2708: '없어도', 2709: '면회', 2710: '조용히', 2711: '쉴수있었다', 2712: '갖고', 2713: '권장', 2714: '넘어', 2715: '끝났네요', 2716: '묵묵히', 2717: '차근차근', 2718: '봉화산역', 2719: '왠지', 2720: '아프네', 2721: '썩이는걸', 2722: '스캘링', 2723: '안함', 2724: '많으니', 2725: '해라', 2726: '불쾌했음', 2727: '화목', 2728: '14년', 2729: '해주어', 2730: '웰', 2731: '보였는데', 2732: '회', 2733: '치료받으면', 2734: '점저', 2735: '아음', 2736: '느낌니다', 2737: '팔굼치', 2738: '폄', 2739: '골격계', 2740: '베', 2741: '정성스런', 2742: '아물어', 2743: '실밥', 2744: '풀었습니다', 2745: '주아요', 2746: '좋아졌답니다', 2747: '부', 2748: '룩', 2749: '신약', 2750: '먹었더니', 2751: '시원해졌어요', 2752: '추해요', 2753: '없다는게', 2754: '흠', 2755: '이긴', 2756: '만요', 2757: '놔주시는데', 2758: '비싸졌네요', 2759: '봐주세여', 2760: '통원', 2761: '없으십니다', 2762: '오고', 2763: '퇴원', 2764: '조목조목', 2765: '치핵', 2766: '컸는데', 2767: '비도', 2768: '저렴해서', 2769: '다니려고', 2770: '대장정', 2771: '보입니다', 2772: '할거예요', 2773: '끝났네', 2774: '했어용', 2775: '가리고', 2776: '꿀맛', 2777: '낮잠', 2778: '누르라고', 2779: '주셨는데', 2780: '눌렀네요', 2781: '😉\\U0001faf0🏻', 2782: '가전', 2783: '끝나네요', 2784: '신나요', 2785: '했거든요', 2786: '다녀도', 2787: '🤭👍🏻', 2788: '니지', 2789: '콧', 2790: '에고', 2791: '확진', 2792: '오래되었어요', 2793: '만성', 2794: '위장', 2795: '장애', 2796: '인해', 2797: '힘들어지면', 2798: '불가한', 2799: '활', 2800: '되찾', 2801: '식구', 2802: '있답니다', 2803: '놓아주셔요', 2804: '받으', 2805: '세요', 2806: '쓰려고', 2807: '챙겼어요', 2808: '안될', 2809: '부황', 2810: '뜨면', 2811: '건강해져요', 2812: '내공', 2813: '저림', 2814: '의심스러울', 2815: '형편', 2816: '없으시더라구요', 2817: '치질', 2818: '되질', 2819: '일후', 2820: '길', 2821: '건너', 2822: '송도', 2823: '외과의', 2824: '받았더니', 2825: '보여주시며', 2826: '항문', 2827: '비싸서', 2828: '아쉽지만', 2829: '자상히', 2830: '알려주시네요', 2831: '실내', 2832: '깔끔하구', 2833: '알아주시구', 2834: '뺠리', 2835: '치로', 2836: '느낌이네요', 2837: '물어봐', 2838: '받겠다', 2839: '경희', 2840: '결림', 2841: '만으로는', 2842: '없는것', 2843: '엎드릴', 2844: '받침', 2845: '깔아주는', 2846: '감사했고', 2847: '핫팩', 2848: '한방약', 2849: '포', 2850: '감사한', 2851: '가뿐하게', 2852: '듣는것', 2853: '쥬', 2854: 'ㅏ', 2855: '👌', 2856: '푸', 2857: '짐', 2858: '놓아주세요', 2859: '물도', 2860: '전념', 2861: '환복', 2862: '하였어요', 2863: '중상', 2864: '남은', 2865: '대라', 2866: '가보는데', 2867: '좋다더니', 2868: '적임', 2869: '좋으', 2870: '봤으나', 2871: '능력', 2872: '부족함', 2873: '오른', 2874: '3회', 2875: '팔도', 2876: '올라가고', 2877: '아파진', 2878: '편안해서', 2879: '행해', 2880: '좋아짐', 2881: '시원함', 2882: '저하', 2883: '맞고와도', 2884: '놔요', 2885: '심다', 2886: '좋았음', 2887: '약재', 2888: '갖는데', 2889: '들렸어요', 2890: '좋아져', 2891: '😍', 2892: '상냥하시구', 2893: '놓아주셨다', 2894: '맞고나서', 2895: '부드러워', 2896: '살거', 2897: '저장', 2898: '모호한', 2899: '구심', 2900: '해주시려는', 2901: '갔', 2902: '만족해용', 2903: '가습기', 2904: '같은거', 2905: '딱이라서', 2906: '찾고있었는데', 2907: '불량', 2908: '힘들었었는데', 2909: '받아야겠어요', 2910: '쾌적한', 2911: '여유롭게', 2912: '당하게', 2913: '목뼈', 2914: '나서는', 2915: '골', 2916: '당기는게', 2917: '뻐근한것도', 2918: '침술', 2919: '좋아해서', 2920: '수위', 2921: '다툴', 2922: '화침', 2923: '어어어어', 2924: '카드', 2925: '연결해', 2926: '확실한', 2927: '잘놓는데', 2928: '묵동', 2929: '허튼', 2930: '접', 2931: '다르네요', 2932: '깔아놓고', 2933: '올려놓은데는', 2934: '진정한', 2935: '방침', 2936: '원하신다면', 2937: '놓으셔서', 2938: '덩', 2939: '놔주시더라고요', 2940: '회복할', 2941: '여태', 2942: '최강', 2943: '웬만한', 2944: '가느니', 2945: '해보세요', 2946: '분야', 2947: '박학', 2948: '다식', 2949: '수어', 2950: '가실', 2951: '두려운데', 2952: '윈장님', 2953: '놓여서', 2954: '잘알려', 2955: '자세해서', 2956: '봐주시', 2957: '애프터', 2958: '케어', 2959: '확실하게', 2960: '잡아주시고요', 2961: '전에', 2962: '신속한', 2963: '치료받았습니다', 2964: '치석', 2965: '아프지도', 2966: '모른', 2967: '시리', 2968: '몆', 2969: '십년', 2970: '주셨음', 2971: '오랜만', 2972: '다녀왔음', 2973: '세라젬', 2974: '쭉쭉', 2975: '펴지는', 2976: '놓습니다', 2977: '있는것도', 2978: '덴', 2979: '물광', 2980: '침하', 2981: '화사해졌네요', 2982: '반짝', 2983: '힘나고', 2984: '친질', 2985: '연결', 2986: '낫는거', 2987: '바지', 2988: '입을수', 2989: '가볍게', 2990: '올라가네요', 2991: '거북목', 2992: '양쪽', 2993: '온라인', 2994: '많이하고', 2995: '놓아주시는줄도', 2996: '들었는데', 2997: '느껴지지', 2998: '굿모', 2999: '와전', 3000: '친절합니', 3001: '심한데', 3002: '부드러워졌답니다', 3003: '질병', 3004: '나감', 3005: '초등', 3006: '생인', 3007: '무시', 3008: '면박', 3009: '주듯', 3010: '상함', 3011: '이루말', 3012: '않을껍니', 3013: '의료행위', 3014: '서비스업', 3015: '느꼈었지만', 3016: '닫혀', 3017: '급해서', 3018: '수없이', 3019: '여전하네요', 3020: '풀리지', 3021: '남김니다', 3022: '시대', 3023: '꼈습니다', 3024: '상대방', 3025: '가져', 3026: '먹고있는', 3027: '겹', 3028: '친다고', 3029: '방안', 3030: '친절해여', 3031: '주신다', 3032: '무서워하지', 3033: '어린이치과를', 3034: '🤩', 3035: '지켜봐', 3036: '야할거', 3037: '좋아욤', 3038: '작아서', 3039: '붐비는', 3040: '추네요', 3041: '겉', 3042: '아말감', 3043: '해보시고', 3044: '급한거', 3045: '간거라', 3046: '없으셨습니다', 3047: '골든', 3048: '맞춰오세요', 3049: '감탄', 3050: '없어지고', 3051: '많니', 3052: '짧아서', 3053: '빠질까봐', 3054: '잡아주시면서', 3055: '해주셨어오', 3056: '바뻐서', 3057: '바꾸는', 3058: '여아에요', 3059: '상악', 3060: '확장', 3061: '페이스', 3062: '배열', 3063: '동일한', 3064: '비싸고', 3065: '글로리', 3066: '않았다면', 3067: '했겠죠', 3068: '빼려고', 3069: '애가', 3070: '신기해', 3071: '전희', 3072: '구안와사', 3073: '힘들다', 3074: '맞는것도', 3075: '중요합니다', 3076: '내지', 3077: '타러가는데', 3078: '오래되고', 3079: '봐주시나', 3080: '작으셔서', 3081: '해주시는듯', 3082: '별루임', 3083: '보시는듯', 3084: '없는덴', 3085: '비싸기는', 3086: '이리', 3087: '비싼지', 3088: '찮아서', 3089: '짜증나서', 3090: '씀', 3091: '잘놓아요', 3092: '네네', 3093: '김상준', 3094: '원하시면', 3095: '바뀌셨나', 3096: '메인', 3097: '동문', 3098: '공황장애', 3099: '나았지만', 3100: '끊었어요', 3101: '섬세히', 3102: '자세히게', 3103: '아껴주시네요', 3104: '정직하게', 3105: '찾으러', 3106: '올까', 3107: '없다는', 3108: '나왔', 3109: '중후', 3110: '친절하구요', 3111: 'ㄱ', 3112: '친절함과', 3113: '멋있으신', 3114: '든다', 3115: '없으니', 3116: '걸어다니', 3117: '가벼워졌습니다', 3118: '맞았더니', 3119: '좋아지는듯', 3120: '감비환', 3121: '변비', 3122: '현상', 3123: '보가', 3124: '넘어져서', 3125: '타박상', 3126: '입고', 3127: '맞았네요', 3128: '걸렸던', 3129: '들두', 3130: '친근한', 3131: '부와', 3132: '보고왔어요', 3133: '무분별', 3134: '차별', 3135: '경기', 3136: '있다는게', 3137: '감사할', 3138: '따름', 3139: '넘치는', 3140: '용하시네요', 3141: '있다하면', 3142: '신물', 3143: '났는데', 3144: '적정한', 3145: '가두려운', 3146: '표현', 3147: '손녀', 3148: '하려', 3149: '이여', 3150: '습니', 3151: '판단', 3152: '빠르시고', 3153: '보습', 3154: '다녕', 3155: '비슷한게', 3156: '되는건데', 3157: '믿을수', 3158: '없네', 3159: '일전', 3160: '서치', 3161: '있음에도', 3162: '찾아갑니', 3163: '딸아이', 3164: '성지', 3165: '모자란', 3166: '업그레이드', 3167: '됐고', 3168: 'runner', 3169: '라면', 3170: '주법', 3171: '반드시', 3172: '아님', 3173: '궁금점', 3174: '해소', 3175: '달리기', 3176: '털어', 3177: '놓을', 3178: '뇌파', 3179: '좋지는', 3180: '안하서', 3181: '길어지네요', 3182: '심리', 3183: '가벼운', 3184: '심하진', 3185: '한다셨어요', 3186: '간단해요', 3187: '나온답니다', 3188: '목요일', 3189: '신중히', 3190: '다려집니다', 3191: '친해져서', 3192: '있는거', 3193: '기다리게', 3194: '공황', 3195: '쌤듵노', 3196: '89090', 3197: '우울함', 3198: '좋아졌고', 3199: '에서의', 3200: '극복', 3201: '포근한', 3202: '좁다', 3203: '편도염', 3204: '생겼다고', 3205: '하기도', 3206: '수월했고', 3207: '불편한지', 3208: '조차도', 3209: '물어보는', 3210: '스럽', 3211: '무기', 3212: '”', 3213: '머릿속', 3214: '오는거니', 3215: '보자고', 3216: '하더군요', 3217: '들리는', 3218: '아깝고', 3219: '아까우니까', 3220: '차라리', 3221: '간다', 3222: '피로', 3223: '이었지만', 3224: '운동선수', 3225: '갔죠', 3226: '센', 3227: '할수있어', 3228: '팔다리', 3229: '초기', 3230: '라네', 3231: '아니였으면', 3232: '몰랐을', 3233: '단순하게', 3234: '저리다고만', 3235: '건강해', 3236: '질께요', 3237: '환갑', 3238: '시점', 3239: '아파지더라고요', 3240: '딸내미', 3241: '가보', 3242: '봤었는데요', 3243: '많았었거든요', 3244: '그러던', 3245: '시켜줘서', 3246: '멀었지만', 3247: '할수있다고', 3248: '받으셨어요', 3249: '좋아지셨습니다', 3250: '끝판', 3251: '추간판', 3252: '탈출', 3253: '귄', 3254: '사라지고', 3255: '좋아진듯', 3256: '겅진', 3257: '민첩하십니다', 3258: '자상하십니다', 3259: '됐냐', 3260: '다시오라면서', 3261: '찍해', 3262: '대고', 3263: '개판', 3264: '못자서', 3265: '맞', 3266: '보았네요', 3267: '은줄', 3268: '몰랐네요', 3269: '냥', 3270: '친절함의', 3271: '기준', 3272: '다르니까', 3273: '평가', 3274: '어떨지는', 3275: '느끼', 3276: '좋았다고', 3277: '셉', 3278: '스몰톡', 3279: '하신게', 3280: '느껴졌어요', 3281: '지하철역', 3282: '버스', 3283: '정류', 3284: '길찾기', 3285: '지나가다가', 3286: '보았던', 3287: '꽃', 3288: '급체', 3289: '어지럽고', 3290: '알고있는데', 3291: '내려갔어요', 3292: '다닐만', 3293: '놓으시는거', 3294: '개운하네요', 3295: '돌도', 3296: '휴가', 3297: '아프고만', 3298: '장염', 3299: '이라네요', 3300: '이기는', 3301: '압출', 3302: '흉터', 3303: '되긴', 3304: '편인듯', 3305: '좋랐어', 3306: '봐주시는게', 3307: '판매', 3308: '괜차늠', 3309: '그닥', 3310: '루', 3311: '가벼워집니다', 3312: '좋아졌어용', 3313: '하고나면', 3314: '시원해졌네요', 3315: '예민한', 3316: '아픈거로', 3317: '조치', 3318: '가겟습니다', 3319: '감사했구요', 3320: '고마웠습니다', 3321: '로비', 3322: '요새', 3323: '메이크업', 3324: '룸', 3325: '있더라구요', 3326: '아프', 3327: '감사함니다', 3328: '😇', 3329: '데려왔는데', 3330: '오겠다고', 3331: '다니구', 3332: '데려와서', 3333: '잇솔질', 3334: '보며', 3335: '유익한', 3336: '정보', 3337: '됐네요', 3338: '오랄', 3339: '전동칫솔', 3340: '증정', 3341: '하고있어서', 3342: '득템', 3343: '돌봐주는', 3344: '찾고', 3345: '계시', 3346: '예쁘고', 3347: '향기도', 3348: '독일', 3349: '오신', 3350: '하는것', 3351: '거든요', 3352: '썩', 3353: '이던', 3354: '안아퍼서', 3355: '달라졌어요', 3356: 'vip', 3357: '웃으면서', 3358: '봐주셨습니다', 3359: '어린이', 3360: '먹지', 3361: '미루다', 3362: '뜨지만', 3363: '불편한건', 3364: '간략히', 3365: '쉬워', 3366: '되니다', 3367: '와야', 3368: '칮절해', 3369: '도열', 3370: '이빈', 3371: '과로', 3372: '예방', 3373: '읽을수', 3374: '실바', 3375: '안도', 3376: '즐거웠네요', 3377: '놓아주셔서', 3378: '청각', 3379: '보이길래', 3380: '보았습니다', 3381: '이어폰', 3382: '같지', 3383: '않던', 3384: '높아진거도', 3385: 'ㅊㅈㅎㅇ', 3386: 'ㅊㅊ', 3387: '놓주세요', 3388: '놓아줘요', 3389: '놓아요', 3390: '앉아있는', 3391: '그다지', 3392: '갑지', 3393: '긋', 3394: '다녀옵니다', 3395: '스벅', 3396: '서점', 3397: '있으니', 3398: '왔는데요', 3399: '😊😊', 3400: '쾌적합니다', 3401: '좋았던거', 3402: '나오네요', 3403: '급하신', 3404: '느껴졌구요', 3405: '아늑한', 3406: '으론', 3407: '정함', 3408: '더플란트', 3409: '혼자', 3410: '하시나', 3411: '혼', 3412: '자시네요', 3413: '절해', 3414: '버렸네요', 3415: '해주었어요', 3416: '되었으며', 3417: '알려줘요', 3418: '기만', 3419: '되었음', 3420: '찾으시는', 3421: 'as', 3422: 'ㅈㅗㅁ', 3423: '기다리는걸', 3424: '당연하게', 3425: '대장', 3426: '내놓고', 3427: '할려면', 3428: '할려', 3429: '이러진', 3430: '않거든요', 3431: '왔고', 3432: '친정엄마', 3433: '입맛', 3434: '드셔서', 3435: '링거', 3436: '됨됨이', 3437: '공사', 3438: '늦었음', 3439: '큰일', 3440: '날뻔', 3441: '하신다는', 3442: '과대', 3443: '깎아', 3444: '먹은', 3445: '동산', 3446: '상술', 3447: '고정', 3448: '봐주시구', 3449: '요로결석', 3450: '잘나았습니다', 3451: '결석', 3452: '보는것', 3453: '반해요', 3454: '서방', 3455: '바가지', 3456: '삐', 3457: '해줌', 3458: '잘놓와', 3459: '십', 3460: '받았구요', 3461: '깊었어요', 3462: '치료받은데', 3463: '배드', 3464: '더라구요', 3465: '뜬구름', 3466: '잡는', 3467: '잘맞았네요', 3468: '생겼다는', 3469: '알고있었는데', 3470: '하지못하고', 3471: '일하시는', 3472: '해보고싶다는', 3473: '저렴히', 3474: '좋아진다는', 3475: '해보는거라', 3476: '조심스럽고', 3477: '아팠', 3478: '평온해서', 3479: '뻔했어요', 3480: '낳고', 3481: '올려구요', 3482: '뵙게요', 3483: '다니던치과', 3484: '봐주셨던', 3485: '김지현', 3486: '받고나서', 3487: '찾아가요', 3488: '수기', 3489: '구로', 3490: '않으실거에요', 3491: '가깝진', 3492: '대박나세요', 3493: '대하듯', 3494: '에서부터', 3495: '반겨주시는', 3496: '친근하게', 3497: '원하는', 3498: '했으면', 3499: '질의', 3500: '그렇다면', 3501: '가겠는가', 3502: '중심', 3503: '아마도', 3504: '전국', 3505: '계십니다', 3506: '부산', 3507: '길이', 3508: '쉽진', 3509: '친절함으로', 3510: '주고', 3511: '충남대', 3512: '절단', 3513: '완치', 3514: '디앤', 3515: '에프', 3516: '오셨냐고', 3517: '알것', 3518: '챙겨가세용', 3519: '하러가면', 3520: '부장', 3521: '안부', 3522: '물어주고', 3523: '궁금하지도', 3524: '않을텐데', 3525: '물어가며', 3526: '누군가', 3527: '보고싶은', 3528: '이구나', 3529: '들게', 3530: '귀찮으니', 3531: '시키지말라는', 3532: '들어서는', 3533: '반가운', 3534: '반겨주는', 3535: '떠오르는것이', 3536: '했었어요', 3537: '맙', 3538: '인공', 3539: '소문난', 3540: '택하', 3541: '훈남', 3542: '봐주셨고', 3543: '인실', 3544: '실과', 3545: '달리', 3546: '쾌적했습니다', 3547: '보태', 3548: '호텔', 3549: '시절', 3550: '그리울', 3551: '찾는다면', 3552: '치료받은', 3553: '레이', 3554: '씌우기에는', 3555: '아깝다고', 3556: '때워주셨네요', 3557: '영업', 3558: '있는데는', 3559: '친절합니다요', 3560: '조용한', 3561: '방역', 3562: '지켜지고', 3563: '줬어요', 3564: '힘들었는데', 3565: '지어서', 3566: '먹었으면', 3567: '되도록', 3568: '똑같았을텐데', 3569: '봉', 3570: '고맙', 3571: '간하면', 3572: '남기지', 3573: '않는데', 3574: '고마워서', 3575: '정직하시고', 3576: '가려', 3577: '들러야지', 3578: '잔소리', 3579: '해주실가', 3580: '필', 3581: '평균', 3582: '시세', 3583: '굿궁', 3584: '구천구백원', 3585: '가봐요', 3586: '봐주셨답니다', 3587: '변경', 3588: '도와주시고', 3589: '조아용', 3590: '바뀌셨다는데', 3591: '제로', 3592: '아토', 3593: '어도', 3594: '챙겨주십니다', 3595: '여드름', 3596: '알려주십니다', 3597: '가렵니', 3598: '글자', 3599: '적어', 3600: '박정', 3601: '좋으시더라구요', 3602: '첫날', 3603: '음날', 3604: '2회', 3605: '올라가서', 3606: '안내지를', 3607: '내밀었는데', 3608: '돌리고', 3609: '떠들고', 3610: '있던', 3611: '민망해서', 3612: '서있었는데', 3613: '친절하시던데', 3614: '났고싶네요', 3615: '새끼', 3616: '튀어나오고', 3617: '건막류', 3618: '안하게끔', 3619: '장수', 3620: '진원', 3621: '의약품', 3622: '모르시고', 3623: '시집', 3624: '서서히', 3625: '끊으려고', 3626: '왔다니까', 3627: '먹는게', 3628: '해롭다고', 3629: '전문가', 3630: '그러려니', 3631: '뭘', 3632: '받았는지', 3633: '봤더니', 3634: '주셨더라고요', 3635: '～', 3636: '해주냐고', 3637: '왓', 3638: '만족해하셔요', 3639: '다니려고요', 3640: '다정하시고', 3641: '정신건강', 3642: '다녀서', 3643: '받겠습니다', 3644: '코멘트', 3645: '하시며', 3646: '웃어주셔서', 3647: '웃네요', 3648: '부탁', 3649: '솔직하게말', 3650: '들의', 3651: '달래고', 3652: '조으세요', 3653: '드러', 3654: '하셧으', 3655: '남아', 3656: '돌아오는거', 3657: '아니니', 3658: '뀼', 3659: '한주', 3660: '원자', 3661: '제실', 3662: '뵈러', 3663: '원님', 3664: '살펴주시는', 3665: '조아룡', 3666: 'of', 3667: '마땅한', 3668: '이라지만', 3669: '더럽게', 3670: '하필', 3671: '왔냐고', 3672: '그러고', 3673: '쪼인트', 3674: '까이는', 3675: '보면서', 3676: '갈굼', 3677: '당하면서', 3678: '안타깝고', 3679: '이러니', 3680: '떨어지는건', 3681: '연', 3682: '지사', 3683: '태어나서', 3684: '앉자마자', 3685: '연필', 3686: '깍지', 3687: '긁더니', 3688: '민감', 3689: '이라하고', 3690: '불친절한데', 3691: '비싸기까지', 3692: '그지같아도', 3693: '거길', 3694: '걸까', 3695: '길진', 3696: '해수시고', 3697: '비싸네요', 3698: '귀찮아서', 3699: '쓰기', 3700: '싫지만', 3701: '말아먹네요', 3702: '떠는', 3703: '오고싶게', 3704: '떠드느라', 3705: '멀뚱멀뚱', 3706: '쳐다봄', 3707: '나오니', 3708: '호명', 3709: '띡', 3710: '떠들기', 3711: '바쁨', 3712: '말고도', 3713: '비슷한', 3714: '불친절하진', 3715: '놀라울', 3716: '더럽습니다', 3717: '링겔', 3718: '침구', 3719: '먼지', 3720: '사체', 3721: '더러워서', 3722: '의심스러', 3723: '🙏🏻', 3724: '볼게요', 3725: '비추라고', 3726: '가고싶지안음', 3727: '칼', 3728: '베서', 3729: '꿰맬수', 3730: '없다하구', 3731: '꿰매구싶음', 3732: '찾아가라', 3733: '불친절하구', 3734: '물어봤다구', 3735: '번할까', 3736: '똑같이말하려다가', 3737: '똑바로', 3738: '못해', 3739: '내려가다', 3740: '아퍼', 3741: '죽겠는데', 3742: '였나', 3743: '해주세여', 3744: '보시는거', 3745: '걸리시지', 3746: '이지함', 3747: '친절헤', 3748: '친젏해', 3749: '한마디', 3750: '하자', 3751: '미남', 3752: '되세요', 3753: '보았어요', 3754: '맞으면서', 3755: '아픈거랑', 3756: '나아지는', 3757: '받앗습니다', 3758: '편하죠', 3759: '하실', 3760: '욥', 3761: '시원한', 3762: '야해서', 3763: '마쳤습니다', 3764: '시켜서', 3765: '쉬운', 3766: '용어', 3767: '하기에', 3768: '꾹', 3769: '누르고', 3770: '😃👍', 3771: '보고가요', 3772: '잘생기시고', 3773: '없었고', 3774: '해야한데', 3775: '바뿌셔', 3776: '힘드셨는지', 3777: '쉬시고', 3778: '어찌저찌', 3779: '됐다는', 3780: '몇십', 3781: '들여서', 3782: '없었다는', 3783: '건너편', 3784: '뺏을', 3785: '친절했는데', 3786: '어머님께', 3787: '세분', 3788: '못봣습니', 3789: '나머지', 3790: '웃으시고', 3791: '계시길', 3792: '바랏', 3793: '잇어서', 3794: '뮐', 3795: '물어보면', 3796: '단', 3797: '은행', 3798: '결론', 3799: '홀', 3800: '울고싶어요', 3801: '여길와', 3802: '빠르지만', 3803: '진찌', 3804: '시원해서', 3805: '가봣는데', 3806: '아팟는데', 3807: '들어용', 3808: '헸습니', 3809: '해보겠습니다', 3810: '만족스러워용', 3811: '\\U0001faf6\\U0001faf6', 3812: '뷰티', 3813: '전용', 3814: '질환', 3815: '아니면', 3816: '긴가', 3817: '민가', 3818: '해줘야', 3819: '좋아해야', 3820: '가십니다', 3821: '그러니까', 3822: '자세해', 3823: '주셨으면', 3824: '물어보는거에', 3825: '부담스러웠어요', 3826: '태토', 3827: '불쾌함', 3828: '다닐거', 3829: '편했어요', 3830: '불친절하다고', 3831: '봐주시는데', 3832: '공차', 3833: '제야', 3834: '고수', 3835: '협소', 3836: '더워요', 3837: '살아이도', 3838: '성공했어요', 3839: '괜찮냐고', 3840: '구석구석', 3841: '스케줄', 3842: '맞혀', 3843: '드림니다', 3844: '다니고있습니다', 3845: '미주신경', 3846: '실신', 3847: '소견', 3848: '별도', 3849: '타인', 3850: '해주질', 3851: '황당', 3852: '번호', 3853: '엉뚱하게도', 3854: '이름으', 3855: '되어있었음', 3856: '행정', 3857: '꽝', 3858: '나왔으면', 3859: '황당했을듯', 3860: '루안', 3861: '들으시고', 3862: '만가', 3863: '해주는건', 3864: '묵은지', 3865: '로서', 3866: '테크닉', 3867: '훌륭하시고', 3868: '민', 3869: '반겨주시네요', 3870: '3시간', 3871: '해주시느라', 3872: '찢어지는줄', 3873: '아무튼', 3874: '고자', 3875: '마스', 3876: '고압', 3877: '강압', 3878: '30년', 3879: '마네', 3880: '쉬는데', 3881: '나아', 3882: '보임', 3883: '가보시는게', 3884: '비싸', 3885: '도안', 3886: '패키지', 3887: '상품', 3888: '마취제', 3889: '난후', 3890: '있은', 3891: '움직이게', 3892: '욧', 3893: '😇😇', 3894: '이면', 3895: '동창회', 3896: '비결', 3897: '묻길래', 3898: '꾸', 3899: '이해도', 3900: '살이안', 3901: '빠져', 3902: '카복시', 3903: '콕콕', 3904: '집어', 3905: '호', 3906: '등록', 3907: '친절하긴한데', 3908: '라텍스', 3909: '켰으면', 3910: '합니당', 3911: '묵묵하니', 3912: '볼수록', 3913: '제모', 3914: '찐으로', 3915: '하신', 3916: '환하고', 3917: '소중하게', 3918: '과다르', 3919: '할부', 3920: '유목민', 3921: '스케일', 3922: '가글', 3923: '😭', 3924: '여기라면', 3925: '있겠어요', 3926: '써주시며', 3927: '느껴지는', 3928: '보내세요', 3929: '개운하게', 3930: 'ㅏㄷ', 3931: '나지', 3932: '귀엽고', 3933: '푹신푹신', 3934: '시린', 3935: '미루던', 3936: '좋았지만', 3937: '원내', 3938: '례', 3939: '배어있는', 3940: '마인드', 3941: '할까', 3942: '브릿지', 3943: '있는듯', 3944: '급히', 3945: '들른', 3946: '과의', 3947: '대처', 3948: '차후', 3949: '또한', 3950: '새로운', 3951: '왔답니다', 3952: '남아주세요', 3953: '잘해주는', 3954: '편안히해', 3955: '때우는', 3956: '찌릿찌릿', 3957: '설겆이', 3958: '들과', 3959: '완', 3960: '되는것을', 3961: '느낄수', 3962: '찌릿', 3963: '아프구', 3964: '움직이길래', 3965: '만져', 3966: '파악', 3967: '미친', 3968: '안되엇다', 3969: '사고가나서', 3970: '였답니다', 3971: '깨끗했으며', 3972: '수라상', 3973: '주방', 3974: '식단', 3975: '고마웠답니다', 3976: '않', 3977: '힘들어하는', 3978: '자알', 3979: '지장', 3980: '건강하십시요', 3981: '패드', 3982: '환의', 3983: '쾌쾌', 3984: '좋을거', 3985: '적당히', 3986: '넣어주셔서', 3987: '이루어지고있어', 3988: '만들어주셔서', 3989: '먹을수있어요', 3990: '먹으면서', 3991: '권해서', 3992: '저린것', 3993: '허리협착증', 3994: '아픈것까지', 3995: '거리를', 3996: '걸어', 3997: '가자면', 3998: '앉았다', 3999: '걸었는데', 4000: '걸어가게', 4001: '늡', 4002: '깨서', 4003: '가곤', 4004: '일어나니까', 4005: '활기차네요', 4006: '느무많음', 4007: '허십니다', 4008: '맞으려고', 4009: '찌르고', 4010: '이리저리', 4011: '씨름', 4012: '하더니', 4013: '밴드', 4014: '붙여주고', 4015: '가버리시네요', 4016: '놔주실', 4017: '라던가', 4018: '않나요', 4019: '그러더니', 4020: '가셨는데', 4021: '나쁘더라구요', 4022: '부턴', 4023: '맞지', 4024: '말아야겠어요', 4025: '상냥하신듯', 4026: '한데', 4027: '들어오시는', 4028: '차가운듯', 4029: '바꾸려던', 4030: '참에', 4031: '이동', 4032: '주지', 4033: '바른', 4034: '다독여', 4035: '올께요', 4036: '들렀어요', 4037: '만으로', 4038: '상주', 4039: '계신것도', 4040: '거저', 4041: '드는', 4042: '똑', 4043: '부러지고', 4044: '빠르세요', 4045: '친절하셔셔', 4046: '다니가', 4047: '좋으셨어요', 4048: '인식', 4049: '해주시구', 4050: '안되구요', 4051: '읽어', 4052: '멀긴', 4053: '귀찮', 4054: '하시', 4055: '태', 4056: '우는', 4057: 'ㅎㅋ', 4058: '괜찮을지도', 4059: '인기', 4060: '잡긴', 4061: '힘들긴', 4062: '별개', 4063: '묘', 4064: '웃김내용', 4065: '지과', 4066: '오고싶고', 4067: '개개인', 4068: '분류', 4069: '되있어서', 4070: '좋았슴', 4071: '덜딸', 4072: '그렇다', 4073: '한다해', 4074: '무통', 4075: '려고', 4076: '없더라구요', 4077: '식하시고', 4078: '살피', 4079: '해주시는거', 4080: '란트', 4081: '반년', 4082: '지났다고', 4083: '해보자고', 4084: '까지와', 4085: '받는것을', 4086: '두려워', 4087: '다독여주시며', 4088: '치료받게', 4089: '헤', 4090: '따뜻함', 4091: '치료받고싶은', 4092: '용기', 4093: '생겼습니다', 4094: '와같이', 4095: '드립니다내용', 4096: '낫', 4097: '청결하며', 4098: '정확하시고', 4099: '일거', 4100: '해마다', 4101: '항시', 4102: '고쳐주세요', 4103: '친절하셔', 4104: 'ㅕ', 4105: '우아', 4106: '박용현', 4107: '깍', 4108: '듯이', 4109: '계신다', 4110: '불필요하게', 4111: '잉', 4112: '주치이시다', 4113: '뛰어나요', 4114: '섬세해요', 4115: 'ㅇㅇㅇㅇㅇㅇㅇ', 4116: '환', 4117: '따뜻하시고', 4118: '명치', 4119: '결막', 4120: '모반', 4121: '했는', 4122: '섬세하게', 4123: '직후', 4124: '찍은', 4125: '충혈', 4126: '안보', 4127: '되었으면', 4128: '이길어요', 4129: '쌈', 4130: '녹내장', 4131: '의심', 4132: '같구', 4133: '환하게', 4134: '움직이는', 4135: '일산', 4136: '중화', 4137: '존경', 4138: '박민호', 4139: 'ㅇㅇㅇㅇㅇ', 4140: 'ㅇㅇㅌㅇㅇㅌㅇ', 4141: '공', 4142: '기압', 4143: '팩', 4144: '적외선', 4145: '불부', 4146: '김증', 4147: '기전', 4148: '유명하다는', 4149: '전전', 4150: '신념', 4151: '유착', 4152: '차단시켜', 4153: 'ㅇㅇㅇㅇㅇㅇㅇㅇㄹㅇ', 4154: 'ㄴㄴㄴㄴㄴㄴㄴㄴ', 4155: '좋아진', 4156: '향상', 4157: '조아지는게', 4158: '한다거', 4159: '간김', 4160: '놓아주십니다', 4161: '되고있어서', 4162: '만족하는', 4163: '10000', 4164: '유료', 4165: '생각나서', 4166: '해봤는데', 4167: '신세계', 4168: '내년', 4169: '만들수', 4170: '무늬', 4171: '없으신', 4172: '정확히', 4173: '짚어주시고', 4174: '지어주셔서', 4175: '됐지만', 4176: '뻐근할', 4177: '갔다오면', 4178: '고요하게', 4179: '쉬고오는', 4180: '일인실처럼', 4181: '분리', 4182: '되어있어서', 4183: '올만에', 4184: '좃', 4185: '봐쥬셔', 4186: '줄알', 4187: '겁나', 4188: '음성', 4189: '체적', 4190: '불친절했는데', 4191: '몰라도', 4192: '마찬가지', 4193: '필요하냐', 4194: '물어보니', 4195: '물어보시면', 4196: '물어봅니까', 4197: '간단한', 4198: '훌쩍', 4199: '넘고', 4200: '초에', 4201: '감염', 4202: '원해서', 4203: '왔나', 4204: '싶네요', 4205: '올거', 4206: '받겟다니까', 4207: '길고', 4208: '다시는안', 4209: '😢', 4210: '🥰😄😅😭👌', 4211: '😆', 4212: '벌', 4213: '습진', 4214: '가려울', 4215: '비싼듯', 4216: '보여도', 4217: '빠져요', 4218: '칠', 4219: '치실사', 4220: '용법', 4221: '할께요', 4222: '된건데', 4223: '좋았구요', 4224: '아팠던', 4225: '치료받는내내', 4226: '잇몸스켈링', 4227: '깨진', 4228: '받고있답니다', 4229: '담주에', 4230: '뵈요', 4231: '12월', 4232: '사후관리', 4233: '가보지', 4234: '않앗지만', 4235: '여기다니고', 4236: '💖💖', 4237: '방향성', 4238: '잡아주시는', 4239: '볼링', 4240: '치는', 4241: '볼러', 4242: '인서트', 4243: '붓거나', 4244: '비노', 4245: '오셔두', 4246: '될듯', 4247: '빠졌어요', 4248: '놓으시구', 4249: '다녀왔', 4250: '느넫', 4251: '들어주세요', 4252: '아픈데도', 4253: '짚어주셔서', 4254: '받고나면', 4255: '평안해', 4256: '맞이', 4257: '놓으시더라고요', 4258: '바랄게요', 4259: 'bb', 4260: '쥐', 4261: '이뻐지려면', 4262: '골고루', 4263: '주요', 4264: '짚어주셨고', 4265: '아깝지', 4266: '않았습니다', 4267: '귀찮니', 4268: '즘', 4269: '남기는데', 4270: '괘잉진료', 4271: '다니십니다', 4272: '좋아해요', 4273: '침착하고', 4274: '호흡기', 4275: '물치', 4276: '안온', 4277: '있어도', 4278: '결리고', 4279: '뭉치', 4280: '풀어지고', 4281: '뻣뻣했던', 4282: '된듯', 4283: '참지', 4284: '받는게', 4285: '되는거', 4286: '어질', 4287: '어질하여', 4288: '뇌', 4289: '제도', 4290: '개운해진거', 4291: '쥐어져서', 4292: '여기오니', 4293: '대번에', 4294: '잡아주시네요', 4295: '법', 4296: '사하니', 4297: '신기하고', 4298: '불친절해서', 4299: '만족하며', 4300: '삼대', 4301: '괜찮아져서', 4302: '신기하네요', 4303: '고은성', 4304: '세세하고', 4305: '아팠고', 4306: '상이', 4307: '마이', 4308: '협', 4309: '진해서', 4310: '알아봐주셔서', 4311: '다니도록', 4312: '개드립', 4313: '찾아오게되', 4314: '치료받으며', 4315: '거뜬히', 4316: '살아가고있습니다', 4317: '꼼꼼헤', 4318: '먹으면', 4319: '군', 4320: '아픈만큼', 4321: '아프지만', 4322: '반겨주십니다', 4323: '괜찮아졌어요', 4324: '했으나', 4325: '찾다', 4326: '한다면', 4327: '힘들지만', 4328: '열려있다니', 4329: '죽다', 4330: '살아났으니', 4331: '생일', 4332: '살아갈게요', 4333: '배우고', 4334: '부작용', 4335: '생기지', 4336: '지어주세요', 4337: '닫아서', 4338: '쓴다고', 4339: '가시는데', 4340: '깔끔함', 4341: '남태', 4342: '받고있는데', 4343: '할지도', 4344: '일러주시고', 4345: '뛰어나다셔서', 4346: '분석', 4347: '초등생', 4348: '무거웠던', 4349: '딸램', 4350: '공부', 4351: '좋아졌다고', 4352: '떠요', 4353: '남양주', 4354: '많고요', 4355: '키우면서', 4356: '종합병원', 4357: '더분에', 4358: '갔었네요', 4359: '아늑하고', 4360: '놓으세요', 4361: '결림으로', 4362: '오고싶은', 4363: '스윗', 4364: '다정다감', 4365: '친절하고요', 4366: '알아주시고', 4367: '친절하니까', 4368: '가시는', 4369: '관계', 4370: '나아졌습니다', 4371: '친절했다', 4372: '서툴', 4373: '레이져', 4374: '감전', 4375: '되는줄요', 4376: '변', 4377: '특', 4378: '착해서', 4379: '볼록하게', 4380: '올라온', 4381: '종이', 4382: '올라와서', 4383: '주신듯', 4384: '아팠지만', 4385: '절때', 4386: '않을것', 4387: 'ktx', 4388: '하신데요', 4389: '딱딱하게', 4390: '느껴질', 4391: '하네여', 4392: '북적', 4393: '쾌적하더라', 4394: '가발', 4395: '저렴하니까', 4396: '스킨', 4397: '부스터', 4398: '용할게요', 4399: '11월', 4400: '예비', 4401: '신부', 4402: '본식', 4403: '드레스', 4404: '이쁘게', 4405: '입으려고', 4406: '아무래도', 4407: '단기간', 4408: '빼기', 4409: '힘들어서요', 4410: '아팠어요', 4411: '겁쟁이', 4412: '윗쪽', 4413: '따끔', 4414: '거림', 4415: '중간', 4416: '아래쪽', 4417: '저번', 4418: '이더라구요', 4419: '빼주신', 4420: '생신', 4421: '만족하', 4422: '채워주고', 4423: '꿔', 4424: '줘야', 4425: '기다릴', 4426: '없', 4427: '입력', 4428: '불러주는', 4429: '했다는게', 4430: '이렇', 4431: '변해', 4432: '사는것이', 4433: '식당', 4434: '키', 4435: '오스', 4436: '크에', 4437: '잇고', 4438: '빌딩', 4439: '꽉차면', 4440: '대라고', 4441: '불가이거나', 4442: '되는데', 4443: '성형', 4444: '신선하네요', 4445: '들어가는데', 4446: '둘다', 4447: '하던지', 4448: '꺼낼', 4449: '걍', 4450: '섰는데', 4451: '척도', 4452: '이렇지', 4453: '어리고', 4454: '뚝뚝', 4455: '스킬', 4456: '어설프고', 4457: '복잡해서', 4458: '힘든데', 4459: '욕먹지', 4460: '격', 4461: '볼까', 4462: '짧은', 4463: '전투', 4464: '아는것도', 4465: '보였음', 4466: '괜찮았는데', 4467: '적인것', 4468: '압', 4469: '출', 4470: '가르킬려구', 4471: '다녀왔어용', 4472: '해주세용', 4473: '올듯', 4474: '친절하더라고', 4475: 'ㅜㅜㅠ', 4476: '메이퓨', 4477: '피코토닝', 4478: '같아용', 4479: '예술', 4480: '꺼진', 4481: '넘치지도', 4482: '부족하지도', 4483: '돌아간', 4484: '랑은', 4485: '최상', 4486: '비포', 4487: '동영상', 4488: '화질', 4489: '봐도', 4490: '구분', 4491: '체인', 4492: '고만고만한데', 4493: '하네', 4494: '좋은가', 4495: '놀랐음', 4496: '인간문화재', 4497: '신설', 4498: '맞나싶음', 4499: '친절했으면', 4500: '나시', 4501: '방어', 4502: '필요하여', 4503: '어마어마합니다', 4504: '올여름', 4505: '고마', 4506: '올라', 4507: '기고', 4508: '약품', 4509: '해주는데', 4510: '셃프', 4511: '띄게', 4512: '맑아진게', 4513: '별다른', 4514: '끝나는데', 4515: '이갈이', 4516: '심하다', 4517: '각', 4518: '코어톡스', 4519: '성도', 4520: '근무', 4521: '자신감', 4522: '상담사', 4523: '부담스러웠다', 4524: '10회', 4525: '끊어', 4526: '달려갔어요', 4527: '않거', 4528: '급하지', 4529: '이슈', 4530: '울트라', 4531: '샷', 4532: '환해져요', 4533: 'ldm', 4534: '맑아졌어요', 4535: '성능', 4536: '세안', 4537: '건조해진다고', 4538: '에비앙', 4539: '미스트', 4540: '뿌려주세요', 4541: '까진요', 4542: '혁명', 4543: '눕지', 4544: '해야하는게', 4545: 'cc', 4546: '살것', 4547: '횡설수설', 4548: '찰떡', 4549: '😝', 4550: '티나', 4551: '자연스러운', 4552: '뛰어남', 4553: '꼼꼼함', 4554: '턱끝', 4555: '해드렸어요', 4556: '돌아가는', 4557: '만족하시고', 4558: '보시네요', 4559: '가야겠어요', 4560: '저렴함', 4561: '모로', 4562: '만족스러웠음', 4563: '들어가서', 4564: '빨리할껄', 4565: '아플까봐', 4566: '한게', 4567: '후회될', 4568: '에드', 4569: '대박나세여', 4570: '예뻐요', 4571: '빨랐어요', 4572: '해달라고', 4573: '징징거렸는데', 4574: '진상', 4575: '이었음', 4576: '이었어요', 4577: '아팠구요', 4578: '볼록한건', 4579: '지나', 4580: '니깐', 4581: '들어가고', 4582: '이틀', 4583: '아저씨', 4584: '가져가면', 4585: '입출', 4586: '더러워짐', 4587: '관할', 4588: '캐비닛', 4589: '최소', 4590: '에서만', 4591: '걸린다', 4592: '시간관리', 4593: '웬만하면', 4594: '일정', 4595: '마구마구', 4596: '밀립니다', 4597: '기다리다', 4598: '잠듦', 4599: '좋냐고', 4600: '난다며', 4601: '해주더라고요', 4602: '저렴한데', 4603: '듀', 4604: '들면서', 4605: '얇아져서', 4606: '눈물', 4607: '찔끔', 4608: '났지만', 4609: '보자마자', 4610: '들어하는', 4611: '통한', 4612: '기다린', 4613: '뜨', 4614: '싼거만', 4615: '425000원', 4616: '긁고', 4617: '떠나서', 4618: '손맛', 4619: '달라져있음', 4620: '집중', 4621: '궁금한것에', 4622: '길게', 4623: '힘주고', 4624: '내리고', 4625: '아팠음', 4626: '부담스러', 4627: '나아서', 4628: '감사하여', 4629: '데리', 4630: '강화', 4631: '힘들어하던', 4632: '가볍고', 4633: '시원하다고', 4634: '온갖', 4635: '테스트', 4636: '해보시더니', 4637: '요추', 4638: '흉추', 4639: '치료받으라고', 4640: '8만원', 4641: '물어보더라구요', 4642: '받으라면서', 4643: '그건', 4644: '9만원', 4645: '없냐니까', 4646: '이냐', 4647: '그러지', 4648: '후배', 4649: '거짓', 4650: '오로지', 4651: '감사하다', 4652: '아픈치아가', 4653: '비싸도', 4654: '내부시', 4655: '설도', 4656: '인성', 4657: '갖춘', 4658: '2006년', 4659: '붙인', 4660: '금니', 4661: '붙여주셨습니다', 4662: '보살핌', 4663: '따뜻했습니다', 4664: '도나', 4665: '만족스러웠고', 4666: '찌릿찌릿하고', 4667: '신경통', 4668: '심해', 4669: '해서는', 4670: '갈꺼', 4671: '때매', 4672: '밝게', 4673: '꽤', 4674: '떨리고', 4675: '효진', 4676: '귀여우세요', 4677: '시린이', 4678: '완전히', 4679: '조만간', 4680: '왔었어야', 4681: '부러지는', 4682: '진행중', 4683: '걸리줄', 4684: '착하고', 4685: '라트', 4686: '떼운', 4687: '덮을', 4688: '필요없다구', 4689: '마음먹었어요', 4690: '뽑았어요', 4691: '아펐는데', 4692: '덜아퍼요', 4693: '중화동', 4694: '하겠', 4695: '포토', 4696: '하고싶지만', 4697: '특성', 4698: '하지는', 4699: '오고싶어요', 4700: '였고', 4701: '하고있는', 4702: '여로', 4703: '방면', 4704: '윗', 4705: '원했어요', 4706: '뗀', 4707: '떨어진', 4708: '깨졌네요', 4709: '딱딱한', 4710: '씹어', 4711: '대니', 4712: '깨지나', 4713: '덜덜', 4714: '임시', 4715: '댄', 4716: '붙어있었으면', 4717: '역대', 4718: '꼼꼼함을', 4719: '갔었', 4720: '읍니', 4721: '고등학교', 4722: '신다해', 4723: '아플수는', 4724: '없겠지만', 4725: '바뀌시면', 4726: '속상할거', 4727: '잔뜩', 4728: '무서워하고있어도', 4729: '달래주셔요', 4730: 'ㅋㅋㅋㅋㅋㅋ', 4731: '강북구', 4732: '매해', 4733: '갖지', 4734: '그럴', 4735: '편안했습니다', 4736: '이분', 4737: '맡기고', 4738: '찢어진', 4739: '바셀린', 4740: '발라주시고', 4741: '알보칠', 4742: '발라주시는', 4743: '솜씨', 4744: '알아듣기', 4745: '도와주십니다', 4746: '4월', 4747: '권하지시도', 4748: '요모조모', 4749: '나긋나긋하게', 4750: '개운한', 4751: '보셔서', 4752: '하실거', 4753: '갤러리', 4754: '아픕니다', 4755: '받으며', 4756: '씌우는', 4757: '퍼펙', 4758: '뽑으셔서', 4759: '거론', 4760: '쓰실수도', 4761: '있었을텐데', 4762: '잡아주시고', 4763: '있다니', 4764: '섬세하시고', 4765: '다정하세요', 4766: '뽑느라', 4767: '요기', 4768: '좋아하는', 4769: '예쁜', 4770: '변태', 4771: '자임', 4772: '암튼', 4773: '쟝', 4774: '💖', 4775: '🙂🙂', 4776: '늦은', 4777: '다녀야겠어요', 4778: '저렴하구요', 4779: '오고싶습니다', 4780: '엉망', 4781: '있는것은', 4782: '뽑기', 4783: '그나마', 4784: '하여요', 4785: '만족한', 4786: '아팠던거', 4787: '중요하지만', 4788: '들을수', 4789: '중요하다', 4790: '수도', 4791: '곤', 4792: '간것', 4793: '관계자', 4794: '뽑느게', 4795: '일케', 4796: '이네요', 4797: '노련하십니다', 4798: '젊으셔서', 4799: '선호', 4800: '셧', 4801: '없으', 4802: '적절하게', 4803: '아파해', 4804: '시름', 4805: '덜었습니다', 4806: '콕', 4807: '실오라기', 4808: '들렸습니다', 4809: '앉지도', 4810: '양원', 4811: '듣자마자', 4812: '터졌진거', 4813: '찍다고', 4814: '적중', 4815: '예의', 4816: '바르시고', 4817: '공손하시고', 4818: '이준석', 4819: '소문', 4820: '다닐게요', 4821: 'bcg', 4822: '홍쌤', 4823: '감사해용', 4824: '린', 4825: '잘맞는듯', 4826: '조용해여', 4827: '바꾸세요', 4828: '12시', 4829: '아파가지고', 4830: '1시', 4831: '바꿨다고', 4832: '500만', 4833: '나왔었거든요', 4834: '놀라서', 4835: '손댈', 4836: '써야', 4837: '바짝', 4838: '빋', 4839: '때웠던', 4840: '갔어용', 4841: '아니였어요', 4842: '양원역', 4843: '망우역', 4844: '맡기네요', 4845: '버는것', 4846: '살펴주셔요', 4847: '봐주서요', 4848: '차서', 4849: '뽑아야', 4850: '뽑는데', 4851: '웬걸', 4852: '따끔하고', 4853: '뽑는건', 4854: '끝났', 4855: '맛있는걸', 4856: '먹으려면', 4857: '갈수도', 4858: '아빠', 4859: '벌거', 4860: '치료받기', 4861: '계셔주셔서', 4862: '반면', 4863: '고지혈증', 4864: '후련', 4865: '차내', 4866: '망우동', 4867: '돌아', 4868: '댕', 4869: '겼어요', 4870: '지켜보자', 4871: '40', 4872: '짜리', 4873: '셀치', 4874: '경과', 4875: '지켜보자는', 4876: '권하셔서', 4877: '깜놀', 4878: '더해서', 4879: '한다더군요', 4880: '여기오길', 4881: '할꺼에요', 4882: '궁금해', 4883: '설', 4884: '맞아주셔서', 4885: '엄살', 4886: '쟁이', 4887: '만족스러웠어용', 4888: '치료받고나서', 4889: '공포', 4890: '줄었어요', 4891: '뽑지', 4892: '살릴', 4893: '해주시구여', 4894: '말끔히', 4895: '오래되었지만', 4896: '주셔요', 4897: '증상만', 4898: '하는건', 4899: '하겠어요', 4900: '약한', 4901: '딱딱한거', 4902: '씹지말라고', 4903: '각심', 4904: '갖게', 4905: '보여주고', 4906: '줗았어', 4907: '오래간만', 4908: '점검', 4909: '겠네요', 4910: '해주시느냐', 4911: '박슬기', 4912: '돼서도', 4913: '무서운', 4914: '금전', 4915: '더해졌는데', 4916: '불안해하는', 4917: '물어보시고', 4918: '싸우는', 4919: '잊었냐', 4920: '하냐', 4921: '나빴습니다', 4922: '만약', 4923: '시켜주는', 4924: '싸우러', 4925: '참나', 4926: '서럽고', 4927: '별꼴', 4928: '봤습니다', 4929: '따루', 4930: '짪으', 4931: '쫒기는', 4932: '하던', 4933: '망설이다', 4934: '정신과', 4935: '힘드신', 4936: '찾아가셔도', 4937: '후회', 4938: '없을듯', 4939: '계셔요', 4940: '1초', 4941: '걸린듯', 4942: '세계', 4943: '탑', 4944: '계세', 4945: '나가겠습니다', 4946: '줌', 4947: '사전예약', 4948: '기다리지도', 4949: '카카오', 4950: '톡', 4951: '사전', 4952: '잘생겨서', 4953: '편입', 4954: '받으려고', 4955: '들어갔을', 4956: '많더라고요', 4957: '본건데', 4958: '색도', 4959: '밝아져서', 4960: '뺀다고', 4961: '잠못', 4962: '이루고', 4963: '진통제', 4964: '먹었는지요', 4965: '너무나도', 4966: '사거리', 4967: '76', 4968: '생전', 4969: '뽑을', 4970: '예뿌', 4971: '꼬', 4972: '매주시', 4973: '못자고', 4974: '불편한데', 4975: '써주시던', 4976: '치과위생사', 4977: '퀄리티', 4978: '봐주는', 4979: '여자아이', 4980: '난리', 4981: '키즈', 4982: '동생', 4983: '않는거', 4984: '했늡', 4985: '디디', 4986: '착한거죠', 4987: 'ㅎㅅ', 4988: '하이', 4989: '오빠', 4990: '낙후', 4991: '뽑았는데', 4992: '잘뽑으셔요', 4993: '꼼꼼하', 4994: '있네여', 4995: '좋아지는것', 4996: '느껴요', 4997: '부족', 4998: '아슬아슬해요', 4999: '대체로', 5000: '기다린다는', 5001: '접수하자마자', 5002: '대게', 5003: '내버리잖아요', 5004: '아니었다', 5005: '능', 5006: '엠알', 5007: '이상무', 5008: '친저', 5009: '보안', 5010: '쓰고', 5011: '까칠합니다', 5012: '죄인', 5013: '된것', 5014: '같았습니다', 5015: '되어있네요', 5016: '회시', 5017: '들려서', 5018: '커피한잔', 5019: '릴렉스되', 5020: '편안해져서', 5021: '쾌차', 5022: '어둡고', 5023: '흉부', 5024: '손진', 5025: '멊', 5026: '다는데', 5027: '아플까', 5028: 'ㅎㅎㅎㅎㅎㅎ', 5029: 'ㅇㅋ', 5030: '가다실', 5031: '북부', 5032: '차비', 5033: '이었구요', 5034: '패임', 5035: '어쩌다', 5036: '여유도', 5037: '없는지라', 5038: '했다고', 5039: '편리한', 5040: '빠지는게', 5041: '잊지', 5042: '안압', 5043: '시설깨큿', 5044: '거나', 5045: '제시', 5046: '그려주면서', 5047: '도와주시는게', 5048: '용합니다', 5049: '하는듯', 5050: '헛걸음', 5051: '어차피', 5052: '겸사겸사', 5053: '다이소', 5054: '들르고', 5055: '상관', 5056: '살면서', 5057: '홈플러스', 5058: '있는걸', 5059: '허허', 5060: '긴건', 5061: '비애', 5062: 'ㅠㅡㅠ', 5063: '친하게', 5064: '모르지만', 5065: '합시다', 5066: '그게', 5067: '버', 5068: 'ㅡㅡㅋ', 5069: '져', 5070: '괴로운', 5071: '잡담', 5072: '하시느라', 5073: '에칭', 5074: '불편했고', 5075: '션', 5076: '쓰시', 5077: '혀', 5078: '에다', 5079: '대서', 5080: '적었습니다', 5081: '불만족', 5082: '스러운', 5083: '실망', 5084: '컸습니다', 5085: '주로', 5086: '재진', 5087: '남녀', 5088: '노소', 5089: '높고', 5090: '낮음', 5091: '적당한', 5092: '단지', 5093: '친절한게', 5094: '깨운하게', 5095: '어려운거', 5096: '죽', 5097: '먹겠습니다', 5098: '스펙', 5099: '박석', 5100: 'ㄷㄷㄷㄷㄷ', 5101: '뺐어요', 5102: '왔던', 5103: '솔직하게', 5104: '오는게', 5105: '중요하겠지만', 5106: '야한다면', 5107: '제한', 5108: '고기', 5109: '씹는', 5110: '대성공', 5111: '달라진게', 5112: '보일', 5113: '대응', 5114: '어려운', 5115: '대를', 5116: '수면', 5117: '생겼네', 5118: '귀엽네', 5119: '폭풍', 5120: '뽑아야하는데', 5121: '잇다고', 5122: '시림', 5123: '끝났으면', 5124: '겠네용', 5125: '햇던', 5126: '미리', 5127: '받으셨는데', 5128: '이셨더라구요', 5129: '쑥', 5130: '뽑아주셨다며', 5131: '엄지', 5132: '척', 5133: '주시더라구요', 5134: 'fm', 5135: '원칙', 5136: '지켜서', 5137: '해줘', 5138: '자상하세요', 5139: '잘못', 5140: '싸다', 5141: '24년', 5142: '보증', 5143: '함니다', 5144: '‘', 5145: '’', 5146: '꼼꼼하신', 5147: '딱딱해요', 5148: '핸드폰', 5149: '변해요', 5150: '많아도', 5151: '일까', 5152: '치료받았고', 5153: '써주시고', 5154: '해주신다고', 5155: '가겠습니다', 5156: '들겠다', 5157: '지켜보고', 5158: '하자고', 5159: '됬습니다', 5160: '안아퍼요', 5161: '바뀌셔서', 5162: '패인', 5163: '떼웠어', 5164: '되는거랑', 5165: '안되는거', 5166: '색깔', 5167: '이니', 5168: '미뤘던', 5169: '시렸는데', 5170: '시렸어요', 5171: '받을것', 5172: '다닐만큼', 5173: '아니지만', 5174: '믿을만한', 5175: '좋죠', 5176: '이사해', 5177: '선한', 5178: '교육', 5179: '받으셨나요', 5180: '고요', 5181: '모토', 5182: '알았습니다', 5183: '200', 5184: '도합', 5185: '알려주시는게', 5186: '열어서', 5187: '침상', 5188: '쓸건데', 5189: '사방', 5190: '꼼꼼하시구요', 5191: '기초', 5192: '왠만하면', 5193: '겉모습', 5194: '보지', 5195: '오세요', 5196: '갖추셨다고', 5197: '맞을것', 5198: '차분하시고', 5199: '도와주셔서', 5200: '많은지', 5201: '말씨', 5202: '형성', 5203: '내려주세요', 5204: '귯', 5205: '갔다고', 5206: '가정', 5207: '장닝', 5208: '스탈', 5209: '가지구', 5210: '다님니다', 5211: '받았오요', 5212: '젠틀', 5213: '상냥하고', 5214: '팩트', 5215: '잇게', 5216: '해주어요', 5217: '잘생긴건', 5218: '덤', 5219: '2분', 5220: '계시니', 5221: '엿', 5222: '가봐여', 5223: '환절', 5224: '기철', 5225: '디', 5226: '마나', 5227: '찍어주신', 5228: '잘해주시', 5229: '성심껏', 5230: '풀렸네요', 5231: '질거', 5232: '놔주고', 5233: '도스', 5234: '불편하다면', 5235: '불편함만', 5236: '없다면', 5237: '다닐수', 5238: '👍🏼', 5239: '💞', 5240: '놔', 5241: '슬픈', 5242: '보심', 5243: '꼼꼼하면서', 5244: '잘놓고', 5245: '고쳐요', 5246: '좋어요', 5247: '계시는', 5248: '리뉴얼', 5249: '이쁩니다', 5250: '찬절해', 5251: 'shfhr', 5252: '키좀', 5253: '작으', 5254: '전부터', 5255: '세지', 5256: '비해', 5257: '3시', 5258: '13', 5259: '14시', 5260: '민망하지', 5261: '생리통', 5262: '질염', 5263: '살아서', 5264: '들쭉날쭉한', 5265: '나은', 5266: '찾아보니', 5267: '없어졌더라구요', 5268: '낫지도', 5269: '방황', 5270: '개업', 5271: '중요한것만', 5272: '있는데요', 5273: '치료받으면서', 5274: '젊으시고', 5275: '가구', 5276: '궁금한것', 5277: '낫기까지', 5278: '걸리겠지만', 5279: '하나로', 5280: '쭈욱', 5281: '참이랍니다', 5282: '척척', 5283: '렵니', 5284: '철인', 5285: '잇', 5286: '종료', 5287: '직전', 5288: '발음', 5289: '정확하지', 5290: '물어봤는데', 5291: '답답한', 5292: '내시', 5293: '말안', 5294: '해주다가', 5295: '마니', 5296: '장애인', 5297: '우수', 5298: '설치', 5299: '싸고자', 5300: '다른거', 5301: '나와', 5302: '본적', 5303: '화면', 5304: '요금', 5305: '오해', 5306: '소지', 5307: '잘해줍니다', 5308: '신내', 5309: '신게', 5310: '느껴집니다', 5311: '신식', 5312: '호불호', 5313: '하시려는', 5314: '보였고', 5315: '친절했습니다', 5316: '바빠', 5317: '다운', 5318: '소리치시나요', 5319: '내면', 5320: '안되죠', 5321: '소리치며', 5322: '울어', 5323: '걸고', 5324: '안가네요', 5325: '앉으신', 5326: '졸고', 5327: '내시던데', 5328: '보는지', 5329: '모르겠습니다', 5330: '애초', 5331: '했다면', 5332: '일도', 5333: '없었겠죠', 5334: '없을것', 5335: '모르겠고', 5336: '알레르기', 5337: '타러', 5338: '있었는지', 5339: '빼주더니', 5340: '이물', 5341: '랍시고', 5342: '만삼천원', 5343: '받네요', 5344: '찍혀', 5345: '다쳤단', 5346: 'tt', 5347: '팔걸이', 5348: '하곤', 5349: '활동', 5350: '늦어져서', 5351: '임박', 5352: '도착', 5353: '싲니', 5354: '굳수', 5355: 'ct', 5356: '하는거에', 5357: '급속', 5358: '바뀌었다고', 5359: '쫌', 5360: '꼼꼼하십니', 5361: '딘', 5362: '사후', 5363: '무리해서', 5364: '슬픈거', 5365: '귀찮은', 5366: '내색', 5367: '주시는게', 5368: '직업병', 5369: '말려서', 5370: '무겁고', 5371: '코끼리', 5372: '마리', 5373: '내려온', 5374: '느낌이였어요', 5375: '좋아질지', 5376: '몰랐는데', 5377: '좋아질거', 5378: '둡고', 5379: '굳어있어요', 5380: '앉아있는거', 5381: '이는데', 5382: '청소', 5383: '깄다', 5384: '걸리겠네요', 5385: '절대로', 5386: '친절한건', 5387: '기대하지', 5388: '받지도', 5389: '사무', 5390: '이렇다', 5391: '저렇다', 5392: '안좋으', 5393: '무표정', 5394: '😐', 5395: '멀더', 5396: '버티는', 5397: '있긴', 5398: '있겠죠', 5399: '비슷', 5400: '편인데도', 5401: '놓음', 5402: '불친절하던데', 5403: '친절하다는', 5404: '뭐징', 5405: '🤔', 5406: '왔을', 5407: '맞아야', 5408: '몰아가셔서', 5409: '친절하시고주말해', 5410: '도해', 5411: '휴일', 5412: '안가도', 5413: '잘해주시네요', 5414: '요가랑', 5415: '에어로빅', 5416: '수업', 5417: '쓰니', 5418: '온몸', 5419: '치료받고오면', 5420: '만해', 5421: '들께', 5422: '빨래', 5423: '쪼그리고', 5424: '엉', 5425: '덜하고', 5426: '바빠서', 5427: '심했었는데', 5428: '치료받고오니', 5429: '🤗🤗🤗', 5430: '깊어', 5431: '피는', 5432: '멈췄는데', 5433: '꼬매달', 5434: '성형수술', 5435: '붙이는', 5436: '테이프', 5437: '샤워', 5438: '안떨어진다고', 5439: '붙여주는데도', 5440: '붙여주셨는데', 5441: '떨어지네요', 5442: 'ㅈㅡㅎ', 5443: '로안', 5444: '파마머리', 5445: '좀있으신', 5446: '작은', 5447: '권해', 5448: '두려움', 5449: '커서', 5450: '심심하지', 5451: '지루하지', 5452: '살펴주셔서', 5453: '전담', 5454: '건강한', 5455: '가질', 5456: '🖤', 5457: '아프네요', 5458: '시켜주시구', 5459: 'ㅜㅜㅜ', 5460: '바쁘셨을텐데', 5461: '페셔널', 5462: '개도', 5463: '뽑는', 5464: '미루다가', 5465: '미뤘나싶을', 5466: '빠르고도', 5467: '쏙', 5468: '뛰어난', 5469: '훌륭하신', 5470: '계시다니', 5471: '천군', 5472: '마를', 5473: '얻은', 5474: '와야죠', 5475: '불편해요', 5476: '일찍이', 5477: '마치', 5478: '조곤조곤', 5479: '약사', 5480: '않게끔', 5481: '써주시네요', 5482: '옮긴', 5483: '나셨으면', 5484: '바꿔주세요', 5485: '가리면', 5486: '혼나요', 5487: '붓고', 5488: '둔해지는게', 5489: '줄어서', 5490: '보렵', 5491: '그로', 5492: '인한', 5493: '바꾸어야', 5494: '알려주셨습니다', 5495: '차례', 5496: '증세', 5497: '없어짐', 5498: '자상하시', 5499: '아프지말아야하는데', 5500: '원했습니다', 5501: '찝어주시고', 5502: '썪', 5503: '지켜보자하셨습니다', 5504: '사마', 5505: '다를수있다고', 5506: '안하시더라고요', 5507: '기계가있어서', 5508: '쵝', 5509: '여부', 5510: '참는다고', 5511: '구체', 5512: '발견', 5513: '가능하다하', 5514: '했었고', 5515: '단계', 5516: '드셨었는데', 5517: '드시고', 5518: '찌고있습니다', 5519: '강악', 5520: '안면', 5521: '쨋', 5522: '빼주셨어요', 5523: '반짝이는', 5524: '매니큐어', 5525: '칠해놓고', 5526: '맨손', 5527: '기구', 5528: '지고', 5529: '넣고', 5530: '하던데', 5531: '걸리', 5532: '적거', 5533: '려', 5534: '불편했음', 5535: '떨어지면', 5536: '어쩌나', 5537: '싶고', 5538: '되는지', 5539: '음식점', 5540: '지저분하게', 5541: '집게', 5542: '묶고', 5543: '네일아트', 5544: '오질', 5545: '시시콜콜', 5546: '이상한', 5547: '해댐', 5548: '봐주겠다는', 5549: '말겠다는', 5550: '모르겠음', 5551: '지셨어요', 5552: '많긴', 5553: '잘놓아주셔서', 5554: '인가요', 5555: '저만', 5556: '가까운데', 5557: '싶니다', 5558: '무신', 5559: '웃고', 5560: '떠드는건', 5561: '헤아려주시길', 5562: '적이네요', 5563: '인자하십니다', 5564: '화려하', 5565: '나긋한', 5566: '놀러', 5567: '있다길래', 5568: '들러서', 5569: '나갈', 5570: '칫솔', 5571: '해보려고요', 5572: '달래주셨어요', 5573: '식사', 5574: '떨어지는', 5575: '찔리던', 5576: '4시', 5577: '반이', 5578: '넘었는데', 5579: '없겠지', 5580: '한탄', 5581: '부근', 5582: '기쁜', 5583: '달려왔어요', 5584: '5시', 5585: '깔끔히', 5586: '부착', 5587: '케일', 5588: '부도', 5589: '올것', 5590: '비롯', 5591: '다니게', 5592: '28일', 5593: '때우신게', 5594: '빠지셔서', 5595: '살리기', 5596: '시원하더라구요', 5597: '만족스러웠', 5598: '무섭잖아요', 5599: '그랬었는데', 5600: '아닌게', 5601: '상쾌한', 5602: '안이', 5603: '일욜', 5604: '가니까', 5605: '쓰이고', 5606: '왔었는데요', 5607: '미뤄', 5608: '좋으셔서', 5609: '해주니', 5610: '잘생기신', 5611: '친절하시기까지', 5612: '원합니다', 5613: '행복합니다', 5614: '안전하고', 5615: '가치', 5616: '기안', 5617: '많으셨습니다', 5618: '팔이', 5619: '송원', 5620: '단순', 5621: '수단', 5622: '승전', 5623: '만하', 5624: '하는것부터', 5625: '역겹', 5626: '애매해', 5627: '꼈는데도', 5628: '멋있습니다', 5629: '꺼려하는데', 5630: '볼수있지만', 5631: '노후', 5632: '아닌데', 5633: '거칠어요', 5634: '짐짝', 5635: '퍽퍽', 5636: '바르셔서', 5637: '불쾌하고', 5638: '나빳어', 5639: '걷다가', 5640: '나쁘지', 5641: '불친절하다', 5642: '날개', 5643: '망우', 5644: '리까', 5645: '들어주시네요', 5646: '붙이', 5647: '들어주고', 5648: '들어가며', 5649: '햄스트링', 5650: '소요', 5651: '되었고', 5652: '김병', 5653: '실의', 5654: '매력', 5655: '긴머리', 5656: '터져서', 5657: '어보', 5658: '규', 5659: '꼬리뼈', 5660: '블럭', 5661: '블락', 5662: '뷰', 5663: '봬', 5664: '심하네요', 5665: '왔더니', 5666: '왔다고', 5667: '변덕', 5668: '부리는', 5669: '산돌', 5670: '있는것이', 5671: '든든합니다', 5672: '갈듯', 5673: '다양해요', 5674: '맞으로', 5675: '기어', 5676: '들어갔다가', 5677: '세면대', 5678: '할만큼', 5679: '드리며', 5680: '갈께요', 5681: '느낄', 5682: '느', 5683: '껴지게', 5684: '자격', 5685: '보유', 5686: '정직하시게', 5687: '갔구요', 5688: '갔던', 5689: '같은건', 5690: '이는', 5691: '좋아졌구요', 5692: '보았지만', 5693: '겠어요', 5694: '없으세요', 5695: '아담하고', 5696: '청결합니다', 5697: '단순한', 5698: '안전하게', 5699: '섬세하신', 5700: '해주세', 5701: '만든거처럼', 5702: '순하고', 5703: '디테', 5704: '일해', 5705: '나아지지는', 5706: '받을려고요', 5707: '오고부터', 5708: '잠들', 5709: '따뜻하고', 5710: '클래식', 5711: '음악', 5712: '미열', 5713: '잦아서', 5714: '일있으신', 5715: '와주셨어요', 5716: 'ㄷㅎ', 5717: '엄숙하고', 5718: '없으시다', 5719: '복약', 5720: '저런', 5721: '보는게', 5722: '좋겠다', 5723: '편안해졌습니다', 5724: '쓰는거라', 5725: '랍니', 5726: '\\U0001fae2', 5727: '네오', 5728: '동대문구', 5729: '다녔다가', 5730: '무앗', 5731: '💟', 5732: '해나', 5733: '야할지', 5734: '완벽했습니다', 5735: '정신의학', 5736: '과를', 5737: '해보는데', 5738: '카페', 5739: '놓고', 5740: '들어가게', 5741: '막상', 5742: '편해지더라구요', 5743: '나왔던', 5744: '이나마', 5745: '느껴서', 5746: '따라왔어요', 5747: '잘맞고', 5748: '통해', 5749: '자신', 5750: '분별', 5751: '어딜', 5752: '가든', 5753: '성격', 5754: '긍정', 5755: '깨끗하구요', 5756: '괜찮게', 5757: '침절', 5758: '정밀검사', 5759: '봐주셨어용', 5760: '모르겠어', 5761: '욯', 5762: '무섭다고', 5763: '발라주셨어요', 5764: '아픈것', 5765: '풀리고', 5766: '먹을것', 5767: '사가려고', 5768: '이마트', 5769: '유러', 5770: '유로', 5771: '될것', 5772: '예인', 5773: '유명하셔서', 5774: '다른데', 5775: '가볼', 5776: '묻지도', 5777: '따지지도', 5778: '항맥', 5779: '정맥', 5780: '해주셔', 5781: '♥️', 5782: '화타', 5783: '찝어주시는데', 5784: '고려', 5785: '코스', 5786: '이쁘시고', 5787: '보다는', 5788: '약했던것', 5789: '눌러서', 5790: '해줬으면', 5791: '장사', 5792: '생기는지', 5793: '주신답니다', 5794: '촘촘하', 5795: '완벽하게', 5796: '대접', 5797: '올수밖에', 5798: '됬어요', 5799: '환약', 5800: '치료받구', 5801: '달동', 5802: '나아지질', 5803: '가뿐한게', 5804: '신기해요', 5805: '삐었', 5806: '깊숙이', 5807: '꽂아주시는데', 5808: '다친', 5809: '닿는게', 5810: '모니터', 5811: '태블릿', 5812: '뻣뻣하게', 5813: '굳고', 5814: '시원하네요', 5815: '반했어', 5816: '다양하게', 5817: '비쌀줄', 5818: '알았는대', 5819: '갈거예요', 5820: '나른한', 5821: '찾아온만큼', 5822: '의몸', 5823: '시기', 5824: '먹습니다', 5825: '자상함과', 5826: '사모님', 5827: '방울', 5828: '낭비', 5829: '지어주시는', 5830: '약효', 5831: '받는듯', 5832: '감사히', 5833: '견딜것', 5834: '뻐근해서', 5835: '쑥뜸', 5836: 'bbb', 5837: '2시', 5838: '인들', 5839: '맞기도', 5840: '책자', 5841: '친절하죠', 5842: '사노피', 5843: '25000원', 5844: '도배', 5845: '한순간', 5846: '좋아지는게', 5847: '하고있답니다', 5848: '받앗는데', 5849: '나앗어요', 5850: '젊어서', 5851: '재는', 5852: '잴', 5853: '솜', 5854: '재야', 5855: '말씀드리는데', 5856: '체격', 5857: '쓴', 5858: '나빠하시네요', 5859: '나빠져요', 5860: '반성', 5861: '붉히면서', 5862: '나빠', 5863: '아니에요', 5864: '하신거고', 5865: '지적', 5866: '수긍', 5867: '모르는', 5868: '해주셨서', 5869: '상항', 5870: '감사하고', 5871: '들어주십니다', 5872: '갔었거든요', 5873: '많은거', 5874: '아는데', 5875: '감안', 5876: '대하시는거', 5877: '부리시고', 5878: '내쉬고', 5879: '서있는데도', 5880: '그러', 5881: '같더니', 5882: '바꿨네요', 5883: '맞춘', 5884: '꾸욱', 5885: '환해졌네요', 5886: '부시장', 5887: '귀합니다', 5888: '지켜', 5889: '줍시다', 5890: '좋이', 5891: 'ㅏㅇ', 5892: '안다니고', 5893: '굽어서', 5894: '쫙', 5895: '피고', 5896: '효가', 5897: '확실해요', 5898: '인천', 5899: '사는데도', 5900: '참잘', 5901: '짖었어요', 5902: '빠지는', 5903: '맞아주시는', 5904: '더불어', 5905: '먹', 5906: '먹하고', 5907: '심하고', 5908: '떨어져', 5909: '되었네요', 5910: '해주는게', 5911: '친절하셨던거', 5912: '갈수록', 5913: '내시는지', 5914: '청각장애', 5915: '아시면서', 5916: '섞인', 5917: '대하시네요', 5918: '전날', 5919: '낑낑대며', 5920: '진이더라구요', 5921: '문을', 5922: '개시', 5923: '인터넷', 5924: '13일', 5925: '31일', 5926: '진이던데', 5927: '살펴주십니다', 5928: '입냄새', 5929: '너무도', 5930: '때로는', 5931: '따끔한', 5932: '충고', 5933: '느낀다', 5934: '연신', 5935: '사과', 5936: '까지라도', 5937: '건강하셔서', 5938: '줄여주시길', 5939: '하나님', 5940: '개뿔', 5941: '된게', 5942: '회사', 5943: '순', 5944: '안약', 5945: '주더', 5946: '커졌다', 5947: '째야', 5948: '한다면서', 5949: '줬음', 5950: '나가면서', 5951: '필요없어요', 5952: '이러는데', 5953: '람', 5954: '바글바글', 5955: '파리', 5956: '날리는', 5957: '알겠음', 5958: '둣', 5959: '🐰✨✨', 5960: '언', 5961: '♥️♥️', 5962: '봐주시는것도', 5963: '좋지만', 5964: '기다리네요', 5965: '모낭', 5966: '유명해요', 5967: '정확해요', 5968: '쏘쑈', 5969: '☆', 5970: '아픈것도', 5971: '싫네', 5972: '달이', 5973: '돼가네', 5974: '지겨워', 5975: '오라는데', 5976: '나을까', 5977: '싸', 5978: '힘내자구', 5979: '아직도', 5980: '완전하게', 5981: '돌아오지', 5982: '나아가는가', 5983: '아프니', 5984: '깡', 5985: '안녕해야', 5986: '나았다', 5987: '방사선사', 5988: '봐주세', 5989: '히스', 5990: '불린', 5991: '오름', 5992: '찾는', 5993: '알겠네요', 5994: '유방', 5995: '만족스러운', 5996: '싶어서', 5997: '하시는것도', 5998: '뵀습니', 5999: '둔', 6000: '있었으면', 6001: '좋겠단', 6002: '지혈', 6003: '됐는지', 6004: '알아보다가', 6005: '유일', 6006: '무서워하니까', 6007: '충분히', 6008: '잃는', 6009: '보신다는', 6010: '적음에도', 6011: '불구', 6012: '피임', 6013: '비닐', 6014: '끼운', 6015: '라이너', 6016: '느림', 6017: '지킴', 6018: '분다', 6019: '잘해주시면', 6020: '감사하겠어요', 6021: '에서가', 6022: '깝', 6023: '다녀야겠네요', 6024: '궁금했던', 6025: '짚어', 6026: '쌤늘', 6027: '넓어서', 6028: '생겼데요', 6029: '기뻐요', 6030: '노산', 6031: '이쁜아가', 6032: '불친절하네', 6033: '금요일', 6034: '갑상선', 6035: '재검사', 6036: '불안하고', 6037: '무서', 6038: '웟', 6039: '친절하시겠지만', 6040: '🌟🧚\\u200d♂️', 6041: '습유', 6042: '배아', 6043: '이식', 6044: '바랍니다', 6045: '국', 6046: '애도', 6047: '둘째', 6048: '길지도', 6049: '래미', 6050: '힘든', 6051: '즐거운', 6052: '챙겨주시고', 6053: '살펴봐주셔서', 6054: '굿굿굿', 6055: '복잡하네요', 6056: '난자', 6057: '🙏🙏', 6058: '알려주시는', 6059: '분인것', 6060: '없으셔서', 6061: '불쾌해요', 6062: '잘알려주', 6063: '가고싶어요', 6064: '시끄럽지', 6065: '서로서로', 6066: '난소', 6067: '기능', 6068: '하고있는데', 6069: '초음패', 6070: '생겼네요', 6071: '다니다', 6072: '전원', 6073: '은결', 6074: '과만', 6075: '나온다면', 6076: '고조', 6077: '하고싶어요', 6078: '인공수정', 6079: '성공하고', 6080: '믿습니다', 6081: '해주고싶은', 6082: '가길지만', 6083: '쉴게요', 6084: '난저', 6085: '한두', 6086: '않으시지만', 6087: '희망고문', 6088: '발렛', 6089: '비싸요', 6090: '친절하지만', 6091: '대신', 6092: '기다려요', 6093: '편리하게', 6094: '기원', 6095: '따뜻해요', 6096: '허창영', 6097: '최화영', 6098: '부부', 6099: '되어주셔서', 6100: '성공할수', 6101: '찝어주셔서', 6102: '시도', 6103: '되었어여', 6104: '차피', 6105: '김주영', 6106: '슨상님', 6107: '나팔관조영', 6108: '정액검사', 6109: '타이틀', 6110: '무겁지만', 6111: '따뜻한것', 6112: '어려움', 6113: '깔끔하다', 6114: '7시', 6115: '반부터', 6116: '가능해서', 6117: '가능한게', 6118: '장점', 6119: '수술실', 6120: '맡은바', 6121: '언능', 6122: '천사', 6123: '만나고싶다', 6124: '않이', 6125: '부으셔', 6126: '가셔서', 6127: '중복', 6128: '의뢰', 6129: '차병원', 6130: '가까워요', 6131: 'ㅂㅌㅇㄴㄷ', 6132: '나쁜', 6133: '냉이', 6134: '맞아라', 6135: '봐라', 6136: '없을거', 6137: '같', 6138: '갈껄', 6139: '빠짐', 6140: '\\U0001f979\\U0001fa77', 6141: '생겨도', 6142: '찜콩', 6143: '심니다', 6144: '닥', 6145: '어이없는', 6146: '중엽', 6147: '가상', 6148: '치의', 6149: '자상하시구', 6150: '일어날', 6151: '위험성', 6152: '의지', 6153: '교', 6154: '빼고싶어요', 6155: '무서워하는데도', 6156: '달래주시고', 6157: '기다려주세요', 6158: '기침', 6159: '15년', 6160: '책임져주시는', 6161: '좋겠습니다', 6162: '넣어줄', 6163: '넣어줘요', 6164: '노아요', 6165: '낳아주세요', 6166: '용하십니다', 6167: '알아보고있었는데', 6168: '가야면', 6169: '좋을꺼', 6170: '꼼꼼하십니다', 6171: '놓으시는것', 6172: '틀니아주잘', 6173: '아니죠', 6174: '무거워', 6175: '주저앉앗다', 6176: '좋아졌다', 6177: '월요일', 6178: '맞아야겟다', 6179: '보낸', 6180: '부슬부슬', 6181: '내리네요', 6182: '비가오려나', 6183: '뻑뻑', 6184: '추워져', 6185: '무거워지네요', 6186: '다녀야겟어요', 6187: '일과', 6188: '버렷', 6189: '발걸음', 6190: '가법', 6191: '쥰비할', 6192: '잘맞았어서', 6193: '방뮨', 6194: '하규', 6195: '놀았더니', 6196: '쪄서', 6197: '방뮨했습니당', 6198: '마뮤리', 6199: '보았어서', 6200: '살찐', 6201: '빼러', 6202: '뺏던거', 6203: '도로', 6204: '쪄', 6205: '버려서', 6206: '그치만', 6207: '볼라구요', 6208: '호르몬', 6209: '월동', 6210: '킬로', 6211: '빠졌습니다', 6212: '돌아갔지만', 6213: '체지방', 6214: '돌려놓을', 6215: '💛', 6216: '해서도', 6217: '궁금한게', 6218: '많았고', 6219: '궁금했는데', 6220: '좋더라구요', 6221: '보이시', 6222: '갈지', 6223: '했는디', 6224: '됐으면', 6225: '좋겠는', 6226: '착용', 6227: '알아보려고', 6228: '적게끔', 6229: '맞춰주셔서', 6230: '들린거였는데', 6231: '무서워하는데', 6232: '마세여', 6233: 'ㅠㅠㅋㅋㅋ', 6234: '좋으시구', 6235: '하셨다고', 6236: 'ㅈㅎㅇ', 6237: '않게하세요', 6238: 'ㅊㄴ', 6239: 'ㅣㅛ', 6240: '죻으', 6241: '맞네요', 6242: '찾기', 6243: '힘들었던', 6244: '좋와', 6245: '맞앗는데', 6246: '놓아주셨어용', 6247: '친절한안내', 6248: '휴무', 6249: '친절하십시다', 6250: '혈관', 6251: '찾아주셔서', 6252: '🍀', 6253: '저해', 6254: '365일', 6255: '데노', 6256: '지냈어요', 6257: '인포', 6258: '습함', 6259: '흔적', 6260: '물살', 6261: '짝', 6262: '자국', 6263: '어플', 6264: '시간대', 6265: '기는', 6266: '봐주시는듯', 6267: '친절하네요', 6268: '이인식', 6269: '잦은데', 6270: '폰', 6271: '컵', 6272: '올려', 6273: '선반', 6274: '탈의실', 6275: '범승', 6276: '낯설고', 6277: '여성', 6278: '추워져서', 6279: '채', 6280: '지심', 6281: '가려움증', 6282: '보여', 6283: '내질', 6284: '따질려다가', 6285: '만큼이나', 6286: '이쁘신', 6287: '다녀오는', 6288: '하시던', 6289: '감사해서', 6290: '찾아갑니다', 6291: '지나도', 6292: '드려서', 6293: '셈', 6294: '힘드실텐데', 6295: '진맥', 6296: '비쌈', 6297: '갈라구', 6298: '용내용', 6299: '수치심', 6300: '줬으면', 6301: '좋겠음', 6302: '꺼', 6303: '👍👍🤭', 6304: '셋째', 6305: '비만', 6306: '받아주시고', 6307: '면서', 6308: '주시고요', 6309: '갈려고', 6310: '먹는것도', 6311: '군것질', 6312: '할려고', 6313: '해야겠더라고요', 6314: '💊', 6315: '잘수', 6316: '예민해', 6317: '지지도', 6318: '비싼거', 6319: '아니시고', 6320: '민망한', 6321: '좋았어용', 6322: '뽑음', 6323: 'ㅠㅅㅠ', 6324: '빠른가', 6325: '싶지만', 6326: '정현구', 6327: '믿으니까', 6328: '투머', 6329: '치하시지만', 6330: '없으셔', 6331: 'tmi', 6332: '사정', 6333: '맛있어요', 6334: '간사', 6335: '이모', 6336: '호선', 6337: '황송', 6338: '문의', 6339: '드렸을', 6340: '해주셨었는데', 6341: '여직원', 6342: '께서는', 6343: '포스트잍', 6344: '적어주셨습니다', 6345: '읽어주시며', 6346: '챙겨주셨습니다', 6347: '소중한', 6348: '요점', 6349: '해주면', 6350: '서술', 6351: '지루해요', 6352: '보건소', 6353: '아닌데도', 6354: '하시던데', 6355: '듣고있던', 6356: '피곤할것', 6357: '들하세요', 6358: '🙏🏻🙏🏻', 6359: '만들고', 6360: '비싸게', 6361: '예방주사', 6362: '5800원', 6363: 'ㄴ', 6364: '받고있습니다', 6365: '신체', 6366: '찍어주셔서', 6367: '풀렸는지', 6368: '솔솔', 6369: '신축', 6370: '쾌적하네요', 6371: '해당', 6372: '돌아왔는데', 6373: '일사천리', 6374: '가라앉고', 6375: '뭉쳐있는', 6376: '갔지만', 6377: '친절하셨는데', 6378: '여태껏', 6379: '조다', 6380: '도아', 6381: '조합원', 6382: '서한', 6383: '하신다고요', 6384: '교회', 6385: '건초염', 6386: '아파져서', 6387: '권사', 6388: '하시다', 6389: '되신', 6390: '드라마틱하게', 6391: '되셔서', 6392: '훨신', 6393: '부드러워지네요', 6394: '매일', 6395: '해보려구요', 6396: '띠', 6397: '용했는데', 6398: '화제', 6399: '챙겨주시네요', 6400: '아팠네요', 6401: '나았어여', 6402: '뽑아주세요', 6403: '했었나', 6404: '있을것', 6405: '다인', 6406: '김현주', 6407: '하셨던', 6408: '찾', 6409: '치료받고나면', 6410: '개운해', 6411: '그럭저럭', 6412: '괜춘', 6413: '👍👍👍👍👍', 6414: '좋으세여', 6415: '좋아져요', 6416: '우울했는데', 6417: '상냥한', 6418: '울컥', 6419: '했답니다', 6420: '나니', 6421: '치료받으니', 6422: '고쳐주시니', 6423: '지어주십니다', 6424: '어떠한', 6425: '피드백', 6426: '만주', 6427: '아닌지', 6428: '싶은데요', 6429: '모르겠네요', 6430: '하셨지만', 6431: '자존감', 6432: '낮추는', 6433: '하시더군요', 6434: '옮겼는데', 6435: '많긴한데', 6436: '들구요', 6437: '몰랐던', 6438: '아이고', 6439: '마셈', 6440: '심지어', 6441: '보자', 6442: '있었더라구요', 6443: '가시기', 6444: '좋아지네', 6445: '직', 6446: '방이', 6447: '똑닥', 6448: '친찰', 6449: '하기가', 6450: '친절하시다', 6451: '친절해용', 6452: '했던말', 6453: '해야하고', 6454: '스스로', 6455: '하셔야', 6456: '할듯', 6457: '좋은셔', 6458: '쉽고', 6459: '아프거나', 6460: '힘들데가기', 6461: '들어주어서', 6462: '좋고요', 6463: '좋더라', 6464: '하나같이', 6465: '유쾌하시고', 6466: '알겠어용', 6467: '😁👍👍👍', 6468: '❤️💕💕', 6469: '적었고', 6470: '넘었습니다', 6471: '편한하게', 6472: '🍀🍀🍀', 6473: '치석제거', 6474: '시원했어여', 6475: '\\U0001fa77', 6476: '💛💛', 6477: 'ㅎㅎㅎㅎㅎ', 6478: '깊숙히', 6479: '뽑으라고', 6480: '가능하다고', 6481: '치료받길', 6482: '했다는', 6483: '찾으시', 6484: '가보세요', 6485: '고쳐주셨', 6486: '😉\\U0001fae1', 6487: '아프셔서', 6488: '모신다음', 6489: '착하셔요', 6490: '거동', 6491: '부축', 6492: '가지만', 6493: '붙으신', 6494: '시원하구', 6495: '만족스런', 6496: '찜', 6497: '되진', 6498: '맞는듯', 6499: '5회', 6500: '닉네임', 6501: '바꿔서', 6502: '달아야', 6503: '젊었을', 6504: '나왔다고', 6505: '일색', 6506: '미적', 6507: '곱니다', 6508: '책임감', 6509: '엄청난', 6510: '완벽', 6511: '추구', 6512: '분이더군요', 6513: '청담', 6514: '땡', 6515: '할려다가', 6516: '는셈', 6517: '드라마틱', 6518: '만들어', 6519: '준다더니', 6520: '뱉은말', 6521: '지키는', 6522: '상남자', 6523: '열흘', 6524: '퍼진', 6525: '녹', 6526: '엇어', 6527: '진솔한', 6528: '정이', 6529: '해주셨던게', 6530: '기억나서', 6531: '붉고', 6532: '심해져서', 6533: '으로의', 6534: '잡아주셔서', 6535: '자면서', 6536: '핵심', 6537: '퍼지고', 6538: '꺼짐과', 6539: '연어리쥬란', 6540: '하겠다고', 6541: '꼼꼼하도', 6542: '스케', 6543: '설렁설렁', 6544: '닥털', 6545: '담배', 6546: '세세히', 6547: '아파트', 6548: '입주', 6549: '쭈', 6550: '욱', 6551: '고마우신', 6552: '란', 6553: '헐', 6554: '액', 6555: '명확한', 6556: '이참', 6557: '물어봄', 6558: '즣아', 6559: '협소해', 6560: '에만', 6561: '수천', 6562: '쓰면서', 6563: '미뤘습니다', 6564: '내준', 6565: '해줬어요', 6566: '정직하신', 6567: '어쩐', 6568: '물어보지도', 6569: '않았는데', 6570: '주신것', 6571: '해주시더니', 6572: '참된', 6573: '만난', 6574: '쓸대', 6575: '할것만', 6576: '돼셨지만', 6577: '살려서', 6578: '추워도', 6579: '갈수가', 6580: '맞구', 6581: '치료받는데요', 6582: '피곤', 6583: '해보', 6584: '보이셨는데도', 6585: '나온것', 6586: '복잡', 6587: '체형', 6588: '가능하다니', 6589: '비뚤게', 6590: '앉는', 6591: '버릇', 6592: '균형', 6593: '된다니', 6594: '풀어주시네요', 6595: '실손', 6596: '나비', 6597: '일못가고', 6598: '소화기', 6599: '약하니까', 6600: '안좋다고', 6601: '맨날', 6602: '먹지말라고', 6603: '몰래', 6604: '먹긴', 6605: '눈치', 6606: '먹겠어요', 6607: '써주시는거', 6608: '갑자', 6609: '고심', 6610: '이었던', 6611: '아프시게', 6612: '서는', 6613: '절약', 6614: '끝났다고', 6615: '체고', 6616: '조심하는게', 6617: '느껴지고', 6618: '먹으라고', 6619: '놔둔', 6620: '느껴지네요', 6621: '봐주십니당', 6622: '받을거', 6623: '보이지', 6624: '않네요', 6625: '명확하게', 6626: '치료받으려고', 6627: '안정', 6628: '찾을', 6629: '받을게요', 6630: '생기셨어요', 6631: '명함', 6632: '취저', 6633: '\\U0001fae1', 6634: '까지도', 6635: 'ㅈㅇ', 6636: '있아요', 6637: '넘치도록', 6638: '혼잡하니', 6639: '서두르세요', 6640: '늘어', 6641: '린아', 6642: '들이', 6643: '많은걸', 6644: '찾게되', 6645: '놀랐습니다', 6646: '편안해지는', 6647: '있으시고', 6648: '지나칠', 6649: '뻔했던', 6650: '새것', 6651: '중요성', 6652: '씁니다', 6653: '만천원', 6654: '좋겠다고', 6655: '멍', 6656: '되나요', 6657: '통틀어', 6658: '싫으면', 6659: '두든가', 6660: '힘드셨겠지만', 6661: '띤', 6662: '편안함', 6663: '느끼셨던거', 6664: '많으시다', 6665: '불안한', 6666: '있으셨겠지만', 6667: '상냥하신', 6668: '사선', 6669: '생', 6670: '슬퍼하지', 6671: '않으셨습니다', 6672: '디닐', 6673: '노오', 6674: '튜', 6675: 'ㅜㅌ', 6676: '입덧', 6677: '힘들', 6678: '다녀욤', 6679: '들께서도', 6680: '왔어용', 6681: '찝어서', 6682: '프론트', 6683: '밝으시고', 6684: '틴', 6685: '열려있어서', 6686: '해여', 6687: '좋으셔요', 6688: '재밌어요', 6689: '불친절한', 6690: '나빠서', 6691: '돌아오게', 6692: '아무리', 6693: '아파도', 6694: '세히아러', 6695: '다녀왔던', 6696: '되었다', 6697: '급한데로', 6698: '심한지', 6699: '뭔', 6700: '심한건', 6701: '물어보니까', 6702: '드린다고', 6703: '받는다면', 6704: '나쁘셨는지', 6705: '맡으러', 6706: '안주시', 6707: '서주시', 6708: '온다고', 6709: '않았냐', 6710: '싸움', 6711: '하시는지', 6712: '맞춰가며', 6713: '했나', 6714: '방맛', 6715: '괞찬', 6716: '자상하고', 6717: '교통', 6718: '넓은', 6719: '1500원', 6720: '최애', 6721: '아작', 6722: '받고자', 6723: '찾아왔는데', 6724: '찾아온거', 6725: '달인', 6726: '이심', 6727: '맡기는', 6728: '끝내주려하', 6729: '아픈가', 6730: '받은건', 6731: 'ㅋㅋㅋㅋㅋㅋㅋㅋ', 6732: '않아도', 6733: '힐때', 6734: '쓰면', 6735: '슈슈슝', 6736: '가벼워진', 6737: '라니', 6738: 'ㅣㅓ', 6739: '배아러', 6740: 'ㅗ', 6741: '초어', 6742: '챙기며', 6743: '지어주시는것', 6744: '친잘힌', 6745: '자상한', 6746: '편아하고', 6747: '조절', 6748: '안되어서', 6749: '있는것', 6750: '님들', 6751: '어렸을', 6752: '중랑', 6753: '문자', 6754: '사러', 6755: '제품', 6756: '놔서', 6757: '편했네요', 6758: '한참', 6759: '넉넉하게', 6760: '사두', 6761: '든든하네요', 6762: '숨쉬기', 6763: '힘들어하고', 6764: '콧물', 6765: '숙면', 6766: '예민한것', 6767: '같고요', 6768: '거부', 6769: '가자고', 6770: '신나서', 6771: '나서요', 6772: '길어도', 6773: '책볼', 6774: '넓게', 6775: '지루해하지', 6776: '않고요', 6777: '만족하면', 6778: '살때', 6779: '다닌것', 6780: '현재', 6781: '먹어요', 6782: '먹이는게', 6783: '먹여도', 6784: '들었으면', 6785: '☺💖', 6786: '의향', 6787: '손병국', 6788: '다녀올', 6789: '초반', 6790: '친절하시더니', 6791: '지날수록', 6792: '변하시네요', 6793: '한결같지', 6794: '않으시고', 6795: '말아주세요', 6796: '한산하니', 6797: '작으세요', 6798: '바쁘네요', 6799: '서해', 6800: '주사기', 6801: '특이하다', 6802: '고행', 6803: '아프단', 6804: '얘길', 6805: '주사약', 6806: '들어가는줄도', 6807: '몰랐', 6808: '대요', 6809: '정산', 6810: '5월', 6811: '모신', 6812: '지났다', 6813: '요양', 6814: '괜찮음', 6815: '친절하시지만', 6816: '몇몇', 6817: '초진', 6818: '하더라도', 6819: '비쌉니다', 6820: '부의', 6821: '약인', 6822: '모르십니다', 6823: '너저분합니다', 6824: '오실', 6825: '볼수도', 6826: '편하네요', 6827: '먹던', 6828: '했었습니다', 6829: '일절', 6830: '받기로', 6831: '걸린거', 6832: '3만', 6833: '요구', 6834: '환불', 6835: '높으셔도', 6836: '다치는데', 6837: '막히게', 6838: '낫던', 6839: '맞자마자', 6840: '돌아갔던', 6841: '돌', 6842: '쥐어졌던', 6843: '주먹', 6844: '쥐어지고', 6845: '신기하더라고요', 6846: '사시', 6847: '뛰어나세요', 6848: '회전', 6849: '도전', 6850: '해볼', 6851: '그리', 6852: '있다는', 6853: '뻥', 6854: '심각하게', 6855: '아니라면', 6856: '달래주는게', 6857: '나쁜지', 6858: '지에', 6859: '맞추었어요', 6860: '써주신', 6861: '아니어도', 6862: '지나가면', 6863: '없었는지', 6864: '차이나네요', 6865: '저렴하면서', 6866: '해준다', 6867: '잘나요', 6868: '섬쇠', 6869: '받으려', 6870: '규모', 6871: '쾌적하게', 6872: '쓰네요', 6873: '시즌', 6874: '친절하며', 6875: '인자하시고', 6876: '섷명', 6877: '치절해', 6878: '안나아서', 6879: '온건데', 6880: '놀랬어요', 6881: '찾습니다', 6882: '오면서', 6883: '찾아보다가', 6884: '갔었어요', 6885: '해가면서', 6886: '받았을', 6887: '뻐근함이'}\n"
     ]
    }
   ],
   "source": [
    "# 사전화 확인\n",
    "print(nlp_tokenizer.index_word)"
   ]
  },
  {
   "cell_type": "code",
   "execution_count": 108,
   "metadata": {},
   "outputs": [
    {
     "name": "stdout",
     "output_type": "stream",
     "text": [
      "OrderedDict([('사가정', 6), ('모인', 1), ('이비인후과', 6), ('항상', 137), ('만원', 4), ('이다', 9), ('좋아요', 407), ('친절한', 60), ('진료', 656), ('감사합니다', 171), ('ㅇㅇ', 4), ('굿', 45), ('친절해요', 158), ('의욕', 1), ('을', 296), ('복', 1), ('돋아주십니다', 1), ('굳', 14), ('친절하게', 210), ('상담', 135), ('잘', 1041), ('해주네요', 2), ('ㄱㅅ', 1), ('진짜', 71), ('명의', 6), ('세', 12), ('요', 163), ('선생님', 491), ('이', 963), ('꼼꼼하세요', 12), ('설명', 339), ('해주시네요', 31), ('조', 5), ('아유', 1), ('김용민', 1), ('원장', 446), ('님', 522), ('신명호', 1), ('에게', 21), ('받았어요', 32), ('친절하시고', 348), ('도', 1067), ('해주세요', 137), ('병', 3), ('에', 541), ('대해', 32), ('하셔오', 1), ('ㅡ', 6), ('일반', 6), ('6', 8), ('인실인데', 1), ('다른', 90), ('병원', 263), ('보다', 47), ('입원', 13), ('실', 22), ('넓다', 1), ('선물', 8), ('물통', 1), ('양치', 1), ('세트', 1), ('간식', 3), ('수건', 1), ('받았다', 1), ('간호', 16), ('간병', 1), ('통합', 1), ('이라', 48), ('보호자', 4), ('없어도', 1), ('되고', 12), ('병실', 3), ('면회', 1), ('가', 461), ('안되서', 5), ('조용히', 1), ('쉴수있었다', 1), ('딱', 14), ('내', 54), ('스타일', 4), ('갈', 42), ('때', 141), ('쓰던', 2), ('허리', 57), ('보호대', 2), ('는', 162), ('갖고', 1), ('가보길', 2), ('권장', 1), ('내용', 196), ('더', 252), ('보기', 207), ('입니다', 130), ('치료', 581), ('기간', 5), ('개월', 11), ('넘어', 1), ('이제', 23), ('끝났네요', 1), ('마다', 55), ('묵묵히', 1), ('해주시는', 19), ('차근차근', 1), ('해주시', 65), ('실장', 17), ('에서', 117), ('해', 135), ('주시', 25), ('들', 362), ('다', 180), ('감사했습니다', 15), ('봉화산역', 1), ('근처', 42), ('어금니', 9), ('금', 4), ('가고', 4), ('크라운', 5), ('처리', 7), ('너무', 500), ('비싸다', 2), ('왠지', 1), ('믿음', 20), ('가지', 13), ('않는', 4), ('치과', 242), ('ㅠ', 33), ('아주', 44), ('여기저기', 8), ('아프네', 1), ('왜', 26), ('이렇게', 21), ('속', 9), ('썩이는걸', 1), ('까', 2), ('의사', 330), ('간호사', 279), ('친철해', 2), ('데스크', 45), ('친절하셔요', 19), ('를', 231), ('하세요', 32), ('친절히', 28), ('봐주세요', 72), ('친절하고', 306), ('과잉', 116), ('없고', 50), ('스캘링', 1), ('해요', 36), ('친절합니다', 39), ('검진', 66), ('건강검진', 13), ('하러', 22), ('갔는데', 55), ('직원', 156), ('은', 201), ('다리꼬', 2), ('고', 172), ('앉아서', 5), ('손님', 7), ('응대', 24), ('제대로', 13), ('안함', 1), ('어수선하고', 3), ('리가', 2), ('라', 30), ('저', 56), ('곳', 215), ('대기', 42), ('많으니', 1), ('저쪽', 2), ('가라', 3), ('그래서', 15), ('거기', 3), ('많다', 2), ('소변', 2), ('검사', 52), ('먼저', 7), ('해라', 1), ('정말', 135), ('불쾌했음', 1), ('두', 42), ('번', 34), ('다시', 40), ('싶지', 2), ('않은', 7), ('불친절', 9), ('마음', 75), ('어', 11), ('들어요', 19), ('봐주십니다', 24), ('가까운', 9), ('자주', 35), ('이용', 30), ('합니다', 74), ('자세해요', 6), ('1', 27), ('화목', 1), ('토', 2), ('봐', 11), ('주심', 18), ('👍', 56), ('분들', 205), ('모두', 144), ('친절하셨어요', 11), ('긴장', 14), ('했었는데', 5), ('덕분', 28), ('받고', 125), ('갑니다', 51), ('👍🏻', 12), ('께서', 56), ('시설', 70), ('쾌적하고', 10), ('좋았습니다', 40), ('안', 209), ('하셔서', 26), ('대', 39), ('해주십니다', 68), ('아이', 57), ('초등학생', 2), ('부터', 53), ('다닌지', 2), ('14년', 1), ('됐는데', 5), ('한결', 13), ('같이', 21), ('해주셔서', 168), ('좋습니다', 61), ('정성', 7), ('다해', 3), ('해주시고', 112), ('해주어', 1), ('안심', 11), ('하고', 167), ('있습니다', 26), ('테니스', 3), ('웰', 1), ('보였는데', 1), ('많이', 109), ('좋아지고', 7), ('있어요', 40), ('되게', 8), ('친절', 81), ('자세', 5), ('하게', 57), ('팔꿈치', 4), ('아파서', 41), ('주', 33), ('일', 27), ('회', 1), ('씩', 8), ('주사', 59), ('맞고', 46), ('있는데', 16), ('효과', 80), ('괜찮은', 8), ('거', 32), ('같아', 9), ('꾸준한', 2), ('물리', 2), ('치료받으면', 1), ('서', 75), ('점저', 1), ('아음', 1), ('느낌니다', 1), ('팔굼치', 1), ('불', 2), ('폄', 1), ('했는데', 103), ('ㆍ', 11), ('근', 8), ('골격계', 1), ('통증', 72), ('있을', 14), ('받는', 10), ('정형외과', 20), ('인데', 64), ('이번', 27), ('엔', 14), ('손가락', 11), ('베', 1), ('여', 23), ('받았네요', 7), ('의', 106), ('세심', 44), ('정성스런', 1), ('상처', 3), ('아물어', 1), ('오늘', 65), ('실밥', 1), ('풀었습니다', 1), ('자세히', 40), ('핀', 2), ('절하', 10), ('시', 17), ('주십니다', 14), ('과', 148), ('분', 112), ('주아요', 1), ('침', 151), ('맞는거', 2), ('무서워', 4), ('자상하게', 4), ('주셔서', 40), ('감사해요', 26), ('좋아졌답니다', 1), ('조아요', 17), ('체', 3), ('해서', 67), ('속이', 3), ('부', 1), ('룩', 1), ('신약', 1), ('먹었더니', 1), ('완전', 36), ('편해졌어요', 3), ('특히', 17), ('추나', 21), ('시원합니다', 2), ('목', 32), ('이랑', 38), ('불편했는데', 2), ('한번', 36), ('시원해졌어요', 1), ('강', 11), ('추해요', 1), ('꼼꼼히', 81), ('나주시', 2), ('친절해서', 27), ('주차장', 8), ('없다는게', 1), ('흠', 1), ('이긴', 1), ('하지', 16), ('만요', 1), ('놔주시는데', 1), ('예전', 8), ('금액', 10), ('좀', 46), ('비싸졌네요', 1), ('친절하십니다', 44), ('봐주세여', 1), ('통원', 1), ('몇번', 4), ('대부분', 2), ('내시경', 13), ('내과', 21), ('쌤', 151), ('참', 14), ('친절하세요', 163), ('\\U0001faf6', 2), ('다녀왔어요', 14), ('넘', 78), ('좋으세요', 19), ('절대', 12), ('없으십니다', 1), ('어머니', 10), ('아버지', 5), ('할머니', 6), ('모시', 10), ('오고', 1), ('싶은', 9), ('같은', 18), ('경우', 2), ('더한', 2), ('보고', 30), ('많은', 16), ('비용', 17), ('청구', 4), ('하는데', 21), ('여기는', 13), ('그런거', 2), ('없어요', 17), ('어제', 5), ('치루', 3), ('수술', 20), ('박', 2), ('후', 50), ('아침', 8), ('퇴원', 1), ('집', 48), ('으로', 197), ('왔습니다', 15), ('조목조목', 1), ('편안합니다', 3), ('여러분', 3), ('께', 35), ('감사', 43), ('드립니다', 26), ('후기', 14), ('대로', 5), ('없네요', 9), ('최고', 50), ('선택', 11), ('였습니다', 4), ('👍👍👍', 3), ('치', 7), ('치핵', 1), ('4', 11), ('기', 33), ('했어요', 53), ('쏘', 6), ('동네', 41), ('큰', 10), ('독감', 27), ('접종', 12), ('왔어요', 39), ('컸는데', 1), ('안내', 28), ('빠르게', 17), ('귀가', 2), ('깨끗하고', 58), ('비도', 1), ('저렴해서', 1), ('계속', 38), ('다니려고', 1), ('적당합니다', 2), ('꼼꼼하게', 159), ('신경치료', 10), ('끝', 13), ('다음주', 7), ('마무리', 5), ('하는', 64), ('날', 17), ('대장정', 1), ('보입니다', 1), ('장님', 10), ('🥰', 3), ('주변', 16), ('소개', 21), ('할거예요', 1), ('임', 13), ('세번', 4), ('째', 15), ('다음', 36), ('마취', 30), ('무서워서', 4), ('떨면서', 2), ('끝났네', 1), ('턱', 6), ('약', 77), ('한', 107), ('편이', 4), ('여서', 7), ('에도', 37), ('물리치료', 52), ('했어용', 1), ('눈', 13), ('가리고', 1), ('꿀맛', 1), ('낮잠', 1), ('까지', 91), ('자고', 3), ('왔네요', 16), ('아프면', 10), ('인형', 2), ('누르라고', 1), ('주셨는데', 1), ('눌렀네요', 1), ('😉\\U0001faf0🏻', 1), ('휴', 5), ('가전', 1), ('끝나네요', 1), ('신나요', 1), ('기선', 2), ('처음', 81), ('전', 34), ('했던', 7), ('기억', 6), ('있어서', 39), ('했거든요', 1), ('그런데', 4), ('그렇고', 5), ('편하게', 27), ('믿고', 24), ('평생', 3), ('다녀도', 1), ('될', 7), ('예요', 22), ('🤭👍🏻', 1), ('방문', 207), ('재', 24), ('하겠습니다', 7), ('보아', 2), ('한의원', 88), ('ㅎ', 30), ('좋은', 52), ('재료', 2), ('로', 159), ('건강', 10), ('찾았어요', 3), ('예', 16), ('던', 2), ('모습', 12), ('니지', 1), ('만', 111), ('츤데레', 4), ('친철', 19), ('하셔요', 8), ('콧', 1), ('심한', 4), ('염증', 10), ('때문', 39), ('갔어요', 12), ('금방', 13), ('감사했어요', 10), ('가는', 30), ('처방', 39), ('받은', 9), ('보세요', 12), ('않아요', 11), ('에고', 1), ('코로나', 10), ('확진', 1), ('이네', 13), ('꼼꼼해요', 20), ('가요', 16), ('😀', 11), ('주세요', 22), ('들도', 14), ('변함', 4), ('없이', 67), ('그대로', 2), ('좋아여', 8), ('자세한', 15), ('친절함에', 2), ('편해요', 12), ('하시고', 41), ('치위생사', 28), ('ᆢ', 17), ('멀지만', 2), ('꼭', 20), ('가서', 20), ('입니다내용', 4), ('스케일링', 80), ('거평', 2), ('오래되었어요', 1), ('만성', 1), ('위장', 1), ('장애', 1), ('인해', 1), ('생활', 7), ('힘들어지면', 1), ('양약', 2), ('회복', 5), ('불가한', 1), ('걸', 15), ('보약', 8), ('먹고', 14), ('활', 1), ('력', 2), ('되찾', 1), ('고해', 3), ('너무나', 6), ('있는', 36), ('이기', 2), ('저희', 14), ('식구', 1), ('다니고', 26), ('있답니다', 1), ('오래', 29), ('되었지만', 2), ('받는거', 2), ('말', 49), ('할', 50), ('것', 89), ('놓아주셔요', 1), ('저렴하게', 6), ('받으', 1), ('세요', 1), ('진심', 17), ('이런거', 2), ('쓰는데', 5), ('쓰려고', 1), ('영수증', 7), ('챙겼어요', 1), ('ㅎㅎ', 79), ('오래오래', 5), ('번창', 7), ('했음', 4), ('좋겠어요', 11), ('어깨', 39), ('다쳐서', 5), ('오랜', 21), ('여전히', 3), ('꼼꼼한', 11), ('와', 57), ('소화', 2), ('안될', 1), ('나', 28), ('생리', 2), ('쪽', 11), ('안좋을', 3), ('한약', 13), ('부황', 1), ('뜨면', 1), ('건강해져요', 1), ('없어서', 23), ('오래된', 16), ('내공', 1), ('느껴져요', 3), ('팔', 8), ('저림', 1), ('봉침', 7), ('받았습니다', 37), ('같아서', 10), ('꾸준히', 25), ('받아', 23), ('보려고', 2), ('안좋아서', 6), ('여기', 113), ('먹었는데', 2), ('좋아졌어요', 26), ('삐끗', 5), ('치료받는', 3), ('중', 67), ('좋네요', 35), ('친절하셔서', 62), ('열정', 2), ('적', 65), ('이세', 7), ('ㅣ', 2), ('항', 2), ('외과', 7), ('맞나', 2), ('의심스러울', 1), ('정도', 34), ('실력', 46), ('형편', 1), ('없으시더라구요', 1), ('건성건성', 2), ('대충대충', 3), ('오진', 2), ('하', 31), ('심', 24), ('치열', 2), ('증상', 22), ('원', 19), ('햇', 5), ('으', 5), ('치질', 1), ('호전', 11), ('되질', 1), ('않아서', 10), ('일후', 1), ('길', 1), ('건너', 1), ('송도', 1), ('외과의', 1), ('받았더니', 1), ('보여주시며', 1), ('라고', 15), ('진단', 17), ('그', 32), ('받구', 2), ('좋아졌네요', 3), ('참고', 7), ('항문', 1), ('친절함', 10), ('아플', 9), ('비', 34), ('비싸서', 1), ('아쉽지만', 1), ('ㅇ', 5), ('자상히', 1), ('알려주시네요', 1), ('실내', 1), ('깔끔하구', 1), ('친절하시구', 15), ('환자', 77), ('알아주시구', 1), ('다정한', 2), ('덕', 6), ('뺠리', 1), ('치로', 1), ('되는', 16), ('느낌이네요', 1), ('아픈', 38), ('곳도', 5), ('물어봐', 1), ('무엇', 20), ('어른', 2), ('가세', 8), ('종종', 4), ('받겠다', 1), ('좋', 14), ('습니다', 4), ('올', 19), ('새로', 16), ('우리', 7), ('오픈', 10), ('경희', 1), ('금손', 3), ('결림', 1), ('심해서', 12), ('맛사지', 2), ('만으로는', 1), ('없는것', 1), ('들렀는데', 2), ('기본', 7), ('이고', 14), ('엎드릴', 1), ('배', 2), ('받침', 1), ('깔아주는', 1), ('센스', 6), ('감사했고', 1), ('부위', 19), ('핫팩', 1), ('부항', 3), ('뜸', 2), ('파스', 7), ('등등', 8), ('하루', 8), ('한방약', 1), ('포', 1), ('새', 3), ('감사한', 1), ('몸', 36), ('기분', 65), ('가뿐하게', 1), ('두번째', 7), ('끝나고', 4), ('나왔습니다', 4), ('지인', 25), ('추천', 96), ('드리고', 5), ('♡', 17), ('봐주셔서', 36), ('드려요', 17), ('깨끗해요', 8), ('듣는것', 1), ('같아요', 94), ('굿굿', 8), ('쥬', 1), ('ㅏ', 1), ('조어', 7), ('👌', 1), ('치료받고', 21), ('추석', 7), ('푸', 1), ('짐', 1), ('이라고', 6), ('주시네요', 9), ('가는데', 6), ('건물', 13), ('봄', 9), ('한테', 25), ('화', 6), ('타임', 2), ('아프게', 53), ('놓아주세요', 1), ('뵙겠습니다', 2), ('해주셨습니다', 8), ('사진', 6), ('처럼', 13), ('경옥고', 4), ('위', 8), ('물도', 1), ('주셨어요', 4), ('당분간', 4), ('전념', 1), ('생각', 43), ('손목', 15), ('받았는데', 31), ('치료받을', 4), ('환복', 1), ('옷', 3), ('준비', 5), ('되어', 15), ('좋았어요', 80), ('의료', 11), ('진', 14), ('들어주시고', 6), ('심히', 3), ('체질', 5), ('약과', 2), ('🙏', 3), ('교통사고', 3), ('후유증', 3), ('차', 14), ('하였어요', 1), ('평소', 5), ('불편한', 10), ('중상', 1), ('얘기', 13), ('답변', 4), ('스럽게', 6), ('해주셨어요', 43), ('남은', 1), ('부탁드려요', 4), ('놔주셔서', 6), ('나아졌어요', 3), ('봐주시고', 37), ('20', 2), ('대라', 1), ('가보는데', 1), ('발목', 8), ('맞는게', 2), ('좋다더니', 1), ('전문', 13), ('적임', 1), ('한의사', 8), ('좋으', 1), ('대한', 7), ('봤으나', 1), ('공감', 6), ('능력', 1), ('부족함', 1), ('좋고', 20), ('찾게', 4), ('돼요', 6), ('매번', 14), ('자세하게', 32), ('오른', 1), ('3회', 1), ('이후', 9), ('팔도', 1), ('올라가고', 1), ('줄어들고', 4), ('출산', 5), ('점점', 8), ('아파진', 1), ('와서', 8), ('치료받았는데', 3), ('시원해요', 2), ('😄', 8), ('편한', 7), ('받을수', 3), ('있어', 15), ('편안해서', 1), ('행해', 1), ('ㅈ', 4), ('침잘', 3), ('놔주세요', 5), ('몇', 16), ('년', 7), ('들립니다', 3), ('아픈데', 5), ('좋아짐', 1), ('맞아', 6), ('보는데', 2), ('시원함', 1), ('ㅋ', 12), ('저하', 1), ('해주십니당', 7), ('자세하고', 9), ('하시는것', 3), ('맞고와도', 1), ('있네요', 6), ('놔요', 1), ('친절하', 13), ('심다', 1), ('되요', 5), ('엄청', 60), ('가끔', 4), ('감', 9), ('친전', 2), ('먹어', 3), ('좋았음', 1), ('좋겠네요', 5), ('원할', 2), ('맞은', 3), ('지난주', 3), ('열심히', 18), ('운동', 10), ('알려주시고', 11), ('약재', 1), ('갖는데', 1), ('랑', 33), ('니까', 10), ('좋아', 6), ('졌어요', 2), ('면목역', 2), ('에서는', 6), ('제일', 15), ('하시는듯', 2), ('단골', 13), ('1년', 9), ('만에', 8), ('들렸어요', 1), ('좋아져', 1), ('왔는데', 30), ('😍', 1), ('ㅠㅠ', 50), ('상냥하시구', 1), ('아프지', 37), ('않게', 41), ('놓아주셨다', 1), ('맞고나서', 1), ('훨씬', 4), ('부드러워', 1), ('게', 46), ('살거', 1), ('같다', 4), ('담', 7), ('저장', 1), ('좋아용', 14), ('모호한', 1), ('상태', 20), ('구심', 1), ('해주시려는', 1), ('그리고', 26), ('깔끔하고', 35), ('조용하고', 7), ('찾다가', 6), ('갔', 1), ('는데', 11), ('만족해용', 1), ('서비스', 7), ('깨끗해서', 11), ('마지막', 8), ('방', 5), ('가습기', 1), ('같은거', 1), ('해주셨는데', 5), ('비염', 3), ('딱이라서', 1), ('찾고있었는데', 1), ('정착', 22), ('확실히', 10), ('감사합니당', 6), ('불량', 1), ('힘들었었는데', 1), ('깔끔해요', 7), ('또', 47), ('받아야겠어요', 1), ('쾌적한', 1), ('분위기', 26), ('여유롭게', 1), ('가능합니다', 3), ('시간', 50), ('간', 13), ('당하게', 1), ('맞춰서', 3), ('목뼈', 1), ('맞추고', 2), ('나서는', 1), ('뒷', 2), ('골', 1), ('당기는게', 1), ('뻐근한것도', 1), ('홍', 3), ('다녀', 19), ('하십니다', 5), ('야간', 8), ('침술', 1), ('좋아해서', 1), ('다녔는데', 8), ('수위', 1), ('다툴', 1), ('놓으십니다', 4), ('화침', 1), ('맞을', 7), ('어어어어', 1), ('나면', 5), ('우와', 3), ('아아', 2), ('강력', 4), ('리뷰', 37), ('별로', 14), ('반신반의', 3), ('하며', 5), ('모든', 22), ('굉장히', 11), ('친절하시구요', 4), ('오래전', 3), ('있었던', 2), ('같은데', 8), ('이유', 17), ('있었네요', 3), ('카드', 1), ('결제', 4), ('역', 2), ('연결해', 1), ('남겨', 5), ('봅니다', 9), ('이런', 25), ('봐요', 11), ('정확한', 6), ('확실한', 1), ('당연하고요', 2), ('아는', 4), ('사람', 48), ('인가', 5), ('잘놓는데', 1), ('어디', 4), ('냐', 2), ('하면', 14), ('묵동', 1), ('근방', 4), ('그냥', 19), ('가시', 2), ('무조건', 14), ('싶습니다', 2), ('6시', 2), ('가능한', 5), ('허튼', 1), ('데', 16), ('허', 3), ('접', 1), ('이나', 17), ('맞았는데', 9), ('여긴', 7), ('차원', 2), ('다르네요', 1), ('최신', 8), ('기계로', 3), ('깔아놓고', 1), ('홍보', 2), ('성', 6), ('블로그', 4), ('수', 49), ('왕창', 2), ('올려놓은데는', 1), ('피', 7), ('진정한', 1), ('방침', 1), ('원하신다면', 1), ('놓으셔서', 1), ('개인', 5), ('세게', 2), ('맞는', 8), ('좋아하는데', 2), ('제', 49), ('덩', 1), ('치가', 3), ('그런지', 11), ('알아서', 3), ('놔주시더라고요', 1), ('회복할', 1), ('같습니다', 9), ('여태', 1), ('다닌', 7), ('최강', 1), ('웬만한', 1), ('가느니', 1), ('해보세요', 1), ('다양한', 3), ('분야', 1), ('박학', 1), ('다식', 1), ('필요한', 20), ('부분', 26), ('감사합니', 3), ('있다', 6), ('수어', 1), ('진철', 3), ('보시', 6), ('다니는데', 5), ('맞아요', 8), ('조금', 18), ('늦게', 4), ('출근', 2), ('하시네요', 9), ('내부', 13), ('청결하고', 4), ('복용', 5), ('다닙니다', 6), ('일단', 11), ('가실', 1), ('있으면', 6), ('늘', 46), ('두려운데', 1), ('윈장님', 1), ('놓여서', 1), ('치아', 50), ('관리', 37), ('법도', 4), ('잘알려', 1), ('고맙습니다', 7), ('가봤는데', 7), ('해주시더라구요', 4), ('잘해주시고', 11), ('자세해서', 1), ('꼼꼼하고', 17), ('언제나', 13), ('봐주시', 1), ('기도', 8), ('애프터', 1), ('케어', 1), ('확실하게', 1), ('중요한', 3), ('위주', 3), ('잡아주시고요', 1), ('매우', 17), ('봐주고', 4), ('쉽게', 9), ('2년', 4), ('전에', 1), ('임플란트', 32), ('손', 19), ('기술', 2), ('좋으시고', 7), ('신속한', 1), ('치료받았습니다', 1), ('신경', 24), ('써', 3), ('해주고', 13), ('충치', 22), ('치석', 1), ('정리', 3), ('아프지도', 1), ('스켈', 4), ('링', 6), ('인지도', 2), ('모른', 1), ('인', 45), ('시리', 1), ('지', 17), ('않고', 25), ('상냥하게', 2), ('가본', 4), ('가장', 8), ('몆', 1), ('십년', 1), ('다니던', 13), ('역시', 15), ('주셨음', 1), ('만족해요', 6), ('샘', 55), ('♡♡♡', 2), ('옛날', 4), ('오랜만', 1), ('다녀왔음', 1), ('세라젬', 1), ('척추', 3), ('쭉쭉', 1), ('펴지는', 1), ('느낌', 30), ('구석', 3), ('시원하고', 4), ('놓습니다', 1), ('계신', 14), ('있는것도', 1), ('덴', 1), ('❤️', 5), ('물광', 1), ('침하', 1), ('니', 19), ('얼굴', 24), ('화사해졌네요', 1), ('산후', 2), ('다이어트', 7), ('하려고', 9), ('힐링', 2), ('에는', 16), ('무리', 4), ('않도록', 5), ('도움', 14), ('야한다고', 2), ('보려구요', 5), ('육아', 2), ('하다가', 9), ('힘들어서', 2), ('하나', 53), ('반짝', 1), ('힘나고', 1), ('심하여', 2), ('발바닥', 2), ('원했는데', 3), ('여러', 14), ('나서', 7), ('가벼워졌어요', 2), ('친질', 1), ('엄마', 15), ('만족하셔서', 3), ('얼른', 2), ('나았으면', 2), ('좋게', 20), ('연결', 1), ('된', 15), ('빨리', 15), ('낫는거', 1), ('바지', 1), ('입을수', 1), ('없을', 4), ('다리', 12), ('했습니다', 39), ('가볍게', 1), ('올라가네요', 1), ('거북목', 1), ('양쪽', 1), ('등', 7), ('아파', 13), ('온라인', 1), ('찾아간', 5), ('많이하고', 1), ('있었는데', 6), ('원인', 3), ('놓아주시는줄도', 1), ('모르게', 3), ('편히', 11), ('받았', 3), ('네', 30), ('용', 10), ('보다도', 3), ('따뜻한', 4), ('들어', 8), ('맘', 30), ('들었는데', 1), ('찜질', 4), ('잠깐', 3), ('신기하게', 4), ('거의', 14), ('느껴지지', 1), ('않아', 7), ('100', 5), ('프로', 3), ('안고', 2), ('나왔어요', 4), ('굿모', 1), ('의학', 2), ('와전', 1), ('강추', 6), ('입니당', 3), ('엘', 4), ('보우', 2), ('놓아주시고', 2), ('친절합니', 1), ('골반', 2), ('심한데', 1), ('부드러워졌답니다', 1), ('질병', 1), ('일자', 2), ('오랫', 4), ('했고', 8), ('최선', 3), ('돈', 13), ('나감', 1), ('굿모닝', 2), ('초등', 1), ('생인', 1), ('감기', 12), ('걸려', 3), ('순간', 2), ('무시', 1), ('자기', 7), ('멋대로', 2), ('면박', 1), ('주듯', 1), ('말씀', 24), ('어이', 3), ('상함', 1), ('이루말', 1), ('할수', 7), ('않을껍니', 1), ('의료행위', 1), ('서비스업', 1), ('느꼈었지만', 1), ('문', 6), ('닫혀', 1), ('급해서', 1), ('어쩔', 4), ('수없이', 1), ('했지만', 3), ('여전하네요', 1), ('분한', 2), ('풀리지', 1), ('남김니다', 1), ('시대', 1), ('바', 4), ('꼈습니다', 1), ('상대방', 1), ('배려', 13), ('좀더', 3), ('따뜻하게', 4), ('대하', 3), ('가져', 1), ('초', 3), ('진이었는데', 2), ('했을', 4), ('먹고있는', 1), ('있다고', 3), ('진찰', 13), ('겹', 1), ('친다고', 1), ('따로', 7), ('처', 4), ('방안', 1), ('해주신거', 4), ('신뢰', 19), ('갔습니다', 4), ('친절해여', 1), ('주신다', 1), ('무서워하지', 1), ('하시면서', 4), ('해주신다', 2), ('어린이치과를', 1), ('다니다가', 6), ('학교', 4), ('우연히', 6), ('했다가', 2), ('구강', 3), ('흔들리는', 2), ('발치', 25), ('땐', 7), ('젠', 9), ('옵니다', 4), ('🤩', 1), ('❤', 2), ('피부', 35), ('문제', 15), ('생겨서', 12), ('하시는', 15), ('한가해서', 2), ('볼수있었어요', 2), ('지켜봐', 1), ('야할거', 1), ('좋아욤', 1), ('카운터', 6), ('불친절해요', 3), ('꼼꼼하시고', 6), ('깨끗합니다', 2), ('작아서', 1), ('붐비는', 1), ('일찍', 6), ('가야', 4), ('추네요', 1), ('겉', 1), ('보이는', 2), ('간판', 2), ('깔끔했어요', 2), ('아말감', 1), ('깨져서', 5), ('갔는데도', 4), ('확인', 11), ('해보시고', 1), ('당장', 4), ('급한거', 1), ('아니라고', 2), ('간거라', 1), ('레진', 9), ('이든', 3), ('인레', 2), ('권유', 8), ('받을', 15), ('줄', 11), ('알았는데', 4), ('그런', 9), ('전혀', 16), ('없으셨습니다', 1), ('엑스레이', 9), ('찍고', 2), ('기계', 6), ('애기', 4), ('교정', 30), ('골든', 1), ('맞춰오세요', 1), ('아들', 10), ('변화', 4), ('감탄', 1), ('없어지고', 1), ('군데', 14), ('다녔지만', 2), ('찬', 2), ('ㅋㅋㅋ', 9), ('기기', 3), ('식', 11), ('전부', 8), ('보이', 4), ('다니려', 4), ('구', 11), ('뿌리', 2), ('많니', 1), ('짧아서', 1), ('유지', 6), ('장치', 3), ('제거', 10), ('빠질까봐', 1), ('걱정', 37), ('잡아주시면서', 1), ('해주셨어오', 1), ('바뻐서', 1), ('예약', 38), ('급하게', 12), ('바꾸는', 1), ('일이', 7), ('많은데', 8), ('9', 4), ('여아에요', 1), ('상악', 1), ('확장', 1), ('하기', 13), ('위해', 13), ('페이스', 1), ('마스크', 3), ('배열', 1), ('하기로', 5), ('대학병원', 11), ('결과', 10), ('동일한', 1), ('나오고', 2), ('계획', 4), ('들어가는', 2), ('비싸고', 1), ('다니기', 2), ('불편하고', 3), ('글로리', 1), ('합리', 13), ('진행', 26), ('그래도', 10), ('않았다면', 1), ('못', 36), ('했겠죠', 1), ('유치', 4), ('빼려고', 1), ('감동', 26), ('애가', 1), ('신기해', 1), ('였어요', 5), ('가성', 9), ('양심', 11), ('전희', 1), ('구안와사', 1), ('힘들다', 1), ('맞는것도', 1), ('무섭다', 2), ('그만', 2), ('싶다', 2), ('중요합니다', 1), ('잘해주셨어요', 2), ('겁', 7), ('내지', 1), ('마세요', 3), ('주치의', 7), ('자상해요', 2), ('2', 22), ('달', 8), ('혈압', 5), ('타러가는데', 1), ('친잘', 3), ('동', 7), ('의원', 11), ('써주셔서', 6), ('이지만', 6), ('괜찮아요', 9), ('오래되고', 1), ('봐주시나', 1), ('작으셔서', 1), ('알', 21), ('해주시는듯', 1), ('별루임', 1), ('보시는듯', 1), ('없는덴', 1), ('비싸기는', 1), ('이리', 1), ('비싼지', 1), ('찮아서', 1), ('짜증나서', 1), ('씀', 1), ('봐줘요', 3), ('잘놓아요', 1), ('음식', 4), ('맛', 3), ('그저', 4), ('네네', 1), ('김상준', 1), ('안녕하세요', 2), ('약물', 2), ('원하시면', 1), ('바뀌셨나', 1), ('새로오신', 2), ('메인', 1), ('자리', 9), ('오니', 3), ('스트레스', 4), ('사라졌어요', 2), ('이하', 3), ('동문', 1), ('20년', 3), ('공황장애', 1), ('나았지만', 1), ('불안', 4), ('끊었어요', 1), ('편해져요', 2), ('섬세히', 1), ('자세히게', 1), ('봐주시네요', 14), ('아껴주시네요', 1), ('정직하게', 1), ('찾으러', 1), ('멀리', 4), ('가도', 4), ('얼마나', 3), ('올까', 1), ('하면서', 18), ('없다는', 1), ('듣고', 5), ('행복하게', 2), ('나왔', 1), ('습', 13), ('니당', 10), ('중후', 1), ('친절하구요', 1), ('ㄱ', 1), ('친절함과', 1), ('멋있으신', 1), ('든다', 1), ('없으니', 1), ('왔었는데', 3), ('부기', 2), ('걸어다니', 1), ('가벼워졌습니다', 1), ('맞았더니', 1), ('좋아지는듯', 1), ('하네요', 14), ('감비환', 1), ('붓기', 3), ('빠지고', 2), ('변비', 1), ('현상', 1), ('없어져서', 4), ('보가', 1), ('애용', 2), ('넘어져서', 1), ('무릎', 7), ('타박상', 1), ('입고', 1), ('맞았네요', 1), ('편해져서', 2), ('내일', 4), ('엘보', 2), ('가아', 2), ('파서', 3), ('왔다가', 2), ('걸렸던', 1), ('맞고나니', 2), ('좋아지고있어요', 2), ('들두', 1), ('놔주시고', 5), ('친근한', 1), ('부와', 1), ('푸근한', 2), ('보고왔어요', 1), ('항생제', 4), ('무분별', 1), ('해주는', 10), ('차별', 1), ('인거', 2), ('세명', 2), ('받', 3), ('았', 2), ('되었습니다', 6), ('울', 5), ('경기', 1), ('있다는게', 1), ('감사할', 1), ('따름', 1), ('경력', 7), ('편안한', 14), ('포스', 2), ('넘치는', 1), ('용하시네요', 1), ('있다하면', 1), ('타', 6), ('신물', 1), ('났는데', 1), ('적정한', 1), ('해줍니다', 11), ('😊', 8), ('잘해주세요', 10), ('위생', 12), ('사분', 4), ('치실', 3), ('빠져서', 2), ('다행히', 3), ('맞아서', 3), ('스켈링', 18), ('가격', 27), ('가기', 4), ('가두려운', 1), ('추합니다', 7), ('표현', 1), ('없는', 11), ('안정감', 3), ('무한', 2), ('소아과', 14), ('첫', 24), ('옮겨', 2), ('봤는데', 14), ('길어서', 4), ('그렇지', 2), ('봐주시는', 9), ('안되고', 2), ('주차', 28), ('손녀', 1), ('딸', 2), ('예방접종', 8), ('하려', 1), ('이여', 1), ('습니', 1), ('성적', 2), ('판단', 1), ('빠르시고', 1), ('진로', 3), ('보습', 1), ('크림', 2), ('받으러', 31), ('다녕', 1), ('다녀요', 6), ('사마귀', 2), ('비슷한게', 1), ('보험', 10), ('되는건데', 1), ('다르게', 5), ('믿을수', 1), ('없네', 1), ('정직', 2), ('봐주시는거', 2), ('직접', 12), ('잘해주셔서', 7), ('이에요', 43), ('해줘요', 28), ('남자', 8), ('일전', 1), ('중화역', 5), ('갔다가', 7), ('생기', 2), ('…', 10), ('나름', 3), ('서치', 1), ('하여', 6), ('찾아갔는데', 3), ('거리', 8), ('있음에도', 1), ('찾아갑니', 1), ('시술', 61), ('뿐', 7), ('아니라', 12), ('만큼', 8), ('사랑니', 33), ('딸아이', 1), ('하려고요', 5), ('good', 4), ('친절하구', 3), ('ㅎㅎㅎ', 7), ('러너', 2), ('성지', 1), ('모자란', 1), ('있었어요', 7), ('적극', 5), ('업그레이드', 1), ('됐고', 1), ('많아요', 11), ('runner', 1), ('라면', 1), ('본인', 7), ('주법', 1), ('체크', 15), ('반드시', 1), ('수준', 2), ('아님', 1), ('그동안', 5), ('궁금점', 1), ('해소', 1), ('됨', 4), ('달리기', 1), ('매주', 8), ('기다립니다', 3), ('털어', 1), ('놓을', 1), ('에겐', 3), ('뇌파', 1), ('좋지는', 1), ('안하서', 1), ('필요할', 2), ('듯', 18), ('길어지네요', 1), ('그만큼', 3), ('심리', 1), ('안좋은', 3), ('생겨', 2), ('가벼운', 1), ('돌아왔어요', 2), ('지수', 2), ('심하진', 1), ('않은데', 3), ('받아야', 2), ('한다셨어요', 1), ('좋아지는', 3), ('편해지는', 3), ('김', 9), ('간단해요', 1), ('일주일', 7), ('나온답니다', 1), ('목요일', 1), ('신중히', 1), ('검색', 13), ('다려집니다', 1), ('과도', 2), ('친해져서', 1), ('편합니다', 2), ('조금씩', 5), ('나아지고', 2), ('있는거', 1), ('기다리게', 1), ('됩니다', 10), ('공황', 1), ('쌤듵노', 1), ('연휴', 3), ('아쉬울', 2), ('위안', 2), ('친절함은', 2), ('💜', 2), ('89090', 1), ('ㅜ', 10), ('아', 26), ('우울함', 1), ('좋아졌고', 1), ('에서의', 1), ('극복', 1), ('중이', 7), ('기대', 3), ('포근한', 1), ('좁다', 1), ('편도염', 1), ('심하게', 2), ('녹색병원', 4), ('생겼다고', 1), ('층', 13), ('무과', 3), ('접수', 19), ('수납', 9), ('하기도', 1), ('수월했고', 1), ('받기', 3), ('성의', 7), ('보는', 7), ('어디가', 3), ('불편한지', 1), ('조차도', 1), ('물어보는', 1), ('봐서', 7), ('당황', 5), ('스럽', 1), ('했구요', 2), ('뭔가', 5), ('무기', 1), ('“', 3), ('싫다', 3), ('”', 1), ('라는', 4), ('머릿속', 1), ('있는게', 2), ('느껴져서', 6), ('다시는', 5), ('동안', 19), ('참다가', 2), ('오는거니', 1), ('3', 23), ('보자고', 1), ('하더군요', 1), ('들리는', 1), ('아깝고', 1), ('아까우니까', 1), ('차라리', 1), ('뼈', 7), ('ㅜㅜ', 9), ('급여', 3), ('응급실', 3), ('봐주셨어요', 9), ('최소한', 2), ('5만원', 2), ('내고', 3), ('간다', 1), ('저렴하고', 10), ('피로', 1), ('골절', 2), ('과는', 9), ('먼', 5), ('이었지만', 1), ('운동선수', 1), ('문병원', 2), ('갔죠', 1), ('관심', 2), ('있게', 12), ('재활', 9), ('할수있는', 2), ('센', 1), ('타가', 3), ('함께', 8), ('할수있어', 1), ('좋으신', 5), ('팔다리', 1), ('저려서', 2), ('디스크', 12), ('초기', 1), ('라네', 1), ('아니였으면', 1), ('몰랐을', 1), ('뻔', 2), ('단순하게', 1), ('저리다고만', 1), ('앞', 41), ('건강해', 1), ('질께요', 1), ('편해서', 3), ('좋음', 9), ('왕', 4), ('도수', 32), ('다닐', 9), ('예정', 10), ('환갑', 1), ('시점', 1), ('아파지더라고요', 1), ('딸내미', 1), ('가보', 1), ('안좋으셔서', 2), ('봤었는데요', 1), ('연세', 12), ('있으신', 6), ('하라', 8), ('많았었거든요', 1), ('그러던', 1), ('와중', 4), ('시켜줘서', 1), ('멀었지만', 1), ('할수있다고', 1), ('받으셨어요', 1), ('지금', 10), ('좋아지셨습니다', 1), ('자체', 5), ('쾌적함', 2), ('끝판', 1), ('부모님', 7), ('추간판', 1), ('탈출', 1), ('증', 3), ('귄', 1), ('mri', 3), ('비급', 3), ('사라지고', 1), ('좋아진듯', 1), ('아픔', 4), ('겅진', 1), ('복부', 3), ('초음파', 8), ('민첩하십니다', 1), ('뒤', 11), ('와야겠어요', 4), ('젛아', 2), ('보셔요', 2), ('상세', 20), ('히', 12), ('자상하십니다', 1), ('물리치료사', 5), ('됐냐', 1), ('된거', 3), ('다시오라면서', 1), ('반말', 3), ('함', 12), ('나쁘게', 2), ('찍', 2), ('찍해', 1), ('대고', 1), ('개판', 1), ('잠', 3), ('못자서', 1), ('맞', 1), ('보았네요', 1), ('개운하고', 5), ('은줄', 1), ('몰랐네요', 1), ('상', 12), ('냥', 1), ('서도', 6), ('바로', 42), ('친절함의', 1), ('기준', 1), ('다르니까', 1), ('평가', 1), ('어떨지는', 1), ('모르겠지만', 2), ('느끼', 1), ('친절했어요', 4), ('옆', 4), ('아주머니', 2), ('좋았다고', 1), ('칭찬', 6), ('웃음', 2), ('나더라구요', 2), ('리', 4), ('셉', 1), ('스몰톡', 1), ('여자', 14), ('나았어요', 7), ('들어가자마자', 3), ('차분한', 2), ('불편하지', 3), ('하신게', 1), ('느껴졌어요', 1), ('이었는데', 8), ('친절하셨습니다', 3), ('지하철역', 1), ('버스', 1), ('정류', 1), ('정', 5), ('가까워서', 12), ('길찾기', 1), ('편했습니다', 2), ('좋아졌습니다', 4), ('지나가다가', 1), ('보았던', 1), ('꽃', 1), ('급체', 1), ('어지럽고', 1), ('정신', 5), ('없었어요', 5), ('\\U0001f979', 7), ('최근', 5), ('개원', 9), ('알고있는데', 1), ('내려갔어요', 1), ('다닐만', 1), ('놓으시는거', 1), ('아팠는데', 5), ('아프고', 19), ('개운하네요', 1), ('부담', 10), ('좋구요', 2), ('놔주십니다', 2), ('자상하시고', 2), ('돌도', 1), ('해주셔요', 12), ('휴가', 1), ('온', 20), ('아프고만', 1), ('가네요', 8), ('장염', 1), ('이라네요', 1), ('이기는', 1), ('다만', 7), ('아닌듯', 5), ('압출', 1), ('흉터', 1), ('살짝', 2), ('되긴', 1), ('비는', 2), ('비싼', 5), ('편인듯', 1), ('갈수', 2), ('좋랐어', 1), ('성심', 6), ('성의껏', 6), ('봐주시는게', 1), ('판매', 1), ('좋구', 2), ('괜차늠', 1), ('보시고', 2), ('친절하니', 2), ('그닥', 1), ('별', 6), ('루', 1), ('싹', 4), ('나아요', 2), ('가벼워집니다', 1), ('개운합니다', 2), ('개운해요', 2), ('좋아졌어용', 1), ('하고나면', 1), ('시원해졌네요', 1), ('예민한', 1), ('아픈거로', 1), ('가족', 16), ('있고', 12), ('면', 15), ('바로바로', 2), ('조치', 1), ('무서웠는데', 7), ('가겟습니다', 1), ('만족스러웠어요', 2), ('싶어요', 3), ('☺️', 6), ('해주신', 11), ('감사했구요', 1), ('들고', 3), ('고마웠습니다', 1), ('잇몸', 20), ('부어', 2), ('고생', 13), ('참다', 3), ('로비', 1), ('깔끔해서', 6), ('요새', 1), ('메이크업', 1), ('룸', 1), ('있더라구요', 1), ('아프', 1), ('감사함니다', 1), ('1시간', 3), ('보람', 2), ('😇', 1), ('다니는', 20), ('조카', 3), ('앞니', 2), ('데려왔는데', 1), ('티', 3), ('안나', 4), ('예쁘게', 3), ('좋아하네요', 2), ('사', 23), ('오겠다고', 1), ('뭐', 10), ('든', 3), ('😁', 2), ('하다', 7), ('가게', 7), ('되었는데', 3), ('꼼꼼해서', 2), ('매년', 4), ('하임', 2), ('다니구', 1), ('있', 4), ('욤', 3), ('지난번', 4), ('받아서', 11), ('데려와서', 1), ('잇솔질', 1), ('방법', 6), ('거울', 3), ('보며', 1), ('세세하게', 2), ('유익한', 1), ('정보', 1), ('됐네요', 1), ('형', 10), ('오랄', 1), ('전동칫솔', 1), ('모', 3), ('증정', 1), ('행사', 3), ('하고있어서', 1), ('득템', 1), ('돌봐주는', 1), ('찾고', 1), ('계시', 1), ('대기실', 3), ('예쁘고', 1), ('향기도', 1), ('독일', 1), ('오신', 1), ('무서워요', 2), ('인생', 6), ('차분하고', 6), ('하는것', 1), ('라도', 6), ('하는게', 7), ('중요하다고', 2), ('거든요', 1), ('썩', 1), ('이던', 1), ('이빨', 4), ('안아퍼서', 1), ('삶', 2), ('질', 3), ('달라졌어요', 1), ('vip', 1), ('및', 10), ('편안하게', 30), ('웃으면서', 1), ('나올', 3), ('있었습니다', 7), ('할거', 7), ('봐주셨습니다', 1), ('어린이', 1), ('급', 4), ('깨끗했어요', 2), ('권', 4), ('먹지', 1), ('미루고', 2), ('미루다', 1), ('개', 12), ('매복', 2), ('친절하셨고', 4), ('이었습니다', 5), ('인플란트', 4), ('번째', 7), ('뜨지만', 1), ('불편한건', 1), ('잘해주십니다', 3), ('오른쪽', 3), ('맨', 2), ('깨끗하게', 2), ('만족합니다', 20), ('불편함', 2), ('며', 4), ('쭉', 6), ('많으셔서', 2), ('상황', 3), ('간략히', 1), ('해줘서', 12), ('이해', 14), ('쉬워', 1), ('되니다', 1), ('와야', 1), ('칮절해', 1), ('도열', 1), ('좋으네요', 2), ('닥터', 2), ('이빈', 1), ('과로', 1), ('예방', 1), ('읽을수', 1), ('책', 2), ('많고', 6), ('즐겁게', 2), ('놀', 2), ('실바', 1), ('안도', 1), ('즐거웠네요', 1), ('놓아주셔서', 1), ('해야', 17), ('백신', 2), ('맞으러', 18), ('청각', 1), ('검', 3), ('사실', 4), ('보이길래', 1), ('보았습니다', 1), ('요즘', 7), ('이어폰', 1), ('인지', 12), ('나이', 7), ('청력', 2), ('같지', 1), ('않던', 1), ('보니', 12), ('됐습니다', 2), ('높아진거도', 1), ('모르고', 5), ('ㅊㅈㅎㅇ', 1), ('받는데', 3), ('ㅊㅊ', 1), ('놓주세요', 1), ('놓아줘요', 1), ('놓아요', 1), ('앉아있는', 1), ('그다지', 1), ('살', 11), ('갑지', 1), ('않으시네요', 2), ('긋', 1), ('학', 2), ('넓고', 13), ('쾌적해서', 2), ('다녀옵니다', 1), ('약국', 4), ('스벅', 1), ('서점', 1), ('있으니', 1), ('해주셨음', 2), ('왔는데요', 1), ('😊😊', 1), ('쾌적합니다', 1), ('좋았던거', 1), ('오전', 4), ('받으니', 5), ('오후', 10), ('나오네요', 1), ('급하신', 1), ('수액', 14), ('싶어', 5), ('느껴졌구요', 1), ('아늑한', 1), ('수고', 5), ('으론', 1), ('정함', 1), ('더플란트', 1), ('혼자', 1), ('하시나', 1), ('혼', 1), ('자시네요', 1), ('시려서', 3), ('깨끗', 5), ('절해', 1), ('남편', 7), ('버렸네요', 1), ('ㅊ', 2), ('입니', 3), ('댜', 2), ('뺐는데', 2), ('섬세하고', 4), ('해주었어요', 1), ('한지', 5), ('되었으며', 1), ('알려줘요', 1), ('기만', 1), ('되었음', 1), ('찾으시는', 1), ('as', 1), ('ㅈㅗㅁ', 1), ('센터', 2), ('보통', 12), ('빨라요', 4), ('많아서', 14), ('불친절하고', 6), ('기다리는걸', 1), ('당연하게', 1), ('대장', 1), ('하고도', 2), ('30분', 9), ('뒤에', 2), ('불러서', 2), ('내놓고', 1), ('할려면', 1), ('할려', 1), ('이러진', 1), ('않거든요', 1), ('왔고', 1), ('다신', 8), ('가려구요', 5), ('장소', 2), ('ㅅ', 2), ('친정엄마', 1), ('입맛', 1), ('없어', 8), ('드셔서', 1), ('링거', 1), ('맞았어요', 6), ('서울대', 2), ('출신', 3), ('34년', 2), ('됨됨이', 1), ('좋으십니다', 6), ('신', 7), ('해주셨으면', 3), ('공사', 1), ('늦었음', 1), ('큰일', 1), ('날뻔', 1), ('믿고가는', 2), ('아쉬운', 2), ('점', 20), ('정직한', 2), ('하신다는', 1), ('과대', 1), ('깎아', 1), ('먹은', 1), ('로는', 2), ('동산', 1), ('운영', 4), ('하시길', 4), ('상술', 1), ('고정', 1), ('공진단', 2), ('구매', 3), ('봐주시구', 1), ('요로결석', 1), ('잘나았습니다', 1), ('결석', 1), ('로테이션', 2), ('보는것', 1), ('없음', 7), ('비뇨기', 2), ('상봉', 8), ('괜찮고', 2), ('크고', 6), ('빠르고', 8), ('친절하다', 2), ('반해요', 1), ('서방', 1), ('아퍼서', 2), ('강남', 3), ('바가지', 1), ('많음', 2), ('삐', 1), ('혈', 2), ('해줌', 1), ('잘놓와', 1), ('십', 1), ('받았구요', 1), ('인상', 7), ('깊었어요', 1), ('치료받은데', 1), ('안마', 6), ('배드', 1), ('더라구요', 1), ('물', 4), ('침대', 5), ('쾌적해요', 6), ('얼마', 8), ('돼서', 7), ('친절하시네요', 14), ('뜬구름', 1), ('잡는', 1), ('만족', 17), ('잘맞았네요', 1), ('생겼다는', 1), ('건', 9), ('알고있었는데', 1), ('기존', 2), ('하지못하고', 1), ('할인', 2), ('한다는', 4), ('하였는데', 4), ('일하시는', 1), ('해보고싶다는', 1), ('들었습니다', 3), ('저렴히', 1), ('🙌', 2), ('임산부', 2), ('좋아진다는', 1), ('해보는거라', 1), ('조심스럽고', 1), ('아팠', 1), ('어요', 3), ('천천히', 4), ('써서', 9), ('평온해서', 1), ('뻔했어요', 1), ('ㅋㅋ', 15), ('낳고', 1), ('올려구요', 1), ('사가', 2), ('고민', 18), ('뵙게요', 1), ('다니던치과', 1), ('봐주셨던', 1), ('찾아', 3), ('뵙네요', 2), ('김지현', 1), ('받고나서', 1), ('찾아가요', 1), ('수기', 1), ('구로', 1), ('많지', 4), ('않으실거에요', 1), ('가깝진', 1), ('않지만', 3), ('치료받으러', 7), ('갈거', 3), ('대박나세요', 1), ('\\U0001faf6🏻', 3), ('원래', 7), ('촬영', 4), ('하였습니다', 4), ('이상', 11), ('대하듯', 1), ('조심', 2), ('스탭', 3), ('입구', 4), ('에서부터', 1), ('반겨주시는', 1), ('친근하게', 1), ('멀어도', 5), ('바뀐', 2), ('원하는', 1), ('전화', 5), ('정성껏', 5), ('했으면', 1), ('한다', 4), ('질의', 1), ('요청', 3), ('보라', 2), ('그렇다면', 1), ('지방', 2), ('서울', 6), ('가겠는가', 1), ('중심', 1), ('아마도', 1), ('당뇨', 3), ('발', 6), ('전국', 1), ('전문의', 7), ('계십니다', 1), ('부산', 1), ('길이', 1), ('쉽진', 1), ('친절함으로', 1), ('좋다', 3), ('있다면', 2), ('모델링', 2), ('주고', 1), ('충남대', 1), ('절단', 1), ('한다고', 11), ('좋아져서', 8), ('완치', 1), ('디앤', 1), ('에프', 1), ('오셨냐고', 1), ('오시', 2), ('봐야', 2), ('알것', 1), ('챙겨가세용', 1), ('하러가면', 1), ('부장', 1), ('웃는', 4), ('안부', 1), ('물어주고', 1), ('궁금하지도', 1), ('않을텐데', 1), ('일상', 2), ('물어가며', 1), ('아직', 6), ('누군가', 1), ('보고싶은', 1), ('이구나', 1), ('들게', 1), ('해준', 4), ('귀찮으니', 1), ('시키지말라는', 1), ('투', 2), ('들어서는', 1), ('반가운', 1), ('목소리', 6), ('반겨주는', 1), ('떠오르는것이', 1), ('미소', 6), ('했네요', 12), ('했었어요', 1), ('맙', 1), ('인공', 1), ('관절', 2), ('찾던', 2), ('소문난', 1), ('러스크', 2), ('택하', 1), ('되었어요', 4), ('훈남', 1), ('봐주셨고', 1), ('인실', 1), ('병동', 5), ('실과', 1), ('달리', 1), ('쾌적했습니다', 1), ('빈말', 2), ('보태', 1), ('호텔', 1), ('깔', 4), ('끔', 4), ('깔끔한', 4), ('디테일', 3), ('내내', 9), ('편하고', 6), ('오히려', 3), ('시절', 1), ('그리울', 1), ('혹시', 3), ('누가', 3), ('찾는다면', 1), ('치료받은', 1), ('레이', 1), ('떨어져서', 5), ('치료받았어요', 2), ('씌우기에는', 1), ('아깝다고', 1), ('우선', 4), ('때워주셨네요', 1), ('강요', 4), ('영업', 1), ('면목동', 3), ('죠', 6), ('한자리', 2), ('오랫동안', 7), ('있는데는', 1), ('있죠', 2), ('꼼꼼합니다', 2), ('친절합니다요', 1), ('조용한', 1), ('차분히', 6), ('믿는', 2), ('방역', 1), ('지켜지고', 1), ('줬어요', 1), ('용하는', 3), ('언니', 7), ('두통', 2), ('열', 8), ('인해서', 2), ('힘들었는데', 1), ('지어서', 1), ('먹었으면', 1), ('3일', 4), ('되도록', 1), ('똑같았을텐데', 1), ('봉', 1), ('고맙', 1), ('네요', 3), ('엥', 2), ('간하면', 1), ('남기지', 1), ('않는데', 1), ('넘나', 4), ('고마워서', 1), ('조아', 3), ('꼼꼼히잘', 2), ('정직하시고', 1), ('웃김', 2), ('입술', 5), ('너', 7), ('가려', 1), ('워', 3), ('들러야지', 1), ('무슨', 5), ('잔소리', 1), ('해주실가', 1), ('두근두근', 2), ('솔직히', 3), ('아쿠아', 2), ('필', 1), ('평균', 1), ('시세', 1), ('지만', 8), ('굿궁', 1), ('구천구백원', 1), ('총', 3), ('가봐요', 1), ('드렸는데', 2), ('봐주셨답니다', 1), ('변경', 1), ('도와주시고', 1), ('피부관리', 3), ('조아용', 1), ('바뀌셨다는데', 1), ('제로', 1), ('이드', 2), ('아토', 1), ('베리', 2), ('어도', 1), ('가능하고', 2), ('서류', 6), ('챙겨주십니다', 1), ('여드름', 1), ('편안해요', 4), ('알려주십니다', 1), ('아기', 4), ('좋아서', 11), ('가렵니', 1), ('ㅋㅋㅋㅋ', 3), ('글자', 1), ('적어', 1), ('아시', 3), ('마디', 2), ('세상', 5), ('박정', 1), ('관', 3), ('좋으시더라구요', 1), ('첫날', 1), ('음날', 1), ('2회', 1), ('올라가서', 1), ('안내지를', 1), ('내밀었는데', 1), ('고개', 2), ('돌리고', 1), ('떠들고', 1), ('있던', 1), ('민망해서', 1), ('서있었는데', 1), ('친절하시던데', 1), ('아쉽네요', 2), ('신지수', 2), ('났고싶네요', 1), ('백', 3), ('석호', 3), ('좋았', 3), ('새끼', 1), ('발가락', 2), ('튀어나오고', 1), ('소', 4), ('건막류', 1), ('안하게끔', 1), ('알려주셔서', 11), ('충격파', 10), ('갈게요', 3), ('네이버', 2), ('되서', 10), ('편한거', 2), ('해주시고요', 4), ('장수', 1), ('진원', 1), ('바르는', 3), ('의약품', 1), ('모르시고', 1), ('없다고', 3), ('시집', 1), ('서서히', 1), ('끊으려고', 1), ('왔다니까', 1), ('그렇게', 6), ('편', 7), ('먹는게', 1), ('덜', 4), ('해롭다고', 1), ('그것', 4), ('까지는', 2), ('전문가', 1), ('그러려니', 1), ('근데', 13), ('뭘', 1), ('받았는지', 1), ('봤더니', 1), ('굳이', 3), ('주셨더라고요', 1), ('2만원', 3), ('～', 1), ('보톡스', 24), ('해주냐고', 1), ('왓', 1), ('만족해하셔요', 1), ('다니려고요', 1), ('다정하시고', 1), ('이야기', 8), ('들어주셔서', 3), ('정신건강', 1), ('의학과', 4), ('떨렸는데', 2), ('다녀서', 1), ('받겠습니다', 1), ('김정우', 3), ('이라도', 4), ('코멘트', 1), ('하시며', 1), ('웃어주셔서', 1), ('웃네요', 1), ('작', 2), ('부탁', 1), ('솔직하게말', 1), ('할게', 3), ('들의', 1), ('달래고', 1), ('나옵니다', 2), ('조으세요', 1), ('드러', 1), ('하셧으', 1), ('여유', 2), ('남아', 1), ('돌아오는거', 1), ('아니니', 1), ('뀼', 1), ('한주', 1), ('시작', 12), ('원자', 1), ('분과', 3), ('제실', 1), ('지도', 4), ('이소정', 2), ('뵈러', 1), ('외래', 3), ('많으세요', 2), ('에가', 2), ('💕', 3), ('들어갈', 2), ('챙겨주시는', 2), ('원님', 1), ('살펴주시는', 1), ('조아룡', 1), ('많지만', 4), ('되네요', 5), ('갑', 3), ('of', 1), ('보십니다', 3), ('조아여', 2), ('마땅한', 1), ('이라지만', 1), ('싸가지', 2), ('더럽게', 1), ('보러', 2), ('하필', 1), ('바쁜', 3), ('왔냐고', 1), ('그러고', 1), ('쪼인트', 1), ('까이는', 1), ('보면서', 1), ('갈굼', 1), ('당하면서', 1), ('하는지', 7), ('안타깝고', 1), ('이러니', 1), ('떨어지는건', 1), ('당', 4), ('연', 1), ('지사', 1), ('최악', 5), ('태어나서', 1), ('리플', 2), ('보는거', 2), ('앉자마자', 1), ('연필', 1), ('깍지', 1), ('긁더니', 1), ('민감', 1), ('이라하고', 1), ('불친절한데', 1), ('비싸기까지', 1), ('그지같아도', 1), ('거길', 1), ('걸까', 1), ('길진', 1), ('선생', 3), ('해수시고', 1), ('비싸네요', 1), ('귀찮아서', 1), ('쓰기', 1), ('싫지만', 1), ('이미지', 2), ('말아먹네요', 1), ('친절한데', 3), ('끼리', 3), ('수다', 2), ('떠는', 1), ('오고싶게', 1), ('드', 4), ('떠드느라', 1), ('멀뚱멀뚱', 1), ('쳐다봄', 1), ('나오니', 1), ('호명', 1), ('아무', 3), ('처방전', 7), ('띡', 1), ('떠들기', 1), ('바쁨', 1), ('제발', 3), ('말고도', 1), ('비슷한', 1), ('많네요', 6), ('불친절하진', 1), ('않습니다', 4), ('놀라울', 1), ('더럽습니다', 1), ('링겔', 1), ('들어갔는데', 4), ('침구', 1), ('할것도', 3), ('창틀', 2), ('먼지', 1), ('사체', 1), ('정수기', 2), ('더러워서', 1), ('괜히', 2), ('의심스러', 1), ('움', 2), ('친절히잘', 2), ('음', 5), ('🙏🏻', 1), ('볼게요', 1), ('에게는', 2), ('비추라고', 1), ('가고싶지안음', 1), ('칼', 1), ('베서', 1), ('꿰맬수', 1), ('없다하구', 1), ('꿰매구싶음', 1), ('찾아가라', 1), ('불친절하구', 1), ('물어봤다구', 1), ('똑같은', 2), ('10', 5), ('번할까', 1), ('나도', 2), ('똑같이말하려다가', 1), ('될까', 3), ('나옴', 2), ('계산', 2), ('똑바로', 1), ('못해', 1), ('내려가다', 1), ('연락', 6), ('소독', 4), ('옴', 4), ('난', 3), ('아퍼', 1), ('죽겠는데', 1), ('안되는', 2), ('였나', 1), ('해주세여', 1), ('보시는거', 1), ('걸리시지', 1), ('되길', 2), ('이지함', 1), ('친절헤', 1), ('친젏해', 1), ('구리', 2), ('친절하시고요', 4), ('한마디', 1), ('하자', 1), ('외모', 2), ('미남', 1), ('되세요', 1), ('완화', 4), ('보았어요', 1), ('맞으면서', 1), ('머리', 5), ('아픈거랑', 1), ('나아지는', 1), ('받앗습니다', 1), ('편하죠', 1), ('일요일', 17), ('\\U0001f979\\U0001f979', 3), ('효', 2), ('임신', 5), ('곧', 2), ('주위', 5), ('분만', 2), ('하실', 1), ('욥', 1), ('ㅡㅡ', 5), ('시원한', 1), ('종합', 4), ('야해서', 1), ('마쳤습니다', 1), ('놀랐어요', 6), ('혈액', 2), ('포함', 4), ('시켜서', 1), ('신속하게', 4), ('쉬운', 1), ('용어', 1), ('하기에', 1), ('꾹', 1), ('누르고', 1), ('😃👍', 1), ('밝은', 3), ('인사', 6), ('보고가요', 1), ('바쁘', 2), ('신데도', 3), ('문진', 2), ('쉬', 3), ('잘생기시고', 1), ('친절하세용', 6), ('명도', 3), ('없었고', 1), ('해야한데', 1), ('갔고', 2), ('말투', 7), ('친절하진', 2), ('않았어요', 3), ('바뿌셔', 1), ('힘드셨는지', 1), ('한숨', 4), ('쉬시고', 1), ('어찌저찌', 1), ('됐다는', 1), ('하더라구요', 3), ('몇십', 1), ('들여서', 1), ('없었다는', 1), ('알아보고', 2), ('같네요', 8), ('이전', 8), ('건너편', 1), ('뺏을', 1), ('친절했는데', 1), ('이사', 6), ('정기', 21), ('주셨고', 3), ('작년', 6), ('어머님께', 1), ('받으시고', 2), ('료', 3), ('해주셨네요', 3), ('세분', 1), ('왼', 2), ('불편합니다', 3), ('분간', 2), ('호사', 2), ('못봣습니', 1), ('나머지', 1), ('웃으시고', 1), ('계시길', 1), ('바랏', 1), ('계실', 2), ('잇어서', 1), ('아쉽', 2), ('윈', 3), ('보조', 2), ('뮐', 1), ('물어보면', 1), ('단', 1), ('답', 2), ('대답', 4), ('감정', 2), ('은행', 1), ('톤', 3), ('결론', 1), ('홀', 1), ('울고싶어요', 1), ('여길와', 1), ('기다리지', 2), ('가능해요', 2), ('ㅠㅠㅠ', 4), ('시켜주시고', 3), ('빠르지만', 1), ('진찌', 1), ('시원해서', 1), ('가봣는데', 1), ('괜찮네요', 2), ('갑자기', 13), ('아팟는데', 1), ('갓', 3), ('들어용', 1), ('헸습니', 1), ('해보겠습니다', 1), ('전후', 2), ('만족스러워용', 1), ('\\U0001faf6\\U0001faf6', 1), ('뷰티', 1), ('전용', 1), ('건지', 6), ('질환', 1), ('아니면', 1), ('받는다고', 3), ('긴가', 1), ('민가', 1), ('해줘야', 1), ('좋아해야', 1), ('매달', 4), ('어르신', 6), ('가십니다', 1), ('그러니까', 1), ('어떻게', 11), ('야', 3), ('백내장', 2), ('여의사', 5), ('크게', 3), ('자세해', 1), ('주셨으면', 1), ('물어보는거에', 1), ('좋은데', 5), ('부담스러웠어요', 1), ('질문', 5), ('태토', 1), ('불쾌함', 1), ('인테리어', 5), ('다닐거', 1), ('약제', 3), ('되어서', 4), ('편했어요', 1), ('불친절하다고', 1), ('봐주시는데', 1), ('봤어요', 7), ('누워서', 2), ('면목', 4), ('산부인과', 11), ('이신', 7), ('시크', 2), ('하신데', 2), ('위치', 6), ('공차', 1), ('제야', 1), ('고수', 1), ('느낌이었어요', 2), ('공간', 4), ('협소', 1), ('더워요', 1), ('5', 8), ('살아이도', 1), ('성공했어요', 1), ('괜찮냐고', 1), ('물어봐주시고', 2), ('🤗🤗', 3), ('해주시면서', 4), ('친절하신', 17), ('구석구석', 1), ('청결하게', 2), ('스케줄', 1), ('맞혀', 1), ('날짜', 3), ('차분하게', 4), ('친절하여', 2), ('드림니다', 1), ('월', 3), ('다니고있습니다', 1), ('미주신경', 1), ('실신', 1), ('할지', 2), ('습관', 5), ('소견', 1), ('별도', 1), ('발급', 4), ('신상', 2), ('타인', 1), ('이름', 8), ('해주질', 1), ('않나', 2), ('황당', 1), ('주민', 4), ('번호', 1), ('병명', 3), ('아닌', 7), ('엉뚱하게도', 1), ('이름으', 1), ('되어있었음', 1), ('행정', 1), ('업무', 4), ('꽝', 1), ('나왔으면', 1), ('황당했을듯', 1), ('루안', 1), ('들으시고', 1), ('오', 3), ('해주', 6), ('전반', 5), ('편안하고', 5), ('약간', 3), ('만가', 1), ('약도', 12), ('좋았네요', 3), ('권하지', 3), ('물론', 3), ('해주는건', 1), ('상봉동', 2), ('묵은지', 1), ('로서', 1), ('테크닉', 1), ('훌륭하시고', 1), ('친절하시게', 2), ('지역', 2), ('민', 1), ('반겨주시네요', 1), ('3시간', 1), ('넘게', 5), ('해주시느라', 1), ('하셨습니다', 2), ('아가리', 2), ('찢어지는줄', 1), ('알았어요', 2), ('아무튼', 1), ('고자', 1), ('마스', 1), ('고압', 1), ('강압', 1), ('태도', 2), ('30년', 1), ('했', 2), ('마네', 1), ('푹푹', 2), ('쉬는데', 1), ('생긴', 4), ('가시는게', 2), ('나아', 1), ('보임', 1), ('비추', 3), ('싶으시면', 2), ('가보시는게', 1), ('친절하셔용', 2), ('비싸', 1), ('도안', 1), ('염', 3), ('맛집', 8), ('패키지', 1), ('상품', 1), ('다양하고', 2), ('이마', 9), ('마취제', 1), ('바르고', 2), ('난후', 1), ('10분', 4), ('누워', 2), ('있은', 1), ('움직이게', 1), ('기적', 9), ('편해', 2), ('욧', 1), ('😇😇', 1), ('주름', 3), ('이면', 1), ('동창회', 1), ('비결', 1), ('묻길래', 1), ('짱', 16), ('꾸', 1), ('준', 4), ('이해도', 1), ('살이안', 1), ('빠져', 1), ('사랑', 3), ('카복시', 1), ('대박', 3), ('콕콕', 1), ('집어', 1), ('할수있게', 2), ('호', 1), ('등록', 1), ('부탁드립니다', 2), ('친절하긴한데', 1), ('라텍스', 1), ('장갑', 2), ('켰으면', 1), ('합니당', 1), ('묵묵하니', 1), ('볼수록', 1), ('욕심', 2), ('제모', 1), ('찐으로', 1), ('‼️‼️', 2), ('토요일', 11), ('필수', 4), ('하신', 1), ('환하고', 1), ('즈', 2), ('입니디', 2), ('소중하게', 1), ('해주시는데', 5), ('과다르', 1), ('필요하지', 2), ('유도', 2), ('할부', 1), ('캐치', 3), ('해주시는게', 3), ('유목민', 1), ('스케일', 1), ('겸', 2), ('다녀왔는데', 6), ('부드럽게', 2), ('가글', 1), ('챙겨', 4), ('주신', 3), ('😭', 1), ('무서워하는', 2), ('여기라면', 1), ('있겠어요', 1), ('👍👍', 12), ('써주시며', 1), ('느껴지는', 1), ('행복한', 3), ('연말', 2), ('보내세요', 1), ('미', 4), ('유', 4), ('개운하게', 1), ('ㅏㄷ', 1), ('특유', 2), ('냄새', 4), ('들어가면', 2), ('나지', 1), ('좋았고', 2), ('귀엽고', 1), ('푹신푹신', 1), ('만족스러워요', 6), ('시린', 1), ('미루던', 1), ('목적', 2), ('좋았지만', 1), ('원내', 1), ('자연', 3), ('스', 2), ('례', 1), ('배어있는', 1), (\"'\", 12), ('마인드', 1), ('할까', 1), ('남기고', 3), ('브릿지', 1), ('있는듯', 1), ('퇴근', 4), ('급히', 1), ('들른', 1), ('과의', 1), ('대처', 1), ('차후', 1), ('또한', 1), ('새로운', 1), ('시스템', 3), ('느껴져', 2), ('왔답니다', 1), ('초심', 2), ('잃지', 2), ('남아주세요', 1), ('쵝오', 2), ('잘해주는', 1), ('편안히해', 1), ('우리동네', 3), ('플러스', 3), ('잘해주고', 4), ('다행', 6), ('때우는', 1), ('찌릿찌릿', 1), ('설겆이', 1), ('들과', 1), ('완', 1), ('되는것을', 1), ('느낄수', 1), ('찌릿', 1), ('아프구', 1), ('움직이길래', 1), ('만져', 1), ('문제점', 3), ('파악', 1), ('미친', 1), ('안되엇다', 1), ('기다리고', 2), ('사고가나서', 1), ('였답니다', 1), ('이차', 2), ('암', 3), ('깨끗했으며', 1), ('수라상', 1), ('주방', 1), ('식단', 1), ('고마웠답니다', 1), ('않', 1), ('힘들어하는', 1), ('자알', 1), ('일상생활', 2), ('지장', 1), ('없게', 2), ('건강하십시요', 1), ('패드', 1), ('환의', 1), ('쾌쾌', 1), ('개선', 2), ('되면', 3), ('좋을거', 1), ('4일', 3), ('당연히', 3), ('느껴졌습니다', 2), ('적당히', 1), ('넣어주셔서', 1), ('먹을', 3), ('이루어지고있어', 1), ('그때', 2), ('만들어주셔서', 1), ('먹을수있어요', 1), ('먹으면서', 1), ('치료받', 2), ('기를', 2), ('권해서', 1), ('저린것', 1), ('허리협착증', 1), ('아픈것까지', 1), ('거리를', 1), ('걸어', 1), ('가자면', 1), ('앉았다', 1), ('걸었는데', 1), ('걸어가게', 1), ('되었', 2), ('늡', 1), ('저녁', 2), ('2시간', 5), ('깨서', 1), ('화장실', 7), ('가곤', 1), ('푹', 2), ('일어나니까', 1), ('활기차네요', 1), ('갔을', 4), ('평일', 7), ('점심시간', 6), ('없습니다', 6), ('친절하세여', 2), ('느무많음', 1), ('허십니다', 1), ('친절하신데', 2), ('맞으려고', 1), ('왼쪽', 4), ('찌르고', 1), ('이리저리', 1), ('바늘', 2), ('움직', 2), ('이며', 2), ('씨름', 1), ('하더니', 1), ('밴드', 1), ('붙여주고', 1), ('가버리시네요', 1), ('오셔서', 2), ('놔주실', 1), ('라던가', 1), ('않나요', 1), ('그러더니', 1), ('가셨는데', 1), ('나쁘더라구요', 1), ('부턴', 1), ('맞지', 1), ('말아야겠어요', 1), ('밝고', 5), ('상냥하신듯', 1), ('한데', 1), ('들어오시는', 1), ('표정', 3), ('없으시고', 4), ('차가운듯', 1), ('친절해', 2), ('바꾸려던', 1), ('참에', 1), ('찾은듯', 2), ('에요', 18), ('사가정역', 5), ('지하철', 2), ('가까워', 3), ('이동', 1), ('편리하고', 2), ('주지', 1), ('치과의사', 2), ('빼', 2), ('미백', 3), ('바른', 1), ('하는데도', 2), ('다독여', 1), ('올께요', 1), ('들렀어요', 1), ('이벤트', 10), ('만으로', 1), ('상주', 1), ('계신것도', 1), ('거저', 1), ('드는', 1), ('없었는데', 2), ('하려구요', 3), ('서서', 2), ('똑', 1), ('부러지고', 1), ('빠르세요', 1), ('다닐것', 2), ('시려', 2), ('친절하셔셔', 1), ('다니가', 1), ('좋으셨어요', 1), ('해주셨고', 3), ('경험', 7), ('인식', 1), ('편안했어요', 2), ('엇', 3), ('간단히', 4), ('해주시구', 1), ('안되구요', 1), ('치료받았음', 2), ('맞았습니다', 2), ('글', 4), ('읽어', 1), ('멀긴', 1), ('귀찮', 1), ('긴한데', 2), ('하시', 1), ('태', 1), ('우는', 1), ('ㅎㅋ', 1), ('괜찮을지도', 1), ('인기', 1), ('잡긴', 1), ('힘들긴', 1), ('별개', 1), ('묘', 1), ('웃김내용', 1), ('지과', 1), ('오고싶고', 1), ('해주시는것', 2), ('올게요', 3), ('개개인', 1), ('분류', 1), ('되있어서', 1), ('좋았슴', 1), ('덜딸', 1), ('그렇다', 1), ('한다해', 1), ('뜻', 2), ('밖에', 2), ('무통', 1), ('실비', 2), ('려고', 1), ('없더라구요', 1), ('무섭지', 3), ('않을거', 2), ('식하시고', 1), ('살피', 1), ('아픈지', 4), ('지속', 4), ('체계', 3), ('해주시는거', 1), ('플', 3), ('란트', 1), ('반년', 1), ('지났다고', 1), ('해보자고', 1), ('공포증', 2), ('까지와', 1), ('서야', 2), ('받는것을', 1), ('두려워', 1), ('다독여주시며', 1), ('치료받게', 1), ('도와주시는', 2), ('헤', 1), ('따뜻함', 1), ('치료받고싶은', 1), ('용기', 1), ('생겼습니다', 1), ('와같이', 1), ('드립니다내용', 1), ('낫', 1), ('청결하며', 1), ('느끼지만', 3), ('정확하시고', 1), ('중랑구', 5), ('저렴한', 6), ('일거', 1), ('해마다', 1), ('쯤', 5), ('항시', 1), ('고쳐주세요', 1), ('친절하셔', 1), ('ㅕ', 1), ('우아', 1), ('박용현', 1), ('깍', 1), ('듯이', 1), ('계신다', 1), ('불필요하게', 1), ('잉', 1), ('맞춤', 2), ('주치이시다', 1), ('의술', 2), ('뛰어나요', 1), ('이를', 4), ('뽑아', 4), ('저렴', 3), ('섬세해요', 1), ('좋아오', 2), ('ㅇㅇㅇㅇㅇㅇㅇ', 1), ('환', 1), ('불안하지', 2), ('따뜻하시고', 1), ('명치', 1), ('결막', 1), ('모반', 1), ('했는', 1), ('재발', 2), ('건데', 3), ('섬세하게', 1), ('전이', 2), ('직후', 1), ('찍은', 1), ('충혈', 1), ('안보', 1), ('되었으면', 1), ('길어요', 5), ('이길어요', 1), ('쌈', 1), ('장비', 3), ('녹내장', 1), ('의심', 1), ('된다고', 6), ('괜찮다고', 2), ('런가', 2), ('없는거', 2), ('같구', 1), ('많았는데', 3), ('환하게', 1), ('보이네요', 2), ('움직이는', 1), ('체외', 4), ('일산', 1), ('중화', 1), ('존경', 1), ('박민호', 1), ('ㅇㅇㅇㅇㅇ', 1), ('ㅇㅇㅌㅇㅇㅌㅇ', 1), ('오면', 5), ('공', 1), ('기압', 1), ('마사지', 5), ('팩', 1), ('적외선', 1), ('전기', 2), ('불부', 1), ('수가', 2), ('의견', 2), ('경청', 3), ('여름', 2), ('남깁니다', 4), ('김증', 1), ('기전', 1), ('유명하다는', 1), ('전전', 1), ('신념', 1), ('매', 3), ('유착', 1), ('차단시켜', 1), ('ㅇㅇㅇㅇㅇㅇㅇㅇㄹㅇ', 1), ('ㄴㄴㄴㄴㄴㄴㄴㄴ', 1), ('좋아진', 1), ('향상', 1), ('닷', 2), ('하고있어요', 4), ('조아지는게', 1), ('한다거', 1), ('땜', 2), ('간김', 1), ('놓아주십니다', 1), ('되고있어서', 1), ('만족하는', 1), ('경차', 2), ('단술', 2), ('10000', 1), ('다녀왔습니다', 5), ('유료', 1), ('무료', 2), ('생각나서', 1), ('후다닥', 2), ('해봤는데', 1), ('신세계', 1), ('내년', 1), ('만들수', 1), ('있을거', 2), ('해야겠어요', 2), ('했더니', 6), ('비싸지', 3), ('그래요', 2), ('무늬', 1), ('없으신', 1), ('아쉬워요', 4), ('정확히', 1), ('짚어주시고', 1), ('지어주셔서', 1), ('며칠', 4), ('됐지만', 1), ('차도', 2), ('뻐근할', 1), ('갔다오면', 1), ('고요하게', 1), ('쉬고오는', 1), ('일인실처럼', 1), ('벽', 2), ('분리', 1), ('되어있어서', 1), ('올만에', 1), ('좃', 1), ('봐쥬셔', 1), ('줄알', 1), ('겁나', 1), ('음성', 1), ('체적', 1), ('불친절했는데', 1), ('몰라도', 1), ('둘', 2), ('불친절함', 2), ('와도', 3), ('마찬가지', 1), ('어떤', 3), ('필요하냐', 1), ('물어보니', 1), ('물어보시면', 1), ('그럼', 3), ('누구', 3), ('물어봅니까', 1), ('간단한', 1), ('나왔는데', 2), ('훌쩍', 1), ('넘고', 1), ('8월', 2), ('초에', 1), ('감염', 1), ('다녀온', 2), ('막', 2), ('원해서', 1), ('받으면서', 2), ('병행', 3), ('이제야', 2), ('왔나', 1), ('싶네요', 1), ('골다공증', 2), ('올거', 1), ('하는거', 2), ('받겟다니까', 1), ('길고', 1), ('다시는안', 1), ('😢', 1), ('🥰😄😅😭👌', 1), ('😆', 1), ('😂', 2), ('공장', 4), ('벌', 1), ('습진', 1), ('가려울', 1), ('사각', 2), ('맞음', 3), ('비싼듯', 1), ('지루', 2), ('피부염', 2), ('세밀', 5), ('많아', 4), ('보여도', 1), ('빠져요', 1), ('칠', 1), ('🤗', 2), ('다녔어요', 2), ('알맞게', 2), ('나중', 4), ('치실사', 1), ('용법', 1), ('해결', 3), ('할께요', 1), ('뽑아주셨습니다', 2), ('오게', 4), ('된건데', 1), ('좋았구요', 1), ('무', 5), ('가면', 5), ('아팠던', 1), ('치료받는내내', 1), ('잇몸스켈링', 1), ('깨진', 1), ('받고있답니다', 1), ('담주에', 1), ('뵈요', 1), ('12월', 1), ('사후관리', 1), ('가보지', 1), ('않앗지만', 1), ('3년', 3), ('여기다니고', 1), ('💖💖', 1), ('정확하게', 4), ('방향성', 1), ('잡아주시는', 1), ('볼링', 1), ('치는', 1), ('볼러', 1), ('약지', 3), ('인서트', 1), ('붓거나', 1), ('비노', 1), ('오셔두', 1), ('될듯', 1), ('빠졌어요', 1), ('놓으시구', 1), ('걸려서', 3), ('다녀왔', 1), ('느넫', 1), ('들어주세요', 1), ('아픈데도', 1), ('짚어주셔서', 1), ('나왔네요', 3), ('받고나면', 1), ('평안해', 1), ('집니다', 2), ('젊은', 3), ('맞이', 1), ('놓으시더라고요', 1), ('바랄게요', 1), ('bb', 1), ('쥐', 1), ('이뻐지려면', 1), ('집앞', 2), ('급할', 2), ('골고루', 1), ('다녔습니다', 2), ('주요', 1), ('짚어주셨고', 1), ('아깝지', 1), ('않았습니다', 1), ('귀찮니', 1), ('즘', 1), ('이라서', 2), ('남기는데', 1), ('인증', 2), ('괘잉진료', 1), ('다니십니다', 1), ('방과', 2), ('따라', 3), ('충', 2), ('받아요', 3), ('베드', 2), ('좋아해요', 1), ('침착하고', 1), ('핫', 2), ('호흡기', 1), ('불편하면', 4), ('물치', 1), ('해주시구요', 3), ('안온', 1), ('있어도', 1), ('결리고', 1), ('근육', 6), ('뭉치', 1), ('받고나니', 2), ('뭉친', 2), ('풀어지고', 1), ('뻣뻣했던', 1), ('된듯', 1), ('참지', 1), ('말고', 5), ('받는게', 1), ('되는거', 1), ('어질', 1), ('어질하여', 1), ('뇌', 1), ('영양', 2), ('제도', 1), ('개운해진거', 1), ('저리', 2), ('힘', 2), ('쥐어져서', 1), ('받다가', 4), ('여기오니', 1), ('대번에', 1), ('잡아주시네요', 1), ('법', 1), ('였는데', 8), ('신기했어요', 2), ('사하니', 1), ('터널', 2), ('증후군', 2), ('신기하고', 1), ('불친절해서', 1), ('가고싶지', 4), ('만족하며', 1), ('삼대', 1), ('갔었는데', 2), ('자극', 2), ('괜찮아져서', 1), ('신기하네요', 1), ('갈거에요', 2), ('심해지면', 2), ('뵐게요', 2), ('고은성', 1), ('세세하고', 1), ('아팠고', 1), ('에서도', 5), ('상이', 1), ('없다', 2), ('마이', 1), ('드디어', 4), ('협', 1), ('진해서', 1), ('알아봐주셔서', 1), ('다니도록', 1), ('노력', 2), ('할게요', 5), ('만점', 2), ('개드립', 1), ('이십', 3), ('찾아오게되', 1), ('치료받으며', 1), ('거뜬히', 1), ('살아가고있습니다', 1), ('맞게', 7), ('꼼꼼헤', 1), ('그리구', 2), ('먹으면', 1), ('군', 1), ('아프긴', 2), ('하지만', 6), ('아픈만큼', 1), ('아프지만', 1), ('반겨주십니다', 1), ('가깝고', 7), ('아프다고', 2), ('괜찮아졌어요', 1), ('했으나', 1), ('모를', 2), ('대충', 2), ('보건', 5), ('필요해서', 2), ('찾다', 1), ('한다면', 1), ('힘들지만', 1), ('당일', 2), ('열려있다니', 1), ('죽다', 1), ('살아났으니', 1), ('생일', 1), ('살아갈게요', 1), ('배우고', 1), ('부작용', 1), ('생기지', 1), ('지어주세요', 1), ('가던', 3), ('닫아서', 1), ('투석', 5), ('쓴다고', 1), ('끊고', 3), ('실로', 3), ('가시는데', 1), ('장례식', 3), ('장', 4), ('다녀옴', 2), ('깔끔함', 1), ('남태', 1), ('석', 3), ('교수', 3), ('받고있는데', 1), ('많으', 2), ('할지도', 1), ('일러주시고', 1), ('삼', 3), ('육', 2), ('뛰어나다셔서', 1), ('분석', 1), ('초등생', 1), ('무거웠던', 1), ('번만', 2), ('가려고', 2), ('딸램', 1), ('입시', 2), ('공부', 1), ('삼진', 3), ('좋아졌다고', 1), ('떠요', 1), ('남양주', 1), ('종류', 3), ('많고요', 1), ('폐렴', 2), ('키우면서', 1), ('종합병원', 1), ('더분에', 1), ('건강하게', 2), ('지내고', 3), ('갔었네요', 1), ('아늑하고', 1), ('지나가다', 2), ('놓으세요', 1), ('확', 3), ('결림으로', 1), ('시원하게', 8), ('과정', 4), ('오고싶은', 1), ('스윗', 1), ('다정다감', 1), ('친절하고요', 1), ('알아주시고', 1), ('친절하니까', 1), ('가시는', 1), ('관계', 1), ('아쉽습니다', 2), ('나아졌습니다', 1), ('만족도', 2), ('매장', 3), ('친절했다', 1), ('토닝', 6), ('4회', 2), ('눈가', 4), ('기미', 3), ('서툴', 1), ('레이져', 1), ('받다', 2), ('감전', 1), ('되는줄요', 1), ('변', 1), ('대중교통', 2), ('체험', 2), ('특', 1), ('착해서', 1), ('셀프', 2), ('편리해요', 4), ('올록', 2), ('볼록하게', 1), ('올라온', 1), ('비립', 3), ('종', 2), ('종이', 1), ('올라와서', 1), ('신지', 2), ('주신듯', 1), ('아팠지만', 1), ('절때', 1), ('않을것', 1), ('어시스트', 2), ('친구', 9), ('ktx', 1), ('타고', 3), ('대표', 6), ('필러', 27), ('하신데요', 1), ('레이저', 7), ('다소', 3), ('딱딱하게', 1), ('느껴질', 1), ('하네여', 1), ('북적', 1), ('이지', 2), ('쾌적하더라', 1), ('가발', 1), ('저렴하니까', 1), ('스킨', 1), ('부스터', 1), ('용할게요', 1), ('11월', 1), ('예비', 1), ('신부', 1), ('본식', 1), ('드레스', 1), ('이쁘게', 1), ('입으려고', 1), ('컷슬린', 2), ('으로는', 2), ('아무래도', 1), ('단기간', 1), ('빼기', 1), ('힘들어서요', 1), ('팔뚝', 3), ('아팠어요', 1), ('겁쟁이', 1), ('윗쪽', 1), ('따끔', 1), ('거림', 1), ('중간', 1), ('아래쪽', 1), ('있었지만', 3), ('저번', 1), ('부원장', 2), ('첨', 9), ('풀어주시고', 2), ('3분', 2), ('이더라구요', 1), ('빼고', 2), ('추가', 8), ('빼주신', 1), ('생신', 1), ('만족하', 1), ('채워주고', 1), ('꿔', 1), ('줘야', 1), ('기다릴', 1), ('필요', 3), ('없', 1), ('가셔야', 2), ('입력', 1), ('코디', 2), ('불러주는', 1), ('했다는게', 1), ('이렇', 1), ('변해', 1), ('사는것이', 1), ('식당', 1), ('키', 1), ('오스', 1), ('크에', 1), ('이어서', 3), ('만족스러웠습니다', 4), ('멋', 2), ('잇고', 1), ('메이', 5), ('퓨어', 5), ('빌딩', 1), ('꽉차면', 1), ('대라고', 1), ('해주시더라고요', 3), ('로만', 2), ('체인점', 2), ('불가이거나', 1), ('지원', 4), ('되는데', 1), ('성형', 1), ('신선하네요', 1), ('들어가는데', 1), ('둘다', 1), ('마주치고', 2), ('컴퓨터', 2), ('하던지', 1), ('꺼낼', 1), ('걍', 1), ('섰는데', 1), ('척도', 1), ('이렇지', 1), ('어리고', 1), ('보여요', 3), ('뚝뚝', 1), ('스킬', 1), ('어설프고', 1), ('복잡해서', 1), ('힘든데', 1), ('해도', 7), ('욕먹지', 1), ('격', 1), ('맡겨', 2), ('볼까', 1), ('짧은', 1), ('전투', 1), ('아는것도', 1), ('보였음', 1), ('괜찮았는데', 1), ('짜증', 6), ('적인것', 1), ('̆̈', 2), ('압', 1), ('출', 1), ('가르킬려구', 1), ('다녀왔어용', 1), ('해주세용', 1), ('올듯', 1), ('해용', 2), ('슈', 2), ('링크', 3), ('친절하더라고', 1), ('ㅜㅜㅠ', 1), ('메이퓨', 1), ('피코토닝', 1), ('모드', 6), ('자주자주', 3), ('같아용', 1), ('볼', 6), ('예술', 1), ('꺼진', 1), ('넘치지도', 1), ('부족하지도', 1), ('어린', 2), ('돌아간', 1), ('랑은', 1), ('최상', 1), ('비포', 1), ('동영상', 1), ('찍어서', 3), ('화질', 1), ('봐도', 1), ('차이', 3), ('구분', 1), ('가능', 2), ('체인', 1), ('자질', 2), ('고만고만한데', 1), ('리쥬란', 5), ('하네', 1), ('좋은가', 1), ('깜짝', 3), ('놀랐음', 1), ('인간문화재', 1), ('팔자주름', 2), ('보면', 5), ('외', 4), ('신설', 1), ('맞나싶음', 1), ('친절했으면', 1), ('나시', 1), ('입', 4), ('방어', 1), ('필요하여', 1), ('어마어마합니다', 1), ('했는데도', 5), ('봤네요', 3), ('올여름', 1), ('고마', 1), ('올라', 1), ('기고', 1), ('친정', 3), ('약품', 1), ('해주는데', 1), ('앙', 3), ('지점', 4), ('해보고', 3), ('결정', 2), ('셃프', 1), ('띄게', 1), ('찍어', 2), ('맑아진게', 1), ('친절하신거', 2), ('별다른', 1), ('끝나는데', 1), ('이갈이', 1), ('심하다', 1), ('각', 1), ('코어톡스', 1), ('성도', 1), ('긴', 2), ('근무', 1), ('갔더니', 6), ('기다리는', 3), ('자신감', 1), ('넘치시는', 2), ('상담사', 1), ('부담스러웠다', 1), ('해주셨어', 2), ('10회', 1), ('끊어', 1), ('봣', 2), ('점도', 3), ('달려갔어요', 1), ('피코', 2), ('붐비지', 2), ('않거', 1), ('상당히', 2), ('좋아집니다', 2), ('급하지', 1), ('이슈', 1), ('아니여서', 2), ('울트라', 1), ('샷', 1), ('환해져요', 1), ('ldm', 1), ('맑아졌어요', 1), ('성능', 1), ('세안', 1), ('건조해진다고', 1), ('에비앙', 1), ('미스트', 1), ('뿌려주세요', 1), ('듭니', 2), ('까진요', 1), ('혁명', 1), ('눕지', 1), ('해야하는게', 1), ('친절하세오', 2), ('cc', 1), ('하는데요', 3), ('살것', 1), ('같음', 3), ('저렴해요', 4), ('빠른', 4), ('횡설수설', 1), ('찰떡', 1), ('ㅎㅎㅎㅎ', 2), ('😝', 1), ('티나', 1), ('자연스러운', 1), ('있음', 4), ('뛰어남', 1), ('꼼꼼함', 1), ('어머님', 2), ('턱끝', 1), ('해드렸어요', 1), ('돌아가는', 1), ('만족하시고', 1), ('보시네요', 1), ('가야겠어요', 1), ('저렴함', 1), ('모로', 1), ('만족스러웠음', 1), ('들어가서', 1), ('풀렸어요', 2), ('빨리할껄', 1), ('아플까봐', 1), ('한게', 1), ('후회될', 1), ('에드', 1), ('대박나세여', 1), ('들어서', 5), ('예뻐요', 1), ('빨랐어요', 1), ('쓰는', 2), ('최대한', 11), ('해달라고', 1), ('징징거렸는데', 1), ('진상', 1), ('이었음', 1), ('이었어요', 1), ('아팠구요', 1), ('볼록한건', 1), ('지나', 1), ('니깐', 1), ('들어가고', 1), ('이틀', 1), ('아저씨', 1), ('가져가면', 1), ('입출', 1), ('더러워짐', 1), ('최', 3), ('생긴지', 2), ('길지', 2), ('가방', 2), ('보', 8), ('관할', 1), ('캐비닛', 1), ('안된', 2), ('최소', 1), ('에서만', 1), ('걸린다', 1), ('시간관리', 1), ('웬만하면', 1), ('일정', 1), ('마구마구', 1), ('밀립니다', 1), ('기다리다', 1), ('잠듦', 1), ('있을까', 2), ('싶었는데', 2), ('광', 2), ('좋냐고', 1), ('난다며', 1), ('해주더라고요', 1), ('저렴한데', 1), ('듀', 1), ('들면서', 1), ('얇아져서', 1), ('눈물', 1), ('찔끔', 1), ('났지만', 1), ('하길', 2), ('보자마자', 1), ('들어하는', 1), ('통한', 1), ('기다린', 1), ('있으', 3), ('뜨', 1), ('싼거만', 1), ('425000원', 1), ('긁고', 1), ('떠나서', 1), ('손맛', 1), ('달라져있음', 1), ('집중', 1), ('놓였어요', 4), ('궁금한것에', 1), ('길게', 1), ('힘주고', 1), ('내리고', 1), ('엄', 2), ('청', 2), ('아팠음', 1), ('부담스러', 1), ('나아서', 1), ('감사하여', 1), ('데리', 1), ('인대', 4), ('강화', 1), ('힘들어하던', 1), ('가볍고', 1), ('시원하다고', 1), ('종아리', 2), ('온갖', 1), ('테스트', 1), ('해보시더니', 1), ('요추', 1), ('흉추', 1), ('치료받으라고', 1), ('8만원', 1), ('물어보더라구요', 1), ('받으라면서', 1), ('그건', 1), ('9만원', 1), ('없냐니까', 1), ('이냐', 1), ('그러지', 1), ('달라', 3), ('후배', 1), ('신용', 2), ('성실하게', 2), ('거짓', 1), ('오로지', 1), ('감사하다', 1), ('아픈치아가', 1), ('야한다', 2), ('비싸도', 1), ('내부시', 1), ('설도', 1), ('인성', 1), ('갖춘', 1), ('2006년', 1), ('붙인', 1), ('금니', 1), ('붙여주셨습니다', 1), ('보살핌', 1), ('따뜻했습니다', 1), ('청결', 3), ('도나', 1), ('만족스러웠고', 1), ('찌릿찌릿하고', 1), ('신경통', 1), ('심해', 1), ('관련', 4), ('해서는', 1), ('갈꺼', 1), ('꾸준하게', 3), ('다니겠습니다', 2), ('때매', 1), ('깔끔하니', 2), ('밝게', 1), ('사라졌습니다', 3), ('와이프', 2), ('꽤', 1), ('떨리고', 1), ('아픈게', 3), ('없었네요', 2), ('효진', 1), ('귀여우세요', 1), ('시린이', 1), ('완전히', 1), ('조만간', 1), ('내서', 2), ('왔었어야', 1), ('잘해줘요', 2), ('같고', 3), ('하셨고', 2), ('부러지는', 1), ('바람', 4), ('진행중', 1), ('걸리줄', 1), ('찾았네요', 2), ('착하고', 1), ('라트', 1), ('떼운', 1), ('덮을', 1), ('필요없다구', 1), ('해주실', 4), ('마음먹었어요', 1), ('뽑았어요', 1), ('아펐는데', 1), ('덜아퍼요', 1), ('중화동', 1), ('만족하고', 2), ('하겠', 1), ('포토', 1), ('하고싶지만', 1), ('특성', 1), ('하지는', 1), ('주의', 3), ('사항', 4), ('오고싶어요', 1), ('년전', 3), ('간만', 2), ('해야하는', 3), ('였고', 1), ('하고있는', 1), ('라서', 5), ('여로', 1), ('방면', 1), ('해주어서', 3), ('윗', 1), ('원했어요', 1), ('뗀', 1), ('떨어진', 1), ('깨졌네요', 1), ('먹는', 2), ('딱딱한', 1), ('씹어', 1), ('대니', 1), ('깨지나', 1), ('이도', 2), ('썩어서', 2), ('덧', 2), ('덜덜', 1), ('임시', 1), ('댄', 1), ('붙어있었으면', 1), ('역대', 1), ('꼼꼼함을', 1), ('느꼈습니다', 2), ('갔었', 1), ('읍니', 1), ('고등학교', 1), ('신다해', 1), ('했는데요', 3), ('아플수는', 1), ('없겠지만', 1), ('바뀌시면', 1), ('속상할거', 1), ('잔뜩', 1), ('무서워하고있어도', 1), ('달래주셔요', 1), ('ㅋㅋㅋㅋㅋㅋ', 1), ('강북구', 1), ('오는', 3), ('매해', 1), ('갖지', 1), ('으로도', 6), ('그럴', 1), ('편안했습니다', 1), ('이분', 1), ('맡기고', 1), ('찢어진', 1), ('바셀린', 1), ('발라주시고', 1), ('구내염', 2), ('알보칠', 1), ('발라주시는', 1), ('솜씨', 1), ('이라는', 3), ('드네', 2), ('알아듣기', 1), ('도와주십니다', 1), ('4월', 1), ('무리한', 2), ('권하지시도', 1), ('요모조모', 1), ('나긋나긋하게', 1), ('되지', 2), ('봐주셔요', 5), ('개운한', 1), ('손길', 2), ('찾고계시다면', 2), ('보셔서', 1), ('하실거', 1), ('갤러리', 1), ('아픕니다', 1), ('받으며', 1), ('씌우는', 1), ('아팠습니다', 2), ('퍼펙', 1), ('뽑으러', 3), ('금새', 2), ('뽑으셔서', 1), ('거론', 1), ('신경안', 3), ('쓰실수도', 1), ('있었을텐데', 1), ('잡아주시고', 1), ('있다니', 1), ('b', 4), ('섬세하시고', 1), ('다정하세요', 1), ('뽑느라', 1), ('하셨는데', 2), ('주시면서', 2), ('요기', 1), ('좋아하는', 1), ('예쁜', 1), ('계셔서', 3), ('변태', 1), ('아니고', 3), ('자임', 1), ('암튼', 1), ('뽑았습니다', 3), ('쟝', 1), ('💖', 1), ('🙂🙂', 1), ('찾은', 3), ('늦은', 1), ('다녀야겠어요', 1), ('저렴하구요', 1), ('해주시며', 3), ('오고싶습니다', 1), ('엉망', 1), ('살릴수', 2), ('있는것은', 1), ('살려', 2), ('뽑기', 1), ('그나마', 1), ('하여요', 1), ('만족한', 1), ('드렸어요', 2), ('아팠던거', 1), ('뽑고', 2), ('고마워요', 2), ('꼼꼼하시더라구요', 2), ('중요하지만', 1), ('들을수', 1), ('중요하다', 1), ('워낙', 2), ('수도', 1), ('곤', 1), ('간것', 1), ('관계자', 1), ('뽑느게', 1), ('일케', 1), ('이네요', 1), ('노련하십니다', 1), ('젊으셔서', 1), ('선호', 1), ('셧', 1), ('부담스러운데', 2), ('없으', 1), ('적절하게', 1), ('왓습니', 2), ('아파해', 1), ('시름', 1), ('덜었습니다', 1), ('콕', 1), ('들리고', 2), ('실오라기', 1), ('잡고', 2), ('자', 3), ('들렸습니다', 1), ('서지', 2), ('앉지도', 1), ('걷지도', 2), ('양원', 1), ('듣자마자', 1), ('터졌진거', 1), ('같다며', 2), ('찍다고', 1), ('예상', 2), ('적중', 1), ('예의', 1), ('바르시고', 1), ('공손하시고', 1), ('하시구요', 2), ('입니다요', 2), ('이준석', 1), ('친절하십니당', 2), ('오길', 2), ('소문', 1), ('다닐게요', 1), ('bcg', 1), ('홍쌤', 1), ('감사해용', 1), ('린', 1), ('영', 7), ('유아', 3), ('잘맞는듯', 1), ('조용해여', 1), ('주말', 5), ('바꾸세요', 1), ('9시', 2), ('12시', 1), ('오라', 4), ('아파가지고', 1), ('1시', 1), ('바꿨다고', 1), ('계', 2), ('300', 2), ('500만', 1), ('견적', 3), ('나왔었거든요', 1), ('놀라서', 1), ('일부러', 5), ('손댈', 1), ('치주염', 2), ('사용', 3), ('방향', 5), ('부족한', 2), ('써야', 1), ('바짝', 1), ('천', 2), ('절', 3), ('친절한듯', 4), ('빋', 1), ('때웠던', 1), ('부러져서', 2), ('갔어용', 1), ('비교', 5), ('아니였어요', 1), ('양원역', 1), ('오기', 2), ('망우역', 1), ('맡기네요', 1), ('버는것', 1), ('살펴주셔요', 1), ('봐주서요', 1), ('받고있어요', 6), ('차서', 1), ('뽑아야', 1), ('뽑는데', 1), ('웬걸', 1), ('따끔하고', 1), ('뽑는건', 1), ('벌써', 3), ('끝났', 1), ('맛있는걸', 1), ('먹으려면', 1), ('갈수도', 1), ('본', 9), ('아빠', 1), ('벌거', 1), ('치료받기', 1), ('친절하시', 2), ('궁', 2), ('계셔주셔서', 1), ('건강하세요', 2), ('반면', 1), ('간호원', 2), ('부자', 2), ('고지혈증', 1), ('후련', 1), ('차내', 1), ('망우동', 1), ('돌아', 1), ('댕', 1), ('겼어요', 1), ('안해', 6), ('지켜보자', 1), ('40', 1), ('짜리', 1), ('셀치', 1), ('경과', 1), ('지켜보자는', 1), ('권하셔서', 1), ('깜놀', 1), ('우림', 2), ('시장', 2), ('에선', 4), ('더해서', 1), ('한다더군요', 1), ('여기오길', 1), ('할꺼에요', 1), ('다녔던', 4), ('궁금해', 1), ('설', 1), ('명', 2), ('♡♡', 3), ('맞아주셔서', 1), ('엄살', 1), ('쟁이', 1), ('무서운데', 3), ('만족스러웠어용', 1), ('치료받고나서', 1), ('사도', 4), ('공포', 1), ('줄었어요', 1), ('무척', 2), ('심했는데', 2), ('뽑지', 1), ('살릴', 1), ('해주시구여', 1), ('말끔히', 1), ('오래되었지만', 1), ('꼼꼼', 2), ('주셔요', 1), ('증상만', 1), ('하는건', 1), ('하겠어요', 1), ('위드', 2), ('약한', 1), ('딱딱한거', 1), ('씹지말라고', 1), ('경', 4), ('각심', 1), ('갖게', 1), ('됐어요', 5), ('보여주고', 1), ('칫솔질', 2), ('좋다고', 2), ('줗았어', 1), ('오래간만', 1), ('듣기', 2), ('친절하면', 2), ('따라서', 2), ('점검', 1), ('겠네요', 1), ('해주시느냐', 1), ('박슬기', 1), ('전체', 9), ('어릴', 3), ('성인', 2), ('돼서도', 1), ('무서운', 1), ('되니', 2), ('금전', 1), ('더해졌는데', 1), ('대비', 2), ('불안해하는', 1), ('하시는데', 3), ('물어보시고', 1), ('싸우는', 1), ('잊었냐', 1), ('하냐', 1), ('나빴습니다', 1), ('만약', 1), ('했다', 2), ('시켜주는', 1), ('아닌가요', 2), ('싸우러', 1), ('참나', 1), ('서럽고', 1), ('별꼴', 1), ('봤습니다', 1), ('따루', 1), ('화이팅', 3), ('짪으', 1), ('쫒기는', 1), ('하던', 1), ('망설이다', 1), ('정신과', 1), ('긴장도', 2), ('됐었는데', 2), ('힘드신', 1), ('찾아가셔도', 1), ('후회', 1), ('없을듯', 1), ('계셔요', 1), ('1초', 1), ('걸린듯', 1), ('잘하', 3), ('세계', 1), ('탑', 1), ('계세', 1), ('나가겠습니다', 1), ('줌', 1), ('사전예약', 1), ('기다리지도', 1), ('카카오', 1), ('톡', 1), ('사전', 1), ('잘생겨서', 1), ('편입', 1), ('나오면', 2), ('나가서', 2), ('없지', 2), ('받으려고', 1), ('들어갔을', 1), ('많더라고요', 1), ('본건데', 1), ('색도', 1), ('밝아져서', 1), ('뺀다고', 1), ('심장병', 2), ('잠못', 1), ('이루고', 1), ('진통제', 1), ('먹었는지요', 1), ('너무나도', 1), ('사거리', 1), ('일등', 8), ('76', 1), ('생전', 1), ('보철', 2), ('뽑을', 1), ('예뿌', 1), ('꼬', 1), ('매주시', 1), ('잠도', 3), ('못자고', 1), ('괜', 2), ('불편한데', 1), ('없는지', 2), ('써주시던', 1), ('치과위생사', 1), ('퀄리티', 1), ('봐주는', 1), ('여자아이', 1), ('난리', 1), ('치고', 2), ('키즈', 1), ('동생', 1), ('않는거', 1), ('했늡', 1), ('디디', 1), ('착한거죠', 1), ('였네요', 2), ('ㅎㅅ', 1), ('하이', 1), ('오빠', 1), ('파', 3), ('낙후', 1), ('하시더라고요', 3), ('뽑았는데', 1), ('잘뽑으셔요', 1), ('꼼꼼하', 1), ('있네여', 1), ('좋아지는것', 1), ('느껴요', 1), ('환경', 3), ('부족', 1), ('아슬아슬해요', 1), ('대체로', 1), ('신랑', 4), ('갔다', 2), ('기다린다는', 1), ('없는데', 2), ('접수하자마자', 1), ('대게', 1), ('내버리잖아요', 1), ('아니었다', 1), ('능', 1), ('엠알', 1), ('이상무', 1), ('친저', 1), ('보안', 1), ('불친절합니다', 2), ('쓰고', 1), ('까칠합니다', 1), ('죄인', 1), ('된것', 1), ('같았습니다', 1), ('되어있네요', 1), ('아버님', 2), ('회시', 1), ('들려서', 1), ('커피한잔', 1), ('릴렉스되', 1), ('편안해져서', 1), ('쾌차', 1), ('1회', 3), ('용품', 2), ('어둡고', 1), ('흉부', 1), ('손진', 1), ('와요', 2), ('멊', 1), ('다는데', 1), ('아플까', 1), ('ㅎㅎㅎㅎㅎㅎ', 1), ('ㅇㅋ', 1), ('가다실', 1), ('북부', 1), ('차비', 1), ('이었구요', 1), ('패임', 1), ('한건데', 2), ('어쩌다', 1), ('받았고', 4), ('여유도', 1), ('없는지라', 1), ('는걸', 2), ('출구', 3), ('접근성', 4), ('튼', 6), ('했다고', 1), ('미루지', 2), ('편리한', 1), ('어느', 2), ('빠지는게', 1), ('잊지', 1), ('맞춰', 4), ('시력', 2), ('안압', 1), ('시설깨큿', 1), ('고객', 2), ('거나', 1), ('제시', 1), ('그림', 2), ('그려주면서', 1), ('도와주시는게', 1), ('용합니다', 1), ('없으면', 2), ('하는듯', 1), ('헛걸음', 1), ('어차피', 1), ('겸사겸사', 1), ('다이소', 1), ('들르고', 1), ('상관', 1), ('살면서', 1), ('홈플러스', 1), ('있는걸', 1), ('허허', 1), ('긴건', 1), ('직장인', 4), ('비애', 1), ('ㅠㅡㅠ', 1), ('친하게', 1), ('외관', 2), ('깨끗한', 5), ('나긋나긋', 2), ('모르지만', 1), ('합시다', 1), ('제때', 2), ('닦고', 2), ('그게', 1), ('버', 1), ('겁니다', 3), ('ㅡㅡㅋ', 1), ('져', 1), ('느끼며', 2), ('괴로운', 1), ('잡담', 1), ('하시느라', 1), ('에칭', 1), ('불편했고', 1), ('션', 1), ('쓰시', 1), ('혀', 1), ('에다', 1), ('대서', 1), ('적었습니다', 1), ('불만족', 1), ('스러운', 1), ('이었고', 2), ('간건데', 2), ('실망', 1), ('컸습니다', 1), ('주로', 1), ('재진', 1), ('남녀', 1), ('노소', 1), ('높고', 1), ('낮음', 1), ('적당한', 1), ('단지', 1), ('친절한게', 1), ('받습니다', 3), ('깨운하게', 1), ('어려운거', 1), ('죽', 1), ('먹겠습니다', 1), ('찐', 3), ('스펙', 1), ('ㄷㄷ', 2), ('박석', 1), ('ㄷㄷㄷㄷㄷ', 1), ('뺐어요', 1), ('왔던', 1), ('솔직하게', 1), ('오는게', 1), ('중요하겠지만', 1), ('야한다면', 1), ('홍치', 2), ('제한', 1), ('고기', 1), ('씹는', 1), ('행복', 2), ('찾았습니다', 2), ('대성공', 1), ('달라진게', 1), ('보일', 1), ('대응', 1), ('어려운', 1), ('대를', 1), ('수면', 1), ('생겼네', 1), ('귀엽네', 1), ('폭풍', 1), ('의자', 3), ('뽑아야하는데', 1), ('잇다고', 1), ('시림', 1), ('끝났으면', 1), ('겠네용', 1), ('불편', 2), ('햇던', 1), ('미리', 1), ('받으셨는데', 1), ('야하는', 2), ('이셨더라구요', 1), ('쑥', 1), ('뽑아주셨다며', 1), ('엄지', 1), ('척', 1), ('주시더라구요', 1), ('fm', 1), ('원칙', 1), ('지켜서', 1), ('이시고', 3), ('해줘', 1), ('자상하세요', 1), ('잘못', 1), ('싸다', 1), ('24년', 1), ('보증', 1), ('함니다', 1), ('‘', 1), ('’', 1), ('꼼꼼하신', 1), ('딱딱해요', 1), ('핸드폰', 1), ('변해요', 1), ('많아도', 1), ('선', 2), ('일까', 1), ('치료받았고', 1), ('더욱', 2), ('써주시고', 1), ('해주신다고', 1), ('궁금한', 4), ('가겠습니다', 1), ('들겠다', 1), ('지켜보고', 1), ('하자고', 1), ('됬습니다', 1), ('하는것도', 2), ('안아퍼요', 1), ('애', 3), ('바뀌셔서', 1), ('패인', 1), ('떼웠어', 1), ('되는거랑', 1), ('안되는거', 1), ('색깔', 1), ('안쪽', 2), ('이니', 1), ('되', 3), ('미뤘던', 1), ('시렸는데', 1), ('시렸어요', 1), ('받을것', 1), ('다닐만큼', 1), ('아니지만', 1), ('하니', 3), ('믿을만한', 1), ('좋죠', 1), ('이사해', 1), ('선한', 1), ('담당', 2), ('어디서', 2), ('교육', 1), ('받으셨나요', 1), ('하시면', 3), ('고요', 1), ('모토', 1), ('알았습니다', 1), ('200', 1), ('도합', 1), ('알려주시는게', 1), ('열어서', 1), ('침상', 1), ('쓸건데', 1), ('사방', 1), ('꼼꼼하시구요', 1), ('기초', 1), ('친', 4), ('왠만하면', 1), ('겉모습', 1), ('보지', 1), ('오세요', 1), ('많습니다', 2), ('갖추셨다고', 1), ('맞을것', 1), ('차분하시고', 1), ('도와주셔서', 1), ('많은지', 1), ('말씨', 1), ('형성', 1), ('내려주세요', 1), ('귯', 1), ('친절하지', 2), ('않음', 2), ('갔다고', 1), ('래서', 3), ('가정', 1), ('장닝', 1), ('스탈', 1), ('안과', 4), ('자상하셔서', 2), ('가지구', 1), ('다님니다', 1), ('받았오요', 1), ('젠틀', 1), ('상냥하고', 1), ('팩트', 1), ('잇게', 1), ('해주어요', 1), ('잘생긴건', 1), ('덤', 1), ('2분', 1), ('계시니', 1), ('엿', 1), ('가봐여', 1), ('환절', 1), ('기철', 1), ('디', 1), ('마나', 1), ('찍어주신', 1), ('분도', 6), ('잘해주시', 1), ('성심껏', 1), ('하시니', 2), ('친절하시니', 2), ('풀렸네요', 1), ('질거', 1), ('놔주고', 1), ('양제', 4), ('도스', 1), ('불편하다면', 1), ('불편함만', 1), ('없다면', 1), ('다닐수', 1), ('👍🏼', 1), ('💞', 1), ('놔', 1), ('슬픈', 1), ('무섭지만', 2), ('보심', 1), ('40분', 2), ('꼼꼼하면서', 1), ('스피드', 2), ('잘놓고', 1), ('고쳐요', 1), ('좋어요', 1), ('계시는', 1), ('리뉴얼', 1), ('이쁩니다', 1), ('줘요', 3), ('찬절해', 1), ('shfhr', 1), ('키좀', 1), ('작으', 1), ('신분', 5), ('전부터', 1), ('세지', 1), ('비해', 1), ('있으셔서', 2), ('3시', 1), ('13', 1), ('14시', 1), ('민망하지', 1), ('생리통', 1), ('질염', 1), ('살아서', 1), ('들쭉날쭉한', 1), ('주기', 3), ('좋더라고요', 2), ('나은', 1), ('찾아보니', 1), ('없어졌더라구요', 1), ('찾아서', 4), ('낫지도', 1), ('방황', 1), ('해보니', 2), ('개업', 1), ('중요한것만', 1), ('해주시니까', 2), ('있는데요', 1), ('치료받으면서', 1), ('젊으시고', 1), ('가구', 1), ('궁금한것', 1), ('여쭤', 3), ('낫기까지', 1), ('걸리겠지만', 1), ('하나로', 1), ('쭈욱', 1), ('참이랍니다', 1), ('신내동', 4), ('척척', 1), ('렵니', 1), ('철인', 1), ('잇', 1), ('팅', 4), ('종료', 1), ('직전', 1), ('발음', 1), ('정확하지', 1), ('물어봤는데', 1), ('답답한', 1), ('내시', 1), ('말안', 1), ('해주다가', 1), ('결국', 2), ('마니', 1), ('장애인', 1), ('우수', 1), ('엘리베이터', 2), ('설치', 1), ('싸고자', 1), ('놔주시네요', 2), ('다른거', 1), ('맞으면', 2), ('나와', 1), ('본적', 1), ('똑같이', 2), ('화면', 1), ('요금', 1), ('오해', 1), ('소지', 1), ('잘해줍니다', 1), ('줘서', 2), ('신내', 1), ('성모', 2), ('신게', 1), ('느껴집니다', 1), ('신식', 1), ('호불호', 1), ('하시려는', 1), ('보였고', 1), ('친절했습니다', 1), ('바빠', 1), ('다운', 1), ('입안', 2), ('소리치시나요', 1), ('큰소리', 2), ('내면', 1), ('안되죠', 1), ('소리치며', 1), ('울어', 1), ('불쾌했습니다', 2), ('불친절하게', 2), ('걸고', 1), ('안가네요', 1), ('앉으신', 1), ('졸고', 1), ('내시던데', 1), ('보는지', 1), ('모르겠습니다', 1), ('애초', 1), ('했다면', 1), ('쓸', 3), ('일도', 1), ('없었겠죠', 1), ('없을것', 1), ('모르겠고', 1), ('알레르기', 1), ('타러', 1), ('속눈썹', 2), ('있었는지', 1), ('빼주더니', 1), ('이물', 1), ('랍시고', 1), ('만삼천원', 1), ('받네요', 1), ('찍혀', 1), ('다쳤단', 1), ('tt', 1), ('팔걸이', 1), ('하곤', 1), ('활동', 1), ('늦어져서', 1), ('마감', 5), ('임박', 1), ('도착', 1), ('기다려', 2), ('정상', 5), ('아파요', 5), ('싲니', 1), ('굳수', 1), ('ct', 1), ('하는거에', 1), ('급속', 1), ('냉동', 2), ('바뀌었다고', 1), ('쫌', 1), ('꼼꼼하십니', 1), ('딘', 1), ('사후', 1), ('무리해서', 1), ('슬픈거', 1), ('귀찮은', 1), ('내색', 1), ('보시는것', 2), ('주시는게', 1), ('직업병', 1), ('말려서', 1), ('무겁고', 1), ('코끼리', 1), ('마리', 1), ('내려온', 1), ('느낌이였어요', 1), ('좋아질지', 1), ('몰랐는데', 1), ('받으면', 2), ('좋아질거', 1), ('둡고', 1), ('굳어있어요', 1), ('인원', 2), ('앉아있는거', 1), ('이는데', 1), ('청소', 1), ('언제', 3), ('했는지', 2), ('깄다', 1), ('걸리겠네요', 1), ('절대로', 1), ('친절한건', 1), ('기대하지', 1), ('받지도', 1), ('사무', 1), ('이렇다', 1), ('저렇다', 1), ('안좋으', 1), ('무표정', 1), ('😐', 1), ('부터는', 2), ('멀더', 1), ('불친절해도', 2), ('버티는', 1), ('있긴', 1), ('있겠죠', 1), ('비슷', 1), ('편인데도', 1), ('놓음', 1), ('불친절하던데', 1), ('친절하다는', 1), ('뭐징', 1), ('🤔', 1), ('왔을', 1), ('맞아야', 1), ('몰아가셔서', 1), ('그랬네요', 2), ('친절하시고주말해', 1), ('도해', 1), ('휴일', 1), ('안가도', 1), ('잘해주시네요', 1), ('요가랑', 1), ('에어로빅', 1), ('수업', 1), ('쓰니', 1), ('온몸', 1), ('날때', 3), ('치료받고오면', 1), ('만해', 1), ('입장', 3), ('한결같이', 3), ('들께', 1), ('빨래', 1), ('쪼그리고', 1), ('엉', 1), ('덜하고', 1), ('바빠서', 1), ('돌아가고', 2), ('심했었는데', 1), ('치료받고오니', 1), ('부드러워졌어요', 2), ('🤗🤗🤗', 1), ('깊어', 1), ('피는', 1), ('멈췄는데', 1), ('꼬매달', 1), ('성형수술', 1), ('붙이는', 1), ('테이프', 1), ('샤워', 1), ('안떨어진다고', 1), ('붙여주는데도', 1), ('붙여주셨는데', 1), ('떨어지네요', 1), ('처치', 2), ('ㅈㅡㅎ', 1), ('아요', 2), ('로안', 1), ('파마머리', 1), ('좀있으신', 1), ('작은', 1), ('권해', 1), ('있도록', 2), ('두려움', 1), ('커서', 1), ('심심하지', 1), ('챙겨주셔서', 3), ('지루하지', 1), ('끝났어요', 2), ('살펴주셔서', 1), ('전담', 1), ('건강한', 1), ('가질', 1), ('🖤', 1), ('아프네요', 1), ('앞두고', 2), ('진정', 3), ('시켜주시구', 1), ('ㅜㅜㅜ', 1), ('바쁘셨을텐데', 1), ('페셔널', 1), ('개도', 1), ('뽑는', 1), ('미루다가', 1), ('미뤘나싶을', 1), ('빠르고도', 1), ('쏙', 1), ('뽑아주셨어요', 2), ('뛰어난', 1), ('훌륭하신', 1), ('계시다니', 1), ('천군', 1), ('마를', 1), ('얻은', 1), ('와야죠', 1), ('‼️', 2), ('해야하는지', 2), ('적용', 3), ('하려면', 2), ('🙂', 2), ('불편해요', 1), ('일찍이', 1), ('마치', 1), ('좋을것', 2), ('조곤조곤', 1), ('약사', 1), ('정말로', 2), ('않게끔', 1), ('써주시네요', 1), ('옮긴', 1), ('나셨으면', 1), ('바꿔주세요', 1), ('가리면', 1), ('혼나요', 1), ('관절염', 2), ('붓고', 1), ('감각', 2), ('둔해지는게', 1), ('줄어서', 1), ('보렵', 1), ('감사하네요', 2), ('이명', 2), ('그로', 1), ('인한', 1), ('바꾸어야', 1), ('알려주셨습니다', 1), ('차례', 1), ('증세', 1), ('없어짐', 1), ('자상하시', 1), ('아프지말아야하는데', 1), ('엘에이', 2), ('원했습니다', 1), ('찝어주시고', 1), ('썪', 1), ('지켜보자하셨습니다', 1), ('사마', 1), ('다를수있다고', 1), ('안하시더라고요', 1), ('기계가있어서', 1), ('쵝', 1), ('남', 2), ('여부', 1), ('참는다고', 1), ('해주시니', 3), ('구체', 1), ('발견', 1), ('가능하다하', 1), ('셔', 2), ('했었고', 1), ('단계', 1), ('드셨었는데', 1), ('드시고', 1), ('찌고있습니다', 1), ('강악', 1), ('안면', 1), ('하시는거', 3), ('같았어요', 2), ('쨋', 1), ('직장', 3), ('빼주셨어요', 1), ('반짝이는', 1), ('매니큐어', 1), ('칠해놓고', 1), ('맨손', 1), ('기구', 1), ('지고', 1), ('넣고', 1), ('하던데', 1), ('걸리', 1), ('적거', 1), ('려', 1), ('불편했음', 1), ('떨어지면', 1), ('어쩌나', 1), ('싶고', 1), ('되는지', 1), ('음식점', 1), ('지저분하게', 1), ('집게', 1), ('묶고', 1), ('네일아트', 1), ('오질', 1), ('시시콜콜', 1), ('이상한', 1), ('소리', 3), ('해댐', 1), ('봐주겠다는', 1), ('말겠다는', 1), ('모르겠음', 1), ('지셨어요', 1), ('많긴', 1), ('잘놓아주셔서', 1), ('놓으시고', 2), ('인가요', 1), ('봤지만', 2), ('저만', 1), ('가까운데', 1), ('싶니다', 1), ('무신', 1), ('웃고', 1), ('떠드는건', 1), ('헤아려주시길', 1), ('적이네요', 1), ('인자하십니다', 1), ('화려하', 1), ('나긋한', 1), ('놀러', 1), ('있다길래', 1), ('들러서', 1), ('나갈', 1), ('칫솔', 1), ('해보려고요', 1), ('달래주셨어요', 1), ('식사', 1), ('떨어지는', 1), ('찔리던', 1), ('4시', 1), ('반이', 1), ('넘었는데', 1), ('없겠지', 1), ('한탄', 1), ('부근', 1), ('기쁜', 1), ('달려왔어요', 1), ('5시', 1), ('깔끔히', 1), ('부착', 1), ('케일', 1), ('부도', 1), ('올것', 1), ('비롯', 1), ('다니게', 1), ('28일', 1), ('때우신게', 1), ('빠지셔서', 1), ('주셨습니다', 3), ('살리기', 1), ('하길래', 2), ('시원하더라구요', 1), ('만족스러웠', 1), ('무섭잖아요', 1), ('그랬었는데', 1), ('아닌게', 1), ('깔끔하게', 5), ('다녀오면', 2), ('상쾌한', 1), ('안이', 1), ('일욜', 1), ('가니까', 1), ('있는지', 2), ('쓰이고', 1), ('밤', 4), ('왔었는데요', 1), ('부족해서', 2), ('미뤄', 1), ('하시니까', 2), ('좋으셔서', 1), ('해주니', 1), ('잘생기신', 1), ('친절하시기까지', 1), ('10년', 2), ('원합니다', 1), ('행복합니다', 1), ('무섭게', 2), ('안전하고', 1), ('가치', 1), ('기안', 1), ('많으셨습니다', 1), ('청결해서', 2), ('팔이', 1), ('송원', 1), ('단순', 1), ('돈벌이', 2), ('수단', 1), ('승전', 1), ('만하', 1), ('하는것부터', 1), ('역겹', 1), ('애매해', 1), ('꼈는데도', 1), ('멋있습니다', 1), ('가는걸', 2), ('꺼려하는데', 1), ('볼수있지만', 1), ('노후', 1), ('아닌데', 1), ('거칠어요', 1), ('짐짝', 1), ('퍽퍽', 1), ('바르셔서', 1), ('불쾌하고', 1), ('나빳어', 1), ('걷다가', 1), ('나쁘지', 1), ('불친절하다', 1), ('날개', 1), ('영상의학', 2), ('찿', 2), ('망우', 1), ('리까', 1), ('귀', 2), ('기울려', 2), ('들어주시네요', 1), ('붙이', 1), ('많으신', 2), ('들어주고', 1), ('들어가며', 1), ('햄스트링', 1), ('파열', 2), ('소요', 1), ('되었고', 1), ('김병', 1), ('우', 2), ('실의', 1), ('코', 2), ('매력', 1), ('긴머리', 1), ('터져서', 1), ('어보', 1), ('규', 1), ('꼬리뼈', 1), ('블럭', 1), ('블락', 1), ('뷰', 1), ('봬', 1), ('심하네요', 1), ('왔더니', 1), ('왔다고', 1), ('날씨', 4), ('변덕', 1), ('부리는', 1), ('산돌', 1), ('놔주시는', 3), ('있는것이', 1), ('든든합니다', 1), ('알려주세요', 2), ('잘해주', 2), ('갈듯', 1), ('다양해요', 1), ('맞으로', 1), ('😃', 2), ('기어', 1), ('들어갔다가', 1), ('세면대', 1), ('할만큼', 1), ('아팠었는데', 2), ('드리며', 1), ('갈께요', 1), ('느낄', 1), ('느', 1), ('껴지게', 1), ('자격', 1), ('보유', 1), ('높은', 2), ('주는', 2), ('정직하시게', 1), ('갔구요', 1), ('갔던', 1), ('같은건', 1), ('부탁드립니다내용', 2), ('이는', 1), ('좋아졌구요', 1), ('보았지만', 1), ('본것', 2), ('겠어요', 1), ('없으세요', 1), ('아담하고', 1), ('청결합니다', 1), ('단순한', 1), ('안전하게', 1), ('섬세하신', 1), ('해주세', 1), ('만든거처럼', 1), ('순하고', 1), ('디테', 1), ('일해', 1), ('나아지지는', 1), ('받을려고요', 1), ('오고부터', 1), ('흑', 6), ('잠들', 1), ('따뜻하고', 1), ('클래식', 1), ('음악', 1), ('두려운', 2), ('미열', 1), ('잦아서', 1), ('일있으신', 1), ('와주셨어요', 1), ('ㄷㅎ', 1), ('엄숙하고', 1), ('없으시다', 1), ('복약', 1), ('저런', 1), ('보는게', 1), ('좋겠다', 1), ('편안해졌습니다', 1), ('쓰는거라', 1), ('있지만', 3), ('랍니', 1), ('\\U0001fae2', 1), ('네오', 1), ('동대문구', 1), ('다녔다가', 1), ('무앗', 1), ('💟', 1), ('해나', 1), ('아가', 2), ('야할지', 1), ('완벽했습니다', 1), ('정신의학', 1), ('과를', 1), ('해보는데', 1), ('카페', 1), ('따듯', 3), ('놓고', 1), ('들어가게', 1), ('막상', 1), ('편해지더라구요', 1), ('나왔던', 1), ('이나마', 1), ('느껴서', 1), ('따라왔어요', 1), ('잘맞고', 1), ('고통', 2), ('통해', 1), ('자신', 1), ('분별', 1), ('어딜', 1), ('가든', 1), ('성격', 1), ('긍정', 1), ('나섰습니다', 2), ('깨끗하구요', 1), ('괜찮게', 1), ('침절', 1), ('정밀검사', 1), ('봐주셨어용', 1), ('모르겠어', 1), ('욯', 1), ('무섭다고', 1), ('발라주셨어요', 1), ('아픈것', 1), ('풀리고', 1), ('먹을것', 1), ('사가려고', 1), ('이마트', 1), ('유러', 1), ('유로', 1), ('될것', 1), ('예인', 1), ('유명하셔서', 1), ('다른데', 1), ('가볼', 1), ('묻지도', 1), ('따지지도', 1), ('항맥', 1), ('정맥', 1), ('해주셔', 1), ('♥️', 1), ('화타', 1), ('찝어주시는데', 1), ('고려', 1), ('코스', 1), ('주파', 2), ('이쁘시고', 1), ('창구', 2), ('보다는', 1), ('전신', 3), ('약했던것', 1), ('눌러서', 1), ('해줬으면', 1), ('장사', 1), ('생기는지', 1), ('주신답니다', 1), ('촘촘하', 1), ('완벽하게', 1), ('대접', 1), ('올수밖에', 1), ('됬어요', 1), ('환약', 1), ('치료받구', 1), ('달동', 1), ('받아도', 2), ('나아지질', 1), ('가뿐한게', 1), ('신기해요', 1), ('삐었', 1), ('깊숙이', 1), ('꽂아주시는데', 1), ('다친', 1), ('닿는게', 1), ('모니터', 1), ('태블릿', 1), ('뻣뻣하게', 1), ('굳고', 1), ('시원하네요', 1), ('반했어', 1), ('다양하게', 1), ('비쌀줄', 1), ('알았는대', 1), ('갈거예요', 1), ('나른한', 1), ('찾아온만큼', 1), ('의몸', 1), ('시기', 1), ('먹습니다', 1), ('자상함과', 1), ('사모님', 1), ('방울', 1), ('낭비', 1), ('지어주시는', 1), ('약효', 1), ('받는듯', 1), ('감사히', 1), ('견딜것', 1), ('뻐근해서', 1), ('쑥뜸', 1), ('bbb', 1), ('2시', 1), ('인들', 1), ('맞기도', 1), ('책자', 1), ('친절하죠', 1), ('사노피', 1), ('25000원', 1), ('도배', 1), ('한순간', 1), ('좋아지는게', 1), ('하고있답니다', 1), ('받앗는데', 1), ('나앗어요', 1), ('젊어서', 1), ('👍🏻👍🏻', 3), ('재는', 1), ('잴', 1), ('솜', 1), ('재야', 1), ('당연한', 2), ('말씀드리는데', 1), ('체격', 1), ('쓴', 1), ('나빠하시네요', 1), ('나빠져요', 1), ('반성', 1), ('붉히면서', 1), ('나빠', 1), ('아니에요', 1), ('하신거고', 1), ('지적', 1), ('수긍', 1), ('모르는', 1), ('해주셨서', 1), ('상항', 1), ('감사하고', 1), ('들어주십니다', 1), ('갔었거든요', 1), ('많은거', 1), ('아는데', 1), ('감안', 1), ('대하시는거', 1), ('부리시고', 1), ('내쉬고', 1), ('서있는데도', 1), ('그러', 1), ('같더니', 1), ('바꿨네요', 1), ('맞춘', 1), ('꾸욱', 1), ('환해졌네요', 1), ('부시장', 1), ('소아', 2), ('귀합니다', 1), ('지켜', 1), ('줍시다', 1), ('좋이', 1), ('ㅏㅇ', 1), ('사라져서', 2), ('안다니고', 1), ('살았는데', 2), ('굽어서', 1), ('쫙', 1), ('피고', 1), ('효가', 1), ('확실해요', 1), ('인천', 1), ('사는데도', 1), ('참잘', 1), ('짖었어요', 1), ('빠지는', 1), ('악', 2), ('있길', 3), ('래', 2), ('맞아주시는', 1), ('더불어', 1), ('먹', 1), ('먹하고', 1), ('심하고', 1), ('떨어져', 1), ('되었네요', 1), ('해주는게', 1), ('친절하셨던거', 1), ('갈수록', 1), ('내시는지', 1), ('청각장애', 1), ('아시면서', 1), ('자꾸', 2), ('섞인', 1), ('대하시네요', 1), ('전날', 1), ('낑낑대며', 1), ('진이더라구요', 1), ('문을', 1), ('개시', 1), ('인터넷', 1), ('13일', 1), ('31일', 1), ('진이던데', 1), ('아니었네요', 2), ('살펴주십니다', 1), ('입냄새', 1), ('너무도', 1), ('때로는', 1), ('따끔한', 1), ('충고', 1), ('느낀다', 1), ('연신', 1), ('사과', 1), ('까지라도', 1), ('건강하셔서', 1), ('줄여주시길', 1), ('하나님', 1), ('개뿔', 1), ('된게', 1), ('회사', 1), ('순', 1), ('안약', 1), ('주더', 1), ('커졌다', 1), ('째야', 1), ('한다면서', 1), ('줬음', 1), ('나가면서', 1), ('필요없어요', 1), ('이러는데', 1), ('살다', 2), ('람', 1), ('바글바글', 1), ('파리', 1), ('날리는', 1), ('알겠음', 1), ('둣', 1), ('\\U0001fa77\\U0001fa77\\U0001fa77', 2), ('🐰✨✨', 1), ('다니고있어요', 4), ('언', 1), ('♥️♥️', 1), ('봐주시는것도', 1), ('좋지만', 1), ('기다리네요', 1), ('반', 2), ('모낭', 1), ('놓는', 2), ('유명해요', 1), ('정확해요', 1), ('쏘쑈', 1), ('5년', 3), ('☆', 1), ('아픈것도', 1), ('싫네', 1), ('달이', 1), ('돼가네', 1), ('지겨워', 1), ('오라는데', 1), ('나을까', 1), ('싸', 1), ('힘내자구', 1), ('아직도', 1), ('완전하게', 1), ('돌아오지', 1), ('않았지만', 2), ('나아가는가', 1), ('아프니', 1), ('깡', 1), ('안녕해야', 1), ('나았다', 1), ('방사선사', 1), ('봐주세', 1), ('추', 2), ('히스', 1), ('불린', 1), ('오름', 1), ('찾는', 1), ('알겠네요', 1), ('유방', 1), ('만족스러운', 1), ('싶어서', 1), ('하시는것도', 1), ('뵀습니', 1), ('둔', 1), ('있었으면', 1), ('좋겠단', 1), ('지혈', 1), ('됐는지', 1), ('알아보다가', 1), ('유일', 1), ('무서워하니까', 1), ('충분히', 1), ('잃는', 1), ('보신다는', 1), ('적음에도', 1), ('불구', 1), ('피임', 1), ('비닐', 1), ('한쪽', 2), ('끼운', 1), ('라이너', 1), ('느림', 1), ('지킴', 1), ('분다', 1), ('잘해주시면', 1), ('감사하겠어요', 1), ('에서가', 1), ('깝', 1), ('다녀야겠네요', 1), ('궁금했던', 1), ('짚어', 1), ('저렴하네요', 2), ('쌤늘', 1), ('넓어서', 1), ('발렛파킹', 2), ('생겼데요', 1), ('기뻐요', 1), ('노산', 1), ('시험관', 5), ('이쁜아가', 1), ('김혜인', 4), ('좋지', 2), ('불친절하네', 1), ('금요일', 1), ('갑상선', 1), ('재검사', 1), ('보단', 2), ('불안하고', 1), ('무서', 1), ('웟', 1), ('친절하시겠지만', 1), ('🌟🧚\\u200d♂️', 1), ('습유', 1), ('배아', 1), ('이식', 1), ('바랍니다', 1), ('🙏🙏🙏', 2), ('국', 1), ('애도', 1), ('둘째', 1), ('길지도', 1), ('래미', 1), ('과장', 2), ('힘든', 1), ('즐거운', 1), ('챙겨주시고', 1), ('살펴봐주셔서', 1), ('졸업', 3), ('따뜻하세요', 2), ('굿굿굿', 1), ('복잡하네요', 1), ('난자', 1), ('채취', 3), ('🙏🙏', 1), ('주사실', 2), ('무성의', 2), ('알려주시는', 1), ('계신데', 2), ('분인것', 1), ('없으셔서', 1), ('불쾌해요', 1), ('잘알려주', 1), ('가고싶어요', 1), ('시끄럽지', 1), ('서로서로', 1), ('난소', 1), ('기능', 1), ('하고있는데', 1), ('혜인', 2), ('초음패', 1), ('걸이', 2), ('생겼네요', 1), ('마리아', 2), ('다니다', 1), ('전원', 1), ('은결', 1), ('과만', 1), ('나온다면', 1), ('해봅니다', 2), ('고조', 1), ('하고싶어요', 1), ('인공수정', 1), ('성공하고', 1), ('믿습니다', 1), ('해주고싶은', 1), ('가길지만', 1), ('쉴게요', 1), ('극', 2), ('난저', 1), ('한두', 1), ('않으시지만', 1), ('희망고문', 1), ('발렛', 1), ('쉬워요', 2), ('비싸요', 1), ('친절하지만', 1), ('대신', 1), ('소식', 3), ('기다려요', 1), ('편리하게', 1), ('있기를', 2), ('기원', 1), ('따뜻해요', 1), ('허창영', 1), ('최화영', 1), ('부부', 1), ('되어주셔서', 1), ('성공할수', 1), ('배란', 2), ('찝어주셔서', 1), ('시도', 1), ('되었어여', 1), ('차피', 1), ('김주영', 1), ('슨상님', 1), ('나팔관조영', 1), ('정액검사', 1), ('난임', 3), ('타이틀', 1), ('무겁지만', 1), ('따뜻한것', 1), ('어려움', 1), ('깔끔하다', 1), ('7시', 1), ('반부터', 1), ('가능해서', 1), ('가능한게', 1), ('장점', 1), ('수술실', 1), ('맡은바', 1), ('언능', 1), ('천사', 1), ('만나고싶다', 1), ('않이', 1), ('부으셔', 1), ('가셔서', 1), ('중복', 1), ('의뢰', 1), ('차병원', 1), ('7', 4), ('가까워요', 1), ('ㅂㅌㅇㄴㄷ', 1), ('나쁜', 1), ('냉이', 1), ('맞아라', 1), ('봐라', 1), ('없을거', 1), ('같', 1), ('갈껄', 1), ('빠짐', 1), ('\\U0001f979\\U0001fa77', 1), ('생겨도', 1), ('찜콩', 1), ('심니다', 1), ('닥', 1), ('어이없는', 1), ('중엽', 1), ('가상', 1), ('치의', 1), ('자상하시구', 1), ('일어날', 1), ('위험성', 1), ('의지', 1), ('교', 1), ('빼고싶어요', 1), ('무서워하는데도', 1), ('달래주시고', 1), ('기다려주세요', 1), ('기침', 1), ('15년', 1), ('책임져주시는', 1), ('좋겠습니다', 1), ('넣어줄', 1), ('넣어줘요', 1), ('노아요', 1), ('낳아주세요', 1), ('용하십니다', 1), ('알아보고있었는데', 1), ('가야면', 1), ('좋을꺼', 1), ('꼼꼼하십니다', 1), ('놓으시는것', 1), ('틀니아주잘', 1), ('아니죠', 1), ('더니', 2), ('무거워', 1), ('주저앉앗다', 1), ('좋아졌다', 1), ('월요일', 1), ('맞아야겟다', 1), ('보낸', 1), ('부슬부슬', 1), ('내리네요', 1), ('비가오려나', 1), ('하구요', 2), ('뻑뻑', 1), ('추워져', 1), ('무거워지네요', 1), ('다녀야겟어요', 1), ('일과', 1), ('버렷', 1), ('발걸음', 1), ('가법', 1), ('결혼', 3), ('쥰비할', 1), ('잘맞았어서', 1), ('방뮨', 1), ('하규', 1), ('놀았더니', 1), ('살이', 3), ('쪄서', 1), ('방뮨했습니당', 1), ('마뮤리', 1), ('보았어서', 1), ('살찐', 1), ('빼러', 1), ('뺏던거', 1), ('도로', 1), ('쪄', 1), ('버려서', 1), ('그치만', 1), ('확실하니까', 2), ('볼라구요', 1), ('호르몬', 1), ('빠지던', 2), ('월동', 1), ('킬로', 1), ('빠졌습니다', 1), ('체중', 2), ('돌아갔지만', 1), ('체지방', 1), ('돌려놓을', 1), ('💛', 1), ('해서도', 1), ('궁금한게', 1), ('많았고', 1), ('궁금했는데', 1), ('좋더라구요', 1), ('보이시', 1), ('갈지', 1), ('했는디', 1), ('됐으면', 1), ('좋겠는', 1), ('틀니', 3), ('착용', 1), ('알아보려고', 1), ('적게끔', 1), ('맞춰주셔서', 1), ('들린거였는데', 1), ('무서워하는데', 1), ('왔', 2), ('마세여', 1), ('ㅠㅠㅋㅋㅋ', 1), ('좋으시구', 1), ('하셨다고', 1), ('ㅈㅎㅇ', 1), ('않게하세요', 1), ('ㅊㄴ', 1), ('ㅣㅛ', 1), ('죻으', 1), ('맞네요', 1), ('찾기', 1), ('힘들었던', 1), ('좋와', 1), ('맞앗는데', 1), ('놓아주셨어용', 1), ('친절한안내', 1), ('미용', 2), ('휴무', 1), ('친절하십시다', 1), ('혈관', 1), ('찾아주셔서', 1), ('🍀', 1), ('하시구', 2), ('저해', 1), ('장스', 3), ('365일', 1), ('데노', 1), ('지냈어요', 1), ('인포', 1), ('컨디션', 3), ('습함', 1), ('샌', 2), ('흔적', 1), ('실제', 2), ('물살', 1), ('짝', 1), ('자국', 1), ('어플', 1), ('시간대', 1), ('기는', 1), ('봐주시는듯', 1), ('친절하네요', 1), ('이인식', 1), ('잦은데', 1), ('폰', 1), ('컵', 1), ('올려', 1), ('선반', 1), ('탈의실', 1), ('범승', 1), ('낯설고', 1), ('여성', 1), ('늦게까지', 2), ('추워져서', 1), ('채', 1), ('지심', 1), ('가려움증', 1), ('보여', 1), ('내질', 1), ('따질려다가', 1), ('만큼이나', 1), ('이쁘신', 1), ('다녀오는', 1), ('하시던', 1), ('감사해서', 1), ('찾아갑니다', 1), ('지나도', 1), ('드려서', 1), ('셈', 1), ('힘드실텐데', 1), ('진맥', 1), ('비쌈', 1), ('갈라구', 1), ('용내용', 1), ('수치심', 1), ('줬으면', 1), ('좋겠음', 1), ('양', 2), ('꺼', 1), ('👍👍🤭', 1), ('셋째', 1), ('비만', 1), ('받아주시고', 1), ('면서', 1), ('주시고요', 1), ('갈려고', 1), ('먹는것도', 1), ('군것질', 1), ('할려고', 1), ('해야겠더라고요', 1), ('💊', 1), ('잘수', 1), ('심장', 3), ('예민해', 1), ('지지도', 1), ('비싼거', 1), ('아니시고', 1), ('민망한', 1), ('좋았어용', 1), ('뽑음', 1), ('ㅠㅅㅠ', 1), ('중딩', 2), ('빠른가', 1), ('싶지만', 1), ('정현구', 1), ('믿으니까', 1), ('♥︎', 2), ('투머', 1), ('치하시지만', 1), ('없으셔', 1), ('tmi', 1), ('사정', 1), ('맛있어요', 1), ('간사', 1), ('이모', 1), ('호선', 1), ('분소', 3), ('황송', 1), ('문의', 1), ('드렸을', 1), ('해주셨었는데', 1), ('간염', 3), ('여직원', 1), ('께서는', 1), ('포스트잍', 1), ('적어주셨습니다', 1), ('읽어주시며', 1), ('챙겨주셨습니다', 1), ('소중한', 1), ('요점', 1), ('해주면', 1), ('서술', 1), ('지루해요', 1), ('쯔', 2), ('보건소', 1), ('할아버지', 2), ('아닌데도', 1), ('하시던데', 1), ('듣고있던', 1), ('피곤할것', 1), ('들하세요', 1), ('🙏🏻🙏🏻', 1), ('만들고', 1), ('비싸게', 1), ('예방주사', 1), ('5800원', 1), ('ㄴ', 1), ('받고있습니다', 1), ('신체', 1), ('찍어주셔서', 1), ('풀렸는지', 1), ('솔솔', 1), ('신축', 1), ('쾌적하네요', 1), ('해당', 1), ('돌아왔는데', 1), ('일사천리', 1), ('원하였는데', 2), ('가라앉고', 1), ('뭉쳐있는', 1), ('찾아주시고', 2), ('갔지만', 1), ('친절하셨는데', 1), ('여태껏', 1), ('조다', 1), ('도아', 1), ('조합원', 1), ('11', 2), ('서한', 1), ('하신다고요', 1), ('교회', 1), ('건초염', 1), ('아파져서', 1), ('권사', 1), ('하시다', 1), ('걷게', 2), ('되신', 1), ('드라마틱하게', 1), ('되셔서', 1), ('훨신', 1), ('부드러워지네요', 1), ('매일', 1), ('해보려구요', 1), ('띠', 1), ('용했는데', 1), ('화제', 1), ('챙겨주시네요', 1), ('아팠네요', 1), ('나았어여', 1), ('뽑아주세요', 1), ('했었나', 1), ('있을것', 1), ('다인', 1), ('김현주', 1), ('하셨던', 1), ('찾', 1), ('치료받고나면', 1), ('개운해', 1), ('그럭저럭', 1), ('괜춘', 1), ('👍👍👍👍👍', 1), ('좋으세여', 1), ('좋아져요', 1), ('우울했는데', 1), ('상냥한', 1), ('울컥', 1), ('했답니다', 1), ('나니', 1), ('치료받으니', 1), ('고쳐주시니', 1), ('지어주십니다', 1), ('어떠한', 1), ('피드백', 1), ('만주', 1), ('아닌지', 1), ('싶은데요', 1), ('모르겠네요', 1), ('하셨지만', 1), ('자존감', 1), ('낮추는', 1), ('하시더군요', 1), ('옮겼는데', 1), ('많긴한데', 1), ('들구요', 1), ('몰랐던', 1), ('아이고', 1), ('허준', 2), ('마셈', 1), ('심지어', 1), ('보자', 1), ('있었더라구요', 1), ('살맛', 2), ('납니다', 2), ('가시기', 1), ('좋아지네', 1), ('직', 1), ('방이', 1), ('똑닥', 1), ('친찰', 1), ('하기가', 1), ('마트', 2), ('친절하시다', 1), ('친절해용', 1), ('초록', 2), ('했던말', 1), ('해야하고', 1), ('스스로', 1), ('하셔야', 1), ('할듯', 1), ('좋은셔', 1), ('쉽고', 1), ('되여', 2), ('아프거나', 1), ('힘들데가기', 1), ('용해', 2), ('안좋으면', 2), ('들어주어서', 1), ('좋고요', 1), ('테라', 2), ('좋더라', 1), ('하나같이', 1), ('유쾌하시고', 1), ('알겠어용', 1), ('😁👍👍👍', 1), ('❤️💕💕', 1), ('적었고', 1), ('넘었습니다', 1), ('편한하게', 1), ('🍀🍀🍀', 1), ('치석제거', 1), ('시원했어여', 1), ('\\U0001fa77', 1), ('💛💛', 1), ('ㅎㅎㅎㅎㅎ', 1), ('채움', 3), ('깊숙히', 1), ('뽑으라고', 1), ('가능하다고', 1), ('치료받길', 1), ('했다는', 1), ('찾으시', 1), ('가보세요', 1), ('고쳐주셨', 1), ('😉\\U0001fae1', 1), ('아프셔서', 1), ('모신다음', 1), ('착하셔요', 1), ('거동', 1), ('부축', 1), ('가지만', 1), ('붙으신', 1), ('싶을', 2), ('시원하구', 1), ('만족스런', 1), ('찜', 1), ('되진', 1), ('맞는듯', 1), ('5회', 1), ('닉네임', 1), ('바꿔서', 1), ('달아야', 1), ('젊었을', 1), ('나왔다고', 1), ('일색', 1), ('미적', 1), ('곱니다', 1), ('책임감', 1), ('엄청난', 1), ('완벽', 1), ('추구', 1), ('분이더군요', 1), ('청담', 1), ('눈밑', 3), ('땡', 1), ('할려다가', 1), ('는셈', 1), ('드라마틱', 1), ('어려', 2), ('만들어', 1), ('준다더니', 1), ('뱉은말', 1), ('지키는', 1), ('상남자', 1), ('열흘', 1), ('지나서', 2), ('퍼진', 1), ('녹', 1), ('엇어', 1), ('진솔한', 1), ('정이', 1), ('해주셨던게', 1), ('기억나서', 1), ('붉고', 1), ('심해져서', 1), ('으로의', 1), ('잡아주셔서', 1), ('자면서', 1), ('핵심', 1), ('퍼지고', 1), ('꺼짐과', 1), ('연어리쥬란', 1), ('하겠다고', 1), ('꼼꼼하도', 1), ('스케', 1), ('설렁설렁', 1), ('닥털', 1), ('담배', 1), ('세세히', 1), ('아파트', 1), ('입주', 1), ('쭈', 1), ('욱', 1), ('고마우신', 1), ('란', 1), ('헐', 1), ('액', 1), ('명확한', 1), ('이참', 1), ('물어봄', 1), ('즣아', 1), ('협소해', 1), ('에만', 1), ('수천', 1), ('쓰면서', 1), ('미뤘습니다', 1), ('내준', 1), ('해줬어요', 1), ('정직하신', 1), ('어쩐', 1), ('물어보지도', 1), ('않았는데', 1), ('주신것', 1), ('해주시더니', 1), ('참된', 1), ('만난', 1), ('쓸대', 1), ('할것만', 1), ('돼셨지만', 1), ('살려서', 1), ('추워도', 1), ('갈수가', 1), ('맞구', 1), ('치료받는데요', 1), ('기운', 2), ('피곤', 1), ('해보', 1), ('보이셨는데도', 1), ('노곤', 2), ('나온것', 1), ('복잡', 1), ('체형', 1), ('가능하다니', 1), ('소파', 2), ('비뚤게', 1), ('앉는', 1), ('버릇', 1), ('균형', 1), ('된다니', 1), ('풀어주시네요', 1), ('실손', 1), ('나비', 1), ('일못가고', 1), ('소화기', 1), ('약하니까', 1), ('안좋다고', 1), ('맨날', 1), ('먹지말라고', 1), ('몰래', 1), ('먹긴', 1), ('눈치', 1), ('먹겠어요', 1), ('써주시는거', 1), ('갑자', 1), ('고심', 1), ('이었던', 1), ('아프시게', 1), ('서는', 1), ('절약', 1), ('끝났다고', 1), ('체고', 1), ('조심하는게', 1), ('느껴지고', 1), ('먹으라고', 1), ('놔둔', 1), ('느껴지네요', 1), ('봐주십니당', 1), ('받을거', 1), ('꼼꼼하셔서', 2), ('보이지', 1), ('않네요', 1), ('명확하게', 1), ('치료받으려고', 1), ('안정', 1), ('찾을', 1), ('받을게요', 1), ('생기셨어요', 1), ('명함', 1), ('취저', 1), ('\\U0001fae1', 1), ('까지도', 1), ('ㅈㅇ', 1), ('있아요', 1), ('넘치도록', 1), ('빈혈', 2), ('혼잡하니', 1), ('서두르세요', 1), ('늘어', 1), ('린아', 1), ('들이', 1), ('많은걸', 1), ('찾게되', 1), ('놀랐습니다', 1), ('편안해지는', 1), ('있으시고', 1), ('지나칠', 1), ('뻔했던', 1), ('새것', 1), ('중요성', 1), ('씁니다', 1), ('만천원', 1), ('좋겠다고', 1), ('멍', 1), ('되나요', 1), ('통틀어', 1), ('싫으면', 1), ('두든가', 1), ('힘드셨겠지만', 1), ('띤', 1), ('편안함', 1), ('느끼셨던거', 1), ('많으시다', 1), ('불안한', 1), ('있으셨겠지만', 1), ('상냥하신', 1), ('사선', 1), ('생', 1), ('슬퍼하지', 1), ('않으셨습니다', 1), ('디닐', 1), ('노오', 1), ('튜', 1), ('ㅜㅌ', 1), ('입덧', 1), ('힘들', 1), ('다녀욤', 1), ('들께서도', 1), ('왔어용', 1), ('하니까', 2), ('한글', 5), ('찝어서', 1), ('프론트', 1), ('밝으시고', 1), ('틴', 1), ('열려있어서', 1), ('해여', 1), ('좋으셔요', 1), ('재밌어요', 1), ('불친절한', 1), ('나빠서', 1), ('돌아오게', 1), ('아무리', 1), ('아파도', 1), ('세히아러', 1), ('다녀왔던', 1), ('되었다', 1), ('급한데로', 1), ('심한지', 1), ('뭔', 1), ('심한건', 1), ('물어보니까', 1), ('드린다고', 1), ('받는다면', 1), ('나쁘셨는지', 1), ('뒤에와서', 2), ('맡으러', 1), ('안주시', 1), ('나눠', 2), ('서주시', 1), ('온다고', 1), ('않았냐', 1), ('싸움', 1), ('하시는지', 1), ('맞춰가며', 1), ('했나', 1), ('방맛', 1), ('괞찬', 1), ('자상하고', 1), ('교통', 1), ('넓은', 1), ('1500원', 1), ('산', 2), ('최애', 1), ('아작', 1), ('받고자', 1), ('알음', 2), ('찾아왔는데', 1), ('찾아온거', 1), ('달인', 1), ('이심', 1), ('맡기는', 1), ('끝내주려하', 1), ('아픈가', 1), ('받은건', 1), ('ㅋㅋㅋㅋㅋㅋㅋㅋ', 1), ('않아도', 1), ('힐때', 1), ('쓰면', 1), ('슈슈슝', 1), ('가벼워진', 1), ('라니', 1), ('ㅣㅓ', 1), ('배아러', 1), ('ㅗ', 1), ('초어', 1), ('챙기며', 1), ('지어주시는것', 1), ('친잘힌', 1), ('자상한', 1), ('편아하고', 1), ('조절', 1), ('안되어서', 1), ('있는것', 1), ('님들', 1), ('어렸을', 1), ('함소', 5), ('중랑', 1), ('문자', 1), ('사러', 1), ('제품', 1), ('놔서', 1), ('편했네요', 1), ('한참', 1), ('넉넉하게', 1), ('사두', 1), ('든든하네요', 1), ('숨쉬기', 1), ('힘들어하고', 1), ('콧물', 1), ('숙면', 1), ('예민한것', 1), ('같고요', 1), ('거부', 1), ('가자고', 1), ('신나서', 1), ('나서요', 1), ('길어도', 1), ('책볼', 1), ('넓게', 1), ('지루해하지', 1), ('않고요', 1), ('만족하면', 1), ('살때', 1), ('다닌것', 1), ('현재', 1), ('먹어요', 1), ('먹이는게', 1), ('먹여도', 1), ('들었으면', 1), ('☺💖', 1), ('의향', 1), ('손병국', 1), ('다녀올', 1), ('초반', 1), ('친절하시더니', 1), ('지날수록', 1), ('변하시네요', 1), ('한결같지', 1), ('않으시고', 1), ('말아주세요', 1), ('한산하니', 1), ('작으세요', 1), ('바쁘네요', 1), ('서해', 1), ('주사기', 1), ('특이하다', 1), ('고행', 1), ('아프단', 1), ('얘길', 1), ('주사약', 1), ('들어가는줄도', 1), ('몰랐', 1), ('대요', 1), ('정산', 1), ('5월', 1), ('모친', 3), ('모신', 1), ('지났다', 1), ('요양', 1), ('괜찮음', 1), ('친절하시지만', 1), ('몇몇', 1), ('초진', 1), ('하더라도', 1), ('비쌉니다', 1), ('부의', 1), ('약인', 1), ('모르십니다', 1), ('너저분합니다', 1), ('오실', 1), ('볼수도', 1), ('편하네요', 1), ('먹던', 1), ('했었습니다', 1), ('일절', 1), ('받기로', 1), ('걸린거', 1), ('3만', 1), ('요구', 1), ('환불', 1), ('높으셔도', 1), ('다치는데', 1), ('막히게', 1), ('낫던', 1), ('맞자마자', 1), ('돌아갔던', 1), ('돌', 1), ('쥐어졌던', 1), ('주먹', 1), ('쥐어지고', 1), ('신기하더라고요', 1), ('사시', 1), ('뛰어나세요', 1), ('회전', 1), ('도전', 1), ('해볼', 1), ('그리', 1), ('있다는', 1), ('뻥', 1), ('심각하게', 1), ('아니라면', 1), ('달래주는게', 1), ('나쁜지', 1), ('지에', 1), ('맞추었어요', 1), ('써주신', 1), ('아니어도', 1), ('지나가면', 1), ('없었는지', 1), ('차이나네요', 1), ('저렴하면서', 1), ('해준다', 1), ('잘나요', 1), ('섬쇠', 1), ('받으려', 1), ('규모', 1), ('쾌적하게', 1), ('쓰네요', 1), ('시즌', 1), ('친절하며', 1), ('인자하시고', 1), ('섷명', 1), ('치절해', 1), ('안나아서', 1), ('온건데', 1), ('놀랬어요', 1), ('찾습니다', 1), ('오면서', 1), ('찾아보다가', 1), ('갔었어요', 1), ('해가면서', 1), ('받았을', 1), ('뻐근함이', 1)])\n"
     ]
    }
   ],
   "source": [
    "# 토큰의 빈도수\n",
    "print(nlp_tokenizer.word_counts)"
   ]
  },
  {
   "cell_type": "code",
   "execution_count": 109,
   "metadata": {},
   "outputs": [
    {
     "name": "stdout",
     "output_type": "stream",
     "text": [
      "{'도': 1, '잘': 2, '이': 3, '진료': 4, '치료': 5, '에': 6, '님': 7, '너무': 8, '선생님': 9, '가': 10, '원장': 11, '좋아요': 12, '들': 13, '친절하시고': 14, '설명': 15, '의사': 16, '친절하고': 17, '을': 18, '간호사': 19, '병원': 20, '더': 21, '치과': 22, '를': 23, '곳': 24, '친절하게': 25, '안': 26, '보기': 27, '방문': 28, '분들': 29, '은': 30, '으로': 31, '내용': 32, '다': 33, '고': 34, '감사합니다': 35, '해주셔서': 36, '하고': 37, '요': 38, '친절하세요': 39, '는': 40, '꼼꼼하게': 41, '로': 42, '친절해요': 43, '직원': 44, '침': 45, '쌤': 46, '과': 47, '모두': 48, '때': 49, '항상': 50, '해주세요': 51, '상담': 52, '해': 53, '정말': 54, '입니다': 55, '받고': 56, '에서': 57, '과잉': 58, '여기': 59, '해주시고': 60, '분': 61, '만': 62, '많이': 63, '한': 64, '의': 65, '했는데': 66, '추천': 67, '같아요': 68, '까지': 69, '다른': 70, '것': 71, '한의원': 72, '친절': 73, '꼼꼼히': 74, '처음': 75, '효과': 76, '스케일링': 77, '좋았어요': 78, 'ㅎㅎ': 79, '넘': 80, '약': 81, '환자': 82, '마음': 83, '서': 84, '합니다': 85, '봐주세요': 86, '통증': 87, '진짜': 88, '시설': 89, '해주십니다': 90, '해서': 91, '없이': 92, '중': 93, '검진': 94, '해주시': 95, '오늘': 96, '적': 97, '기분': 98, '인데': 99, '하는': 100, '친절하셔서': 101, '좋습니다': 102, '시술': 103, '친절한': 104, '엄청': 105, '주사': 106, '깨끗하고': 107, '허리': 108, '아이': 109, '하게': 110, '와': 111, '저': 112, '👍': 113, '께서': 114, '마다': 115, '갔는데': 116, '샘': 117, '내': 118, '부터': 119, '했어요': 120, '아프게': 121, '하나': 122, '검사': 123, '물리치료': 124, '좋은': 125, '갑니다': 126, '없고': 127, '후': 128, '최고': 129, '할': 130, 'ㅠㅠ': 131, '시간': 132, '치아': 133, '말': 134, '수': 135, '제': 136, '이라': 137, '집': 138, '사람': 139, '보다': 140, '또': 141, '맞고': 142, '좀': 143, '실력': 144, '게': 145, '늘': 146, '굿': 147, '데스크': 148, '인': 149, '아주': 150, '세심': 151, '친절하십니다': 152, '감사': 153, '생각': 154, '해주셨어요': 155, '이에요': 156, '갈': 157, '근처': 158, '대기': 159, '두': 160, '바로': 161, '아파서': 162, '동네': 163, '하시고': 164, '않게': 165, '앞': 166, '다시': 167, '좋았습니다': 168, '있어요': 169, '자세히': 170, '주셔서': 171, '친절합니다': 172, '대': 173, '왔어요': 174, '있어서': 175, '때문': 176, '처방': 177, '어깨': 178, '했습니다': 179, '이랑': 180, '계속': 181, '아픈': 182, '예약': 183, '에도': 184, '받았습니다': 185, '봐주시고': 186, '아프지': 187, '리뷰': 188, '관리': 189, '걱정': 190, '해요': 191, '완전': 192, '한번': 193, '다음': 194, '있는': 195, '몸': 196, '봐주셔서': 197, '못': 198, '자주': 199, '께': 200, '좋네요': 201, '깔끔하고': 202, '피부': 203, '번': 204, '전': 205, '정도': 206, '비': 207, 'ㅠ': 208, '주': 209, '기': 210, '랑': 211, '사랑니': 212, '받았어요': 213, '대해': 214, '하세요': 215, '거': 216, '목': 217, '그': 218, '자세하게': 219, '임플란트': 220, '도수': 221, '해주시네요': 222, '하': 223, '받았는데': 224, '받으러': 225, '라': 226, '이용': 227, '보고': 228, '마취': 229, 'ㅎ': 230, '가는': 231, '왔는데': 232, '느낌': 233, '네': 234, '맘': 235, '교정': 236, '편안하게': 237, '오래': 238, '친절히': 239, '덕분': 240, '안내': 241, '치위생사': 242, '나': 243, '주차': 244, '해줘요': 245, '1': 246, '일': 247, '이번': 248, '친절해서': 249, '독감': 250, '편하게': 251, '가격': 252, '필러': 253, '왜': 254, '하셔서': 255, '있습니다': 256, '감사해요': 257, '드립니다': 258, '다니고': 259, '좋아졌어요': 260, '그리고': 261, '분위기': 262, '부분': 263, '진행': 264, '감동': 265, '아': 266, '주시': 267, '꾸준히': 268, '지인': 269, '한테': 270, '이런': 271, '않고': 272, '발치': 273, '응대': 274, '봐주십니다': 275, '믿고': 276, '재': 277, '심': 278, '신경': 279, '얼굴': 280, '말씀': 281, '첫': 282, '보톡스': 283, '이제': 284, '여': 285, '없어서': 286, '받아': 287, '3': 288, '사': 289, '실': 290, '하러': 291, '예요': 292, '주세요': 293, '증상': 294, '정착': 295, '모든': 296, '충치': 297, '2': 298, '에게': 299, '이렇게': 300, '같이': 301, '추나': 302, '내과': 303, '하는데': 304, '소개': 305, '오랜': 306, '치료받고': 307, '알': 308, '정기': 309, '믿음': 310, '정형외과': 311, '수술': 312, '꼼꼼해요': 313, '꼭': 314, '가서': 315, '무엇': 316, '좋고': 317, '상태': 318, '필요한': 319, '좋게': 320, '상세': 321, '온': 322, '잇몸': 323, '다니는': 324, '만족합니다': 325, '점': 326, '해주시는': 327, '친절하셔요': 328, '들어요': 329, '좋으세요': 330, '친철': 331, '원': 332, '올': 333, '부위': 334, '다녀': 335, '그냥': 336, '손': 337, '니': 338, '신뢰': 339, '접수': 340, '동안': 341, '아프고': 342, '주심': 343, '같은': 344, '열심히': 345, '조금': 346, '하면서': 347, '스켈링': 348, '듯': 349, '맞으러': 350, '고민': 351, '에요': 352, '실장': 353, '시': 354, '조아요': 355, '특히': 356, '비용': 357, '없어요': 358, '빠르게': 359, '날': 360, 'ᆢ': 361, '진심': 362, '진단': 363, '♡': 364, '드려요': 365, '이유': 366, '이나': 367, '꼼꼼하고': 368, '매우': 369, '지': 370, '해야': 371, '만족': 372, '일요일': 373, '친절하신': 374, '간호': 375, '있는데': 376, '하지': 377, '많은': 378, '주변': 379, '왔네요': 380, '예': 381, '가요': 382, '오래된': 383, '되는': 384, '새로': 385, '몇': 386, '데': 387, '에는': 388, '전혀': 389, '가족': 390, '짱': 391, '감사했습니다': 392, '그래서': 393, '왔습니다': 394, '째': 395, '자세한': 396, '걸': 397, '라고': 398, '친절하시구': 399, '손목': 400, '되어': 401, '있어': 402, '제일': 403, '역시': 404, '엄마': 405, '된': 406, '빨리': 407, '문제': 408, '하시는': 409, '받을': 410, '체크': 411, '면': 412, 'ㅋㅋ': 413, '굳': 414, '딱': 415, '긴장': 416, '있을': 417, '엔': 418, '주십니다': 419, '참': 420, '다녀왔어요': 421, '후기': 422, '들도': 423, '먹고': 424, '저희': 425, '좋': 426, '이고': 427, '진': 428, '차': 429, '매번': 430, '좋아용': 431, '별로': 432, '하면': 433, '무조건': 434, '계신': 435, '도움': 436, '여러': 437, '거의': 438, '군데': 439, '봐주시네요': 440, '하네요': 441, '편안한': 442, '소아과': 443, '봤는데': 444, '여자': 445, '이해': 446, '수액': 447, '많아서': 448, '친절하시네요': 449, '입원': 450, '가지': 451, '건강검진': 452, '제대로': 453, '한결': 454, '내시경': 455, '여기는': 456, '끝': 457, '임': 458, '눈': 459, '금방': 460, '이네': 461, '한약': 462, '건물': 463, '처럼': 464, '얘기': 465, '전문': 466, '친절하': 467, '단골': 468, '간': 469, '내부': 470, '언제나': 471, '해주고': 472, '다니던': 473, '아파': 474, '돈': 475, '배려': 476, '진찰': 477, '하기': 478, '위해': 479, '합리': 480, '습': 481, '검색': 482, '층': 483, '고생': 484, '넓고': 485, '근데': 486, '갑자기': 487, '세': 488, '꼼꼼하세요': 489, '되고': 490, '👍🏻': 491, '절대': 492, '접종': 493, '모습': 494, '갔어요': 495, '보세요': 496, '편해요': 497, '심해서': 498, 'ㅋ': 499, '다리': 500, '감기': 501, '생겨서': 502, '급하게': 503, '위생': 504, '직접': 505, '아니라': 506, '있게': 507, '디스크': 508, '연세': 509, '히': 510, '함': 511, '상': 512, '가까워서': 513, '해주셔요': 514, '있고': 515, '개': 516, '해줘서': 517, '인지': 518, '보니': 519, '보통': 520, '했네요': 521, '시작': 522, '약도': 523, '👍👍': 524, \"'\": 525, '개월': 526, '어': 527, '봐': 528, '친절하셨어요': 529, '안심': 530, 'ㆍ': 531, '손가락': 532, '강': 533, '선택': 534, '4': 535, '않아요': 536, '😀': 537, '좋겠어요': 538, '꼼꼼한': 539, '쪽': 540, '호전': 541, '의료': 542, '알려주시고': 543, '는데': 544, '깨끗해서': 545, '굉장히': 546, '봐요': 547, '그런지': 548, '일단': 549, '잘해주시고': 550, '편히': 551, '확인': 552, '줄': 553, '식': 554, '구': 555, '대학병원': 556, '양심': 557, '의원': 558, '해줍니다': 559, '없는': 560, '많아요': 561, '뒤': 562, '해주신': 563, '받아서': 564, '살': 565, '이상': 566, '한다고': 567, '좋아서': 568, '알려주셔서': 569, '어떻게': 570, '산부인과': 571, '토요일': 572, '최대한': 573, '쾌적하고': 574, '받는': 575, '절하': 576, '금액': 577, '어머니': 578, '모시': 579, '큰': 580, '신경치료': 581, '장님': 582, '아프면': 583, '건강': 584, '염증': 585, '감사했어요': 586, '코로나': 587, '같아서': 588, '않아서': 589, '친절함': 590, '오픈': 591, '불편한': 592, '운동': 593, '니까': 594, '확실히': 595, '용': 596, '아들': 597, '제거': 598, '결과': 599, '그래도': 600, '니당': 601, '해주는': 602, '잘해주세요': 603, '보험': 604, '…': 605, '됩니다': 606, 'ㅜ': 607, '저렴하고': 608, '예정': 609, '지금': 610, '부담': 611, '뭐': 612, '형': 613, '및': 614, '오후': 615, '충격파': 616, '되서': 617, '이벤트': 618, '이다': 619, '어금니': 620, '속': 621, '불친절': 622, '가까운': 623, '같아': 624, '싶은': 625, '없네요': 626, '받은': 627, '아플': 628, '주시네요': 629, '봄': 630, '이후': 631, '자세하고': 632, '감': 633, '1년': 634, '봅니다': 635, '맞았는데': 636, '같습니다': 637, '하시네요': 638, '쉽게': 639, '하려고': 640, '하다가': 641, '젠': 642, '레진': 643, '그런': 644, '엑스레이': 645, 'ㅋㅋㅋ': 646, '가성': 647, '괜찮아요': 648, '자리': 649, '봐주시는': 650, '김': 651, '수납': 652, 'ㅜㅜ': 653, '봐주셨어요': 654, '과는': 655, '재활': 656, '좋음': 657, '다닐': 658, '개원': 659, '30분': 660, '건': 661, '써서': 662, '내내': 663, '이마': 664, '기적': 665, '친구': 666, '첨': 667, '본': 668, '전체': 669, '6': 670, '선물': 671, '여기저기': 672, '되게': 673, '씩': 674, '괜찮은': 675, '근': 676, '주차장': 677, '예전': 678, '아침': 679, '하셔요': 680, '좋아여': 681, '보약': 682, '팔': 683, '가세': 684, '등등': 685, '하루': 686, '깨끗해요': 687, '굿굿': 688, '해주셨습니다': 689, '위': 690, '발목': 691, '한의사': 692, '점점': 693, '와서': 694, '😄': 695, '만에': 696, '마지막': 697, '야간': 698, '다녔는데': 699, '같은데': 700, '최신': 701, '맞는': 702, '맞아요': 703, '기도': 704, '가장': 705, '들어': 706, '했고': 707, '권유': 708, '전부': 709, '많은데': 710, '달': 711, '😊': 712, '예방접종': 713, '남자': 714, '거리': 715, '만큼': 716, '매주': 717, '함께': 718, '하라': 719, '초음파': 720, '이었는데': 721, '가네요': 722, '다신': 723, '없어': 724, '상봉': 725, '빠르고': 726, '얼마': 727, '좋아져서': 728, '열': 729, '지만': 730, '이야기': 731, '같네요': 732, '이전': 733, '5': 734, '이름': 735, '맛집': 736, '였는데': 737, '시원하게': 738, '추가': 739, '보': 740, '일등': 741, '처리': 742, '손님': 743, '먼저': 744, '않은': 745, '정성': 746, '좋아지고': 747, '받았네요': 748, '치': 749, '다음주': 750, '여서': 751, '했던': 752, '될': 753, '하겠습니다': 754, '생활': 755, '영수증': 756, '번창': 757, '봉침': 758, '이세': 759, '외과': 760, '참고': 761, '우리': 762, '기본': 763, '파스': 764, '두번째': 765, '조어': 766, '추석': 767, '대한': 768, '편한': 769, '년': 770, '해주십니당': 771, '담': 772, '조용하고': 773, '서비스': 774, '깔끔해요': 775, '맞을': 776, '여긴': 777, '피': 778, '다닌': 779, '고맙습니다': 780, '가봤는데': 781, '좋으시고': 782, '다이어트': 783, '나서': 784, '등': 785, '않아': 786, '자기': 787, '할수': 788, '따로': 789, '땐': 790, '일이': 791, '겁': 792, '주치의': 793, '동': 794, '무릎': 795, '경력': 796, '추합니다': 797, '잘해주셔서': 798, '갔다가': 799, '뿐': 800, 'ㅎㅎㅎ': 801, '있었어요': 802, '본인': 803, '일주일': 804, '중이': 805, '성의': 806, '보는': 807, '봐서': 808, '뼈': 809, '부모님': 810, '나았어요': 811, '\\U0001f979': 812, '다만': 813, '무서웠는데': 814, '하다': 815, '가게': 816, '하는게': 817, '있었습니다': 818, '할거': 819, '번째': 820, '요즘': 821, '나이': 822, '남편': 823, '신': 824, '없음': 825, '인상': 826, '돼서': 827, '치료받으러': 828, '원래': 829, '전문의': 830, '오랫동안': 831, '언니': 832, '너': 833, '편': 834, '하는지': 835, '처방전': 836, '말투': 837, '봤어요': 838, '이신': 839, '아닌': 840, '화장실': 841, '평일': 842, '경험': 843, '맞게': 844, '가깝고': 845, '레이저': 846, '해도': 847, '영': 848, '사가정': 849, '이비인후과': 850, '명의': 851, 'ㅡ': 852, '일반': 853, '자세해요': 854, '할머니': 855, '쏘': 856, '턱': 857, '기억': 858, '너무나': 859, '저렴하게': 860, '안좋아서': 861, '덕': 862, '센스': 863, '이라고': 864, '가는데': 865, '화': 866, '사진': 867, '들어주시고': 868, '스럽게': 869, '놔주셔서': 870, '공감': 871, '돼요': 872, '맞아': 873, '있네요': 874, '좋아': 875, '에서는': 876, '찾다가': 877, '감사합니당': 878, '정확한': 879, '성': 880, '있다': 881, '보시': 882, '다닙니다': 883, '있으면': 884, '링': 885, '만족해요': 886, '있었는데': 887, '강추': 888, '문': 889, '다니다가': 890, '우연히': 891, '카운터': 892, '꼼꼼하시고': 893, '일찍': 894, '기계': 895, '유지': 896, '써주셔서': 897, '이지만': 898, '되었습니다': 899, '타': 900, '다녀요': 901, '하여': 902, '느껴져서': 903, '있으신': 904, '서도': 905, '칭찬': 906, '성심': 907, '성의껏': 908, '별': 909, '☺️': 910, '깔끔해서': 911, '방법': 912, '인생': 913, '차분하고': 914, '라도': 915, '쭉': 916, '많고': 917, '불친절하고': 918, '맞았어요': 919, '좋으십니다': 920, '크고': 921, '안마': 922, '쾌적해요': 923, '서울': 924, '발': 925, '아직': 926, '목소리': 927, '미소': 928, '편하고': 929, '죠': 930, '차분히': 931, '서류': 932, '그렇게': 933, '많네요': 934, '연락': 935, '놀랐어요': 936, '인사': 937, '친절하세용': 938, '이사': 939, '작년': 940, '건지': 941, '어르신': 942, '위치': 943, '해주': 944, '다녀왔는데': 945, '만족스러워요': 946, '다행': 947, '점심시간': 948, '없습니다': 949, '저렴한': 950, '된다고': 951, '했더니': 952, '근육': 953, '하지만': 954, '토닝': 955, '대표': 956, '짜증': 957, '모드': 958, '볼': 959, '갔더니': 960, '으로도': 961, '받고있어요': 962, '안해': 963, '튼': 964, '분도': 965, '흑': 966, '조': 967, '안되서': 968, '기간': 969, '크라운': 970, '앉아서': 971, '했었는데': 972, '됐는데': 973, '자세': 974, '아버지': 975, '어제': 976, '대로': 977, '마무리': 978, '휴': 979, '그렇고': 980, '회복': 981, '쓰는데': 982, '오래오래': 983, '다쳐서': 984, '삐끗': 985, '햇': 986, '으': 987, 'ㅇ': 988, '곳도': 989, '드리고': 990, '준비': 991, '체질': 992, '평소': 993, '출산': 994, '놔주세요': 995, '아픈데': 996, '되요': 997, '좋겠네요': 998, '방': 999, '해주셨는데': 1000, '하십니다': 1001, '나면': 1002, '하며': 1003, '남겨': 1004, '인가': 1005, '가능한': 1006, '개인': 1007, '다니는데': 1008, '복용': 1009, '❤️': 1010, '않도록': 1011, '보려구요': 1012, '찾아간': 1013, '100': 1014, '깨져서': 1015, '하기로': 1016, '였어요': 1017, '혈압': 1018, '듣고': 1019, '놔주시고': 1020, '울': 1021, '다르게': 1022, '중화역': 1023, '하려고요': 1024, '적극': 1025, '그동안': 1026, '조금씩': 1027, '당황': 1028, '뭔가': 1029, '다시는': 1030, '먼': 1031, '좋으신': 1032, '자체': 1033, '물리치료사': 1034, '개운하고': 1035, '정': 1036, '정신': 1037, '없었어요': 1038, '최근': 1039, '아팠는데': 1040, '아닌듯': 1041, '비싼': 1042, '이었습니다': 1043, '모르고': 1044, '받으니': 1045, '싶어': 1046, '수고': 1047, '깨끗': 1048, '한지': 1049, '가려구요': 1050, '침대': 1051, '멀어도': 1052, '전화': 1053, '정성껏': 1054, '병동': 1055, '떨어져서': 1056, '입술': 1057, '무슨': 1058, '세상': 1059, '되네요': 1060, '최악': 1061, '음': 1062, '10': 1063, '머리': 1064, '임신': 1065, '주위': 1066, 'ㅡㅡ': 1067, '여의사': 1068, '좋은데': 1069, '질문': 1070, '인테리어': 1071, '습관': 1072, '전반': 1073, '편안하고': 1074, '넘게': 1075, '해주시는데': 1076, '2시간': 1077, '밝고': 1078, '사가정역': 1079, '중랑구': 1080, '쯤': 1081, '길어요': 1082, '오면': 1083, '마사지': 1084, '다녀왔습니다': 1085, '세밀': 1086, '무': 1087, '가면': 1088, '말고': 1089, '에서도': 1090, '할게요': 1091, '보건': 1092, '투석': 1093, '메이': 1094, '퓨어': 1095, '리쥬란': 1096, '보면': 1097, '했는데도': 1098, '들어서': 1099, '라서': 1100, '봐주셔요': 1101, '주말': 1102, '일부러': 1103, '방향': 1104, '비교': 1105, '됐어요': 1106, '깨끗한': 1107, '신분': 1108, '마감': 1109, '정상': 1110, '아파요': 1111, '깔끔하게': 1112, '시험관': 1113, '한글': 1114, '함소': 1115, '만원': 1116, 'ㅇㅇ': 1117, '보호자': 1118, '스타일': 1119, '금': 1120, '가고': 1121, '않는': 1122, '팔꿈치': 1123, '무서워': 1124, '자상하게': 1125, '몇번': 1126, '청구': 1127, '였습니다': 1128, '세번': 1129, '무서워서': 1130, '편이': 1131, '그런데': 1132, '츤데레': 1133, '심한': 1134, '변함': 1135, '입니다내용': 1136, '했음': 1137, '종종': 1138, '습니다': 1139, '끝나고': 1140, '나왔습니다': 1141, '경옥고': 1142, '주셨어요': 1143, '당분간': 1144, '치료받을': 1145, '답변': 1146, '부탁드려요': 1147, '찾게': 1148, '줄어들고': 1149, 'ㅈ': 1150, '가끔': 1151, '훨씬': 1152, '같다': 1153, '놓으십니다': 1154, '강력': 1155, '친절하시구요': 1156, '결제': 1157, '아는': 1158, '어디': 1159, '근방': 1160, '블로그': 1161, '늦게': 1162, '청결하고': 1163, '법도': 1164, '해주시더라구요': 1165, '봐주고': 1166, '2년': 1167, '스켈': 1168, '가본': 1169, '옛날': 1170, '시원하고': 1171, '무리': 1172, '없을': 1173, '따뜻한': 1174, '찜질': 1175, '신기하게': 1176, '나왔어요': 1177, '엘': 1178, '오랫': 1179, '어쩔': 1180, '바': 1181, '따뜻하게': 1182, '했을': 1183, '처': 1184, '해주신거': 1185, '갔습니다': 1186, '하시면서': 1187, '학교': 1188, '옵니다': 1189, '가야': 1190, '갔는데도': 1191, '당장': 1192, '알았는데': 1193, '애기': 1194, '변화': 1195, '보이': 1196, '다니려': 1197, '9': 1198, '계획': 1199, '유치': 1200, '음식': 1201, '그저': 1202, '스트레스': 1203, '불안': 1204, '멀리': 1205, '가도': 1206, '없어져서': 1207, '내일': 1208, '항생제': 1209, '사분': 1210, '가기': 1211, '길어서': 1212, 'good': 1213, '됨': 1214, '녹색병원': 1215, '라는': 1216, '왕': 1217, '와중': 1218, '아픔': 1219, '와야겠어요': 1220, '친절했어요': 1221, '옆': 1222, '리': 1223, '좋아졌습니다': 1224, '싹': 1225, '안나': 1226, '매년': 1227, '있': 1228, '지난번': 1229, '이빨': 1230, '급': 1231, '권': 1232, '친절하셨고': 1233, '인플란트': 1234, '며': 1235, '사실': 1236, '약국': 1237, '오전': 1238, '섬세하고': 1239, '빨라요': 1240, '운영': 1241, '하시길': 1242, '물': 1243, '한다는': 1244, '하였는데': 1245, '천천히': 1246, '많지': 1247, '촬영': 1248, '하였습니다': 1249, '입구': 1250, '한다': 1251, '웃는': 1252, '해준': 1253, '되었어요': 1254, '깔': 1255, '끔': 1256, '깔끔한': 1257, '우선': 1258, '강요': 1259, '3일': 1260, '넘나': 1261, '편안해요': 1262, '아기': 1263, '소': 1264, '해주시고요': 1265, '덜': 1266, '그것': 1267, '의학과': 1268, '이라도': 1269, '지도': 1270, '많지만': 1271, '당': 1272, '드': 1273, '않습니다': 1274, '들어갔는데': 1275, '소독': 1276, '옴': 1277, '친절하시고요': 1278, '완화': 1279, '종합': 1280, '포함': 1281, '신속하게': 1282, '한숨': 1283, '대답': 1284, 'ㅠㅠㅠ': 1285, '매달': 1286, '되어서': 1287, '면목': 1288, '공간': 1289, '해주시면서': 1290, '차분하게': 1291, '발급': 1292, '주민': 1293, '업무': 1294, '생긴': 1295, '10분': 1296, '준': 1297, '필수': 1298, '챙겨': 1299, '미': 1300, '유': 1301, '냄새': 1302, '퇴근': 1303, '잘해주고': 1304, '갔을': 1305, '왼쪽': 1306, '없으시고': 1307, '간단히': 1308, '글': 1309, '아픈지': 1310, '지속': 1311, '이를': 1312, '뽑아': 1313, '체외': 1314, '남깁니다': 1315, '하고있어요': 1316, '아쉬워요': 1317, '며칠': 1318, '공장': 1319, '많아': 1320, '나중': 1321, '오게': 1322, '정확하게': 1323, '불편하면': 1324, '받다가': 1325, '가고싶지': 1326, '드디어': 1327, '장': 1328, '과정': 1329, '눈가': 1330, '편리해요': 1331, '만족스러웠습니다': 1332, '지원': 1333, '외': 1334, '입': 1335, '지점': 1336, '저렴해요': 1337, '빠른': 1338, '있음': 1339, '놓였어요': 1340, '인대': 1341, '관련': 1342, '바람': 1343, '해주실': 1344, '사항': 1345, 'b': 1346, '오라': 1347, '친절한듯': 1348, '에선': 1349, '다녔던': 1350, '사도': 1351, '경': 1352, '신랑': 1353, '받았고': 1354, '접근성': 1355, '맞춰': 1356, '직장인': 1357, '궁금한': 1358, '친': 1359, '안과': 1360, '양제': 1361, '찾아서': 1362, '신내동': 1363, '팅': 1364, '밤': 1365, '날씨': 1366, '다니고있어요': 1367, '김혜인': 1368, '7': 1369, '병': 1370, '간식': 1371, '병실': 1372, '어수선하고': 1373, '가라': 1374, '거기': 1375, '다해': 1376, '테니스': 1377, '상처': 1378, '체': 1379, '속이': 1380, '편해졌어요': 1381, '치루': 1382, '편안합니다': 1383, '여러분': 1384, '👍👍👍': 1385, '🥰': 1386, '자고': 1387, '평생': 1388, '찾았어요': 1389, '고해': 1390, '여전히': 1391, '안좋을': 1392, '느껴져요': 1393, '치료받는': 1394, '대충대충': 1395, '좋아졌네요': 1396, '금손': 1397, '부항': 1398, '새': 1399, '옷': 1400, '심히': 1401, '🙏': 1402, '교통사고': 1403, '후유증': 1404, '나아졌어요': 1405, '치료받았는데': 1406, '받을수': 1407, '침잘': 1408, '들립니다': 1409, '하시는것': 1410, '먹어': 1411, '맞은': 1412, '지난주': 1413, '비염': 1414, '가능합니다': 1415, '맞춰서': 1416, '홍': 1417, '우와': 1418, '반신반의': 1419, '오래전': 1420, '있었네요': 1421, '허': 1422, '기계로': 1423, '치가': 1424, '알아서': 1425, '다양한': 1426, '감사합니': 1427, '진철': 1428, '중요한': 1429, '위주': 1430, '써': 1431, '정리': 1432, '척추': 1433, '구석': 1434, '원했는데': 1435, '만족하셔서': 1436, '원인': 1437, '모르게': 1438, '받았': 1439, '보다도': 1440, '잠깐': 1441, '프로': 1442, '입니당': 1443, '최선': 1444, '걸려': 1445, '어이': 1446, '했지만': 1447, '좀더': 1448, '대하': 1449, '초': 1450, '있다고': 1451, '구강': 1452, '불친절해요': 1453, '이든': 1454, '기기': 1455, '장치': 1456, '마스크': 1457, '불편하고': 1458, '마세요': 1459, '친잘': 1460, '봐줘요': 1461, '맛': 1462, '오니': 1463, '이하': 1464, '20년': 1465, '얼마나': 1466, '왔었는데': 1467, '붓기': 1468, '파서': 1469, '받': 1470, '치실': 1471, '다행히': 1472, '맞아서': 1473, '안정감': 1474, '진로': 1475, '나름': 1476, '찾아갔는데': 1477, '친절하구': 1478, '기다립니다': 1479, '에겐': 1480, '그만큼': 1481, '안좋은': 1482, '않은데': 1483, '좋아지는': 1484, '편해지는': 1485, '연휴': 1486, '기대': 1487, '무과': 1488, '받기': 1489, '어디가': 1490, '“': 1491, '싫다': 1492, '급여': 1493, '응급실': 1494, '내고': 1495, '타가': 1496, '편해서': 1497, '증': 1498, 'mri': 1499, '비급': 1500, '복부': 1501, '된거': 1502, '반말': 1503, '잠': 1504, '들어가자마자': 1505, '불편하지': 1506, '친절하셨습니다': 1507, '싶어요': 1508, '들고': 1509, '참다': 1510, '1시간': 1511, '조카': 1512, '티': 1513, '예쁘게': 1514, '든': 1515, '되었는데': 1516, '욤': 1517, '거울': 1518, '모': 1519, '행사': 1520, '대기실': 1521, '질': 1522, '나올': 1523, '잘해주십니다': 1524, '오른쪽': 1525, '상황': 1526, '검': 1527, '받는데': 1528, '시려서': 1529, '입니': 1530, '출신': 1531, '해주셨으면': 1532, '구매': 1533, '강남': 1534, '들었습니다': 1535, '어요': 1536, '찾아': 1537, '않지만': 1538, '갈거': 1539, '\\U0001faf6🏻': 1540, '스탭': 1541, '요청': 1542, '당뇨': 1543, '좋다': 1544, '디테일': 1545, '오히려': 1546, '혹시': 1547, '누가': 1548, '면목동': 1549, '용하는': 1550, '네요': 1551, '조아': 1552, '워': 1553, '솔직히': 1554, '총': 1555, '피부관리': 1556, 'ㅋㅋㅋㅋ': 1557, '아시': 1558, '관': 1559, '백': 1560, '석호': 1561, '좋았': 1562, '갈게요': 1563, '바르는': 1564, '없다고': 1565, '굳이': 1566, '2만원': 1567, '들어주셔서': 1568, '김정우': 1569, '할게': 1570, '분과': 1571, '외래': 1572, '💕': 1573, '갑': 1574, '보십니다': 1575, '바쁜': 1576, '선생': 1577, '친절한데': 1578, '끼리': 1579, '아무': 1580, '제발': 1581, '할것도': 1582, '될까': 1583, '난': 1584, '\\U0001f979\\U0001f979': 1585, '밝은': 1586, '신데도': 1587, '쉬': 1588, '명도': 1589, '않았어요': 1590, '하더라구요': 1591, '주셨고': 1592, '료': 1593, '해주셨네요': 1594, '불편합니다': 1595, '윈': 1596, '톤': 1597, '시켜주시고': 1598, '갓': 1599, '받는다고': 1600, '야': 1601, '크게': 1602, '약제': 1603, '🤗🤗': 1604, '날짜': 1605, '월': 1606, '병명': 1607, '오': 1608, '약간': 1609, '좋았네요': 1610, '권하지': 1611, '물론': 1612, '비추': 1613, '염': 1614, '주름': 1615, '사랑': 1616, '대박': 1617, '캐치': 1618, '해주시는게': 1619, '주신': 1620, '행복한': 1621, '자연': 1622, '남기고': 1623, '시스템': 1624, '우리동네': 1625, '플러스': 1626, '문제점': 1627, '암': 1628, '되면': 1629, '4일': 1630, '당연히': 1631, '먹을': 1632, '표정': 1633, '가까워': 1634, '미백': 1635, '하려구요': 1636, '해주셨고': 1637, '엇': 1638, '올게요': 1639, '무섭지': 1640, '체계': 1641, '플': 1642, '느끼지만': 1643, '저렴': 1644, '건데': 1645, '장비': 1646, '많았는데': 1647, '경청': 1648, '매': 1649, '비싸지': 1650, '와도': 1651, '어떤': 1652, '그럼': 1653, '누구': 1654, '병행': 1655, '맞음': 1656, '해결': 1657, '3년': 1658, '약지': 1659, '걸려서': 1660, '나왔네요': 1661, '젊은': 1662, '따라': 1663, '받아요': 1664, '해주시구요': 1665, '이십': 1666, '가던': 1667, '끊고': 1668, '실로': 1669, '장례식': 1670, '석': 1671, '교수': 1672, '삼': 1673, '삼진': 1674, '종류': 1675, '지내고': 1676, '확': 1677, '매장': 1678, '기미': 1679, '비립': 1680, '타고': 1681, '다소': 1682, '팔뚝': 1683, '있었지만': 1684, '필요': 1685, '이어서': 1686, '해주시더라고요': 1687, '보여요': 1688, '링크': 1689, '자주자주': 1690, '찍어서': 1691, '차이': 1692, '깜짝': 1693, '봤네요': 1694, '친정': 1695, '앙': 1696, '해보고': 1697, '기다리는': 1698, '점도': 1699, '하는데요': 1700, '같음': 1701, '최': 1702, '있으': 1703, '달라': 1704, '청결': 1705, '꾸준하게': 1706, '사라졌습니다': 1707, '아픈게': 1708, '같고': 1709, '주의': 1710, '년전': 1711, '해야하는': 1712, '해주어서': 1713, '했는데요': 1714, '오는': 1715, '이라는': 1716, '뽑으러': 1717, '신경안': 1718, '계셔서': 1719, '아니고': 1720, '뽑았습니다': 1721, '찾은': 1722, '해주시며': 1723, '자': 1724, '유아': 1725, '견적': 1726, '사용': 1727, '절': 1728, '벌써': 1729, '♡♡': 1730, '무서운데': 1731, '어릴': 1732, '하시는데': 1733, '화이팅': 1734, '잘하': 1735, '잠도': 1736, '파': 1737, '하시더라고요': 1738, '환경': 1739, '1회': 1740, '출구': 1741, '겁니다': 1742, '받습니다': 1743, '찐': 1744, '의자': 1745, '이시고': 1746, '애': 1747, '되': 1748, '하니': 1749, '하시면': 1750, '래서': 1751, '줘요': 1752, '주기': 1753, '여쭤': 1754, '쓸': 1755, '언제': 1756, '날때': 1757, '입장': 1758, '한결같이': 1759, '챙겨주셔서': 1760, '진정': 1761, '적용': 1762, '해주시니': 1763, '하시는거': 1764, '직장': 1765, '소리': 1766, '주셨습니다': 1767, '놔주시는': 1768, '있지만': 1769, '따듯': 1770, '전신': 1771, '👍🏻👍🏻': 1772, '있길': 1773, '5년': 1774, '졸업': 1775, '채취': 1776, '소식': 1777, '난임': 1778, '결혼': 1779, '살이': 1780, '틀니': 1781, '장스': 1782, '컨디션': 1783, '심장': 1784, '분소': 1785, '간염': 1786, '채움': 1787, '눈밑': 1788, '모친': 1789, '해주네요': 1790, '쓰던': 1791, '보호대': 1792, '가보길': 1793, '비싸다': 1794, '까': 1795, '친철해': 1796, '다리꼬': 1797, '리가': 1798, '저쪽': 1799, '많다': 1800, '소변': 1801, '싶지': 1802, '토': 1803, '초등학생': 1804, '다닌지': 1805, '꾸준한': 1806, '물리': 1807, '불': 1808, '핀': 1809, '맞는거': 1810, '시원합니다': 1811, '불편했는데': 1812, '나주시': 1813, '대부분': 1814, '\\U0001faf6': 1815, '경우': 1816, '더한': 1817, '그런거': 1818, '박': 1819, '귀가': 1820, '적당합니다': 1821, '떨면서': 1822, '인형': 1823, '기선': 1824, '보아': 1825, '재료': 1826, '던': 1827, '그대로': 1828, '친절함에': 1829, '멀지만': 1830, '거평': 1831, '양약': 1832, '력': 1833, '이기': 1834, '되었지만': 1835, '받는거': 1836, '이런거': 1837, '소화': 1838, '생리': 1839, '보려고': 1840, '먹었는데': 1841, '열정': 1842, 'ㅣ': 1843, '항': 1844, '맞나': 1845, '건성건성': 1846, '오진': 1847, '치열': 1848, '받구': 1849, '다정한': 1850, '어른': 1851, '맛사지': 1852, '들렀는데': 1853, '배': 1854, '뜸': 1855, '타임': 1856, '뵙겠습니다': 1857, '약과': 1858, '20': 1859, '맞는게': 1860, '시원해요': 1861, '보는데': 1862, '친전': 1863, '원할': 1864, '졌어요': 1865, '면목역': 1866, '하시는듯': 1867, '맞추고': 1868, '뒷': 1869, '아아': 1870, '있었던': 1871, '역': 1872, '당연하고요': 1873, '냐': 1874, '가시': 1875, '싶습니다': 1876, '6시': 1877, '차원': 1878, '홍보': 1879, '왕창': 1880, '세게': 1881, '좋아하는데': 1882, '출근': 1883, '기술': 1884, '인지도': 1885, '상냥하게': 1886, '♡♡♡': 1887, '산후': 1888, '힐링': 1889, '야한다고': 1890, '육아': 1891, '힘들어서': 1892, '심하여': 1893, '발바닥': 1894, '가벼워졌어요': 1895, '얼른': 1896, '나았으면': 1897, '안고': 1898, '의학': 1899, '보우': 1900, '놓아주시고': 1901, '골반': 1902, '일자': 1903, '굿모닝': 1904, '순간': 1905, '멋대로': 1906, '분한': 1907, '진이었는데': 1908, '해주신다': 1909, '했다가': 1910, '흔들리는': 1911, '❤': 1912, '한가해서': 1913, '볼수있었어요': 1914, '깨끗합니다': 1915, '보이는': 1916, '간판': 1917, '깔끔했어요': 1918, '아니라고': 1919, '인레': 1920, '찍고': 1921, '다녔지만': 1922, '찬': 1923, '뿌리': 1924, '나오고': 1925, '들어가는': 1926, '다니기': 1927, '무섭다': 1928, '그만': 1929, '싶다': 1930, '잘해주셨어요': 1931, '자상해요': 1932, '안녕하세요': 1933, '약물': 1934, '새로오신': 1935, '사라졌어요': 1936, '편해져요': 1937, '행복하게': 1938, '부기': 1939, '빠지고': 1940, '애용': 1941, '편해져서': 1942, '엘보': 1943, '가아': 1944, '왔다가': 1945, '맞고나니': 1946, '좋아지고있어요': 1947, '푸근한': 1948, '인거': 1949, '세명': 1950, '았': 1951, '포스': 1952, '빠져서': 1953, '무한': 1954, '옮겨': 1955, '그렇지': 1956, '안되고': 1957, '딸': 1958, '성적': 1959, '크림': 1960, '사마귀': 1961, '정직': 1962, '봐주시는거': 1963, '생기': 1964, '러너': 1965, '수준': 1966, '필요할': 1967, '생겨': 1968, '돌아왔어요': 1969, '지수': 1970, '받아야': 1971, '과도': 1972, '편합니다': 1973, '나아지고': 1974, '아쉬울': 1975, '위안': 1976, '친절함은': 1977, '💜': 1978, '심하게': 1979, '했구요': 1980, '있는게': 1981, '참다가': 1982, '최소한': 1983, '5만원': 1984, '골절': 1985, '문병원': 1986, '관심': 1987, '할수있는': 1988, '저려서': 1989, '뻔': 1990, '안좋으셔서': 1991, '쾌적함': 1992, '젛아': 1993, '보셔요': 1994, '나쁘게': 1995, '찍': 1996, '모르겠지만': 1997, '아주머니': 1998, '웃음': 1999, '나더라구요': 2000, '차분한': 2001, '편했습니다': 2002, '좋구요': 2003, '놔주십니다': 2004, '자상하시고': 2005, '살짝': 2006, '비는': 2007, '갈수': 2008, '좋구': 2009, '보시고': 2010, '친절하니': 2011, '나아요': 2012, '개운합니다': 2013, '개운해요': 2014, '바로바로': 2015, '만족스러웠어요': 2016, '부어': 2017, '보람': 2018, '앞니': 2019, '좋아하네요': 2020, '😁': 2021, '꼼꼼해서': 2022, '하임': 2023, '세세하게': 2024, '무서워요': 2025, '중요하다고': 2026, '삶': 2027, '깨끗했어요': 2028, '미루고': 2029, '매복': 2030, '맨': 2031, '깨끗하게': 2032, '불편함': 2033, '많으셔서': 2034, '좋으네요': 2035, '닥터': 2036, '책': 2037, '즐겁게': 2038, '놀': 2039, '백신': 2040, '청력': 2041, '됐습니다': 2042, '않으시네요': 2043, '학': 2044, '쾌적해서': 2045, '해주셨음': 2046, 'ㅊ': 2047, '댜': 2048, '뺐는데': 2049, '센터': 2050, '하고도': 2051, '뒤에': 2052, '불러서': 2053, '장소': 2054, 'ㅅ': 2055, '서울대': 2056, '34년': 2057, '믿고가는': 2058, '아쉬운': 2059, '정직한': 2060, '로는': 2061, '공진단': 2062, '로테이션': 2063, '비뇨기': 2064, '괜찮고': 2065, '친절하다': 2066, '아퍼서': 2067, '많음': 2068, '혈': 2069, '기존': 2070, '할인': 2071, '🙌': 2072, '임산부': 2073, '사가': 2074, '뵙네요': 2075, '조심': 2076, '바뀐': 2077, '보라': 2078, '지방': 2079, '있다면': 2080, '모델링': 2081, '오시': 2082, '봐야': 2083, '일상': 2084, '투': 2085, '관절': 2086, '찾던': 2087, '러스크': 2088, '빈말': 2089, '치료받았어요': 2090, '한자리': 2091, '있죠': 2092, '꼼꼼합니다': 2093, '믿는': 2094, '두통': 2095, '인해서': 2096, '엥': 2097, '꼼꼼히잘': 2098, '웃김': 2099, '두근두근': 2100, '아쿠아': 2101, '드렸는데': 2102, '이드': 2103, '베리': 2104, '가능하고': 2105, '마디': 2106, '고개': 2107, '아쉽네요': 2108, '신지수': 2109, '발가락': 2110, '네이버': 2111, '편한거': 2112, '까지는': 2113, '떨렸는데': 2114, '작': 2115, '나옵니다': 2116, '여유': 2117, '이소정': 2118, '많으세요': 2119, '에가': 2120, '들어갈': 2121, '챙겨주시는': 2122, '조아여': 2123, '싸가지': 2124, '보러': 2125, '리플': 2126, '보는거': 2127, '이미지': 2128, '수다': 2129, '창틀': 2130, '정수기': 2131, '괜히': 2132, '움': 2133, '친절히잘': 2134, '에게는': 2135, '똑같은': 2136, '나도': 2137, '나옴': 2138, '계산': 2139, '안되는': 2140, '되길': 2141, '구리': 2142, '외모': 2143, '효': 2144, '곧': 2145, '분만': 2146, '혈액': 2147, '바쁘': 2148, '문진': 2149, '갔고': 2150, '친절하진': 2151, '알아보고': 2152, '받으시고': 2153, '왼': 2154, '분간': 2155, '호사': 2156, '계실': 2157, '아쉽': 2158, '보조': 2159, '답': 2160, '감정': 2161, '기다리지': 2162, '가능해요': 2163, '괜찮네요': 2164, '전후': 2165, '백내장': 2166, '누워서': 2167, '시크': 2168, '하신데': 2169, '느낌이었어요': 2170, '물어봐주시고': 2171, '청결하게': 2172, '친절하여': 2173, '할지': 2174, '신상': 2175, '않나': 2176, '상봉동': 2177, '친절하시게': 2178, '지역': 2179, '하셨습니다': 2180, '아가리': 2181, '알았어요': 2182, '태도': 2183, '했': 2184, '푹푹': 2185, '가시는게': 2186, '싶으시면': 2187, '친절하셔용': 2188, '다양하고': 2189, '바르고': 2190, '누워': 2191, '편해': 2192, '할수있게': 2193, '부탁드립니다': 2194, '장갑': 2195, '욕심': 2196, '‼️‼️': 2197, '즈': 2198, '입니디': 2199, '필요하지': 2200, '유도': 2201, '겸': 2202, '부드럽게': 2203, '무서워하는': 2204, '연말': 2205, '특유': 2206, '들어가면': 2207, '좋았고': 2208, '목적': 2209, '스': 2210, '느껴져': 2211, '초심': 2212, '잃지': 2213, '쵝오': 2214, '기다리고': 2215, '이차': 2216, '일상생활': 2217, '없게': 2218, '개선': 2219, '느껴졌습니다': 2220, '그때': 2221, '치료받': 2222, '기를': 2223, '되었': 2224, '저녁': 2225, '푹': 2226, '친절하세여': 2227, '친절하신데': 2228, '바늘': 2229, '움직': 2230, '이며': 2231, '오셔서': 2232, '친절해': 2233, '찾은듯': 2234, '지하철': 2235, '편리하고': 2236, '치과의사': 2237, '빼': 2238, '하는데도': 2239, '없었는데': 2240, '서서': 2241, '다닐것': 2242, '시려': 2243, '편안했어요': 2244, '치료받았음': 2245, '맞았습니다': 2246, '긴한데': 2247, '해주시는것': 2248, '뜻': 2249, '밖에': 2250, '실비': 2251, '않을거': 2252, '공포증': 2253, '서야': 2254, '도와주시는': 2255, '맞춤': 2256, '의술': 2257, '좋아오': 2258, '불안하지': 2259, '재발': 2260, '전이': 2261, '괜찮다고': 2262, '런가': 2263, '없는거': 2264, '보이네요': 2265, '전기': 2266, '수가': 2267, '의견': 2268, '여름': 2269, '닷': 2270, '땜': 2271, '경차': 2272, '단술': 2273, '무료': 2274, '후다닥': 2275, '있을거': 2276, '해야겠어요': 2277, '그래요': 2278, '차도': 2279, '벽': 2280, '둘': 2281, '불친절함': 2282, '나왔는데': 2283, '8월': 2284, '다녀온': 2285, '막': 2286, '받으면서': 2287, '이제야': 2288, '골다공증': 2289, '하는거': 2290, '😂': 2291, '사각': 2292, '지루': 2293, '피부염': 2294, '🤗': 2295, '다녔어요': 2296, '알맞게': 2297, '뽑아주셨습니다': 2298, '집니다': 2299, '집앞': 2300, '급할': 2301, '다녔습니다': 2302, '이라서': 2303, '인증': 2304, '방과': 2305, '충': 2306, '베드': 2307, '핫': 2308, '받고나니': 2309, '뭉친': 2310, '영양': 2311, '저리': 2312, '힘': 2313, '신기했어요': 2314, '터널': 2315, '증후군': 2316, '갔었는데': 2317, '자극': 2318, '갈거에요': 2319, '심해지면': 2320, '뵐게요': 2321, '없다': 2322, '노력': 2323, '만점': 2324, '그리구': 2325, '아프긴': 2326, '아프다고': 2327, '모를': 2328, '대충': 2329, '필요해서': 2330, '당일': 2331, '다녀옴': 2332, '많으': 2333, '육': 2334, '번만': 2335, '가려고': 2336, '입시': 2337, '폐렴': 2338, '건강하게': 2339, '지나가다': 2340, '아쉽습니다': 2341, '만족도': 2342, '4회': 2343, '받다': 2344, '대중교통': 2345, '체험': 2346, '셀프': 2347, '올록': 2348, '종': 2349, '신지': 2350, '어시스트': 2351, '이지': 2352, '컷슬린': 2353, '으로는': 2354, '부원장': 2355, '풀어주시고': 2356, '3분': 2357, '빼고': 2358, '가셔야': 2359, '코디': 2360, '멋': 2361, '로만': 2362, '체인점': 2363, '마주치고': 2364, '컴퓨터': 2365, '맡겨': 2366, '̆̈': 2367, '해용': 2368, '슈': 2369, '어린': 2370, '가능': 2371, '자질': 2372, '팔자주름': 2373, '결정': 2374, '찍어': 2375, '친절하신거': 2376, '긴': 2377, '넘치시는': 2378, '해주셨어': 2379, '봣': 2380, '피코': 2381, '붐비지': 2382, '상당히': 2383, '좋아집니다': 2384, '아니여서': 2385, '듭니': 2386, '친절하세오': 2387, 'ㅎㅎㅎㅎ': 2388, '어머님': 2389, '풀렸어요': 2390, '쓰는': 2391, '생긴지': 2392, '길지': 2393, '가방': 2394, '안된': 2395, '있을까': 2396, '싶었는데': 2397, '광': 2398, '하길': 2399, '엄': 2400, '청': 2401, '종아리': 2402, '신용': 2403, '성실하게': 2404, '야한다': 2405, '다니겠습니다': 2406, '깔끔하니': 2407, '와이프': 2408, '없었네요': 2409, '내서': 2410, '잘해줘요': 2411, '하셨고': 2412, '찾았네요': 2413, '만족하고': 2414, '간만': 2415, '먹는': 2416, '이도': 2417, '썩어서': 2418, '덧': 2419, '느꼈습니다': 2420, '구내염': 2421, '드네': 2422, '무리한': 2423, '되지': 2424, '손길': 2425, '찾고계시다면': 2426, '아팠습니다': 2427, '금새': 2428, '하셨는데': 2429, '주시면서': 2430, '살릴수': 2431, '살려': 2432, '드렸어요': 2433, '뽑고': 2434, '고마워요': 2435, '꼼꼼하시더라구요': 2436, '워낙': 2437, '부담스러운데': 2438, '왓습니': 2439, '들리고': 2440, '잡고': 2441, '서지': 2442, '걷지도': 2443, '같다며': 2444, '예상': 2445, '하시구요': 2446, '입니다요': 2447, '친절하십니당': 2448, '오길': 2449, '9시': 2450, '계': 2451, '300': 2452, '치주염': 2453, '부족한': 2454, '천': 2455, '부러져서': 2456, '오기': 2457, '친절하시': 2458, '궁': 2459, '건강하세요': 2460, '간호원': 2461, '부자': 2462, '우림': 2463, '시장': 2464, '명': 2465, '무척': 2466, '심했는데': 2467, '꼼꼼': 2468, '위드': 2469, '칫솔질': 2470, '좋다고': 2471, '듣기': 2472, '친절하면': 2473, '따라서': 2474, '성인': 2475, '되니': 2476, '대비': 2477, '했다': 2478, '아닌가요': 2479, '긴장도': 2480, '됐었는데': 2481, '나오면': 2482, '나가서': 2483, '없지': 2484, '심장병': 2485, '보철': 2486, '괜': 2487, '없는지': 2488, '치고': 2489, '였네요': 2490, '갔다': 2491, '없는데': 2492, '불친절합니다': 2493, '아버님': 2494, '용품': 2495, '와요': 2496, '한건데': 2497, '는걸': 2498, '미루지': 2499, '어느': 2500, '시력': 2501, '고객': 2502, '그림': 2503, '없으면': 2504, '외관': 2505, '나긋나긋': 2506, '제때': 2507, '닦고': 2508, '느끼며': 2509, '이었고': 2510, '간건데': 2511, 'ㄷㄷ': 2512, '홍치': 2513, '행복': 2514, '찾았습니다': 2515, '불편': 2516, '야하는': 2517, '선': 2518, '더욱': 2519, '하는것도': 2520, '안쪽': 2521, '담당': 2522, '어디서': 2523, '많습니다': 2524, '친절하지': 2525, '않음': 2526, '자상하셔서': 2527, '하시니': 2528, '친절하시니': 2529, '무섭지만': 2530, '40분': 2531, '스피드': 2532, '있으셔서': 2533, '좋더라고요': 2534, '해보니': 2535, '해주시니까': 2536, '결국': 2537, '엘리베이터': 2538, '놔주시네요': 2539, '맞으면': 2540, '똑같이': 2541, '줘서': 2542, '성모': 2543, '입안': 2544, '큰소리': 2545, '불쾌했습니다': 2546, '불친절하게': 2547, '속눈썹': 2548, '기다려': 2549, '냉동': 2550, '보시는것': 2551, '받으면': 2552, '인원': 2553, '했는지': 2554, '부터는': 2555, '불친절해도': 2556, '그랬네요': 2557, '돌아가고': 2558, '부드러워졌어요': 2559, '처치': 2560, '아요': 2561, '있도록': 2562, '끝났어요': 2563, '앞두고': 2564, '뽑아주셨어요': 2565, '‼️': 2566, '해야하는지': 2567, '하려면': 2568, '🙂': 2569, '좋을것': 2570, '정말로': 2571, '관절염': 2572, '감각': 2573, '감사하네요': 2574, '이명': 2575, '엘에이': 2576, '남': 2577, '셔': 2578, '같았어요': 2579, '놓으시고': 2580, '봤지만': 2581, '하길래': 2582, '다녀오면': 2583, '있는지': 2584, '부족해서': 2585, '하시니까': 2586, '10년': 2587, '무섭게': 2588, '청결해서': 2589, '돈벌이': 2590, '가는걸': 2591, '영상의학': 2592, '찿': 2593, '귀': 2594, '기울려': 2595, '많으신': 2596, '파열': 2597, '우': 2598, '코': 2599, '알려주세요': 2600, '잘해주': 2601, '😃': 2602, '아팠었는데': 2603, '높은': 2604, '주는': 2605, '부탁드립니다내용': 2606, '본것': 2607, '두려운': 2608, '아가': 2609, '고통': 2610, '나섰습니다': 2611, '주파': 2612, '창구': 2613, '받아도': 2614, '당연한': 2615, '소아': 2616, '사라져서': 2617, '살았는데': 2618, '악': 2619, '래': 2620, '자꾸': 2621, '아니었네요': 2622, '살다': 2623, '\\U0001fa77\\U0001fa77\\U0001fa77': 2624, '반': 2625, '놓는': 2626, '않았지만': 2627, '추': 2628, '한쪽': 2629, '저렴하네요': 2630, '발렛파킹': 2631, '좋지': 2632, '보단': 2633, '🙏🙏🙏': 2634, '과장': 2635, '따뜻하세요': 2636, '주사실': 2637, '무성의': 2638, '계신데': 2639, '혜인': 2640, '걸이': 2641, '마리아': 2642, '해봅니다': 2643, '극': 2644, '쉬워요': 2645, '있기를': 2646, '배란': 2647, '더니': 2648, '하구요': 2649, '확실하니까': 2650, '빠지던': 2651, '체중': 2652, '왔': 2653, '미용': 2654, '하시구': 2655, '샌': 2656, '실제': 2657, '늦게까지': 2658, '양': 2659, '중딩': 2660, '♥︎': 2661, '쯔': 2662, '할아버지': 2663, '원하였는데': 2664, '찾아주시고': 2665, '11': 2666, '걷게': 2667, '허준': 2668, '살맛': 2669, '납니다': 2670, '마트': 2671, '초록': 2672, '되여': 2673, '용해': 2674, '안좋으면': 2675, '테라': 2676, '싶을': 2677, '어려': 2678, '지나서': 2679, '기운': 2680, '노곤': 2681, '소파': 2682, '꼼꼼하셔서': 2683, '빈혈': 2684, '하니까': 2685, '뒤에와서': 2686, '나눠': 2687, '산': 2688, '알음': 2689, '모인': 2690, '의욕': 2691, '복': 2692, '돋아주십니다': 2693, 'ㄱㅅ': 2694, '아유': 2695, '김용민': 2696, '신명호': 2697, '하셔오': 2698, '인실인데': 2699, '넓다': 2700, '물통': 2701, '양치': 2702, '세트': 2703, '수건': 2704, '받았다': 2705, '간병': 2706, '통합': 2707, '없어도': 2708, '면회': 2709, '조용히': 2710, '쉴수있었다': 2711, '갖고': 2712, '권장': 2713, '넘어': 2714, '끝났네요': 2715, '묵묵히': 2716, '차근차근': 2717, '봉화산역': 2718, '왠지': 2719, '아프네': 2720, '썩이는걸': 2721, '스캘링': 2722, '안함': 2723, '많으니': 2724, '해라': 2725, '불쾌했음': 2726, '화목': 2727, '14년': 2728, '해주어': 2729, '웰': 2730, '보였는데': 2731, '회': 2732, '치료받으면': 2733, '점저': 2734, '아음': 2735, '느낌니다': 2736, '팔굼치': 2737, '폄': 2738, '골격계': 2739, '베': 2740, '정성스런': 2741, '아물어': 2742, '실밥': 2743, '풀었습니다': 2744, '주아요': 2745, '좋아졌답니다': 2746, '부': 2747, '룩': 2748, '신약': 2749, '먹었더니': 2750, '시원해졌어요': 2751, '추해요': 2752, '없다는게': 2753, '흠': 2754, '이긴': 2755, '만요': 2756, '놔주시는데': 2757, '비싸졌네요': 2758, '봐주세여': 2759, '통원': 2760, '없으십니다': 2761, '오고': 2762, '퇴원': 2763, '조목조목': 2764, '치핵': 2765, '컸는데': 2766, '비도': 2767, '저렴해서': 2768, '다니려고': 2769, '대장정': 2770, '보입니다': 2771, '할거예요': 2772, '끝났네': 2773, '했어용': 2774, '가리고': 2775, '꿀맛': 2776, '낮잠': 2777, '누르라고': 2778, '주셨는데': 2779, '눌렀네요': 2780, '😉\\U0001faf0🏻': 2781, '가전': 2782, '끝나네요': 2783, '신나요': 2784, '했거든요': 2785, '다녀도': 2786, '🤭👍🏻': 2787, '니지': 2788, '콧': 2789, '에고': 2790, '확진': 2791, '오래되었어요': 2792, '만성': 2793, '위장': 2794, '장애': 2795, '인해': 2796, '힘들어지면': 2797, '불가한': 2798, '활': 2799, '되찾': 2800, '식구': 2801, '있답니다': 2802, '놓아주셔요': 2803, '받으': 2804, '세요': 2805, '쓰려고': 2806, '챙겼어요': 2807, '안될': 2808, '부황': 2809, '뜨면': 2810, '건강해져요': 2811, '내공': 2812, '저림': 2813, '의심스러울': 2814, '형편': 2815, '없으시더라구요': 2816, '치질': 2817, '되질': 2818, '일후': 2819, '길': 2820, '건너': 2821, '송도': 2822, '외과의': 2823, '받았더니': 2824, '보여주시며': 2825, '항문': 2826, '비싸서': 2827, '아쉽지만': 2828, '자상히': 2829, '알려주시네요': 2830, '실내': 2831, '깔끔하구': 2832, '알아주시구': 2833, '뺠리': 2834, '치로': 2835, '느낌이네요': 2836, '물어봐': 2837, '받겠다': 2838, '경희': 2839, '결림': 2840, '만으로는': 2841, '없는것': 2842, '엎드릴': 2843, '받침': 2844, '깔아주는': 2845, '감사했고': 2846, '핫팩': 2847, '한방약': 2848, '포': 2849, '감사한': 2850, '가뿐하게': 2851, '듣는것': 2852, '쥬': 2853, 'ㅏ': 2854, '👌': 2855, '푸': 2856, '짐': 2857, '놓아주세요': 2858, '물도': 2859, '전념': 2860, '환복': 2861, '하였어요': 2862, '중상': 2863, '남은': 2864, '대라': 2865, '가보는데': 2866, '좋다더니': 2867, '적임': 2868, '좋으': 2869, '봤으나': 2870, '능력': 2871, '부족함': 2872, '오른': 2873, '3회': 2874, '팔도': 2875, '올라가고': 2876, '아파진': 2877, '편안해서': 2878, '행해': 2879, '좋아짐': 2880, '시원함': 2881, '저하': 2882, '맞고와도': 2883, '놔요': 2884, '심다': 2885, '좋았음': 2886, '약재': 2887, '갖는데': 2888, '들렸어요': 2889, '좋아져': 2890, '😍': 2891, '상냥하시구': 2892, '놓아주셨다': 2893, '맞고나서': 2894, '부드러워': 2895, '살거': 2896, '저장': 2897, '모호한': 2898, '구심': 2899, '해주시려는': 2900, '갔': 2901, '만족해용': 2902, '가습기': 2903, '같은거': 2904, '딱이라서': 2905, '찾고있었는데': 2906, '불량': 2907, '힘들었었는데': 2908, '받아야겠어요': 2909, '쾌적한': 2910, '여유롭게': 2911, '당하게': 2912, '목뼈': 2913, '나서는': 2914, '골': 2915, '당기는게': 2916, '뻐근한것도': 2917, '침술': 2918, '좋아해서': 2919, '수위': 2920, '다툴': 2921, '화침': 2922, '어어어어': 2923, '카드': 2924, '연결해': 2925, '확실한': 2926, '잘놓는데': 2927, '묵동': 2928, '허튼': 2929, '접': 2930, '다르네요': 2931, '깔아놓고': 2932, '올려놓은데는': 2933, '진정한': 2934, '방침': 2935, '원하신다면': 2936, '놓으셔서': 2937, '덩': 2938, '놔주시더라고요': 2939, '회복할': 2940, '여태': 2941, '최강': 2942, '웬만한': 2943, '가느니': 2944, '해보세요': 2945, '분야': 2946, '박학': 2947, '다식': 2948, '수어': 2949, '가실': 2950, '두려운데': 2951, '윈장님': 2952, '놓여서': 2953, '잘알려': 2954, '자세해서': 2955, '봐주시': 2956, '애프터': 2957, '케어': 2958, '확실하게': 2959, '잡아주시고요': 2960, '전에': 2961, '신속한': 2962, '치료받았습니다': 2963, '치석': 2964, '아프지도': 2965, '모른': 2966, '시리': 2967, '몆': 2968, '십년': 2969, '주셨음': 2970, '오랜만': 2971, '다녀왔음': 2972, '세라젬': 2973, '쭉쭉': 2974, '펴지는': 2975, '놓습니다': 2976, '있는것도': 2977, '덴': 2978, '물광': 2979, '침하': 2980, '화사해졌네요': 2981, '반짝': 2982, '힘나고': 2983, '친질': 2984, '연결': 2985, '낫는거': 2986, '바지': 2987, '입을수': 2988, '가볍게': 2989, '올라가네요': 2990, '거북목': 2991, '양쪽': 2992, '온라인': 2993, '많이하고': 2994, '놓아주시는줄도': 2995, '들었는데': 2996, '느껴지지': 2997, '굿모': 2998, '와전': 2999, '친절합니': 3000, '심한데': 3001, '부드러워졌답니다': 3002, '질병': 3003, '나감': 3004, '초등': 3005, '생인': 3006, '무시': 3007, '면박': 3008, '주듯': 3009, '상함': 3010, '이루말': 3011, '않을껍니': 3012, '의료행위': 3013, '서비스업': 3014, '느꼈었지만': 3015, '닫혀': 3016, '급해서': 3017, '수없이': 3018, '여전하네요': 3019, '풀리지': 3020, '남김니다': 3021, '시대': 3022, '꼈습니다': 3023, '상대방': 3024, '가져': 3025, '먹고있는': 3026, '겹': 3027, '친다고': 3028, '방안': 3029, '친절해여': 3030, '주신다': 3031, '무서워하지': 3032, '어린이치과를': 3033, '🤩': 3034, '지켜봐': 3035, '야할거': 3036, '좋아욤': 3037, '작아서': 3038, '붐비는': 3039, '추네요': 3040, '겉': 3041, '아말감': 3042, '해보시고': 3043, '급한거': 3044, '간거라': 3045, '없으셨습니다': 3046, '골든': 3047, '맞춰오세요': 3048, '감탄': 3049, '없어지고': 3050, '많니': 3051, '짧아서': 3052, '빠질까봐': 3053, '잡아주시면서': 3054, '해주셨어오': 3055, '바뻐서': 3056, '바꾸는': 3057, '여아에요': 3058, '상악': 3059, '확장': 3060, '페이스': 3061, '배열': 3062, '동일한': 3063, '비싸고': 3064, '글로리': 3065, '않았다면': 3066, '했겠죠': 3067, '빼려고': 3068, '애가': 3069, '신기해': 3070, '전희': 3071, '구안와사': 3072, '힘들다': 3073, '맞는것도': 3074, '중요합니다': 3075, '내지': 3076, '타러가는데': 3077, '오래되고': 3078, '봐주시나': 3079, '작으셔서': 3080, '해주시는듯': 3081, '별루임': 3082, '보시는듯': 3083, '없는덴': 3084, '비싸기는': 3085, '이리': 3086, '비싼지': 3087, '찮아서': 3088, '짜증나서': 3089, '씀': 3090, '잘놓아요': 3091, '네네': 3092, '김상준': 3093, '원하시면': 3094, '바뀌셨나': 3095, '메인': 3096, '동문': 3097, '공황장애': 3098, '나았지만': 3099, '끊었어요': 3100, '섬세히': 3101, '자세히게': 3102, '아껴주시네요': 3103, '정직하게': 3104, '찾으러': 3105, '올까': 3106, '없다는': 3107, '나왔': 3108, '중후': 3109, '친절하구요': 3110, 'ㄱ': 3111, '친절함과': 3112, '멋있으신': 3113, '든다': 3114, '없으니': 3115, '걸어다니': 3116, '가벼워졌습니다': 3117, '맞았더니': 3118, '좋아지는듯': 3119, '감비환': 3120, '변비': 3121, '현상': 3122, '보가': 3123, '넘어져서': 3124, '타박상': 3125, '입고': 3126, '맞았네요': 3127, '걸렸던': 3128, '들두': 3129, '친근한': 3130, '부와': 3131, '보고왔어요': 3132, '무분별': 3133, '차별': 3134, '경기': 3135, '있다는게': 3136, '감사할': 3137, '따름': 3138, '넘치는': 3139, '용하시네요': 3140, '있다하면': 3141, '신물': 3142, '났는데': 3143, '적정한': 3144, '가두려운': 3145, '표현': 3146, '손녀': 3147, '하려': 3148, '이여': 3149, '습니': 3150, '판단': 3151, '빠르시고': 3152, '보습': 3153, '다녕': 3154, '비슷한게': 3155, '되는건데': 3156, '믿을수': 3157, '없네': 3158, '일전': 3159, '서치': 3160, '있음에도': 3161, '찾아갑니': 3162, '딸아이': 3163, '성지': 3164, '모자란': 3165, '업그레이드': 3166, '됐고': 3167, 'runner': 3168, '라면': 3169, '주법': 3170, '반드시': 3171, '아님': 3172, '궁금점': 3173, '해소': 3174, '달리기': 3175, '털어': 3176, '놓을': 3177, '뇌파': 3178, '좋지는': 3179, '안하서': 3180, '길어지네요': 3181, '심리': 3182, '가벼운': 3183, '심하진': 3184, '한다셨어요': 3185, '간단해요': 3186, '나온답니다': 3187, '목요일': 3188, '신중히': 3189, '다려집니다': 3190, '친해져서': 3191, '있는거': 3192, '기다리게': 3193, '공황': 3194, '쌤듵노': 3195, '89090': 3196, '우울함': 3197, '좋아졌고': 3198, '에서의': 3199, '극복': 3200, '포근한': 3201, '좁다': 3202, '편도염': 3203, '생겼다고': 3204, '하기도': 3205, '수월했고': 3206, '불편한지': 3207, '조차도': 3208, '물어보는': 3209, '스럽': 3210, '무기': 3211, '”': 3212, '머릿속': 3213, '오는거니': 3214, '보자고': 3215, '하더군요': 3216, '들리는': 3217, '아깝고': 3218, '아까우니까': 3219, '차라리': 3220, '간다': 3221, '피로': 3222, '이었지만': 3223, '운동선수': 3224, '갔죠': 3225, '센': 3226, '할수있어': 3227, '팔다리': 3228, '초기': 3229, '라네': 3230, '아니였으면': 3231, '몰랐을': 3232, '단순하게': 3233, '저리다고만': 3234, '건강해': 3235, '질께요': 3236, '환갑': 3237, '시점': 3238, '아파지더라고요': 3239, '딸내미': 3240, '가보': 3241, '봤었는데요': 3242, '많았었거든요': 3243, '그러던': 3244, '시켜줘서': 3245, '멀었지만': 3246, '할수있다고': 3247, '받으셨어요': 3248, '좋아지셨습니다': 3249, '끝판': 3250, '추간판': 3251, '탈출': 3252, '귄': 3253, '사라지고': 3254, '좋아진듯': 3255, '겅진': 3256, '민첩하십니다': 3257, '자상하십니다': 3258, '됐냐': 3259, '다시오라면서': 3260, '찍해': 3261, '대고': 3262, '개판': 3263, '못자서': 3264, '맞': 3265, '보았네요': 3266, '은줄': 3267, '몰랐네요': 3268, '냥': 3269, '친절함의': 3270, '기준': 3271, '다르니까': 3272, '평가': 3273, '어떨지는': 3274, '느끼': 3275, '좋았다고': 3276, '셉': 3277, '스몰톡': 3278, '하신게': 3279, '느껴졌어요': 3280, '지하철역': 3281, '버스': 3282, '정류': 3283, '길찾기': 3284, '지나가다가': 3285, '보았던': 3286, '꽃': 3287, '급체': 3288, '어지럽고': 3289, '알고있는데': 3290, '내려갔어요': 3291, '다닐만': 3292, '놓으시는거': 3293, '개운하네요': 3294, '돌도': 3295, '휴가': 3296, '아프고만': 3297, '장염': 3298, '이라네요': 3299, '이기는': 3300, '압출': 3301, '흉터': 3302, '되긴': 3303, '편인듯': 3304, '좋랐어': 3305, '봐주시는게': 3306, '판매': 3307, '괜차늠': 3308, '그닥': 3309, '루': 3310, '가벼워집니다': 3311, '좋아졌어용': 3312, '하고나면': 3313, '시원해졌네요': 3314, '예민한': 3315, '아픈거로': 3316, '조치': 3317, '가겟습니다': 3318, '감사했구요': 3319, '고마웠습니다': 3320, '로비': 3321, '요새': 3322, '메이크업': 3323, '룸': 3324, '있더라구요': 3325, '아프': 3326, '감사함니다': 3327, '😇': 3328, '데려왔는데': 3329, '오겠다고': 3330, '다니구': 3331, '데려와서': 3332, '잇솔질': 3333, '보며': 3334, '유익한': 3335, '정보': 3336, '됐네요': 3337, '오랄': 3338, '전동칫솔': 3339, '증정': 3340, '하고있어서': 3341, '득템': 3342, '돌봐주는': 3343, '찾고': 3344, '계시': 3345, '예쁘고': 3346, '향기도': 3347, '독일': 3348, '오신': 3349, '하는것': 3350, '거든요': 3351, '썩': 3352, '이던': 3353, '안아퍼서': 3354, '달라졌어요': 3355, 'vip': 3356, '웃으면서': 3357, '봐주셨습니다': 3358, '어린이': 3359, '먹지': 3360, '미루다': 3361, '뜨지만': 3362, '불편한건': 3363, '간략히': 3364, '쉬워': 3365, '되니다': 3366, '와야': 3367, '칮절해': 3368, '도열': 3369, '이빈': 3370, '과로': 3371, '예방': 3372, '읽을수': 3373, '실바': 3374, '안도': 3375, '즐거웠네요': 3376, '놓아주셔서': 3377, '청각': 3378, '보이길래': 3379, '보았습니다': 3380, '이어폰': 3381, '같지': 3382, '않던': 3383, '높아진거도': 3384, 'ㅊㅈㅎㅇ': 3385, 'ㅊㅊ': 3386, '놓주세요': 3387, '놓아줘요': 3388, '놓아요': 3389, '앉아있는': 3390, '그다지': 3391, '갑지': 3392, '긋': 3393, '다녀옵니다': 3394, '스벅': 3395, '서점': 3396, '있으니': 3397, '왔는데요': 3398, '😊😊': 3399, '쾌적합니다': 3400, '좋았던거': 3401, '나오네요': 3402, '급하신': 3403, '느껴졌구요': 3404, '아늑한': 3405, '으론': 3406, '정함': 3407, '더플란트': 3408, '혼자': 3409, '하시나': 3410, '혼': 3411, '자시네요': 3412, '절해': 3413, '버렸네요': 3414, '해주었어요': 3415, '되었으며': 3416, '알려줘요': 3417, '기만': 3418, '되었음': 3419, '찾으시는': 3420, 'as': 3421, 'ㅈㅗㅁ': 3422, '기다리는걸': 3423, '당연하게': 3424, '대장': 3425, '내놓고': 3426, '할려면': 3427, '할려': 3428, '이러진': 3429, '않거든요': 3430, '왔고': 3431, '친정엄마': 3432, '입맛': 3433, '드셔서': 3434, '링거': 3435, '됨됨이': 3436, '공사': 3437, '늦었음': 3438, '큰일': 3439, '날뻔': 3440, '하신다는': 3441, '과대': 3442, '깎아': 3443, '먹은': 3444, '동산': 3445, '상술': 3446, '고정': 3447, '봐주시구': 3448, '요로결석': 3449, '잘나았습니다': 3450, '결석': 3451, '보는것': 3452, '반해요': 3453, '서방': 3454, '바가지': 3455, '삐': 3456, '해줌': 3457, '잘놓와': 3458, '십': 3459, '받았구요': 3460, '깊었어요': 3461, '치료받은데': 3462, '배드': 3463, '더라구요': 3464, '뜬구름': 3465, '잡는': 3466, '잘맞았네요': 3467, '생겼다는': 3468, '알고있었는데': 3469, '하지못하고': 3470, '일하시는': 3471, '해보고싶다는': 3472, '저렴히': 3473, '좋아진다는': 3474, '해보는거라': 3475, '조심스럽고': 3476, '아팠': 3477, '평온해서': 3478, '뻔했어요': 3479, '낳고': 3480, '올려구요': 3481, '뵙게요': 3482, '다니던치과': 3483, '봐주셨던': 3484, '김지현': 3485, '받고나서': 3486, '찾아가요': 3487, '수기': 3488, '구로': 3489, '않으실거에요': 3490, '가깝진': 3491, '대박나세요': 3492, '대하듯': 3493, '에서부터': 3494, '반겨주시는': 3495, '친근하게': 3496, '원하는': 3497, '했으면': 3498, '질의': 3499, '그렇다면': 3500, '가겠는가': 3501, '중심': 3502, '아마도': 3503, '전국': 3504, '계십니다': 3505, '부산': 3506, '길이': 3507, '쉽진': 3508, '친절함으로': 3509, '주고': 3510, '충남대': 3511, '절단': 3512, '완치': 3513, '디앤': 3514, '에프': 3515, '오셨냐고': 3516, '알것': 3517, '챙겨가세용': 3518, '하러가면': 3519, '부장': 3520, '안부': 3521, '물어주고': 3522, '궁금하지도': 3523, '않을텐데': 3524, '물어가며': 3525, '누군가': 3526, '보고싶은': 3527, '이구나': 3528, '들게': 3529, '귀찮으니': 3530, '시키지말라는': 3531, '들어서는': 3532, '반가운': 3533, '반겨주는': 3534, '떠오르는것이': 3535, '했었어요': 3536, '맙': 3537, '인공': 3538, '소문난': 3539, '택하': 3540, '훈남': 3541, '봐주셨고': 3542, '인실': 3543, '실과': 3544, '달리': 3545, '쾌적했습니다': 3546, '보태': 3547, '호텔': 3548, '시절': 3549, '그리울': 3550, '찾는다면': 3551, '치료받은': 3552, '레이': 3553, '씌우기에는': 3554, '아깝다고': 3555, '때워주셨네요': 3556, '영업': 3557, '있는데는': 3558, '친절합니다요': 3559, '조용한': 3560, '방역': 3561, '지켜지고': 3562, '줬어요': 3563, '힘들었는데': 3564, '지어서': 3565, '먹었으면': 3566, '되도록': 3567, '똑같았을텐데': 3568, '봉': 3569, '고맙': 3570, '간하면': 3571, '남기지': 3572, '않는데': 3573, '고마워서': 3574, '정직하시고': 3575, '가려': 3576, '들러야지': 3577, '잔소리': 3578, '해주실가': 3579, '필': 3580, '평균': 3581, '시세': 3582, '굿궁': 3583, '구천구백원': 3584, '가봐요': 3585, '봐주셨답니다': 3586, '변경': 3587, '도와주시고': 3588, '조아용': 3589, '바뀌셨다는데': 3590, '제로': 3591, '아토': 3592, '어도': 3593, '챙겨주십니다': 3594, '여드름': 3595, '알려주십니다': 3596, '가렵니': 3597, '글자': 3598, '적어': 3599, '박정': 3600, '좋으시더라구요': 3601, '첫날': 3602, '음날': 3603, '2회': 3604, '올라가서': 3605, '안내지를': 3606, '내밀었는데': 3607, '돌리고': 3608, '떠들고': 3609, '있던': 3610, '민망해서': 3611, '서있었는데': 3612, '친절하시던데': 3613, '났고싶네요': 3614, '새끼': 3615, '튀어나오고': 3616, '건막류': 3617, '안하게끔': 3618, '장수': 3619, '진원': 3620, '의약품': 3621, '모르시고': 3622, '시집': 3623, '서서히': 3624, '끊으려고': 3625, '왔다니까': 3626, '먹는게': 3627, '해롭다고': 3628, '전문가': 3629, '그러려니': 3630, '뭘': 3631, '받았는지': 3632, '봤더니': 3633, '주셨더라고요': 3634, '～': 3635, '해주냐고': 3636, '왓': 3637, '만족해하셔요': 3638, '다니려고요': 3639, '다정하시고': 3640, '정신건강': 3641, '다녀서': 3642, '받겠습니다': 3643, '코멘트': 3644, '하시며': 3645, '웃어주셔서': 3646, '웃네요': 3647, '부탁': 3648, '솔직하게말': 3649, '들의': 3650, '달래고': 3651, '조으세요': 3652, '드러': 3653, '하셧으': 3654, '남아': 3655, '돌아오는거': 3656, '아니니': 3657, '뀼': 3658, '한주': 3659, '원자': 3660, '제실': 3661, '뵈러': 3662, '원님': 3663, '살펴주시는': 3664, '조아룡': 3665, 'of': 3666, '마땅한': 3667, '이라지만': 3668, '더럽게': 3669, '하필': 3670, '왔냐고': 3671, '그러고': 3672, '쪼인트': 3673, '까이는': 3674, '보면서': 3675, '갈굼': 3676, '당하면서': 3677, '안타깝고': 3678, '이러니': 3679, '떨어지는건': 3680, '연': 3681, '지사': 3682, '태어나서': 3683, '앉자마자': 3684, '연필': 3685, '깍지': 3686, '긁더니': 3687, '민감': 3688, '이라하고': 3689, '불친절한데': 3690, '비싸기까지': 3691, '그지같아도': 3692, '거길': 3693, '걸까': 3694, '길진': 3695, '해수시고': 3696, '비싸네요': 3697, '귀찮아서': 3698, '쓰기': 3699, '싫지만': 3700, '말아먹네요': 3701, '떠는': 3702, '오고싶게': 3703, '떠드느라': 3704, '멀뚱멀뚱': 3705, '쳐다봄': 3706, '나오니': 3707, '호명': 3708, '띡': 3709, '떠들기': 3710, '바쁨': 3711, '말고도': 3712, '비슷한': 3713, '불친절하진': 3714, '놀라울': 3715, '더럽습니다': 3716, '링겔': 3717, '침구': 3718, '먼지': 3719, '사체': 3720, '더러워서': 3721, '의심스러': 3722, '🙏🏻': 3723, '볼게요': 3724, '비추라고': 3725, '가고싶지안음': 3726, '칼': 3727, '베서': 3728, '꿰맬수': 3729, '없다하구': 3730, '꿰매구싶음': 3731, '찾아가라': 3732, '불친절하구': 3733, '물어봤다구': 3734, '번할까': 3735, '똑같이말하려다가': 3736, '똑바로': 3737, '못해': 3738, '내려가다': 3739, '아퍼': 3740, '죽겠는데': 3741, '였나': 3742, '해주세여': 3743, '보시는거': 3744, '걸리시지': 3745, '이지함': 3746, '친절헤': 3747, '친젏해': 3748, '한마디': 3749, '하자': 3750, '미남': 3751, '되세요': 3752, '보았어요': 3753, '맞으면서': 3754, '아픈거랑': 3755, '나아지는': 3756, '받앗습니다': 3757, '편하죠': 3758, '하실': 3759, '욥': 3760, '시원한': 3761, '야해서': 3762, '마쳤습니다': 3763, '시켜서': 3764, '쉬운': 3765, '용어': 3766, '하기에': 3767, '꾹': 3768, '누르고': 3769, '😃👍': 3770, '보고가요': 3771, '잘생기시고': 3772, '없었고': 3773, '해야한데': 3774, '바뿌셔': 3775, '힘드셨는지': 3776, '쉬시고': 3777, '어찌저찌': 3778, '됐다는': 3779, '몇십': 3780, '들여서': 3781, '없었다는': 3782, '건너편': 3783, '뺏을': 3784, '친절했는데': 3785, '어머님께': 3786, '세분': 3787, '못봣습니': 3788, '나머지': 3789, '웃으시고': 3790, '계시길': 3791, '바랏': 3792, '잇어서': 3793, '뮐': 3794, '물어보면': 3795, '단': 3796, '은행': 3797, '결론': 3798, '홀': 3799, '울고싶어요': 3800, '여길와': 3801, '빠르지만': 3802, '진찌': 3803, '시원해서': 3804, '가봣는데': 3805, '아팟는데': 3806, '들어용': 3807, '헸습니': 3808, '해보겠습니다': 3809, '만족스러워용': 3810, '\\U0001faf6\\U0001faf6': 3811, '뷰티': 3812, '전용': 3813, '질환': 3814, '아니면': 3815, '긴가': 3816, '민가': 3817, '해줘야': 3818, '좋아해야': 3819, '가십니다': 3820, '그러니까': 3821, '자세해': 3822, '주셨으면': 3823, '물어보는거에': 3824, '부담스러웠어요': 3825, '태토': 3826, '불쾌함': 3827, '다닐거': 3828, '편했어요': 3829, '불친절하다고': 3830, '봐주시는데': 3831, '공차': 3832, '제야': 3833, '고수': 3834, '협소': 3835, '더워요': 3836, '살아이도': 3837, '성공했어요': 3838, '괜찮냐고': 3839, '구석구석': 3840, '스케줄': 3841, '맞혀': 3842, '드림니다': 3843, '다니고있습니다': 3844, '미주신경': 3845, '실신': 3846, '소견': 3847, '별도': 3848, '타인': 3849, '해주질': 3850, '황당': 3851, '번호': 3852, '엉뚱하게도': 3853, '이름으': 3854, '되어있었음': 3855, '행정': 3856, '꽝': 3857, '나왔으면': 3858, '황당했을듯': 3859, '루안': 3860, '들으시고': 3861, '만가': 3862, '해주는건': 3863, '묵은지': 3864, '로서': 3865, '테크닉': 3866, '훌륭하시고': 3867, '민': 3868, '반겨주시네요': 3869, '3시간': 3870, '해주시느라': 3871, '찢어지는줄': 3872, '아무튼': 3873, '고자': 3874, '마스': 3875, '고압': 3876, '강압': 3877, '30년': 3878, '마네': 3879, '쉬는데': 3880, '나아': 3881, '보임': 3882, '가보시는게': 3883, '비싸': 3884, '도안': 3885, '패키지': 3886, '상품': 3887, '마취제': 3888, '난후': 3889, '있은': 3890, '움직이게': 3891, '욧': 3892, '😇😇': 3893, '이면': 3894, '동창회': 3895, '비결': 3896, '묻길래': 3897, '꾸': 3898, '이해도': 3899, '살이안': 3900, '빠져': 3901, '카복시': 3902, '콕콕': 3903, '집어': 3904, '호': 3905, '등록': 3906, '친절하긴한데': 3907, '라텍스': 3908, '켰으면': 3909, '합니당': 3910, '묵묵하니': 3911, '볼수록': 3912, '제모': 3913, '찐으로': 3914, '하신': 3915, '환하고': 3916, '소중하게': 3917, '과다르': 3918, '할부': 3919, '유목민': 3920, '스케일': 3921, '가글': 3922, '😭': 3923, '여기라면': 3924, '있겠어요': 3925, '써주시며': 3926, '느껴지는': 3927, '보내세요': 3928, '개운하게': 3929, 'ㅏㄷ': 3930, '나지': 3931, '귀엽고': 3932, '푹신푹신': 3933, '시린': 3934, '미루던': 3935, '좋았지만': 3936, '원내': 3937, '례': 3938, '배어있는': 3939, '마인드': 3940, '할까': 3941, '브릿지': 3942, '있는듯': 3943, '급히': 3944, '들른': 3945, '과의': 3946, '대처': 3947, '차후': 3948, '또한': 3949, '새로운': 3950, '왔답니다': 3951, '남아주세요': 3952, '잘해주는': 3953, '편안히해': 3954, '때우는': 3955, '찌릿찌릿': 3956, '설겆이': 3957, '들과': 3958, '완': 3959, '되는것을': 3960, '느낄수': 3961, '찌릿': 3962, '아프구': 3963, '움직이길래': 3964, '만져': 3965, '파악': 3966, '미친': 3967, '안되엇다': 3968, '사고가나서': 3969, '였답니다': 3970, '깨끗했으며': 3971, '수라상': 3972, '주방': 3973, '식단': 3974, '고마웠답니다': 3975, '않': 3976, '힘들어하는': 3977, '자알': 3978, '지장': 3979, '건강하십시요': 3980, '패드': 3981, '환의': 3982, '쾌쾌': 3983, '좋을거': 3984, '적당히': 3985, '넣어주셔서': 3986, '이루어지고있어': 3987, '만들어주셔서': 3988, '먹을수있어요': 3989, '먹으면서': 3990, '권해서': 3991, '저린것': 3992, '허리협착증': 3993, '아픈것까지': 3994, '거리를': 3995, '걸어': 3996, '가자면': 3997, '앉았다': 3998, '걸었는데': 3999, '걸어가게': 4000, '늡': 4001, '깨서': 4002, '가곤': 4003, '일어나니까': 4004, '활기차네요': 4005, '느무많음': 4006, '허십니다': 4007, '맞으려고': 4008, '찌르고': 4009, '이리저리': 4010, '씨름': 4011, '하더니': 4012, '밴드': 4013, '붙여주고': 4014, '가버리시네요': 4015, '놔주실': 4016, '라던가': 4017, '않나요': 4018, '그러더니': 4019, '가셨는데': 4020, '나쁘더라구요': 4021, '부턴': 4022, '맞지': 4023, '말아야겠어요': 4024, '상냥하신듯': 4025, '한데': 4026, '들어오시는': 4027, '차가운듯': 4028, '바꾸려던': 4029, '참에': 4030, '이동': 4031, '주지': 4032, '바른': 4033, '다독여': 4034, '올께요': 4035, '들렀어요': 4036, '만으로': 4037, '상주': 4038, '계신것도': 4039, '거저': 4040, '드는': 4041, '똑': 4042, '부러지고': 4043, '빠르세요': 4044, '친절하셔셔': 4045, '다니가': 4046, '좋으셨어요': 4047, '인식': 4048, '해주시구': 4049, '안되구요': 4050, '읽어': 4051, '멀긴': 4052, '귀찮': 4053, '하시': 4054, '태': 4055, '우는': 4056, 'ㅎㅋ': 4057, '괜찮을지도': 4058, '인기': 4059, '잡긴': 4060, '힘들긴': 4061, '별개': 4062, '묘': 4063, '웃김내용': 4064, '지과': 4065, '오고싶고': 4066, '개개인': 4067, '분류': 4068, '되있어서': 4069, '좋았슴': 4070, '덜딸': 4071, '그렇다': 4072, '한다해': 4073, '무통': 4074, '려고': 4075, '없더라구요': 4076, '식하시고': 4077, '살피': 4078, '해주시는거': 4079, '란트': 4080, '반년': 4081, '지났다고': 4082, '해보자고': 4083, '까지와': 4084, '받는것을': 4085, '두려워': 4086, '다독여주시며': 4087, '치료받게': 4088, '헤': 4089, '따뜻함': 4090, '치료받고싶은': 4091, '용기': 4092, '생겼습니다': 4093, '와같이': 4094, '드립니다내용': 4095, '낫': 4096, '청결하며': 4097, '정확하시고': 4098, '일거': 4099, '해마다': 4100, '항시': 4101, '고쳐주세요': 4102, '친절하셔': 4103, 'ㅕ': 4104, '우아': 4105, '박용현': 4106, '깍': 4107, '듯이': 4108, '계신다': 4109, '불필요하게': 4110, '잉': 4111, '주치이시다': 4112, '뛰어나요': 4113, '섬세해요': 4114, 'ㅇㅇㅇㅇㅇㅇㅇ': 4115, '환': 4116, '따뜻하시고': 4117, '명치': 4118, '결막': 4119, '모반': 4120, '했는': 4121, '섬세하게': 4122, '직후': 4123, '찍은': 4124, '충혈': 4125, '안보': 4126, '되었으면': 4127, '이길어요': 4128, '쌈': 4129, '녹내장': 4130, '의심': 4131, '같구': 4132, '환하게': 4133, '움직이는': 4134, '일산': 4135, '중화': 4136, '존경': 4137, '박민호': 4138, 'ㅇㅇㅇㅇㅇ': 4139, 'ㅇㅇㅌㅇㅇㅌㅇ': 4140, '공': 4141, '기압': 4142, '팩': 4143, '적외선': 4144, '불부': 4145, '김증': 4146, '기전': 4147, '유명하다는': 4148, '전전': 4149, '신념': 4150, '유착': 4151, '차단시켜': 4152, 'ㅇㅇㅇㅇㅇㅇㅇㅇㄹㅇ': 4153, 'ㄴㄴㄴㄴㄴㄴㄴㄴ': 4154, '좋아진': 4155, '향상': 4156, '조아지는게': 4157, '한다거': 4158, '간김': 4159, '놓아주십니다': 4160, '되고있어서': 4161, '만족하는': 4162, '10000': 4163, '유료': 4164, '생각나서': 4165, '해봤는데': 4166, '신세계': 4167, '내년': 4168, '만들수': 4169, '무늬': 4170, '없으신': 4171, '정확히': 4172, '짚어주시고': 4173, '지어주셔서': 4174, '됐지만': 4175, '뻐근할': 4176, '갔다오면': 4177, '고요하게': 4178, '쉬고오는': 4179, '일인실처럼': 4180, '분리': 4181, '되어있어서': 4182, '올만에': 4183, '좃': 4184, '봐쥬셔': 4185, '줄알': 4186, '겁나': 4187, '음성': 4188, '체적': 4189, '불친절했는데': 4190, '몰라도': 4191, '마찬가지': 4192, '필요하냐': 4193, '물어보니': 4194, '물어보시면': 4195, '물어봅니까': 4196, '간단한': 4197, '훌쩍': 4198, '넘고': 4199, '초에': 4200, '감염': 4201, '원해서': 4202, '왔나': 4203, '싶네요': 4204, '올거': 4205, '받겟다니까': 4206, '길고': 4207, '다시는안': 4208, '😢': 4209, '🥰😄😅😭👌': 4210, '😆': 4211, '벌': 4212, '습진': 4213, '가려울': 4214, '비싼듯': 4215, '보여도': 4216, '빠져요': 4217, '칠': 4218, '치실사': 4219, '용법': 4220, '할께요': 4221, '된건데': 4222, '좋았구요': 4223, '아팠던': 4224, '치료받는내내': 4225, '잇몸스켈링': 4226, '깨진': 4227, '받고있답니다': 4228, '담주에': 4229, '뵈요': 4230, '12월': 4231, '사후관리': 4232, '가보지': 4233, '않앗지만': 4234, '여기다니고': 4235, '💖💖': 4236, '방향성': 4237, '잡아주시는': 4238, '볼링': 4239, '치는': 4240, '볼러': 4241, '인서트': 4242, '붓거나': 4243, '비노': 4244, '오셔두': 4245, '될듯': 4246, '빠졌어요': 4247, '놓으시구': 4248, '다녀왔': 4249, '느넫': 4250, '들어주세요': 4251, '아픈데도': 4252, '짚어주셔서': 4253, '받고나면': 4254, '평안해': 4255, '맞이': 4256, '놓으시더라고요': 4257, '바랄게요': 4258, 'bb': 4259, '쥐': 4260, '이뻐지려면': 4261, '골고루': 4262, '주요': 4263, '짚어주셨고': 4264, '아깝지': 4265, '않았습니다': 4266, '귀찮니': 4267, '즘': 4268, '남기는데': 4269, '괘잉진료': 4270, '다니십니다': 4271, '좋아해요': 4272, '침착하고': 4273, '호흡기': 4274, '물치': 4275, '안온': 4276, '있어도': 4277, '결리고': 4278, '뭉치': 4279, '풀어지고': 4280, '뻣뻣했던': 4281, '된듯': 4282, '참지': 4283, '받는게': 4284, '되는거': 4285, '어질': 4286, '어질하여': 4287, '뇌': 4288, '제도': 4289, '개운해진거': 4290, '쥐어져서': 4291, '여기오니': 4292, '대번에': 4293, '잡아주시네요': 4294, '법': 4295, '사하니': 4296, '신기하고': 4297, '불친절해서': 4298, '만족하며': 4299, '삼대': 4300, '괜찮아져서': 4301, '신기하네요': 4302, '고은성': 4303, '세세하고': 4304, '아팠고': 4305, '상이': 4306, '마이': 4307, '협': 4308, '진해서': 4309, '알아봐주셔서': 4310, '다니도록': 4311, '개드립': 4312, '찾아오게되': 4313, '치료받으며': 4314, '거뜬히': 4315, '살아가고있습니다': 4316, '꼼꼼헤': 4317, '먹으면': 4318, '군': 4319, '아픈만큼': 4320, '아프지만': 4321, '반겨주십니다': 4322, '괜찮아졌어요': 4323, '했으나': 4324, '찾다': 4325, '한다면': 4326, '힘들지만': 4327, '열려있다니': 4328, '죽다': 4329, '살아났으니': 4330, '생일': 4331, '살아갈게요': 4332, '배우고': 4333, '부작용': 4334, '생기지': 4335, '지어주세요': 4336, '닫아서': 4337, '쓴다고': 4338, '가시는데': 4339, '깔끔함': 4340, '남태': 4341, '받고있는데': 4342, '할지도': 4343, '일러주시고': 4344, '뛰어나다셔서': 4345, '분석': 4346, '초등생': 4347, '무거웠던': 4348, '딸램': 4349, '공부': 4350, '좋아졌다고': 4351, '떠요': 4352, '남양주': 4353, '많고요': 4354, '키우면서': 4355, '종합병원': 4356, '더분에': 4357, '갔었네요': 4358, '아늑하고': 4359, '놓으세요': 4360, '결림으로': 4361, '오고싶은': 4362, '스윗': 4363, '다정다감': 4364, '친절하고요': 4365, '알아주시고': 4366, '친절하니까': 4367, '가시는': 4368, '관계': 4369, '나아졌습니다': 4370, '친절했다': 4371, '서툴': 4372, '레이져': 4373, '감전': 4374, '되는줄요': 4375, '변': 4376, '특': 4377, '착해서': 4378, '볼록하게': 4379, '올라온': 4380, '종이': 4381, '올라와서': 4382, '주신듯': 4383, '아팠지만': 4384, '절때': 4385, '않을것': 4386, 'ktx': 4387, '하신데요': 4388, '딱딱하게': 4389, '느껴질': 4390, '하네여': 4391, '북적': 4392, '쾌적하더라': 4393, '가발': 4394, '저렴하니까': 4395, '스킨': 4396, '부스터': 4397, '용할게요': 4398, '11월': 4399, '예비': 4400, '신부': 4401, '본식': 4402, '드레스': 4403, '이쁘게': 4404, '입으려고': 4405, '아무래도': 4406, '단기간': 4407, '빼기': 4408, '힘들어서요': 4409, '아팠어요': 4410, '겁쟁이': 4411, '윗쪽': 4412, '따끔': 4413, '거림': 4414, '중간': 4415, '아래쪽': 4416, '저번': 4417, '이더라구요': 4418, '빼주신': 4419, '생신': 4420, '만족하': 4421, '채워주고': 4422, '꿔': 4423, '줘야': 4424, '기다릴': 4425, '없': 4426, '입력': 4427, '불러주는': 4428, '했다는게': 4429, '이렇': 4430, '변해': 4431, '사는것이': 4432, '식당': 4433, '키': 4434, '오스': 4435, '크에': 4436, '잇고': 4437, '빌딩': 4438, '꽉차면': 4439, '대라고': 4440, '불가이거나': 4441, '되는데': 4442, '성형': 4443, '신선하네요': 4444, '들어가는데': 4445, '둘다': 4446, '하던지': 4447, '꺼낼': 4448, '걍': 4449, '섰는데': 4450, '척도': 4451, '이렇지': 4452, '어리고': 4453, '뚝뚝': 4454, '스킬': 4455, '어설프고': 4456, '복잡해서': 4457, '힘든데': 4458, '욕먹지': 4459, '격': 4460, '볼까': 4461, '짧은': 4462, '전투': 4463, '아는것도': 4464, '보였음': 4465, '괜찮았는데': 4466, '적인것': 4467, '압': 4468, '출': 4469, '가르킬려구': 4470, '다녀왔어용': 4471, '해주세용': 4472, '올듯': 4473, '친절하더라고': 4474, 'ㅜㅜㅠ': 4475, '메이퓨': 4476, '피코토닝': 4477, '같아용': 4478, '예술': 4479, '꺼진': 4480, '넘치지도': 4481, '부족하지도': 4482, '돌아간': 4483, '랑은': 4484, '최상': 4485, '비포': 4486, '동영상': 4487, '화질': 4488, '봐도': 4489, '구분': 4490, '체인': 4491, '고만고만한데': 4492, '하네': 4493, '좋은가': 4494, '놀랐음': 4495, '인간문화재': 4496, '신설': 4497, '맞나싶음': 4498, '친절했으면': 4499, '나시': 4500, '방어': 4501, '필요하여': 4502, '어마어마합니다': 4503, '올여름': 4504, '고마': 4505, '올라': 4506, '기고': 4507, '약품': 4508, '해주는데': 4509, '셃프': 4510, '띄게': 4511, '맑아진게': 4512, '별다른': 4513, '끝나는데': 4514, '이갈이': 4515, '심하다': 4516, '각': 4517, '코어톡스': 4518, '성도': 4519, '근무': 4520, '자신감': 4521, '상담사': 4522, '부담스러웠다': 4523, '10회': 4524, '끊어': 4525, '달려갔어요': 4526, '않거': 4527, '급하지': 4528, '이슈': 4529, '울트라': 4530, '샷': 4531, '환해져요': 4532, 'ldm': 4533, '맑아졌어요': 4534, '성능': 4535, '세안': 4536, '건조해진다고': 4537, '에비앙': 4538, '미스트': 4539, '뿌려주세요': 4540, '까진요': 4541, '혁명': 4542, '눕지': 4543, '해야하는게': 4544, 'cc': 4545, '살것': 4546, '횡설수설': 4547, '찰떡': 4548, '😝': 4549, '티나': 4550, '자연스러운': 4551, '뛰어남': 4552, '꼼꼼함': 4553, '턱끝': 4554, '해드렸어요': 4555, '돌아가는': 4556, '만족하시고': 4557, '보시네요': 4558, '가야겠어요': 4559, '저렴함': 4560, '모로': 4561, '만족스러웠음': 4562, '들어가서': 4563, '빨리할껄': 4564, '아플까봐': 4565, '한게': 4566, '후회될': 4567, '에드': 4568, '대박나세여': 4569, '예뻐요': 4570, '빨랐어요': 4571, '해달라고': 4572, '징징거렸는데': 4573, '진상': 4574, '이었음': 4575, '이었어요': 4576, '아팠구요': 4577, '볼록한건': 4578, '지나': 4579, '니깐': 4580, '들어가고': 4581, '이틀': 4582, '아저씨': 4583, '가져가면': 4584, '입출': 4585, '더러워짐': 4586, '관할': 4587, '캐비닛': 4588, '최소': 4589, '에서만': 4590, '걸린다': 4591, '시간관리': 4592, '웬만하면': 4593, '일정': 4594, '마구마구': 4595, '밀립니다': 4596, '기다리다': 4597, '잠듦': 4598, '좋냐고': 4599, '난다며': 4600, '해주더라고요': 4601, '저렴한데': 4602, '듀': 4603, '들면서': 4604, '얇아져서': 4605, '눈물': 4606, '찔끔': 4607, '났지만': 4608, '보자마자': 4609, '들어하는': 4610, '통한': 4611, '기다린': 4612, '뜨': 4613, '싼거만': 4614, '425000원': 4615, '긁고': 4616, '떠나서': 4617, '손맛': 4618, '달라져있음': 4619, '집중': 4620, '궁금한것에': 4621, '길게': 4622, '힘주고': 4623, '내리고': 4624, '아팠음': 4625, '부담스러': 4626, '나아서': 4627, '감사하여': 4628, '데리': 4629, '강화': 4630, '힘들어하던': 4631, '가볍고': 4632, '시원하다고': 4633, '온갖': 4634, '테스트': 4635, '해보시더니': 4636, '요추': 4637, '흉추': 4638, '치료받으라고': 4639, '8만원': 4640, '물어보더라구요': 4641, '받으라면서': 4642, '그건': 4643, '9만원': 4644, '없냐니까': 4645, '이냐': 4646, '그러지': 4647, '후배': 4648, '거짓': 4649, '오로지': 4650, '감사하다': 4651, '아픈치아가': 4652, '비싸도': 4653, '내부시': 4654, '설도': 4655, '인성': 4656, '갖춘': 4657, '2006년': 4658, '붙인': 4659, '금니': 4660, '붙여주셨습니다': 4661, '보살핌': 4662, '따뜻했습니다': 4663, '도나': 4664, '만족스러웠고': 4665, '찌릿찌릿하고': 4666, '신경통': 4667, '심해': 4668, '해서는': 4669, '갈꺼': 4670, '때매': 4671, '밝게': 4672, '꽤': 4673, '떨리고': 4674, '효진': 4675, '귀여우세요': 4676, '시린이': 4677, '완전히': 4678, '조만간': 4679, '왔었어야': 4680, '부러지는': 4681, '진행중': 4682, '걸리줄': 4683, '착하고': 4684, '라트': 4685, '떼운': 4686, '덮을': 4687, '필요없다구': 4688, '마음먹었어요': 4689, '뽑았어요': 4690, '아펐는데': 4691, '덜아퍼요': 4692, '중화동': 4693, '하겠': 4694, '포토': 4695, '하고싶지만': 4696, '특성': 4697, '하지는': 4698, '오고싶어요': 4699, '였고': 4700, '하고있는': 4701, '여로': 4702, '방면': 4703, '윗': 4704, '원했어요': 4705, '뗀': 4706, '떨어진': 4707, '깨졌네요': 4708, '딱딱한': 4709, '씹어': 4710, '대니': 4711, '깨지나': 4712, '덜덜': 4713, '임시': 4714, '댄': 4715, '붙어있었으면': 4716, '역대': 4717, '꼼꼼함을': 4718, '갔었': 4719, '읍니': 4720, '고등학교': 4721, '신다해': 4722, '아플수는': 4723, '없겠지만': 4724, '바뀌시면': 4725, '속상할거': 4726, '잔뜩': 4727, '무서워하고있어도': 4728, '달래주셔요': 4729, 'ㅋㅋㅋㅋㅋㅋ': 4730, '강북구': 4731, '매해': 4732, '갖지': 4733, '그럴': 4734, '편안했습니다': 4735, '이분': 4736, '맡기고': 4737, '찢어진': 4738, '바셀린': 4739, '발라주시고': 4740, '알보칠': 4741, '발라주시는': 4742, '솜씨': 4743, '알아듣기': 4744, '도와주십니다': 4745, '4월': 4746, '권하지시도': 4747, '요모조모': 4748, '나긋나긋하게': 4749, '개운한': 4750, '보셔서': 4751, '하실거': 4752, '갤러리': 4753, '아픕니다': 4754, '받으며': 4755, '씌우는': 4756, '퍼펙': 4757, '뽑으셔서': 4758, '거론': 4759, '쓰실수도': 4760, '있었을텐데': 4761, '잡아주시고': 4762, '있다니': 4763, '섬세하시고': 4764, '다정하세요': 4765, '뽑느라': 4766, '요기': 4767, '좋아하는': 4768, '예쁜': 4769, '변태': 4770, '자임': 4771, '암튼': 4772, '쟝': 4773, '💖': 4774, '🙂🙂': 4775, '늦은': 4776, '다녀야겠어요': 4777, '저렴하구요': 4778, '오고싶습니다': 4779, '엉망': 4780, '있는것은': 4781, '뽑기': 4782, '그나마': 4783, '하여요': 4784, '만족한': 4785, '아팠던거': 4786, '중요하지만': 4787, '들을수': 4788, '중요하다': 4789, '수도': 4790, '곤': 4791, '간것': 4792, '관계자': 4793, '뽑느게': 4794, '일케': 4795, '이네요': 4796, '노련하십니다': 4797, '젊으셔서': 4798, '선호': 4799, '셧': 4800, '없으': 4801, '적절하게': 4802, '아파해': 4803, '시름': 4804, '덜었습니다': 4805, '콕': 4806, '실오라기': 4807, '들렸습니다': 4808, '앉지도': 4809, '양원': 4810, '듣자마자': 4811, '터졌진거': 4812, '찍다고': 4813, '적중': 4814, '예의': 4815, '바르시고': 4816, '공손하시고': 4817, '이준석': 4818, '소문': 4819, '다닐게요': 4820, 'bcg': 4821, '홍쌤': 4822, '감사해용': 4823, '린': 4824, '잘맞는듯': 4825, '조용해여': 4826, '바꾸세요': 4827, '12시': 4828, '아파가지고': 4829, '1시': 4830, '바꿨다고': 4831, '500만': 4832, '나왔었거든요': 4833, '놀라서': 4834, '손댈': 4835, '써야': 4836, '바짝': 4837, '빋': 4838, '때웠던': 4839, '갔어용': 4840, '아니였어요': 4841, '양원역': 4842, '망우역': 4843, '맡기네요': 4844, '버는것': 4845, '살펴주셔요': 4846, '봐주서요': 4847, '차서': 4848, '뽑아야': 4849, '뽑는데': 4850, '웬걸': 4851, '따끔하고': 4852, '뽑는건': 4853, '끝났': 4854, '맛있는걸': 4855, '먹으려면': 4856, '갈수도': 4857, '아빠': 4858, '벌거': 4859, '치료받기': 4860, '계셔주셔서': 4861, '반면': 4862, '고지혈증': 4863, '후련': 4864, '차내': 4865, '망우동': 4866, '돌아': 4867, '댕': 4868, '겼어요': 4869, '지켜보자': 4870, '40': 4871, '짜리': 4872, '셀치': 4873, '경과': 4874, '지켜보자는': 4875, '권하셔서': 4876, '깜놀': 4877, '더해서': 4878, '한다더군요': 4879, '여기오길': 4880, '할꺼에요': 4881, '궁금해': 4882, '설': 4883, '맞아주셔서': 4884, '엄살': 4885, '쟁이': 4886, '만족스러웠어용': 4887, '치료받고나서': 4888, '공포': 4889, '줄었어요': 4890, '뽑지': 4891, '살릴': 4892, '해주시구여': 4893, '말끔히': 4894, '오래되었지만': 4895, '주셔요': 4896, '증상만': 4897, '하는건': 4898, '하겠어요': 4899, '약한': 4900, '딱딱한거': 4901, '씹지말라고': 4902, '각심': 4903, '갖게': 4904, '보여주고': 4905, '줗았어': 4906, '오래간만': 4907, '점검': 4908, '겠네요': 4909, '해주시느냐': 4910, '박슬기': 4911, '돼서도': 4912, '무서운': 4913, '금전': 4914, '더해졌는데': 4915, '불안해하는': 4916, '물어보시고': 4917, '싸우는': 4918, '잊었냐': 4919, '하냐': 4920, '나빴습니다': 4921, '만약': 4922, '시켜주는': 4923, '싸우러': 4924, '참나': 4925, '서럽고': 4926, '별꼴': 4927, '봤습니다': 4928, '따루': 4929, '짪으': 4930, '쫒기는': 4931, '하던': 4932, '망설이다': 4933, '정신과': 4934, '힘드신': 4935, '찾아가셔도': 4936, '후회': 4937, '없을듯': 4938, '계셔요': 4939, '1초': 4940, '걸린듯': 4941, '세계': 4942, '탑': 4943, '계세': 4944, '나가겠습니다': 4945, '줌': 4946, '사전예약': 4947, '기다리지도': 4948, '카카오': 4949, '톡': 4950, '사전': 4951, '잘생겨서': 4952, '편입': 4953, '받으려고': 4954, '들어갔을': 4955, '많더라고요': 4956, '본건데': 4957, '색도': 4958, '밝아져서': 4959, '뺀다고': 4960, '잠못': 4961, '이루고': 4962, '진통제': 4963, '먹었는지요': 4964, '너무나도': 4965, '사거리': 4966, '76': 4967, '생전': 4968, '뽑을': 4969, '예뿌': 4970, '꼬': 4971, '매주시': 4972, '못자고': 4973, '불편한데': 4974, '써주시던': 4975, '치과위생사': 4976, '퀄리티': 4977, '봐주는': 4978, '여자아이': 4979, '난리': 4980, '키즈': 4981, '동생': 4982, '않는거': 4983, '했늡': 4984, '디디': 4985, '착한거죠': 4986, 'ㅎㅅ': 4987, '하이': 4988, '오빠': 4989, '낙후': 4990, '뽑았는데': 4991, '잘뽑으셔요': 4992, '꼼꼼하': 4993, '있네여': 4994, '좋아지는것': 4995, '느껴요': 4996, '부족': 4997, '아슬아슬해요': 4998, '대체로': 4999, '기다린다는': 5000, '접수하자마자': 5001, '대게': 5002, '내버리잖아요': 5003, '아니었다': 5004, '능': 5005, '엠알': 5006, '이상무': 5007, '친저': 5008, '보안': 5009, '쓰고': 5010, '까칠합니다': 5011, '죄인': 5012, '된것': 5013, '같았습니다': 5014, '되어있네요': 5015, '회시': 5016, '들려서': 5017, '커피한잔': 5018, '릴렉스되': 5019, '편안해져서': 5020, '쾌차': 5021, '어둡고': 5022, '흉부': 5023, '손진': 5024, '멊': 5025, '다는데': 5026, '아플까': 5027, 'ㅎㅎㅎㅎㅎㅎ': 5028, 'ㅇㅋ': 5029, '가다실': 5030, '북부': 5031, '차비': 5032, '이었구요': 5033, '패임': 5034, '어쩌다': 5035, '여유도': 5036, '없는지라': 5037, '했다고': 5038, '편리한': 5039, '빠지는게': 5040, '잊지': 5041, '안압': 5042, '시설깨큿': 5043, '거나': 5044, '제시': 5045, '그려주면서': 5046, '도와주시는게': 5047, '용합니다': 5048, '하는듯': 5049, '헛걸음': 5050, '어차피': 5051, '겸사겸사': 5052, '다이소': 5053, '들르고': 5054, '상관': 5055, '살면서': 5056, '홈플러스': 5057, '있는걸': 5058, '허허': 5059, '긴건': 5060, '비애': 5061, 'ㅠㅡㅠ': 5062, '친하게': 5063, '모르지만': 5064, '합시다': 5065, '그게': 5066, '버': 5067, 'ㅡㅡㅋ': 5068, '져': 5069, '괴로운': 5070, '잡담': 5071, '하시느라': 5072, '에칭': 5073, '불편했고': 5074, '션': 5075, '쓰시': 5076, '혀': 5077, '에다': 5078, '대서': 5079, '적었습니다': 5080, '불만족': 5081, '스러운': 5082, '실망': 5083, '컸습니다': 5084, '주로': 5085, '재진': 5086, '남녀': 5087, '노소': 5088, '높고': 5089, '낮음': 5090, '적당한': 5091, '단지': 5092, '친절한게': 5093, '깨운하게': 5094, '어려운거': 5095, '죽': 5096, '먹겠습니다': 5097, '스펙': 5098, '박석': 5099, 'ㄷㄷㄷㄷㄷ': 5100, '뺐어요': 5101, '왔던': 5102, '솔직하게': 5103, '오는게': 5104, '중요하겠지만': 5105, '야한다면': 5106, '제한': 5107, '고기': 5108, '씹는': 5109, '대성공': 5110, '달라진게': 5111, '보일': 5112, '대응': 5113, '어려운': 5114, '대를': 5115, '수면': 5116, '생겼네': 5117, '귀엽네': 5118, '폭풍': 5119, '뽑아야하는데': 5120, '잇다고': 5121, '시림': 5122, '끝났으면': 5123, '겠네용': 5124, '햇던': 5125, '미리': 5126, '받으셨는데': 5127, '이셨더라구요': 5128, '쑥': 5129, '뽑아주셨다며': 5130, '엄지': 5131, '척': 5132, '주시더라구요': 5133, 'fm': 5134, '원칙': 5135, '지켜서': 5136, '해줘': 5137, '자상하세요': 5138, '잘못': 5139, '싸다': 5140, '24년': 5141, '보증': 5142, '함니다': 5143, '‘': 5144, '’': 5145, '꼼꼼하신': 5146, '딱딱해요': 5147, '핸드폰': 5148, '변해요': 5149, '많아도': 5150, '일까': 5151, '치료받았고': 5152, '써주시고': 5153, '해주신다고': 5154, '가겠습니다': 5155, '들겠다': 5156, '지켜보고': 5157, '하자고': 5158, '됬습니다': 5159, '안아퍼요': 5160, '바뀌셔서': 5161, '패인': 5162, '떼웠어': 5163, '되는거랑': 5164, '안되는거': 5165, '색깔': 5166, '이니': 5167, '미뤘던': 5168, '시렸는데': 5169, '시렸어요': 5170, '받을것': 5171, '다닐만큼': 5172, '아니지만': 5173, '믿을만한': 5174, '좋죠': 5175, '이사해': 5176, '선한': 5177, '교육': 5178, '받으셨나요': 5179, '고요': 5180, '모토': 5181, '알았습니다': 5182, '200': 5183, '도합': 5184, '알려주시는게': 5185, '열어서': 5186, '침상': 5187, '쓸건데': 5188, '사방': 5189, '꼼꼼하시구요': 5190, '기초': 5191, '왠만하면': 5192, '겉모습': 5193, '보지': 5194, '오세요': 5195, '갖추셨다고': 5196, '맞을것': 5197, '차분하시고': 5198, '도와주셔서': 5199, '많은지': 5200, '말씨': 5201, '형성': 5202, '내려주세요': 5203, '귯': 5204, '갔다고': 5205, '가정': 5206, '장닝': 5207, '스탈': 5208, '가지구': 5209, '다님니다': 5210, '받았오요': 5211, '젠틀': 5212, '상냥하고': 5213, '팩트': 5214, '잇게': 5215, '해주어요': 5216, '잘생긴건': 5217, '덤': 5218, '2분': 5219, '계시니': 5220, '엿': 5221, '가봐여': 5222, '환절': 5223, '기철': 5224, '디': 5225, '마나': 5226, '찍어주신': 5227, '잘해주시': 5228, '성심껏': 5229, '풀렸네요': 5230, '질거': 5231, '놔주고': 5232, '도스': 5233, '불편하다면': 5234, '불편함만': 5235, '없다면': 5236, '다닐수': 5237, '👍🏼': 5238, '💞': 5239, '놔': 5240, '슬픈': 5241, '보심': 5242, '꼼꼼하면서': 5243, '잘놓고': 5244, '고쳐요': 5245, '좋어요': 5246, '계시는': 5247, '리뉴얼': 5248, '이쁩니다': 5249, '찬절해': 5250, 'shfhr': 5251, '키좀': 5252, '작으': 5253, '전부터': 5254, '세지': 5255, '비해': 5256, '3시': 5257, '13': 5258, '14시': 5259, '민망하지': 5260, '생리통': 5261, '질염': 5262, '살아서': 5263, '들쭉날쭉한': 5264, '나은': 5265, '찾아보니': 5266, '없어졌더라구요': 5267, '낫지도': 5268, '방황': 5269, '개업': 5270, '중요한것만': 5271, '있는데요': 5272, '치료받으면서': 5273, '젊으시고': 5274, '가구': 5275, '궁금한것': 5276, '낫기까지': 5277, '걸리겠지만': 5278, '하나로': 5279, '쭈욱': 5280, '참이랍니다': 5281, '척척': 5282, '렵니': 5283, '철인': 5284, '잇': 5285, '종료': 5286, '직전': 5287, '발음': 5288, '정확하지': 5289, '물어봤는데': 5290, '답답한': 5291, '내시': 5292, '말안': 5293, '해주다가': 5294, '마니': 5295, '장애인': 5296, '우수': 5297, '설치': 5298, '싸고자': 5299, '다른거': 5300, '나와': 5301, '본적': 5302, '화면': 5303, '요금': 5304, '오해': 5305, '소지': 5306, '잘해줍니다': 5307, '신내': 5308, '신게': 5309, '느껴집니다': 5310, '신식': 5311, '호불호': 5312, '하시려는': 5313, '보였고': 5314, '친절했습니다': 5315, '바빠': 5316, '다운': 5317, '소리치시나요': 5318, '내면': 5319, '안되죠': 5320, '소리치며': 5321, '울어': 5322, '걸고': 5323, '안가네요': 5324, '앉으신': 5325, '졸고': 5326, '내시던데': 5327, '보는지': 5328, '모르겠습니다': 5329, '애초': 5330, '했다면': 5331, '일도': 5332, '없었겠죠': 5333, '없을것': 5334, '모르겠고': 5335, '알레르기': 5336, '타러': 5337, '있었는지': 5338, '빼주더니': 5339, '이물': 5340, '랍시고': 5341, '만삼천원': 5342, '받네요': 5343, '찍혀': 5344, '다쳤단': 5345, 'tt': 5346, '팔걸이': 5347, '하곤': 5348, '활동': 5349, '늦어져서': 5350, '임박': 5351, '도착': 5352, '싲니': 5353, '굳수': 5354, 'ct': 5355, '하는거에': 5356, '급속': 5357, '바뀌었다고': 5358, '쫌': 5359, '꼼꼼하십니': 5360, '딘': 5361, '사후': 5362, '무리해서': 5363, '슬픈거': 5364, '귀찮은': 5365, '내색': 5366, '주시는게': 5367, '직업병': 5368, '말려서': 5369, '무겁고': 5370, '코끼리': 5371, '마리': 5372, '내려온': 5373, '느낌이였어요': 5374, '좋아질지': 5375, '몰랐는데': 5376, '좋아질거': 5377, '둡고': 5378, '굳어있어요': 5379, '앉아있는거': 5380, '이는데': 5381, '청소': 5382, '깄다': 5383, '걸리겠네요': 5384, '절대로': 5385, '친절한건': 5386, '기대하지': 5387, '받지도': 5388, '사무': 5389, '이렇다': 5390, '저렇다': 5391, '안좋으': 5392, '무표정': 5393, '😐': 5394, '멀더': 5395, '버티는': 5396, '있긴': 5397, '있겠죠': 5398, '비슷': 5399, '편인데도': 5400, '놓음': 5401, '불친절하던데': 5402, '친절하다는': 5403, '뭐징': 5404, '🤔': 5405, '왔을': 5406, '맞아야': 5407, '몰아가셔서': 5408, '친절하시고주말해': 5409, '도해': 5410, '휴일': 5411, '안가도': 5412, '잘해주시네요': 5413, '요가랑': 5414, '에어로빅': 5415, '수업': 5416, '쓰니': 5417, '온몸': 5418, '치료받고오면': 5419, '만해': 5420, '들께': 5421, '빨래': 5422, '쪼그리고': 5423, '엉': 5424, '덜하고': 5425, '바빠서': 5426, '심했었는데': 5427, '치료받고오니': 5428, '🤗🤗🤗': 5429, '깊어': 5430, '피는': 5431, '멈췄는데': 5432, '꼬매달': 5433, '성형수술': 5434, '붙이는': 5435, '테이프': 5436, '샤워': 5437, '안떨어진다고': 5438, '붙여주는데도': 5439, '붙여주셨는데': 5440, '떨어지네요': 5441, 'ㅈㅡㅎ': 5442, '로안': 5443, '파마머리': 5444, '좀있으신': 5445, '작은': 5446, '권해': 5447, '두려움': 5448, '커서': 5449, '심심하지': 5450, '지루하지': 5451, '살펴주셔서': 5452, '전담': 5453, '건강한': 5454, '가질': 5455, '🖤': 5456, '아프네요': 5457, '시켜주시구': 5458, 'ㅜㅜㅜ': 5459, '바쁘셨을텐데': 5460, '페셔널': 5461, '개도': 5462, '뽑는': 5463, '미루다가': 5464, '미뤘나싶을': 5465, '빠르고도': 5466, '쏙': 5467, '뛰어난': 5468, '훌륭하신': 5469, '계시다니': 5470, '천군': 5471, '마를': 5472, '얻은': 5473, '와야죠': 5474, '불편해요': 5475, '일찍이': 5476, '마치': 5477, '조곤조곤': 5478, '약사': 5479, '않게끔': 5480, '써주시네요': 5481, '옮긴': 5482, '나셨으면': 5483, '바꿔주세요': 5484, '가리면': 5485, '혼나요': 5486, '붓고': 5487, '둔해지는게': 5488, '줄어서': 5489, '보렵': 5490, '그로': 5491, '인한': 5492, '바꾸어야': 5493, '알려주셨습니다': 5494, '차례': 5495, '증세': 5496, '없어짐': 5497, '자상하시': 5498, '아프지말아야하는데': 5499, '원했습니다': 5500, '찝어주시고': 5501, '썪': 5502, '지켜보자하셨습니다': 5503, '사마': 5504, '다를수있다고': 5505, '안하시더라고요': 5506, '기계가있어서': 5507, '쵝': 5508, '여부': 5509, '참는다고': 5510, '구체': 5511, '발견': 5512, '가능하다하': 5513, '했었고': 5514, '단계': 5515, '드셨었는데': 5516, '드시고': 5517, '찌고있습니다': 5518, '강악': 5519, '안면': 5520, '쨋': 5521, '빼주셨어요': 5522, '반짝이는': 5523, '매니큐어': 5524, '칠해놓고': 5525, '맨손': 5526, '기구': 5527, '지고': 5528, '넣고': 5529, '하던데': 5530, '걸리': 5531, '적거': 5532, '려': 5533, '불편했음': 5534, '떨어지면': 5535, '어쩌나': 5536, '싶고': 5537, '되는지': 5538, '음식점': 5539, '지저분하게': 5540, '집게': 5541, '묶고': 5542, '네일아트': 5543, '오질': 5544, '시시콜콜': 5545, '이상한': 5546, '해댐': 5547, '봐주겠다는': 5548, '말겠다는': 5549, '모르겠음': 5550, '지셨어요': 5551, '많긴': 5552, '잘놓아주셔서': 5553, '인가요': 5554, '저만': 5555, '가까운데': 5556, '싶니다': 5557, '무신': 5558, '웃고': 5559, '떠드는건': 5560, '헤아려주시길': 5561, '적이네요': 5562, '인자하십니다': 5563, '화려하': 5564, '나긋한': 5565, '놀러': 5566, '있다길래': 5567, '들러서': 5568, '나갈': 5569, '칫솔': 5570, '해보려고요': 5571, '달래주셨어요': 5572, '식사': 5573, '떨어지는': 5574, '찔리던': 5575, '4시': 5576, '반이': 5577, '넘었는데': 5578, '없겠지': 5579, '한탄': 5580, '부근': 5581, '기쁜': 5582, '달려왔어요': 5583, '5시': 5584, '깔끔히': 5585, '부착': 5586, '케일': 5587, '부도': 5588, '올것': 5589, '비롯': 5590, '다니게': 5591, '28일': 5592, '때우신게': 5593, '빠지셔서': 5594, '살리기': 5595, '시원하더라구요': 5596, '만족스러웠': 5597, '무섭잖아요': 5598, '그랬었는데': 5599, '아닌게': 5600, '상쾌한': 5601, '안이': 5602, '일욜': 5603, '가니까': 5604, '쓰이고': 5605, '왔었는데요': 5606, '미뤄': 5607, '좋으셔서': 5608, '해주니': 5609, '잘생기신': 5610, '친절하시기까지': 5611, '원합니다': 5612, '행복합니다': 5613, '안전하고': 5614, '가치': 5615, '기안': 5616, '많으셨습니다': 5617, '팔이': 5618, '송원': 5619, '단순': 5620, '수단': 5621, '승전': 5622, '만하': 5623, '하는것부터': 5624, '역겹': 5625, '애매해': 5626, '꼈는데도': 5627, '멋있습니다': 5628, '꺼려하는데': 5629, '볼수있지만': 5630, '노후': 5631, '아닌데': 5632, '거칠어요': 5633, '짐짝': 5634, '퍽퍽': 5635, '바르셔서': 5636, '불쾌하고': 5637, '나빳어': 5638, '걷다가': 5639, '나쁘지': 5640, '불친절하다': 5641, '날개': 5642, '망우': 5643, '리까': 5644, '들어주시네요': 5645, '붙이': 5646, '들어주고': 5647, '들어가며': 5648, '햄스트링': 5649, '소요': 5650, '되었고': 5651, '김병': 5652, '실의': 5653, '매력': 5654, '긴머리': 5655, '터져서': 5656, '어보': 5657, '규': 5658, '꼬리뼈': 5659, '블럭': 5660, '블락': 5661, '뷰': 5662, '봬': 5663, '심하네요': 5664, '왔더니': 5665, '왔다고': 5666, '변덕': 5667, '부리는': 5668, '산돌': 5669, '있는것이': 5670, '든든합니다': 5671, '갈듯': 5672, '다양해요': 5673, '맞으로': 5674, '기어': 5675, '들어갔다가': 5676, '세면대': 5677, '할만큼': 5678, '드리며': 5679, '갈께요': 5680, '느낄': 5681, '느': 5682, '껴지게': 5683, '자격': 5684, '보유': 5685, '정직하시게': 5686, '갔구요': 5687, '갔던': 5688, '같은건': 5689, '이는': 5690, '좋아졌구요': 5691, '보았지만': 5692, '겠어요': 5693, '없으세요': 5694, '아담하고': 5695, '청결합니다': 5696, '단순한': 5697, '안전하게': 5698, '섬세하신': 5699, '해주세': 5700, '만든거처럼': 5701, '순하고': 5702, '디테': 5703, '일해': 5704, '나아지지는': 5705, '받을려고요': 5706, '오고부터': 5707, '잠들': 5708, '따뜻하고': 5709, '클래식': 5710, '음악': 5711, '미열': 5712, '잦아서': 5713, '일있으신': 5714, '와주셨어요': 5715, 'ㄷㅎ': 5716, '엄숙하고': 5717, '없으시다': 5718, '복약': 5719, '저런': 5720, '보는게': 5721, '좋겠다': 5722, '편안해졌습니다': 5723, '쓰는거라': 5724, '랍니': 5725, '\\U0001fae2': 5726, '네오': 5727, '동대문구': 5728, '다녔다가': 5729, '무앗': 5730, '💟': 5731, '해나': 5732, '야할지': 5733, '완벽했습니다': 5734, '정신의학': 5735, '과를': 5736, '해보는데': 5737, '카페': 5738, '놓고': 5739, '들어가게': 5740, '막상': 5741, '편해지더라구요': 5742, '나왔던': 5743, '이나마': 5744, '느껴서': 5745, '따라왔어요': 5746, '잘맞고': 5747, '통해': 5748, '자신': 5749, '분별': 5750, '어딜': 5751, '가든': 5752, '성격': 5753, '긍정': 5754, '깨끗하구요': 5755, '괜찮게': 5756, '침절': 5757, '정밀검사': 5758, '봐주셨어용': 5759, '모르겠어': 5760, '욯': 5761, '무섭다고': 5762, '발라주셨어요': 5763, '아픈것': 5764, '풀리고': 5765, '먹을것': 5766, '사가려고': 5767, '이마트': 5768, '유러': 5769, '유로': 5770, '될것': 5771, '예인': 5772, '유명하셔서': 5773, '다른데': 5774, '가볼': 5775, '묻지도': 5776, '따지지도': 5777, '항맥': 5778, '정맥': 5779, '해주셔': 5780, '♥️': 5781, '화타': 5782, '찝어주시는데': 5783, '고려': 5784, '코스': 5785, '이쁘시고': 5786, '보다는': 5787, '약했던것': 5788, '눌러서': 5789, '해줬으면': 5790, '장사': 5791, '생기는지': 5792, '주신답니다': 5793, '촘촘하': 5794, '완벽하게': 5795, '대접': 5796, '올수밖에': 5797, '됬어요': 5798, '환약': 5799, '치료받구': 5800, '달동': 5801, '나아지질': 5802, '가뿐한게': 5803, '신기해요': 5804, '삐었': 5805, '깊숙이': 5806, '꽂아주시는데': 5807, '다친': 5808, '닿는게': 5809, '모니터': 5810, '태블릿': 5811, '뻣뻣하게': 5812, '굳고': 5813, '시원하네요': 5814, '반했어': 5815, '다양하게': 5816, '비쌀줄': 5817, '알았는대': 5818, '갈거예요': 5819, '나른한': 5820, '찾아온만큼': 5821, '의몸': 5822, '시기': 5823, '먹습니다': 5824, '자상함과': 5825, '사모님': 5826, '방울': 5827, '낭비': 5828, '지어주시는': 5829, '약효': 5830, '받는듯': 5831, '감사히': 5832, '견딜것': 5833, '뻐근해서': 5834, '쑥뜸': 5835, 'bbb': 5836, '2시': 5837, '인들': 5838, '맞기도': 5839, '책자': 5840, '친절하죠': 5841, '사노피': 5842, '25000원': 5843, '도배': 5844, '한순간': 5845, '좋아지는게': 5846, '하고있답니다': 5847, '받앗는데': 5848, '나앗어요': 5849, '젊어서': 5850, '재는': 5851, '잴': 5852, '솜': 5853, '재야': 5854, '말씀드리는데': 5855, '체격': 5856, '쓴': 5857, '나빠하시네요': 5858, '나빠져요': 5859, '반성': 5860, '붉히면서': 5861, '나빠': 5862, '아니에요': 5863, '하신거고': 5864, '지적': 5865, '수긍': 5866, '모르는': 5867, '해주셨서': 5868, '상항': 5869, '감사하고': 5870, '들어주십니다': 5871, '갔었거든요': 5872, '많은거': 5873, '아는데': 5874, '감안': 5875, '대하시는거': 5876, '부리시고': 5877, '내쉬고': 5878, '서있는데도': 5879, '그러': 5880, '같더니': 5881, '바꿨네요': 5882, '맞춘': 5883, '꾸욱': 5884, '환해졌네요': 5885, '부시장': 5886, '귀합니다': 5887, '지켜': 5888, '줍시다': 5889, '좋이': 5890, 'ㅏㅇ': 5891, '안다니고': 5892, '굽어서': 5893, '쫙': 5894, '피고': 5895, '효가': 5896, '확실해요': 5897, '인천': 5898, '사는데도': 5899, '참잘': 5900, '짖었어요': 5901, '빠지는': 5902, '맞아주시는': 5903, '더불어': 5904, '먹': 5905, '먹하고': 5906, '심하고': 5907, '떨어져': 5908, '되었네요': 5909, '해주는게': 5910, '친절하셨던거': 5911, '갈수록': 5912, '내시는지': 5913, '청각장애': 5914, '아시면서': 5915, '섞인': 5916, '대하시네요': 5917, '전날': 5918, '낑낑대며': 5919, '진이더라구요': 5920, '문을': 5921, '개시': 5922, '인터넷': 5923, '13일': 5924, '31일': 5925, '진이던데': 5926, '살펴주십니다': 5927, '입냄새': 5928, '너무도': 5929, '때로는': 5930, '따끔한': 5931, '충고': 5932, '느낀다': 5933, '연신': 5934, '사과': 5935, '까지라도': 5936, '건강하셔서': 5937, '줄여주시길': 5938, '하나님': 5939, '개뿔': 5940, '된게': 5941, '회사': 5942, '순': 5943, '안약': 5944, '주더': 5945, '커졌다': 5946, '째야': 5947, '한다면서': 5948, '줬음': 5949, '나가면서': 5950, '필요없어요': 5951, '이러는데': 5952, '람': 5953, '바글바글': 5954, '파리': 5955, '날리는': 5956, '알겠음': 5957, '둣': 5958, '🐰✨✨': 5959, '언': 5960, '♥️♥️': 5961, '봐주시는것도': 5962, '좋지만': 5963, '기다리네요': 5964, '모낭': 5965, '유명해요': 5966, '정확해요': 5967, '쏘쑈': 5968, '☆': 5969, '아픈것도': 5970, '싫네': 5971, '달이': 5972, '돼가네': 5973, '지겨워': 5974, '오라는데': 5975, '나을까': 5976, '싸': 5977, '힘내자구': 5978, '아직도': 5979, '완전하게': 5980, '돌아오지': 5981, '나아가는가': 5982, '아프니': 5983, '깡': 5984, '안녕해야': 5985, '나았다': 5986, '방사선사': 5987, '봐주세': 5988, '히스': 5989, '불린': 5990, '오름': 5991, '찾는': 5992, '알겠네요': 5993, '유방': 5994, '만족스러운': 5995, '싶어서': 5996, '하시는것도': 5997, '뵀습니': 5998, '둔': 5999, '있었으면': 6000, '좋겠단': 6001, '지혈': 6002, '됐는지': 6003, '알아보다가': 6004, '유일': 6005, '무서워하니까': 6006, '충분히': 6007, '잃는': 6008, '보신다는': 6009, '적음에도': 6010, '불구': 6011, '피임': 6012, '비닐': 6013, '끼운': 6014, '라이너': 6015, '느림': 6016, '지킴': 6017, '분다': 6018, '잘해주시면': 6019, '감사하겠어요': 6020, '에서가': 6021, '깝': 6022, '다녀야겠네요': 6023, '궁금했던': 6024, '짚어': 6025, '쌤늘': 6026, '넓어서': 6027, '생겼데요': 6028, '기뻐요': 6029, '노산': 6030, '이쁜아가': 6031, '불친절하네': 6032, '금요일': 6033, '갑상선': 6034, '재검사': 6035, '불안하고': 6036, '무서': 6037, '웟': 6038, '친절하시겠지만': 6039, '🌟🧚\\u200d♂️': 6040, '습유': 6041, '배아': 6042, '이식': 6043, '바랍니다': 6044, '국': 6045, '애도': 6046, '둘째': 6047, '길지도': 6048, '래미': 6049, '힘든': 6050, '즐거운': 6051, '챙겨주시고': 6052, '살펴봐주셔서': 6053, '굿굿굿': 6054, '복잡하네요': 6055, '난자': 6056, '🙏🙏': 6057, '알려주시는': 6058, '분인것': 6059, '없으셔서': 6060, '불쾌해요': 6061, '잘알려주': 6062, '가고싶어요': 6063, '시끄럽지': 6064, '서로서로': 6065, '난소': 6066, '기능': 6067, '하고있는데': 6068, '초음패': 6069, '생겼네요': 6070, '다니다': 6071, '전원': 6072, '은결': 6073, '과만': 6074, '나온다면': 6075, '고조': 6076, '하고싶어요': 6077, '인공수정': 6078, '성공하고': 6079, '믿습니다': 6080, '해주고싶은': 6081, '가길지만': 6082, '쉴게요': 6083, '난저': 6084, '한두': 6085, '않으시지만': 6086, '희망고문': 6087, '발렛': 6088, '비싸요': 6089, '친절하지만': 6090, '대신': 6091, '기다려요': 6092, '편리하게': 6093, '기원': 6094, '따뜻해요': 6095, '허창영': 6096, '최화영': 6097, '부부': 6098, '되어주셔서': 6099, '성공할수': 6100, '찝어주셔서': 6101, '시도': 6102, '되었어여': 6103, '차피': 6104, '김주영': 6105, '슨상님': 6106, '나팔관조영': 6107, '정액검사': 6108, '타이틀': 6109, '무겁지만': 6110, '따뜻한것': 6111, '어려움': 6112, '깔끔하다': 6113, '7시': 6114, '반부터': 6115, '가능해서': 6116, '가능한게': 6117, '장점': 6118, '수술실': 6119, '맡은바': 6120, '언능': 6121, '천사': 6122, '만나고싶다': 6123, '않이': 6124, '부으셔': 6125, '가셔서': 6126, '중복': 6127, '의뢰': 6128, '차병원': 6129, '가까워요': 6130, 'ㅂㅌㅇㄴㄷ': 6131, '나쁜': 6132, '냉이': 6133, '맞아라': 6134, '봐라': 6135, '없을거': 6136, '같': 6137, '갈껄': 6138, '빠짐': 6139, '\\U0001f979\\U0001fa77': 6140, '생겨도': 6141, '찜콩': 6142, '심니다': 6143, '닥': 6144, '어이없는': 6145, '중엽': 6146, '가상': 6147, '치의': 6148, '자상하시구': 6149, '일어날': 6150, '위험성': 6151, '의지': 6152, '교': 6153, '빼고싶어요': 6154, '무서워하는데도': 6155, '달래주시고': 6156, '기다려주세요': 6157, '기침': 6158, '15년': 6159, '책임져주시는': 6160, '좋겠습니다': 6161, '넣어줄': 6162, '넣어줘요': 6163, '노아요': 6164, '낳아주세요': 6165, '용하십니다': 6166, '알아보고있었는데': 6167, '가야면': 6168, '좋을꺼': 6169, '꼼꼼하십니다': 6170, '놓으시는것': 6171, '틀니아주잘': 6172, '아니죠': 6173, '무거워': 6174, '주저앉앗다': 6175, '좋아졌다': 6176, '월요일': 6177, '맞아야겟다': 6178, '보낸': 6179, '부슬부슬': 6180, '내리네요': 6181, '비가오려나': 6182, '뻑뻑': 6183, '추워져': 6184, '무거워지네요': 6185, '다녀야겟어요': 6186, '일과': 6187, '버렷': 6188, '발걸음': 6189, '가법': 6190, '쥰비할': 6191, '잘맞았어서': 6192, '방뮨': 6193, '하규': 6194, '놀았더니': 6195, '쪄서': 6196, '방뮨했습니당': 6197, '마뮤리': 6198, '보았어서': 6199, '살찐': 6200, '빼러': 6201, '뺏던거': 6202, '도로': 6203, '쪄': 6204, '버려서': 6205, '그치만': 6206, '볼라구요': 6207, '호르몬': 6208, '월동': 6209, '킬로': 6210, '빠졌습니다': 6211, '돌아갔지만': 6212, '체지방': 6213, '돌려놓을': 6214, '💛': 6215, '해서도': 6216, '궁금한게': 6217, '많았고': 6218, '궁금했는데': 6219, '좋더라구요': 6220, '보이시': 6221, '갈지': 6222, '했는디': 6223, '됐으면': 6224, '좋겠는': 6225, '착용': 6226, '알아보려고': 6227, '적게끔': 6228, '맞춰주셔서': 6229, '들린거였는데': 6230, '무서워하는데': 6231, '마세여': 6232, 'ㅠㅠㅋㅋㅋ': 6233, '좋으시구': 6234, '하셨다고': 6235, 'ㅈㅎㅇ': 6236, '않게하세요': 6237, 'ㅊㄴ': 6238, 'ㅣㅛ': 6239, '죻으': 6240, '맞네요': 6241, '찾기': 6242, '힘들었던': 6243, '좋와': 6244, '맞앗는데': 6245, '놓아주셨어용': 6246, '친절한안내': 6247, '휴무': 6248, '친절하십시다': 6249, '혈관': 6250, '찾아주셔서': 6251, '🍀': 6252, '저해': 6253, '365일': 6254, '데노': 6255, '지냈어요': 6256, '인포': 6257, '습함': 6258, '흔적': 6259, '물살': 6260, '짝': 6261, '자국': 6262, '어플': 6263, '시간대': 6264, '기는': 6265, '봐주시는듯': 6266, '친절하네요': 6267, '이인식': 6268, '잦은데': 6269, '폰': 6270, '컵': 6271, '올려': 6272, '선반': 6273, '탈의실': 6274, '범승': 6275, '낯설고': 6276, '여성': 6277, '추워져서': 6278, '채': 6279, '지심': 6280, '가려움증': 6281, '보여': 6282, '내질': 6283, '따질려다가': 6284, '만큼이나': 6285, '이쁘신': 6286, '다녀오는': 6287, '하시던': 6288, '감사해서': 6289, '찾아갑니다': 6290, '지나도': 6291, '드려서': 6292, '셈': 6293, '힘드실텐데': 6294, '진맥': 6295, '비쌈': 6296, '갈라구': 6297, '용내용': 6298, '수치심': 6299, '줬으면': 6300, '좋겠음': 6301, '꺼': 6302, '👍👍🤭': 6303, '셋째': 6304, '비만': 6305, '받아주시고': 6306, '면서': 6307, '주시고요': 6308, '갈려고': 6309, '먹는것도': 6310, '군것질': 6311, '할려고': 6312, '해야겠더라고요': 6313, '💊': 6314, '잘수': 6315, '예민해': 6316, '지지도': 6317, '비싼거': 6318, '아니시고': 6319, '민망한': 6320, '좋았어용': 6321, '뽑음': 6322, 'ㅠㅅㅠ': 6323, '빠른가': 6324, '싶지만': 6325, '정현구': 6326, '믿으니까': 6327, '투머': 6328, '치하시지만': 6329, '없으셔': 6330, 'tmi': 6331, '사정': 6332, '맛있어요': 6333, '간사': 6334, '이모': 6335, '호선': 6336, '황송': 6337, '문의': 6338, '드렸을': 6339, '해주셨었는데': 6340, '여직원': 6341, '께서는': 6342, '포스트잍': 6343, '적어주셨습니다': 6344, '읽어주시며': 6345, '챙겨주셨습니다': 6346, '소중한': 6347, '요점': 6348, '해주면': 6349, '서술': 6350, '지루해요': 6351, '보건소': 6352, '아닌데도': 6353, '하시던데': 6354, '듣고있던': 6355, '피곤할것': 6356, '들하세요': 6357, '🙏🏻🙏🏻': 6358, '만들고': 6359, '비싸게': 6360, '예방주사': 6361, '5800원': 6362, 'ㄴ': 6363, '받고있습니다': 6364, '신체': 6365, '찍어주셔서': 6366, '풀렸는지': 6367, '솔솔': 6368, '신축': 6369, '쾌적하네요': 6370, '해당': 6371, '돌아왔는데': 6372, '일사천리': 6373, '가라앉고': 6374, '뭉쳐있는': 6375, '갔지만': 6376, '친절하셨는데': 6377, '여태껏': 6378, '조다': 6379, '도아': 6380, '조합원': 6381, '서한': 6382, '하신다고요': 6383, '교회': 6384, '건초염': 6385, '아파져서': 6386, '권사': 6387, '하시다': 6388, '되신': 6389, '드라마틱하게': 6390, '되셔서': 6391, '훨신': 6392, '부드러워지네요': 6393, '매일': 6394, '해보려구요': 6395, '띠': 6396, '용했는데': 6397, '화제': 6398, '챙겨주시네요': 6399, '아팠네요': 6400, '나았어여': 6401, '뽑아주세요': 6402, '했었나': 6403, '있을것': 6404, '다인': 6405, '김현주': 6406, '하셨던': 6407, '찾': 6408, '치료받고나면': 6409, '개운해': 6410, '그럭저럭': 6411, '괜춘': 6412, '👍👍👍👍👍': 6413, '좋으세여': 6414, '좋아져요': 6415, '우울했는데': 6416, '상냥한': 6417, '울컥': 6418, '했답니다': 6419, '나니': 6420, '치료받으니': 6421, '고쳐주시니': 6422, '지어주십니다': 6423, '어떠한': 6424, '피드백': 6425, '만주': 6426, '아닌지': 6427, '싶은데요': 6428, '모르겠네요': 6429, '하셨지만': 6430, '자존감': 6431, '낮추는': 6432, '하시더군요': 6433, '옮겼는데': 6434, '많긴한데': 6435, '들구요': 6436, '몰랐던': 6437, '아이고': 6438, '마셈': 6439, '심지어': 6440, '보자': 6441, '있었더라구요': 6442, '가시기': 6443, '좋아지네': 6444, '직': 6445, '방이': 6446, '똑닥': 6447, '친찰': 6448, '하기가': 6449, '친절하시다': 6450, '친절해용': 6451, '했던말': 6452, '해야하고': 6453, '스스로': 6454, '하셔야': 6455, '할듯': 6456, '좋은셔': 6457, '쉽고': 6458, '아프거나': 6459, '힘들데가기': 6460, '들어주어서': 6461, '좋고요': 6462, '좋더라': 6463, '하나같이': 6464, '유쾌하시고': 6465, '알겠어용': 6466, '😁👍👍👍': 6467, '❤️💕💕': 6468, '적었고': 6469, '넘었습니다': 6470, '편한하게': 6471, '🍀🍀🍀': 6472, '치석제거': 6473, '시원했어여': 6474, '\\U0001fa77': 6475, '💛💛': 6476, 'ㅎㅎㅎㅎㅎ': 6477, '깊숙히': 6478, '뽑으라고': 6479, '가능하다고': 6480, '치료받길': 6481, '했다는': 6482, '찾으시': 6483, '가보세요': 6484, '고쳐주셨': 6485, '😉\\U0001fae1': 6486, '아프셔서': 6487, '모신다음': 6488, '착하셔요': 6489, '거동': 6490, '부축': 6491, '가지만': 6492, '붙으신': 6493, '시원하구': 6494, '만족스런': 6495, '찜': 6496, '되진': 6497, '맞는듯': 6498, '5회': 6499, '닉네임': 6500, '바꿔서': 6501, '달아야': 6502, '젊었을': 6503, '나왔다고': 6504, '일색': 6505, '미적': 6506, '곱니다': 6507, '책임감': 6508, '엄청난': 6509, '완벽': 6510, '추구': 6511, '분이더군요': 6512, '청담': 6513, '땡': 6514, '할려다가': 6515, '는셈': 6516, '드라마틱': 6517, '만들어': 6518, '준다더니': 6519, '뱉은말': 6520, '지키는': 6521, '상남자': 6522, '열흘': 6523, '퍼진': 6524, '녹': 6525, '엇어': 6526, '진솔한': 6527, '정이': 6528, '해주셨던게': 6529, '기억나서': 6530, '붉고': 6531, '심해져서': 6532, '으로의': 6533, '잡아주셔서': 6534, '자면서': 6535, '핵심': 6536, '퍼지고': 6537, '꺼짐과': 6538, '연어리쥬란': 6539, '하겠다고': 6540, '꼼꼼하도': 6541, '스케': 6542, '설렁설렁': 6543, '닥털': 6544, '담배': 6545, '세세히': 6546, '아파트': 6547, '입주': 6548, '쭈': 6549, '욱': 6550, '고마우신': 6551, '란': 6552, '헐': 6553, '액': 6554, '명확한': 6555, '이참': 6556, '물어봄': 6557, '즣아': 6558, '협소해': 6559, '에만': 6560, '수천': 6561, '쓰면서': 6562, '미뤘습니다': 6563, '내준': 6564, '해줬어요': 6565, '정직하신': 6566, '어쩐': 6567, '물어보지도': 6568, '않았는데': 6569, '주신것': 6570, '해주시더니': 6571, '참된': 6572, '만난': 6573, '쓸대': 6574, '할것만': 6575, '돼셨지만': 6576, '살려서': 6577, '추워도': 6578, '갈수가': 6579, '맞구': 6580, '치료받는데요': 6581, '피곤': 6582, '해보': 6583, '보이셨는데도': 6584, '나온것': 6585, '복잡': 6586, '체형': 6587, '가능하다니': 6588, '비뚤게': 6589, '앉는': 6590, '버릇': 6591, '균형': 6592, '된다니': 6593, '풀어주시네요': 6594, '실손': 6595, '나비': 6596, '일못가고': 6597, '소화기': 6598, '약하니까': 6599, '안좋다고': 6600, '맨날': 6601, '먹지말라고': 6602, '몰래': 6603, '먹긴': 6604, '눈치': 6605, '먹겠어요': 6606, '써주시는거': 6607, '갑자': 6608, '고심': 6609, '이었던': 6610, '아프시게': 6611, '서는': 6612, '절약': 6613, '끝났다고': 6614, '체고': 6615, '조심하는게': 6616, '느껴지고': 6617, '먹으라고': 6618, '놔둔': 6619, '느껴지네요': 6620, '봐주십니당': 6621, '받을거': 6622, '보이지': 6623, '않네요': 6624, '명확하게': 6625, '치료받으려고': 6626, '안정': 6627, '찾을': 6628, '받을게요': 6629, '생기셨어요': 6630, '명함': 6631, '취저': 6632, '\\U0001fae1': 6633, '까지도': 6634, 'ㅈㅇ': 6635, '있아요': 6636, '넘치도록': 6637, '혼잡하니': 6638, '서두르세요': 6639, '늘어': 6640, '린아': 6641, '들이': 6642, '많은걸': 6643, '찾게되': 6644, '놀랐습니다': 6645, '편안해지는': 6646, '있으시고': 6647, '지나칠': 6648, '뻔했던': 6649, '새것': 6650, '중요성': 6651, '씁니다': 6652, '만천원': 6653, '좋겠다고': 6654, '멍': 6655, '되나요': 6656, '통틀어': 6657, '싫으면': 6658, '두든가': 6659, '힘드셨겠지만': 6660, '띤': 6661, '편안함': 6662, '느끼셨던거': 6663, '많으시다': 6664, '불안한': 6665, '있으셨겠지만': 6666, '상냥하신': 6667, '사선': 6668, '생': 6669, '슬퍼하지': 6670, '않으셨습니다': 6671, '디닐': 6672, '노오': 6673, '튜': 6674, 'ㅜㅌ': 6675, '입덧': 6676, '힘들': 6677, '다녀욤': 6678, '들께서도': 6679, '왔어용': 6680, '찝어서': 6681, '프론트': 6682, '밝으시고': 6683, '틴': 6684, '열려있어서': 6685, '해여': 6686, '좋으셔요': 6687, '재밌어요': 6688, '불친절한': 6689, '나빠서': 6690, '돌아오게': 6691, '아무리': 6692, '아파도': 6693, '세히아러': 6694, '다녀왔던': 6695, '되었다': 6696, '급한데로': 6697, '심한지': 6698, '뭔': 6699, '심한건': 6700, '물어보니까': 6701, '드린다고': 6702, '받는다면': 6703, '나쁘셨는지': 6704, '맡으러': 6705, '안주시': 6706, '서주시': 6707, '온다고': 6708, '않았냐': 6709, '싸움': 6710, '하시는지': 6711, '맞춰가며': 6712, '했나': 6713, '방맛': 6714, '괞찬': 6715, '자상하고': 6716, '교통': 6717, '넓은': 6718, '1500원': 6719, '최애': 6720, '아작': 6721, '받고자': 6722, '찾아왔는데': 6723, '찾아온거': 6724, '달인': 6725, '이심': 6726, '맡기는': 6727, '끝내주려하': 6728, '아픈가': 6729, '받은건': 6730, 'ㅋㅋㅋㅋㅋㅋㅋㅋ': 6731, '않아도': 6732, '힐때': 6733, '쓰면': 6734, '슈슈슝': 6735, '가벼워진': 6736, '라니': 6737, 'ㅣㅓ': 6738, '배아러': 6739, 'ㅗ': 6740, '초어': 6741, '챙기며': 6742, '지어주시는것': 6743, '친잘힌': 6744, '자상한': 6745, '편아하고': 6746, '조절': 6747, '안되어서': 6748, '있는것': 6749, '님들': 6750, '어렸을': 6751, '중랑': 6752, '문자': 6753, '사러': 6754, '제품': 6755, '놔서': 6756, '편했네요': 6757, '한참': 6758, '넉넉하게': 6759, '사두': 6760, '든든하네요': 6761, '숨쉬기': 6762, '힘들어하고': 6763, '콧물': 6764, '숙면': 6765, '예민한것': 6766, '같고요': 6767, '거부': 6768, '가자고': 6769, '신나서': 6770, '나서요': 6771, '길어도': 6772, '책볼': 6773, '넓게': 6774, '지루해하지': 6775, '않고요': 6776, '만족하면': 6777, '살때': 6778, '다닌것': 6779, '현재': 6780, '먹어요': 6781, '먹이는게': 6782, '먹여도': 6783, '들었으면': 6784, '☺💖': 6785, '의향': 6786, '손병국': 6787, '다녀올': 6788, '초반': 6789, '친절하시더니': 6790, '지날수록': 6791, '변하시네요': 6792, '한결같지': 6793, '않으시고': 6794, '말아주세요': 6795, '한산하니': 6796, '작으세요': 6797, '바쁘네요': 6798, '서해': 6799, '주사기': 6800, '특이하다': 6801, '고행': 6802, '아프단': 6803, '얘길': 6804, '주사약': 6805, '들어가는줄도': 6806, '몰랐': 6807, '대요': 6808, '정산': 6809, '5월': 6810, '모신': 6811, '지났다': 6812, '요양': 6813, '괜찮음': 6814, '친절하시지만': 6815, '몇몇': 6816, '초진': 6817, '하더라도': 6818, '비쌉니다': 6819, '부의': 6820, '약인': 6821, '모르십니다': 6822, '너저분합니다': 6823, '오실': 6824, '볼수도': 6825, '편하네요': 6826, '먹던': 6827, '했었습니다': 6828, '일절': 6829, '받기로': 6830, '걸린거': 6831, '3만': 6832, '요구': 6833, '환불': 6834, '높으셔도': 6835, '다치는데': 6836, '막히게': 6837, '낫던': 6838, '맞자마자': 6839, '돌아갔던': 6840, '돌': 6841, '쥐어졌던': 6842, '주먹': 6843, '쥐어지고': 6844, '신기하더라고요': 6845, '사시': 6846, '뛰어나세요': 6847, '회전': 6848, '도전': 6849, '해볼': 6850, '그리': 6851, '있다는': 6852, '뻥': 6853, '심각하게': 6854, '아니라면': 6855, '달래주는게': 6856, '나쁜지': 6857, '지에': 6858, '맞추었어요': 6859, '써주신': 6860, '아니어도': 6861, '지나가면': 6862, '없었는지': 6863, '차이나네요': 6864, '저렴하면서': 6865, '해준다': 6866, '잘나요': 6867, '섬쇠': 6868, '받으려': 6869, '규모': 6870, '쾌적하게': 6871, '쓰네요': 6872, '시즌': 6873, '친절하며': 6874, '인자하시고': 6875, '섷명': 6876, '치절해': 6877, '안나아서': 6878, '온건데': 6879, '놀랬어요': 6880, '찾습니다': 6881, '오면서': 6882, '찾아보다가': 6883, '갔었어요': 6884, '해가면서': 6885, '받았을': 6886, '뻐근함이': 6887}\n"
     ]
    }
   ],
   "source": [
    "# 사전의 인덱스 확인\n",
    "print( nlp_tokenizer.word_index )"
   ]
  },
  {
   "cell_type": "code",
   "execution_count": 111,
   "metadata": {},
   "outputs": [
    {
     "data": {
      "text/plain": [
       "6887"
      ]
     },
     "execution_count": 111,
     "metadata": {},
     "output_type": "execute_result"
    }
   ],
   "source": [
    "len(nlp_tokenizer.word_index)"
   ]
  },
  {
   "cell_type": "code",
   "execution_count": null,
   "metadata": {},
   "outputs": [],
   "source": []
  }
 ],
 "metadata": {
  "kernelspec": {
   "display_name": "preprocess",
   "language": "python",
   "name": "python3"
  },
  "language_info": {
   "codemirror_mode": {
    "name": "ipython",
    "version": 3
   },
   "file_extension": ".py",
   "mimetype": "text/x-python",
   "name": "python",
   "nbconvert_exporter": "python",
   "pygments_lexer": "ipython3",
   "version": "3.9.13"
  }
 },
 "nbformat": 4,
 "nbformat_minor": 2
}
