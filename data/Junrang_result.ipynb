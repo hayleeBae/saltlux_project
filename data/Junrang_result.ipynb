{
 "cells": [
  {
   "cell_type": "code",
   "execution_count": 1,
   "metadata": {},
   "outputs": [],
   "source": [
    "import pandas as pd"
   ]
  },
  {
   "cell_type": "code",
   "execution_count": 19,
   "metadata": {},
   "outputs": [
    {
     "data": {
      "text/html": [
       "<div>\n",
       "<style scoped>\n",
       "    .dataframe tbody tr th:only-of-type {\n",
       "        vertical-align: middle;\n",
       "    }\n",
       "\n",
       "    .dataframe tbody tr th {\n",
       "        vertical-align: top;\n",
       "    }\n",
       "\n",
       "    .dataframe thead th {\n",
       "        text-align: right;\n",
       "    }\n",
       "</style>\n",
       "<table border=\"1\" class=\"dataframe\">\n",
       "  <thead>\n",
       "    <tr style=\"text-align: right;\">\n",
       "      <th></th>\n",
       "      <th>name</th>\n",
       "      <th>hospital_id</th>\n",
       "      <th>nickname</th>\n",
       "      <th>content</th>\n",
       "      <th>date</th>\n",
       "      <th>revisit</th>\n",
       "      <th>sentiment</th>\n",
       "    </tr>\n",
       "  </thead>\n",
       "  <tbody>\n",
       "    <tr>\n",
       "      <th>0</th>\n",
       "      <td>365mc모인이비인후과의원</td>\n",
       "      <td>19527111</td>\n",
       "      <td>Wiseburge David</td>\n",
       "      <td>사가정 모인 이비인후과 항상 만원이다</td>\n",
       "      <td>11.24.금</td>\n",
       "      <td>4번째 방문</td>\n",
       "      <td>0.0</td>\n",
       "    </tr>\n",
       "    <tr>\n",
       "      <th>1</th>\n",
       "      <td>365mc모인이비인후과의원</td>\n",
       "      <td>19527111</td>\n",
       "      <td>Dk9</td>\n",
       "      <td>좋아요</td>\n",
       "      <td>11.23.목</td>\n",
       "      <td>1번째 방문</td>\n",
       "      <td>1.0</td>\n",
       "    </tr>\n",
       "  </tbody>\n",
       "</table>\n",
       "</div>"
      ],
      "text/plain": [
       "             name  hospital_id         nickname               content  \\\n",
       "0  365mc모인이비인후과의원     19527111  Wiseburge David  사가정 모인 이비인후과 항상 만원이다   \n",
       "1  365mc모인이비인후과의원     19527111              Dk9                   좋아요   \n",
       "\n",
       "      date revisit  sentiment  \n",
       "0  11.24.금  4번째 방문        0.0  \n",
       "1  11.23.목  1번째 방문        1.0  "
      ]
     },
     "execution_count": 19,
     "metadata": {},
     "output_type": "execute_result"
    }
   ],
   "source": [
    "df = pd.read_excel('C:/Users/user/Desktop/saltlux_project/ML_DL/preprocess/Jungrang_sentiment.xlsx', index_col=0)\n",
    "df.head(2)"
   ]
  },
  {
   "cell_type": "code",
   "execution_count": 20,
   "metadata": {},
   "outputs": [
    {
     "data": {
      "text/html": [
       "<div>\n",
       "<style scoped>\n",
       "    .dataframe tbody tr th:only-of-type {\n",
       "        vertical-align: middle;\n",
       "    }\n",
       "\n",
       "    .dataframe tbody tr th {\n",
       "        vertical-align: top;\n",
       "    }\n",
       "\n",
       "    .dataframe thead th {\n",
       "        text-align: right;\n",
       "    }\n",
       "</style>\n",
       "<table border=\"1\" class=\"dataframe\">\n",
       "  <thead>\n",
       "    <tr style=\"text-align: right;\">\n",
       "      <th></th>\n",
       "      <th>name</th>\n",
       "      <th>hospital_id</th>\n",
       "      <th>nickname</th>\n",
       "      <th>content</th>\n",
       "      <th>date</th>\n",
       "      <th>revisit</th>\n",
       "      <th>sentiment</th>\n",
       "    </tr>\n",
       "  </thead>\n",
       "  <tbody>\n",
       "    <tr>\n",
       "      <th>101</th>\n",
       "      <td>강북21세기병원</td>\n",
       "      <td>12856585</td>\n",
       "      <td>맛있어서개굴개굴</td>\n",
       "      <td>친절하십니다</td>\n",
       "      <td>11.16.목</td>\n",
       "      <td>4번째 방문</td>\n",
       "      <td>NaN</td>\n",
       "    </tr>\n",
       "    <tr>\n",
       "      <th>414</th>\n",
       "      <td>경희한의원</td>\n",
       "      <td>1376397047</td>\n",
       "      <td>목련8413</td>\n",
       "      <td>원장님과 직원분들 넘 친절해요~</td>\n",
       "      <td>22.8.22.월</td>\n",
       "      <td>1번째 방문</td>\n",
       "      <td>NaN</td>\n",
       "    </tr>\n",
       "    <tr>\n",
       "      <th>672</th>\n",
       "      <td>김영준내과의원</td>\n",
       "      <td>19514474</td>\n",
       "      <td>밍크커피</td>\n",
       "      <td>원장님 간호사님들 진료 잘봐주시고 친절하십니다</td>\n",
       "      <td>8.22.화</td>\n",
       "      <td>9번째 방문</td>\n",
       "      <td>NaN</td>\n",
       "    </tr>\n",
       "    <tr>\n",
       "      <th>674</th>\n",
       "      <td>김영준내과의원</td>\n",
       "      <td>19514474</td>\n",
       "      <td>수청9</td>\n",
       "      <td>ㅇㅇ</td>\n",
       "      <td>7.10.월</td>\n",
       "      <td>2번째 방문</td>\n",
       "      <td>NaN</td>\n",
       "    </tr>\n",
       "    <tr>\n",
       "      <th>874</th>\n",
       "      <td>늘찬병원</td>\n",
       "      <td>38287252</td>\n",
       "      <td>uhj****</td>\n",
       "      <td>팔다리가 너무 저려서 진료 받았는데.. 허리디스크 초기라네요. 여기 아니였으면 몰랐...</td>\n",
       "      <td>10.31.화</td>\n",
       "      <td>1번째 방문</td>\n",
       "      <td>NaN</td>\n",
       "    </tr>\n",
       "    <tr>\n",
       "      <th>950</th>\n",
       "      <td>다솔한의원</td>\n",
       "      <td>19523510</td>\n",
       "      <td>빠끔이10</td>\n",
       "      <td>치료후 가벼워집니다_x000D_\\n</td>\n",
       "      <td>11.25.토</td>\n",
       "      <td>5번째 방문</td>\n",
       "      <td>NaN</td>\n",
       "    </tr>\n",
       "    <tr>\n",
       "      <th>1821</th>\n",
       "      <td>바른선택치과의원</td>\n",
       "      <td>1185355355</td>\n",
       "      <td>kru****</td>\n",
       "      <td>친절하시구 꼼꼼히 진료 잘 봐주십니다! 믿고 갈 수 있는 치과에요~ 항상 감사합니다!??</td>\n",
       "      <td>11.21.화</td>\n",
       "      <td>1번째 방문</td>\n",
       "      <td>NaN</td>\n",
       "    </tr>\n",
       "    <tr>\n",
       "      <th>5282</th>\n",
       "      <td>참빛소아청소년과의원</td>\n",
       "      <td>36476649</td>\n",
       "      <td>고기가좋아</td>\n",
       "      <td>마트안에 있어서 주차하기 편리해요.</td>\n",
       "      <td>10.26.목</td>\n",
       "      <td>34번째 방문</td>\n",
       "      <td>NaN</td>\n",
       "    </tr>\n",
       "  </tbody>\n",
       "</table>\n",
       "</div>"
      ],
      "text/plain": [
       "            name  hospital_id  nickname  \\\n",
       "101     강북21세기병원     12856585  맛있어서개굴개굴   \n",
       "414        경희한의원   1376397047    목련8413   \n",
       "672      김영준내과의원     19514474      밍크커피   \n",
       "674      김영준내과의원     19514474       수청9   \n",
       "874         늘찬병원     38287252   uhj****   \n",
       "950        다솔한의원     19523510     빠끔이10   \n",
       "1821    바른선택치과의원   1185355355   kru****   \n",
       "5282  참빛소아청소년과의원     36476649     고기가좋아   \n",
       "\n",
       "                                                content       date  revisit  \\\n",
       "101                                              친절하십니다    11.16.목   4번째 방문   \n",
       "414                                   원장님과 직원분들 넘 친절해요~  22.8.22.월   1번째 방문   \n",
       "672                           원장님 간호사님들 진료 잘봐주시고 친절하십니다     8.22.화   9번째 방문   \n",
       "674                                                  ㅇㅇ     7.10.월   2번째 방문   \n",
       "874   팔다리가 너무 저려서 진료 받았는데.. 허리디스크 초기라네요. 여기 아니였으면 몰랐...    10.31.화   1번째 방문   \n",
       "950                                 치료후 가벼워집니다_x000D_\\n    11.25.토   5번째 방문   \n",
       "1821  친절하시구 꼼꼼히 진료 잘 봐주십니다! 믿고 갈 수 있는 치과에요~ 항상 감사합니다!??    11.21.화   1번째 방문   \n",
       "5282                               마트안에 있어서 주차하기 편리해요.     10.26.목  34번째 방문   \n",
       "\n",
       "      sentiment  \n",
       "101         NaN  \n",
       "414         NaN  \n",
       "672         NaN  \n",
       "674         NaN  \n",
       "874         NaN  \n",
       "950         NaN  \n",
       "1821        NaN  \n",
       "5282        NaN  "
      ]
     },
     "execution_count": 20,
     "metadata": {},
     "output_type": "execute_result"
    }
   ],
   "source": [
    "df = df.reset_index(drop=True)\n",
    "df[df['sentiment'].isnull()]"
   ]
  },
  {
   "cell_type": "code",
   "execution_count": 21,
   "metadata": {},
   "outputs": [],
   "source": [
    "df.loc[101, 'sentiment'] = 1\n",
    "df.loc[414, 'sentiment'] = 1\n",
    "df.loc[672, 'sentiment'] = 1\n",
    "df.loc[674, 'sentiment'] = 1\n",
    "df.loc[874, 'sentiment'] = 1\n",
    "df.loc[950, 'sentiment'] = 1\n",
    "df.loc[1821, 'sentiment'] = 1\n",
    "df.loc[5282, 'sentiment'] = 1"
   ]
  },
  {
   "cell_type": "code",
   "execution_count": 22,
   "metadata": {},
   "outputs": [
    {
     "data": {
      "text/html": [
       "<div>\n",
       "<style scoped>\n",
       "    .dataframe tbody tr th:only-of-type {\n",
       "        vertical-align: middle;\n",
       "    }\n",
       "\n",
       "    .dataframe tbody tr th {\n",
       "        vertical-align: top;\n",
       "    }\n",
       "\n",
       "    .dataframe thead th {\n",
       "        text-align: right;\n",
       "    }\n",
       "</style>\n",
       "<table border=\"1\" class=\"dataframe\">\n",
       "  <thead>\n",
       "    <tr style=\"text-align: right;\">\n",
       "      <th></th>\n",
       "      <th>name</th>\n",
       "      <th>hospital_id</th>\n",
       "      <th>nickname</th>\n",
       "      <th>content</th>\n",
       "      <th>date</th>\n",
       "      <th>revisit</th>\n",
       "      <th>sentiment</th>\n",
       "    </tr>\n",
       "  </thead>\n",
       "  <tbody>\n",
       "    <tr>\n",
       "      <th>0</th>\n",
       "      <td>365mc모인이비인후과의원</td>\n",
       "      <td>19527111</td>\n",
       "      <td>Wiseburge David</td>\n",
       "      <td>사가정 모인 이비인후과 항상 만원이다</td>\n",
       "      <td>11.24.금</td>\n",
       "      <td>4번째 방문</td>\n",
       "      <td>0</td>\n",
       "    </tr>\n",
       "    <tr>\n",
       "      <th>1</th>\n",
       "      <td>365mc모인이비인후과의원</td>\n",
       "      <td>19527111</td>\n",
       "      <td>Dk9</td>\n",
       "      <td>좋아요</td>\n",
       "      <td>11.23.목</td>\n",
       "      <td>1번째 방문</td>\n",
       "      <td>1</td>\n",
       "    </tr>\n",
       "  </tbody>\n",
       "</table>\n",
       "</div>"
      ],
      "text/plain": [
       "             name  hospital_id         nickname               content  \\\n",
       "0  365mc모인이비인후과의원     19527111  Wiseburge David  사가정 모인 이비인후과 항상 만원이다   \n",
       "1  365mc모인이비인후과의원     19527111              Dk9                   좋아요   \n",
       "\n",
       "      date revisit  sentiment  \n",
       "0  11.24.금  4번째 방문          0  \n",
       "1  11.23.목  1번째 방문          1  "
      ]
     },
     "execution_count": 22,
     "metadata": {},
     "output_type": "execute_result"
    }
   ],
   "source": [
    "df['sentiment'] = df['sentiment'].astype(int)\n",
    "df.head(2)"
   ]
  },
  {
   "cell_type": "code",
   "execution_count": 23,
   "metadata": {},
   "outputs": [
    {
     "data": {
      "text/plain": [
       "(5975, 7)"
      ]
     },
     "execution_count": 23,
     "metadata": {},
     "output_type": "execute_result"
    }
   ],
   "source": [
    "df.shape"
   ]
  },
  {
   "cell_type": "code",
   "execution_count": 24,
   "metadata": {},
   "outputs": [
    {
     "data": {
      "text/plain": [
       "2"
      ]
     },
     "execution_count": 24,
     "metadata": {},
     "output_type": "execute_result"
    }
   ],
   "source": [
    "df.duplicated().sum()"
   ]
  },
  {
   "cell_type": "code",
   "execution_count": 25,
   "metadata": {},
   "outputs": [
    {
     "data": {
      "text/plain": [
       "(5973, 7)"
      ]
     },
     "execution_count": 25,
     "metadata": {},
     "output_type": "execute_result"
    }
   ],
   "source": [
    "df = df.drop_duplicates()\n",
    "df.shape"
   ]
  },
  {
   "cell_type": "code",
   "execution_count": 26,
   "metadata": {},
   "outputs": [
    {
     "data": {
      "text/html": [
       "<div>\n",
       "<style scoped>\n",
       "    .dataframe tbody tr th:only-of-type {\n",
       "        vertical-align: middle;\n",
       "    }\n",
       "\n",
       "    .dataframe tbody tr th {\n",
       "        vertical-align: top;\n",
       "    }\n",
       "\n",
       "    .dataframe thead th {\n",
       "        text-align: right;\n",
       "    }\n",
       "</style>\n",
       "<table border=\"1\" class=\"dataframe\">\n",
       "  <thead>\n",
       "    <tr style=\"text-align: right;\">\n",
       "      <th></th>\n",
       "      <th>name</th>\n",
       "      <th>hospital_id</th>\n",
       "      <th>nickname</th>\n",
       "      <th>content</th>\n",
       "      <th>date</th>\n",
       "      <th>revisit</th>\n",
       "      <th>sentiment</th>\n",
       "    </tr>\n",
       "  </thead>\n",
       "  <tbody>\n",
       "    <tr>\n",
       "      <th>0</th>\n",
       "      <td>365mc모인이비인후과의원</td>\n",
       "      <td>19527111</td>\n",
       "      <td>Wiseburge David</td>\n",
       "      <td>사가정 모인 이비인후과 항상 만원이다</td>\n",
       "      <td>11.24.금</td>\n",
       "      <td>4번째 방문</td>\n",
       "      <td>0</td>\n",
       "    </tr>\n",
       "    <tr>\n",
       "      <th>1</th>\n",
       "      <td>365mc모인이비인후과의원</td>\n",
       "      <td>19527111</td>\n",
       "      <td>Dk9</td>\n",
       "      <td>좋아요</td>\n",
       "      <td>11.23.목</td>\n",
       "      <td>1번째 방문</td>\n",
       "      <td>1</td>\n",
       "    </tr>\n",
       "  </tbody>\n",
       "</table>\n",
       "</div>"
      ],
      "text/plain": [
       "             name  hospital_id         nickname               content  \\\n",
       "0  365mc모인이비인후과의원     19527111  Wiseburge David  사가정 모인 이비인후과 항상 만원이다   \n",
       "1  365mc모인이비인후과의원     19527111              Dk9                   좋아요   \n",
       "\n",
       "      date revisit  sentiment  \n",
       "0  11.24.금  4번째 방문          0  \n",
       "1  11.23.목  1번째 방문          1  "
      ]
     },
     "execution_count": 26,
     "metadata": {},
     "output_type": "execute_result"
    }
   ],
   "source": [
    "# 인덱스 재정렬\n",
    "df = df.reset_index(drop=True)\n",
    "df.head(2)"
   ]
  },
  {
   "cell_type": "code",
   "execution_count": 27,
   "metadata": {},
   "outputs": [
    {
     "data": {
      "text/html": [
       "<div>\n",
       "<style scoped>\n",
       "    .dataframe tbody tr th:only-of-type {\n",
       "        vertical-align: middle;\n",
       "    }\n",
       "\n",
       "    .dataframe tbody tr th {\n",
       "        vertical-align: top;\n",
       "    }\n",
       "\n",
       "    .dataframe thead th {\n",
       "        text-align: right;\n",
       "    }\n",
       "</style>\n",
       "<table border=\"1\" class=\"dataframe\">\n",
       "  <thead>\n",
       "    <tr style=\"text-align: right;\">\n",
       "      <th></th>\n",
       "      <th>name</th>\n",
       "      <th>content</th>\n",
       "      <th>sentiment</th>\n",
       "    </tr>\n",
       "  </thead>\n",
       "  <tbody>\n",
       "    <tr>\n",
       "      <th>0</th>\n",
       "      <td>365mc모인이비인후과의원</td>\n",
       "      <td>사가정 모인 이비인후과 항상 만원이다</td>\n",
       "      <td>0</td>\n",
       "    </tr>\n",
       "    <tr>\n",
       "      <th>1</th>\n",
       "      <td>365mc모인이비인후과의원</td>\n",
       "      <td>좋아요</td>\n",
       "      <td>1</td>\n",
       "    </tr>\n",
       "  </tbody>\n",
       "</table>\n",
       "</div>"
      ],
      "text/plain": [
       "             name               content  sentiment\n",
       "0  365mc모인이비인후과의원  사가정 모인 이비인후과 항상 만원이다          0\n",
       "1  365mc모인이비인후과의원                   좋아요          1"
      ]
     },
     "execution_count": 27,
     "metadata": {},
     "output_type": "execute_result"
    }
   ],
   "source": [
    "df = df[['name', 'content', 'sentiment']]\n",
    "df.head(2)"
   ]
  },
  {
   "cell_type": "code",
   "execution_count": 28,
   "metadata": {},
   "outputs": [],
   "source": [
    "# 엑셀 파일로 저장\n",
    "df.to_excel('review_file_junrang.xlsx', index=False)"
   ]
  }
 ],
 "metadata": {
  "kernelspec": {
   "display_name": ".venv",
   "language": "python",
   "name": "python3"
  },
  "language_info": {
   "codemirror_mode": {
    "name": "ipython",
    "version": 3
   },
   "file_extension": ".py",
   "mimetype": "text/x-python",
   "name": "python",
   "nbconvert_exporter": "python",
   "pygments_lexer": "ipython3",
   "version": "3.9.13"
  }
 },
 "nbformat": 4,
 "nbformat_minor": 2
}
