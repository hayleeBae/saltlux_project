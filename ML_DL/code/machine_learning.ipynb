{
 "cells": [
  {
   "cell_type": "code",
   "execution_count": 60,
   "metadata": {},
   "outputs": [],
   "source": [
    "import pandas as pd\n",
    "import numpy as np\n",
    "from sklearn.model_selection import train_test_split\n",
    "from sklearn.feature_extraction.text import TfidfVectorizer\n",
    "from sklearn.naive_bayes import MultinomialNB\n",
    "from sklearn.metrics import accuracy_score, classification_report"
   ]
  },
  {
   "cell_type": "code",
   "execution_count": 12,
   "metadata": {},
   "outputs": [
    {
     "name": "stdout",
     "output_type": "stream",
     "text": [
      "Windows-1252\n"
     ]
    }
   ],
   "source": [
    "import chardet\n",
    "\n",
    "with open('C:/Users/user/Desktop/saltlux_project/ML_DL/preprocess/JungrangTotal_sentiment.csv', 'rb') as file:\n",
    "    result = chardet.detect(file.read())\n",
    "\n",
    "print(result['encoding'])"
   ]
  },
  {
   "cell_type": "code",
   "execution_count": 99,
   "metadata": {},
   "outputs": [
    {
     "data": {
      "text/html": [
       "<div>\n",
       "<style scoped>\n",
       "    .dataframe tbody tr th:only-of-type {\n",
       "        vertical-align: middle;\n",
       "    }\n",
       "\n",
       "    .dataframe tbody tr th {\n",
       "        vertical-align: top;\n",
       "    }\n",
       "\n",
       "    .dataframe thead th {\n",
       "        text-align: right;\n",
       "    }\n",
       "</style>\n",
       "<table border=\"1\" class=\"dataframe\">\n",
       "  <thead>\n",
       "    <tr style=\"text-align: right;\">\n",
       "      <th></th>\n",
       "      <th>name</th>\n",
       "      <th>hospital_id</th>\n",
       "      <th>nickname</th>\n",
       "      <th>content</th>\n",
       "      <th>date</th>\n",
       "      <th>revisit</th>\n",
       "      <th>sentiment</th>\n",
       "    </tr>\n",
       "  </thead>\n",
       "  <tbody>\n",
       "    <tr>\n",
       "      <th>0</th>\n",
       "      <td>365mc모인이비인후과의원</td>\n",
       "      <td>19527111</td>\n",
       "      <td>Wiseburge David</td>\n",
       "      <td>사가정 모인 이비인후과 항상 만원이다</td>\n",
       "      <td>11.24.금</td>\n",
       "      <td>4번째 방문</td>\n",
       "      <td>0.0</td>\n",
       "    </tr>\n",
       "    <tr>\n",
       "      <th>1</th>\n",
       "      <td>365mc모인이비인후과의원</td>\n",
       "      <td>19527111</td>\n",
       "      <td>Dk9</td>\n",
       "      <td>좋아요</td>\n",
       "      <td>11.23.목</td>\n",
       "      <td>1번째 방문</td>\n",
       "      <td>1.0</td>\n",
       "    </tr>\n",
       "  </tbody>\n",
       "</table>\n",
       "</div>"
      ],
      "text/plain": [
       "             name  hospital_id         nickname               content  \\\n",
       "0  365mc모인이비인후과의원     19527111  Wiseburge David  사가정 모인 이비인후과 항상 만원이다   \n",
       "1  365mc모인이비인후과의원     19527111              Dk9                   좋아요   \n",
       "\n",
       "      date revisit  sentiment  \n",
       "0  11.24.금  4번째 방문        0.0  \n",
       "1  11.23.목  1번째 방문        1.0  "
      ]
     },
     "execution_count": 99,
     "metadata": {},
     "output_type": "execute_result"
    }
   ],
   "source": [
    "# 데이터 로드\n",
    "Jungrang_reviews_sentiment = pd.read_excel('../preprocess/Jungrang_sentiment.xlsx', index_col=0)\n",
    "Jungrang_reviews_sentiment.head(2)"
   ]
  },
  {
   "cell_type": "code",
   "execution_count": 100,
   "metadata": {},
   "outputs": [
    {
     "name": "stdout",
     "output_type": "stream",
     "text": [
      "<class 'pandas.core.frame.DataFrame'>\n",
      "Index: 5975 entries, 0 to 9\n",
      "Data columns (total 7 columns):\n",
      " #   Column       Non-Null Count  Dtype  \n",
      "---  ------       --------------  -----  \n",
      " 0   name         5975 non-null   object \n",
      " 1   hospital_id  5975 non-null   int64  \n",
      " 2   nickname     5975 non-null   object \n",
      " 3   content      5975 non-null   object \n",
      " 4   date         5975 non-null   object \n",
      " 5   revisit      5975 non-null   object \n",
      " 6   sentiment    5967 non-null   float64\n",
      "dtypes: float64(1), int64(1), object(5)\n",
      "memory usage: 373.4+ KB\n"
     ]
    }
   ],
   "source": [
    "Jungrang_reviews_sentiment.info()"
   ]
  },
  {
   "cell_type": "code",
   "execution_count": 101,
   "metadata": {},
   "outputs": [
    {
     "data": {
      "text/plain": [
       "8"
      ]
     },
     "execution_count": 101,
     "metadata": {},
     "output_type": "execute_result"
    }
   ],
   "source": [
    "Jungrang_reviews_sentiment['sentiment'].isnull().sum()"
   ]
  },
  {
   "cell_type": "code",
   "execution_count": 102,
   "metadata": {},
   "outputs": [],
   "source": [
    "Jungrang_reviews_sentiment = Jungrang_reviews_sentiment.reset_index(drop=True)"
   ]
  },
  {
   "cell_type": "code",
   "execution_count": 103,
   "metadata": {},
   "outputs": [
    {
     "data": {
      "text/html": [
       "<div>\n",
       "<style scoped>\n",
       "    .dataframe tbody tr th:only-of-type {\n",
       "        vertical-align: middle;\n",
       "    }\n",
       "\n",
       "    .dataframe tbody tr th {\n",
       "        vertical-align: top;\n",
       "    }\n",
       "\n",
       "    .dataframe thead th {\n",
       "        text-align: right;\n",
       "    }\n",
       "</style>\n",
       "<table border=\"1\" class=\"dataframe\">\n",
       "  <thead>\n",
       "    <tr style=\"text-align: right;\">\n",
       "      <th></th>\n",
       "      <th>name</th>\n",
       "      <th>hospital_id</th>\n",
       "      <th>nickname</th>\n",
       "      <th>content</th>\n",
       "      <th>date</th>\n",
       "      <th>revisit</th>\n",
       "      <th>sentiment</th>\n",
       "    </tr>\n",
       "  </thead>\n",
       "  <tbody>\n",
       "    <tr>\n",
       "      <th>101</th>\n",
       "      <td>강북21세기병원</td>\n",
       "      <td>12856585</td>\n",
       "      <td>맛있어서개굴개굴</td>\n",
       "      <td>친절하십니다</td>\n",
       "      <td>11.16.목</td>\n",
       "      <td>4번째 방문</td>\n",
       "      <td>NaN</td>\n",
       "    </tr>\n",
       "    <tr>\n",
       "      <th>414</th>\n",
       "      <td>경희한의원</td>\n",
       "      <td>1376397047</td>\n",
       "      <td>목련8413</td>\n",
       "      <td>원장님과 직원분들 넘 친절해요~</td>\n",
       "      <td>22.8.22.월</td>\n",
       "      <td>1번째 방문</td>\n",
       "      <td>NaN</td>\n",
       "    </tr>\n",
       "    <tr>\n",
       "      <th>672</th>\n",
       "      <td>김영준내과의원</td>\n",
       "      <td>19514474</td>\n",
       "      <td>밍크커피</td>\n",
       "      <td>원장님 간호사님들 진료 잘봐주시고 친절하십니다</td>\n",
       "      <td>8.22.화</td>\n",
       "      <td>9번째 방문</td>\n",
       "      <td>NaN</td>\n",
       "    </tr>\n",
       "    <tr>\n",
       "      <th>674</th>\n",
       "      <td>김영준내과의원</td>\n",
       "      <td>19514474</td>\n",
       "      <td>수청9</td>\n",
       "      <td>ㅇㅇ</td>\n",
       "      <td>7.10.월</td>\n",
       "      <td>2번째 방문</td>\n",
       "      <td>NaN</td>\n",
       "    </tr>\n",
       "    <tr>\n",
       "      <th>874</th>\n",
       "      <td>늘찬병원</td>\n",
       "      <td>38287252</td>\n",
       "      <td>uhj****</td>\n",
       "      <td>팔다리가 너무 저려서 진료 받았는데.. 허리디스크 초기라네요. 여기 아니였으면 몰랐...</td>\n",
       "      <td>10.31.화</td>\n",
       "      <td>1번째 방문</td>\n",
       "      <td>NaN</td>\n",
       "    </tr>\n",
       "    <tr>\n",
       "      <th>950</th>\n",
       "      <td>다솔한의원</td>\n",
       "      <td>19523510</td>\n",
       "      <td>빠끔이10</td>\n",
       "      <td>치료후 가벼워집니다_x000D_\\n</td>\n",
       "      <td>11.25.토</td>\n",
       "      <td>5번째 방문</td>\n",
       "      <td>NaN</td>\n",
       "    </tr>\n",
       "    <tr>\n",
       "      <th>1821</th>\n",
       "      <td>바른선택치과의원</td>\n",
       "      <td>1185355355</td>\n",
       "      <td>kru****</td>\n",
       "      <td>친절하시구 꼼꼼히 진료 잘 봐주십니다! 믿고 갈 수 있는 치과에요~ 항상 감사합니다!??</td>\n",
       "      <td>11.21.화</td>\n",
       "      <td>1번째 방문</td>\n",
       "      <td>NaN</td>\n",
       "    </tr>\n",
       "    <tr>\n",
       "      <th>5282</th>\n",
       "      <td>참빛소아청소년과의원</td>\n",
       "      <td>36476649</td>\n",
       "      <td>고기가좋아</td>\n",
       "      <td>마트안에 있어서 주차하기 편리해요.</td>\n",
       "      <td>10.26.목</td>\n",
       "      <td>34번째 방문</td>\n",
       "      <td>NaN</td>\n",
       "    </tr>\n",
       "  </tbody>\n",
       "</table>\n",
       "</div>"
      ],
      "text/plain": [
       "            name  hospital_id  nickname  \\\n",
       "101     강북21세기병원     12856585  맛있어서개굴개굴   \n",
       "414        경희한의원   1376397047    목련8413   \n",
       "672      김영준내과의원     19514474      밍크커피   \n",
       "674      김영준내과의원     19514474       수청9   \n",
       "874         늘찬병원     38287252   uhj****   \n",
       "950        다솔한의원     19523510     빠끔이10   \n",
       "1821    바른선택치과의원   1185355355   kru****   \n",
       "5282  참빛소아청소년과의원     36476649     고기가좋아   \n",
       "\n",
       "                                                content       date  revisit  \\\n",
       "101                                              친절하십니다    11.16.목   4번째 방문   \n",
       "414                                   원장님과 직원분들 넘 친절해요~  22.8.22.월   1번째 방문   \n",
       "672                           원장님 간호사님들 진료 잘봐주시고 친절하십니다     8.22.화   9번째 방문   \n",
       "674                                                  ㅇㅇ     7.10.월   2번째 방문   \n",
       "874   팔다리가 너무 저려서 진료 받았는데.. 허리디스크 초기라네요. 여기 아니였으면 몰랐...    10.31.화   1번째 방문   \n",
       "950                                 치료후 가벼워집니다_x000D_\\n    11.25.토   5번째 방문   \n",
       "1821  친절하시구 꼼꼼히 진료 잘 봐주십니다! 믿고 갈 수 있는 치과에요~ 항상 감사합니다!??    11.21.화   1번째 방문   \n",
       "5282                               마트안에 있어서 주차하기 편리해요.     10.26.목  34번째 방문   \n",
       "\n",
       "      sentiment  \n",
       "101         NaN  \n",
       "414         NaN  \n",
       "672         NaN  \n",
       "674         NaN  \n",
       "874         NaN  \n",
       "950         NaN  \n",
       "1821        NaN  \n",
       "5282        NaN  "
      ]
     },
     "execution_count": 103,
     "metadata": {},
     "output_type": "execute_result"
    }
   ],
   "source": [
    "Jungrang_reviews_sentiment[Jungrang_reviews_sentiment['sentiment'].isnull()]"
   ]
  },
  {
   "cell_type": "code",
   "execution_count": 104,
   "metadata": {},
   "outputs": [],
   "source": [
    "Jungrang_reviews_sentiment.loc[101, 'sentiment'] = 1\n",
    "Jungrang_reviews_sentiment.loc[414, 'sentiment'] = 1\n",
    "Jungrang_reviews_sentiment.loc[672, 'sentiment'] = 1\n",
    "Jungrang_reviews_sentiment.loc[674, 'sentiment'] = 1\n",
    "Jungrang_reviews_sentiment.loc[874, 'sentiment'] = 1\n",
    "Jungrang_reviews_sentiment.loc[950, 'sentiment'] = 1\n",
    "Jungrang_reviews_sentiment.loc[1821, 'sentiment'] = 1\n",
    "Jungrang_reviews_sentiment.loc[5282, 'sentiment'] = 1"
   ]
  },
  {
   "cell_type": "code",
   "execution_count": 105,
   "metadata": {},
   "outputs": [
    {
     "data": {
      "text/html": [
       "<div>\n",
       "<style scoped>\n",
       "    .dataframe tbody tr th:only-of-type {\n",
       "        vertical-align: middle;\n",
       "    }\n",
       "\n",
       "    .dataframe tbody tr th {\n",
       "        vertical-align: top;\n",
       "    }\n",
       "\n",
       "    .dataframe thead th {\n",
       "        text-align: right;\n",
       "    }\n",
       "</style>\n",
       "<table border=\"1\" class=\"dataframe\">\n",
       "  <thead>\n",
       "    <tr style=\"text-align: right;\">\n",
       "      <th></th>\n",
       "      <th>name</th>\n",
       "      <th>hospital_id</th>\n",
       "      <th>nickname</th>\n",
       "      <th>content</th>\n",
       "      <th>date</th>\n",
       "      <th>revisit</th>\n",
       "      <th>sentiment</th>\n",
       "    </tr>\n",
       "  </thead>\n",
       "  <tbody>\n",
       "    <tr>\n",
       "      <th>0</th>\n",
       "      <td>365mc모인이비인후과의원</td>\n",
       "      <td>19527111</td>\n",
       "      <td>Wiseburge David</td>\n",
       "      <td>사가정 모인 이비인후과 항상 만원이다</td>\n",
       "      <td>11.24.금</td>\n",
       "      <td>4번째 방문</td>\n",
       "      <td>0</td>\n",
       "    </tr>\n",
       "    <tr>\n",
       "      <th>1</th>\n",
       "      <td>365mc모인이비인후과의원</td>\n",
       "      <td>19527111</td>\n",
       "      <td>Dk9</td>\n",
       "      <td>좋아요</td>\n",
       "      <td>11.23.목</td>\n",
       "      <td>1번째 방문</td>\n",
       "      <td>1</td>\n",
       "    </tr>\n",
       "    <tr>\n",
       "      <th>2</th>\n",
       "      <td>365mc모인이비인후과의원</td>\n",
       "      <td>19527111</td>\n",
       "      <td>귀한집딸z</td>\n",
       "      <td>좋아요</td>\n",
       "      <td>11.20.월</td>\n",
       "      <td>2번째 방문</td>\n",
       "      <td>1</td>\n",
       "    </tr>\n",
       "    <tr>\n",
       "      <th>3</th>\n",
       "      <td>365mc모인이비인후과의원</td>\n",
       "      <td>19527111</td>\n",
       "      <td>꽃길걷는중임</td>\n",
       "      <td>항상 친절한 진료 감사합니다~</td>\n",
       "      <td>11.20.월</td>\n",
       "      <td>2번째 방문</td>\n",
       "      <td>1</td>\n",
       "    </tr>\n",
       "    <tr>\n",
       "      <th>4</th>\n",
       "      <td>365mc모인이비인후과의원</td>\n",
       "      <td>19527111</td>\n",
       "      <td>막둥</td>\n",
       "      <td>ㅇㅇ</td>\n",
       "      <td>11.18.토</td>\n",
       "      <td>4번째 방문</td>\n",
       "      <td>1</td>\n",
       "    </tr>\n",
       "    <tr>\n",
       "      <th>...</th>\n",
       "      <td>...</td>\n",
       "      <td>...</td>\n",
       "      <td>...</td>\n",
       "      <td>...</td>\n",
       "      <td>...</td>\n",
       "      <td>...</td>\n",
       "      <td>...</td>\n",
       "    </tr>\n",
       "    <tr>\n",
       "      <th>5970</th>\n",
       "      <td>효치과의원</td>\n",
       "      <td>19532002</td>\n",
       "      <td>fpvocalist</td>\n",
       "      <td>굳</td>\n",
       "      <td>9.20.수</td>\n",
       "      <td>13번째 방문</td>\n",
       "      <td>1</td>\n",
       "    </tr>\n",
       "    <tr>\n",
       "      <th>5971</th>\n",
       "      <td>효치과의원</td>\n",
       "      <td>19532002</td>\n",
       "      <td>소보루39</td>\n",
       "      <td>좋아요</td>\n",
       "      <td>9.20.수</td>\n",
       "      <td>11번째 방문</td>\n",
       "      <td>1</td>\n",
       "    </tr>\n",
       "    <tr>\n",
       "      <th>5972</th>\n",
       "      <td>효치과의원</td>\n",
       "      <td>19532002</td>\n",
       "      <td>1vvovv1</td>\n",
       "      <td>친절하십니다_x000D_\\n과잉진료 없음</td>\n",
       "      <td>9.13.수</td>\n",
       "      <td>5번째 방문</td>\n",
       "      <td>1</td>\n",
       "    </tr>\n",
       "    <tr>\n",
       "      <th>5973</th>\n",
       "      <td>효치과의원</td>\n",
       "      <td>19532002</td>\n",
       "      <td>버럭아저씨</td>\n",
       "      <td>친절해요..</td>\n",
       "      <td>9.8.금</td>\n",
       "      <td>1번째 방문</td>\n",
       "      <td>1</td>\n",
       "    </tr>\n",
       "    <tr>\n",
       "      <th>5974</th>\n",
       "      <td>효치과의원</td>\n",
       "      <td>19532002</td>\n",
       "      <td>fpvocalist</td>\n",
       "      <td>좋아요~~</td>\n",
       "      <td>9.6.수</td>\n",
       "      <td>12번째 방문</td>\n",
       "      <td>1</td>\n",
       "    </tr>\n",
       "  </tbody>\n",
       "</table>\n",
       "<p>5975 rows × 7 columns</p>\n",
       "</div>"
      ],
      "text/plain": [
       "                name  hospital_id         nickname                 content  \\\n",
       "0     365mc모인이비인후과의원     19527111  Wiseburge David    사가정 모인 이비인후과 항상 만원이다   \n",
       "1     365mc모인이비인후과의원     19527111              Dk9                     좋아요   \n",
       "2     365mc모인이비인후과의원     19527111            귀한집딸z                     좋아요   \n",
       "3     365mc모인이비인후과의원     19527111           꽃길걷는중임       항상 친절한 진료 감사합니다~    \n",
       "4     365mc모인이비인후과의원     19527111               막둥                      ㅇㅇ   \n",
       "...              ...          ...              ...                     ...   \n",
       "5970           효치과의원     19532002       fpvocalist                       굳   \n",
       "5971           효치과의원     19532002            소보루39                     좋아요   \n",
       "5972           효치과의원     19532002          1vvovv1  친절하십니다_x000D_\\n과잉진료 없음   \n",
       "5973           효치과의원     19532002            버럭아저씨                  친절해요..   \n",
       "5974           효치과의원     19532002       fpvocalist                   좋아요~~   \n",
       "\n",
       "         date  revisit  sentiment  \n",
       "0     11.24.금   4번째 방문          0  \n",
       "1     11.23.목   1번째 방문          1  \n",
       "2     11.20.월   2번째 방문          1  \n",
       "3     11.20.월   2번째 방문          1  \n",
       "4     11.18.토   4번째 방문          1  \n",
       "...       ...      ...        ...  \n",
       "5970   9.20.수  13번째 방문          1  \n",
       "5971   9.20.수  11번째 방문          1  \n",
       "5972   9.13.수   5번째 방문          1  \n",
       "5973    9.8.금   1번째 방문          1  \n",
       "5974    9.6.수  12번째 방문          1  \n",
       "\n",
       "[5975 rows x 7 columns]"
      ]
     },
     "execution_count": 105,
     "metadata": {},
     "output_type": "execute_result"
    }
   ],
   "source": [
    "Jungrang_reviews_sentiment['sentiment'] = Jungrang_reviews_sentiment['sentiment'].astype(int)\n",
    "Jungrang_reviews_sentiment"
   ]
  },
  {
   "cell_type": "code",
   "execution_count": null,
   "metadata": {},
   "outputs": [],
   "source": [
    "# 데이터 전처리\n",
    "# 결측치 제거 -> null값 없음\n",
    "# Jungrang_reviews_sentiment.dropna(inplace=True)"
   ]
  },
  {
   "cell_type": "code",
   "execution_count": 106,
   "metadata": {},
   "outputs": [
    {
     "data": {
      "text/plain": [
       "2"
      ]
     },
     "execution_count": 106,
     "metadata": {},
     "output_type": "execute_result"
    }
   ],
   "source": [
    "Jungrang_reviews_sentiment.duplicated().sum()"
   ]
  },
  {
   "cell_type": "code",
   "execution_count": 107,
   "metadata": {},
   "outputs": [
    {
     "data": {
      "text/plain": [
       "(5973, 7)"
      ]
     },
     "execution_count": 107,
     "metadata": {},
     "output_type": "execute_result"
    }
   ],
   "source": [
    "# 중복값 제거\n",
    "Jungrang_reviews_sentiment = Jungrang_reviews_sentiment.drop_duplicates()\n",
    "Jungrang_reviews_sentiment.shape"
   ]
  },
  {
   "cell_type": "code",
   "execution_count": 108,
   "metadata": {},
   "outputs": [
    {
     "data": {
      "text/html": [
       "<div>\n",
       "<style scoped>\n",
       "    .dataframe tbody tr th:only-of-type {\n",
       "        vertical-align: middle;\n",
       "    }\n",
       "\n",
       "    .dataframe tbody tr th {\n",
       "        vertical-align: top;\n",
       "    }\n",
       "\n",
       "    .dataframe thead th {\n",
       "        text-align: right;\n",
       "    }\n",
       "</style>\n",
       "<table border=\"1\" class=\"dataframe\">\n",
       "  <thead>\n",
       "    <tr style=\"text-align: right;\">\n",
       "      <th></th>\n",
       "      <th>name</th>\n",
       "      <th>hospital_id</th>\n",
       "      <th>nickname</th>\n",
       "      <th>content</th>\n",
       "      <th>date</th>\n",
       "      <th>revisit</th>\n",
       "      <th>sentiment</th>\n",
       "    </tr>\n",
       "  </thead>\n",
       "  <tbody>\n",
       "    <tr>\n",
       "      <th>0</th>\n",
       "      <td>365mc모인이비인후과의원</td>\n",
       "      <td>19527111</td>\n",
       "      <td>Wiseburge David</td>\n",
       "      <td>사가정 모인 이비인후과 항상 만원이다</td>\n",
       "      <td>11.24.금</td>\n",
       "      <td>4번째 방문</td>\n",
       "      <td>0</td>\n",
       "    </tr>\n",
       "    <tr>\n",
       "      <th>1</th>\n",
       "      <td>365mc모인이비인후과의원</td>\n",
       "      <td>19527111</td>\n",
       "      <td>Dk9</td>\n",
       "      <td>좋아요</td>\n",
       "      <td>11.23.목</td>\n",
       "      <td>1번째 방문</td>\n",
       "      <td>1</td>\n",
       "    </tr>\n",
       "  </tbody>\n",
       "</table>\n",
       "</div>"
      ],
      "text/plain": [
       "             name  hospital_id         nickname               content  \\\n",
       "0  365mc모인이비인후과의원     19527111  Wiseburge David  사가정 모인 이비인후과 항상 만원이다   \n",
       "1  365mc모인이비인후과의원     19527111              Dk9                   좋아요   \n",
       "\n",
       "      date revisit  sentiment  \n",
       "0  11.24.금  4번째 방문          0  \n",
       "1  11.23.목  1번째 방문          1  "
      ]
     },
     "execution_count": 108,
     "metadata": {},
     "output_type": "execute_result"
    }
   ],
   "source": [
    "# 인덱스 재정렬\n",
    "Jungrang_reviews_sentiment = Jungrang_reviews_sentiment.reset_index(drop=True)\n",
    "Jungrang_reviews_sentiment.head(2)"
   ]
  },
  {
   "cell_type": "code",
   "execution_count": 109,
   "metadata": {},
   "outputs": [
    {
     "data": {
      "text/html": [
       "<div>\n",
       "<style scoped>\n",
       "    .dataframe tbody tr th:only-of-type {\n",
       "        vertical-align: middle;\n",
       "    }\n",
       "\n",
       "    .dataframe tbody tr th {\n",
       "        vertical-align: top;\n",
       "    }\n",
       "\n",
       "    .dataframe thead th {\n",
       "        text-align: right;\n",
       "    }\n",
       "</style>\n",
       "<table border=\"1\" class=\"dataframe\">\n",
       "  <thead>\n",
       "    <tr style=\"text-align: right;\">\n",
       "      <th></th>\n",
       "      <th>name</th>\n",
       "      <th>content</th>\n",
       "      <th>sentiment</th>\n",
       "    </tr>\n",
       "  </thead>\n",
       "  <tbody>\n",
       "    <tr>\n",
       "      <th>0</th>\n",
       "      <td>365mc모인이비인후과의원</td>\n",
       "      <td>사가정 모인 이비인후과 항상 만원이다</td>\n",
       "      <td>0</td>\n",
       "    </tr>\n",
       "    <tr>\n",
       "      <th>1</th>\n",
       "      <td>365mc모인이비인후과의원</td>\n",
       "      <td>좋아요</td>\n",
       "      <td>1</td>\n",
       "    </tr>\n",
       "  </tbody>\n",
       "</table>\n",
       "</div>"
      ],
      "text/plain": [
       "             name               content  sentiment\n",
       "0  365mc모인이비인후과의원  사가정 모인 이비인후과 항상 만원이다          0\n",
       "1  365mc모인이비인후과의원                   좋아요          1"
      ]
     },
     "execution_count": 109,
     "metadata": {},
     "output_type": "execute_result"
    }
   ],
   "source": [
    "Jungrang_sentiment = Jungrang_reviews_sentiment[['name', 'content', 'sentiment']]\n",
    "Jungrang_sentiment.head(2)"
   ]
  },
  {
   "cell_type": "code",
   "execution_count": 110,
   "metadata": {},
   "outputs": [
    {
     "name": "stdout",
     "output_type": "stream",
     "text": [
      "name         0\n",
      "content      7\n",
      "sentiment    0\n",
      "dtype: int64\n"
     ]
    },
    {
     "name": "stderr",
     "output_type": "stream",
     "text": [
      "C:\\Users\\user\\AppData\\Local\\Temp\\ipykernel_2904\\526288299.py:1: SettingWithCopyWarning: \n",
      "A value is trying to be set on a copy of a slice from a DataFrame.\n",
      "Try using .loc[row_indexer,col_indexer] = value instead\n",
      "\n",
      "See the caveats in the documentation: https://pandas.pydata.org/pandas-docs/stable/user_guide/indexing.html#returning-a-view-versus-a-copy\n",
      "  Jungrang_sentiment['content'] = Jungrang_sentiment['content'].str.replace('\\n', ' ')\n",
      "C:\\Users\\user\\AppData\\Local\\Temp\\ipykernel_2904\\526288299.py:2: SettingWithCopyWarning: \n",
      "A value is trying to be set on a copy of a slice from a DataFrame.\n",
      "Try using .loc[row_indexer,col_indexer] = value instead\n",
      "\n",
      "See the caveats in the documentation: https://pandas.pydata.org/pandas-docs/stable/user_guide/indexing.html#returning-a-view-versus-a-copy\n",
      "  Jungrang_sentiment['content'] = Jungrang_sentiment['content'].str.replace('[~!]', ' ', regex=True) # regex=True : 정규표현식으로 해석(디폴트)\n",
      "C:\\Users\\user\\AppData\\Local\\Temp\\ipykernel_2904\\526288299.py:4: SettingWithCopyWarning: \n",
      "A value is trying to be set on a copy of a slice from a DataFrame.\n",
      "Try using .loc[row_indexer,col_indexer] = value instead\n",
      "\n",
      "See the caveats in the documentation: https://pandas.pydata.org/pandas-docs/stable/user_guide/indexing.html#returning-a-view-versus-a-copy\n",
      "  Jungrang_sentiment['content'] = Jungrang_sentiment['content'].str.replace(\"[^ㄱ-ㅎㅏ-ㅣ가-힣 ]\",\"\") # 한글과 공백 제외하고 모두 제거\n",
      "C:\\Users\\user\\AppData\\Local\\Temp\\ipykernel_2904\\526288299.py:5: SettingWithCopyWarning: \n",
      "A value is trying to be set on a copy of a slice from a DataFrame\n",
      "\n",
      "See the caveats in the documentation: https://pandas.pydata.org/pandas-docs/stable/user_guide/indexing.html#returning-a-view-versus-a-copy\n",
      "  Jungrang_sentiment['content'].replace('', np.nan, inplace=True) # 공백은 Null 값으로 변경\n"
     ]
    }
   ],
   "source": [
    "Jungrang_sentiment['content'] = Jungrang_sentiment['content'].str.replace('\\n', ' ')\n",
    "Jungrang_sentiment['content'] = Jungrang_sentiment['content'].str.replace('[~!]', ' ', regex=True) # regex=True : 정규표현식으로 해석(디폴트)\n",
    "# Jungrang_sentiment['content'] = Jungrang_sentiment['content'].str.replace('[^가-힣]', ' ')\n",
    "Jungrang_sentiment['content'] = Jungrang_sentiment['content'].str.replace(\"[^ㄱ-ㅎㅏ-ㅣ가-힣 ]\",\"\") # 한글과 공백 제외하고 모두 제거\n",
    "Jungrang_sentiment['content'].replace('', np.nan, inplace=True) # 공백은 Null 값으로 변경\n",
    "print(Jungrang_sentiment.isnull().sum())"
   ]
  },
  {
   "cell_type": "markdown",
   "metadata": {},
   "source": [
    "가-힣: 앞에서 언급한 것처럼 '가'부터 '힣' 사이의 모든 한글 음절을 매치시킵니다. 공백 문자도 포함되어 있습니다.\n",
    "[^ㄱ-ㅎㅏ-ㅣ가-힣 ]는 자음, 모음, 한글 음절, 공백을 포함한 모든 문자를 제외한 나머지 문자를 매치시킵니다\n",
    "\n",
    "[^가-힣]는 \"안녕하세요123\"에서 '1', '2', '3'을 제외한 모든 문자를 매치시킵니다.\n",
    "[^ㄱ-ㅎㅏ-ㅣ가-힣 ]는 \"안녕하세요123\"에서 '1', '2', '3' 및 영어 알파벳과 같은 다른 문자도 제외한 모든 문자를 매치시킵니다."
   ]
  },
  {
   "cell_type": "code",
   "execution_count": 111,
   "metadata": {},
   "outputs": [
    {
     "name": "stdout",
     "output_type": "stream",
     "text": [
      "전처리 후 샘플의 개수 : 5966\n"
     ]
    }
   ],
   "source": [
    "Jungrang_sentiment = Jungrang_sentiment.dropna(how='any') # Null 값 제거\n",
    "print('전처리 후 샘플의 개수 :',len(Jungrang_sentiment))"
   ]
  },
  {
   "cell_type": "code",
   "execution_count": 112,
   "metadata": {},
   "outputs": [],
   "source": [
    "from konlpy.tag import Okt\n",
    "tokenizer = Okt()"
   ]
  },
  {
   "cell_type": "code",
   "execution_count": 113,
   "metadata": {},
   "outputs": [],
   "source": [
    "stop_words = ['은', '는', '이', '가', '을', '를', '다', '의', '가', '이', '은', '한', '에', '하', '고', '인', '듯', '과', '와', '네', '들', '듯', '지', '임', '게']\n",
    "Jungrang_sentiment['tokenized'] = Jungrang_sentiment['content'].apply(tokenizer.morphs)\n",
    "Jungrang_sentiment['tokenized'] = Jungrang_sentiment['tokenized'].apply(lambda x: [item for item in x if item not in stop_words])"
   ]
  },
  {
   "cell_type": "code",
   "execution_count": 114,
   "metadata": {},
   "outputs": [
    {
     "data": {
      "text/html": [
       "<div>\n",
       "<style scoped>\n",
       "    .dataframe tbody tr th:only-of-type {\n",
       "        vertical-align: middle;\n",
       "    }\n",
       "\n",
       "    .dataframe tbody tr th {\n",
       "        vertical-align: top;\n",
       "    }\n",
       "\n",
       "    .dataframe thead th {\n",
       "        text-align: right;\n",
       "    }\n",
       "</style>\n",
       "<table border=\"1\" class=\"dataframe\">\n",
       "  <thead>\n",
       "    <tr style=\"text-align: right;\">\n",
       "      <th></th>\n",
       "      <th>name</th>\n",
       "      <th>content</th>\n",
       "      <th>sentiment</th>\n",
       "      <th>tokenized</th>\n",
       "    </tr>\n",
       "  </thead>\n",
       "  <tbody>\n",
       "    <tr>\n",
       "      <th>0</th>\n",
       "      <td>365mc모인이비인후과의원</td>\n",
       "      <td>사가정 모인 이비인후과 항상 만원이다</td>\n",
       "      <td>0</td>\n",
       "      <td>[사가정, 모인, 이비인후과, 항상, 만원, 이다]</td>\n",
       "    </tr>\n",
       "    <tr>\n",
       "      <th>1</th>\n",
       "      <td>365mc모인이비인후과의원</td>\n",
       "      <td>좋아요</td>\n",
       "      <td>1</td>\n",
       "      <td>[좋아요]</td>\n",
       "    </tr>\n",
       "    <tr>\n",
       "      <th>2</th>\n",
       "      <td>365mc모인이비인후과의원</td>\n",
       "      <td>좋아요</td>\n",
       "      <td>1</td>\n",
       "      <td>[좋아요]</td>\n",
       "    </tr>\n",
       "    <tr>\n",
       "      <th>3</th>\n",
       "      <td>365mc모인이비인후과의원</td>\n",
       "      <td>항상 친절한 진료 감사합니다</td>\n",
       "      <td>1</td>\n",
       "      <td>[항상, 친절한, 진료, 감사합니다]</td>\n",
       "    </tr>\n",
       "    <tr>\n",
       "      <th>4</th>\n",
       "      <td>365mc모인이비인후과의원</td>\n",
       "      <td>ㅇㅇ</td>\n",
       "      <td>1</td>\n",
       "      <td>[ㅇㅇ]</td>\n",
       "    </tr>\n",
       "    <tr>\n",
       "      <th>5</th>\n",
       "      <td>365mc모인이비인후과의원</td>\n",
       "      <td>ㅇㅇ</td>\n",
       "      <td>1</td>\n",
       "      <td>[ㅇㅇ]</td>\n",
       "    </tr>\n",
       "    <tr>\n",
       "      <th>6</th>\n",
       "      <td>365mc모인이비인후과의원</td>\n",
       "      <td>ㅇㅇ</td>\n",
       "      <td>1</td>\n",
       "      <td>[ㅇㅇ]</td>\n",
       "    </tr>\n",
       "    <tr>\n",
       "      <th>7</th>\n",
       "      <td>365mc모인이비인후과의원</td>\n",
       "      <td>ㅇㅇ</td>\n",
       "      <td>1</td>\n",
       "      <td>[ㅇㅇ]</td>\n",
       "    </tr>\n",
       "    <tr>\n",
       "      <th>8</th>\n",
       "      <td>365mc모인이비인후과의원</td>\n",
       "      <td>굿</td>\n",
       "      <td>1</td>\n",
       "      <td>[굿]</td>\n",
       "    </tr>\n",
       "    <tr>\n",
       "      <th>9</th>\n",
       "      <td>365mc모인이비인후과의원</td>\n",
       "      <td>굿</td>\n",
       "      <td>1</td>\n",
       "      <td>[굿]</td>\n",
       "    </tr>\n",
       "  </tbody>\n",
       "</table>\n",
       "</div>"
      ],
      "text/plain": [
       "             name               content  sentiment  \\\n",
       "0  365mc모인이비인후과의원  사가정 모인 이비인후과 항상 만원이다          0   \n",
       "1  365mc모인이비인후과의원                   좋아요          1   \n",
       "2  365mc모인이비인후과의원                   좋아요          1   \n",
       "3  365mc모인이비인후과의원     항상 친절한 진료 감사합니다            1   \n",
       "4  365mc모인이비인후과의원                    ㅇㅇ          1   \n",
       "5  365mc모인이비인후과의원                    ㅇㅇ          1   \n",
       "6  365mc모인이비인후과의원                    ㅇㅇ          1   \n",
       "7  365mc모인이비인후과의원                    ㅇㅇ          1   \n",
       "8  365mc모인이비인후과의원                     굿          1   \n",
       "9  365mc모인이비인후과의원                     굿          1   \n",
       "\n",
       "                      tokenized  \n",
       "0  [사가정, 모인, 이비인후과, 항상, 만원, 이다]  \n",
       "1                         [좋아요]  \n",
       "2                         [좋아요]  \n",
       "3          [항상, 친절한, 진료, 감사합니다]  \n",
       "4                          [ㅇㅇ]  \n",
       "5                          [ㅇㅇ]  \n",
       "6                          [ㅇㅇ]  \n",
       "7                          [ㅇㅇ]  \n",
       "8                           [굿]  \n",
       "9                           [굿]  "
      ]
     },
     "execution_count": 114,
     "metadata": {},
     "output_type": "execute_result"
    }
   ],
   "source": [
    "Jungrang_sentiment.head(10)"
   ]
  },
  {
   "cell_type": "code",
   "execution_count": 115,
   "metadata": {},
   "outputs": [],
   "source": [
    "# 데이터 분할 (학습 데이터와 테스트 데이터로 나눔)\n",
    "train_data, test_data, train_labels, test_labels = train_test_split(\n",
    "    Jungrang_sentiment['content'], Jungrang_sentiment['sentiment'], test_size=0.2, random_state=42)"
   ]
  },
  {
   "cell_type": "code",
   "execution_count": 116,
   "metadata": {},
   "outputs": [],
   "source": [
    "# TF-IDF 벡터화\n",
    "tfidf_vectorizer = TfidfVectorizer(max_features=5000)\n",
    "train_data_tfidf = tfidf_vectorizer.fit_transform(train_data)\n",
    "test_data_tfidf = tfidf_vectorizer.transform(test_data)"
   ]
  },
  {
   "cell_type": "code",
   "execution_count": 117,
   "metadata": {},
   "outputs": [
    {
     "data": {
      "text/html": [
       "<style>#sk-container-id-1 {color: black;}#sk-container-id-1 pre{padding: 0;}#sk-container-id-1 div.sk-toggleable {background-color: white;}#sk-container-id-1 label.sk-toggleable__label {cursor: pointer;display: block;width: 100%;margin-bottom: 0;padding: 0.3em;box-sizing: border-box;text-align: center;}#sk-container-id-1 label.sk-toggleable__label-arrow:before {content: \"▸\";float: left;margin-right: 0.25em;color: #696969;}#sk-container-id-1 label.sk-toggleable__label-arrow:hover:before {color: black;}#sk-container-id-1 div.sk-estimator:hover label.sk-toggleable__label-arrow:before {color: black;}#sk-container-id-1 div.sk-toggleable__content {max-height: 0;max-width: 0;overflow: hidden;text-align: left;background-color: #f0f8ff;}#sk-container-id-1 div.sk-toggleable__content pre {margin: 0.2em;color: black;border-radius: 0.25em;background-color: #f0f8ff;}#sk-container-id-1 input.sk-toggleable__control:checked~div.sk-toggleable__content {max-height: 200px;max-width: 100%;overflow: auto;}#sk-container-id-1 input.sk-toggleable__control:checked~label.sk-toggleable__label-arrow:before {content: \"▾\";}#sk-container-id-1 div.sk-estimator input.sk-toggleable__control:checked~label.sk-toggleable__label {background-color: #d4ebff;}#sk-container-id-1 div.sk-label input.sk-toggleable__control:checked~label.sk-toggleable__label {background-color: #d4ebff;}#sk-container-id-1 input.sk-hidden--visually {border: 0;clip: rect(1px 1px 1px 1px);clip: rect(1px, 1px, 1px, 1px);height: 1px;margin: -1px;overflow: hidden;padding: 0;position: absolute;width: 1px;}#sk-container-id-1 div.sk-estimator {font-family: monospace;background-color: #f0f8ff;border: 1px dotted black;border-radius: 0.25em;box-sizing: border-box;margin-bottom: 0.5em;}#sk-container-id-1 div.sk-estimator:hover {background-color: #d4ebff;}#sk-container-id-1 div.sk-parallel-item::after {content: \"\";width: 100%;border-bottom: 1px solid gray;flex-grow: 1;}#sk-container-id-1 div.sk-label:hover label.sk-toggleable__label {background-color: #d4ebff;}#sk-container-id-1 div.sk-serial::before {content: \"\";position: absolute;border-left: 1px solid gray;box-sizing: border-box;top: 0;bottom: 0;left: 50%;z-index: 0;}#sk-container-id-1 div.sk-serial {display: flex;flex-direction: column;align-items: center;background-color: white;padding-right: 0.2em;padding-left: 0.2em;position: relative;}#sk-container-id-1 div.sk-item {position: relative;z-index: 1;}#sk-container-id-1 div.sk-parallel {display: flex;align-items: stretch;justify-content: center;background-color: white;position: relative;}#sk-container-id-1 div.sk-item::before, #sk-container-id-1 div.sk-parallel-item::before {content: \"\";position: absolute;border-left: 1px solid gray;box-sizing: border-box;top: 0;bottom: 0;left: 50%;z-index: -1;}#sk-container-id-1 div.sk-parallel-item {display: flex;flex-direction: column;z-index: 1;position: relative;background-color: white;}#sk-container-id-1 div.sk-parallel-item:first-child::after {align-self: flex-end;width: 50%;}#sk-container-id-1 div.sk-parallel-item:last-child::after {align-self: flex-start;width: 50%;}#sk-container-id-1 div.sk-parallel-item:only-child::after {width: 0;}#sk-container-id-1 div.sk-dashed-wrapped {border: 1px dashed gray;margin: 0 0.4em 0.5em 0.4em;box-sizing: border-box;padding-bottom: 0.4em;background-color: white;}#sk-container-id-1 div.sk-label label {font-family: monospace;font-weight: bold;display: inline-block;line-height: 1.2em;}#sk-container-id-1 div.sk-label-container {text-align: center;}#sk-container-id-1 div.sk-container {/* jupyter's `normalize.less` sets `[hidden] { display: none; }` but bootstrap.min.css set `[hidden] { display: none !important; }` so we also need the `!important` here to be able to override the default hidden behavior on the sphinx rendered scikit-learn.org. See: https://github.com/scikit-learn/scikit-learn/issues/21755 */display: inline-block !important;position: relative;}#sk-container-id-1 div.sk-text-repr-fallback {display: none;}</style><div id=\"sk-container-id-1\" class=\"sk-top-container\"><div class=\"sk-text-repr-fallback\"><pre>MultinomialNB()</pre><b>In a Jupyter environment, please rerun this cell to show the HTML representation or trust the notebook. <br />On GitHub, the HTML representation is unable to render, please try loading this page with nbviewer.org.</b></div><div class=\"sk-container\" hidden><div class=\"sk-item\"><div class=\"sk-estimator sk-toggleable\"><input class=\"sk-toggleable__control sk-hidden--visually\" id=\"sk-estimator-id-1\" type=\"checkbox\" checked><label for=\"sk-estimator-id-1\" class=\"sk-toggleable__label sk-toggleable__label-arrow\">MultinomialNB</label><div class=\"sk-toggleable__content\"><pre>MultinomialNB()</pre></div></div></div></div></div>"
      ],
      "text/plain": [
       "MultinomialNB()"
      ]
     },
     "execution_count": 117,
     "metadata": {},
     "output_type": "execute_result"
    }
   ],
   "source": [
    "# 머신러닝 모델 학습\n",
    "classifier = MultinomialNB() # 나이브 베이즈(Naive Bayes) 분류 모델, 주로 텍스트 분류 문제에 사용\n",
    "classifier.fit(train_data_tfidf, train_labels)"
   ]
  },
  {
   "cell_type": "code",
   "execution_count": 118,
   "metadata": {},
   "outputs": [],
   "source": [
    "# 예측\n",
    "predictions = classifier.predict(test_data_tfidf)"
   ]
  },
  {
   "cell_type": "code",
   "execution_count": 119,
   "metadata": {},
   "outputs": [
    {
     "name": "stdout",
     "output_type": "stream",
     "text": [
      "Accuracy: 0.90\n"
     ]
    }
   ],
   "source": [
    "# 정확도 평가\n",
    "accuracy = accuracy_score(test_labels, predictions)\n",
    "print(f'Accuracy: {accuracy:.2f}')"
   ]
  },
  {
   "cell_type": "code",
   "execution_count": 121,
   "metadata": {},
   "outputs": [
    {
     "name": "stdout",
     "output_type": "stream",
     "text": [
      "              precision    recall  f1-score   support\n",
      "\n",
      "           0       0.00      0.00      0.00       113\n",
      "           1       0.90      1.00      0.95      1080\n",
      "          11       0.00      0.00      0.00         1\n",
      "\n",
      "    accuracy                           0.90      1194\n",
      "   macro avg       0.30      0.33      0.32      1194\n",
      "weighted avg       0.82      0.90      0.86      1194\n",
      "\n"
     ]
    },
    {
     "name": "stderr",
     "output_type": "stream",
     "text": [
      "c:\\Users\\user\\Desktop\\saltlux_project\\.venv\\lib\\site-packages\\sklearn\\metrics\\_classification.py:1471: UndefinedMetricWarning: Precision and F-score are ill-defined and being set to 0.0 in labels with no predicted samples. Use `zero_division` parameter to control this behavior.\n",
      "  _warn_prf(average, modifier, msg_start, len(result))\n",
      "c:\\Users\\user\\Desktop\\saltlux_project\\.venv\\lib\\site-packages\\sklearn\\metrics\\_classification.py:1471: UndefinedMetricWarning: Precision and F-score are ill-defined and being set to 0.0 in labels with no predicted samples. Use `zero_division` parameter to control this behavior.\n",
      "  _warn_prf(average, modifier, msg_start, len(result))\n",
      "c:\\Users\\user\\Desktop\\saltlux_project\\.venv\\lib\\site-packages\\sklearn\\metrics\\_classification.py:1471: UndefinedMetricWarning: Precision and F-score are ill-defined and being set to 0.0 in labels with no predicted samples. Use `zero_division` parameter to control this behavior.\n",
      "  _warn_prf(average, modifier, msg_start, len(result))\n"
     ]
    }
   ],
   "source": [
    "# 분류 보고서 출력\n",
    "print(classification_report(test_labels, predictions))"
   ]
  },
  {
   "cell_type": "markdown",
   "metadata": {},
   "source": [
    "## 예측"
   ]
  },
  {
   "cell_type": "code",
   "execution_count": 126,
   "metadata": {},
   "outputs": [
    {
     "data": {
      "text/html": [
       "<div>\n",
       "<style scoped>\n",
       "    .dataframe tbody tr th:only-of-type {\n",
       "        vertical-align: middle;\n",
       "    }\n",
       "\n",
       "    .dataframe tbody tr th {\n",
       "        vertical-align: top;\n",
       "    }\n",
       "\n",
       "    .dataframe thead th {\n",
       "        text-align: right;\n",
       "    }\n",
       "</style>\n",
       "<table border=\"1\" class=\"dataframe\">\n",
       "  <thead>\n",
       "    <tr style=\"text-align: right;\">\n",
       "      <th></th>\n",
       "      <th>name</th>\n",
       "      <th>category</th>\n",
       "      <th>review</th>\n",
       "      <th>date</th>\n",
       "      <th>revisit</th>\n",
       "    </tr>\n",
       "  </thead>\n",
       "  <tbody>\n",
       "    <tr>\n",
       "      <th>0</th>\n",
       "      <td>건양의료재단 김안과병원</td>\n",
       "      <td>안과</td>\n",
       "      <td>보험수가</td>\n",
       "      <td>방문일\\n11.25.토\\n2023년 11월 25일 토요일</td>\n",
       "      <td>1번째 방문</td>\n",
       "    </tr>\n",
       "    <tr>\n",
       "      <th>1</th>\n",
       "      <td>건양의료재단 김안과병원</td>\n",
       "      <td>안과</td>\n",
       "      <td>...</td>\n",
       "      <td>방문일\\n11.20.월\\n2023년 11월 20일 월요일</td>\n",
       "      <td>6번째 방문</td>\n",
       "    </tr>\n",
       "    <tr>\n",
       "      <th>2</th>\n",
       "      <td>건양의료재단 김안과병원</td>\n",
       "      <td>안과</td>\n",
       "      <td>좋아요</td>\n",
       "      <td>방문일\\n11.15.수\\n2023년 11월 15일 수요일</td>\n",
       "      <td>1번째 방문</td>\n",
       "    </tr>\n",
       "  </tbody>\n",
       "</table>\n",
       "</div>"
      ],
      "text/plain": [
       "           name category review                             date revisit\n",
       "0  건양의료재단 김안과병원       안과   보험수가  방문일\\n11.25.토\\n2023년 11월 25일 토요일  1번째 방문\n",
       "1  건양의료재단 김안과병원       안과    ...  방문일\\n11.20.월\\n2023년 11월 20일 월요일  6번째 방문\n",
       "2  건양의료재단 김안과병원       안과    좋아요  방문일\\n11.15.수\\n2023년 11월 15일 수요일  1번째 방문"
      ]
     },
     "execution_count": 126,
     "metadata": {},
     "output_type": "execute_result"
    }
   ],
   "source": [
    "# 데이터 로드\n",
    "Yeongdeungpo_reviews = pd.read_csv('../preprocess/naver_map_crawling_data_영등포구 병원_1reviews.csv')\n",
    "Yeongdeungpo_reviews.head(3)"
   ]
  },
  {
   "cell_type": "markdown",
   "metadata": {},
   "source": [
    "### 전처리 동일하게 적용"
   ]
  },
  {
   "cell_type": "code",
   "execution_count": 127,
   "metadata": {},
   "outputs": [
    {
     "name": "stdout",
     "output_type": "stream",
     "text": [
      "<class 'pandas.core.frame.DataFrame'>\n",
      "RangeIndex: 16339 entries, 0 to 16338\n",
      "Data columns (total 5 columns):\n",
      " #   Column    Non-Null Count  Dtype \n",
      "---  ------    --------------  ----- \n",
      " 0   name      16339 non-null  object\n",
      " 1   category  16339 non-null  object\n",
      " 2   review    16288 non-null  object\n",
      " 3   date      16334 non-null  object\n",
      " 4   revisit   16334 non-null  object\n",
      "dtypes: object(5)\n",
      "memory usage: 638.4+ KB\n"
     ]
    }
   ],
   "source": [
    "Yeongdeungpo_reviews.info()"
   ]
  },
  {
   "cell_type": "code",
   "execution_count": 128,
   "metadata": {},
   "outputs": [],
   "source": [
    "Yeongdeungpo_reviews = Yeongdeungpo_reviews[['name', 'review']]"
   ]
  },
  {
   "cell_type": "code",
   "execution_count": 130,
   "metadata": {},
   "outputs": [
    {
     "name": "stdout",
     "output_type": "stream",
     "text": [
      "51\n",
      "<class 'pandas.core.frame.DataFrame'>\n",
      "Index: 16288 entries, 0 to 16338\n",
      "Data columns (total 2 columns):\n",
      " #   Column  Non-Null Count  Dtype \n",
      "---  ------  --------------  ----- \n",
      " 0   name    16288 non-null  object\n",
      " 1   review  16288 non-null  object\n",
      "dtypes: object(2)\n",
      "memory usage: 381.8+ KB\n"
     ]
    }
   ],
   "source": [
    "# review null값 삭제\n",
    "print(Yeongdeungpo_reviews['review'].isnull().sum())\n",
    "Yeongdeungpo_reviews.dropna(inplace=True)\n",
    "Yeongdeungpo_reviews.info()"
   ]
  },
  {
   "cell_type": "code",
   "execution_count": 131,
   "metadata": {},
   "outputs": [
    {
     "data": {
      "text/html": [
       "<div>\n",
       "<style scoped>\n",
       "    .dataframe tbody tr th:only-of-type {\n",
       "        vertical-align: middle;\n",
       "    }\n",
       "\n",
       "    .dataframe tbody tr th {\n",
       "        vertical-align: top;\n",
       "    }\n",
       "\n",
       "    .dataframe thead th {\n",
       "        text-align: right;\n",
       "    }\n",
       "</style>\n",
       "<table border=\"1\" class=\"dataframe\">\n",
       "  <thead>\n",
       "    <tr style=\"text-align: right;\">\n",
       "      <th></th>\n",
       "      <th>name</th>\n",
       "      <th>review</th>\n",
       "    </tr>\n",
       "  </thead>\n",
       "  <tbody>\n",
       "    <tr>\n",
       "      <th>0</th>\n",
       "      <td>건양의료재단 김안과병원</td>\n",
       "      <td>보험수가</td>\n",
       "    </tr>\n",
       "    <tr>\n",
       "      <th>1</th>\n",
       "      <td>건양의료재단 김안과병원</td>\n",
       "      <td>...</td>\n",
       "    </tr>\n",
       "  </tbody>\n",
       "</table>\n",
       "</div>"
      ],
      "text/plain": [
       "           name review\n",
       "0  건양의료재단 김안과병원   보험수가\n",
       "1  건양의료재단 김안과병원    ..."
      ]
     },
     "execution_count": 131,
     "metadata": {},
     "output_type": "execute_result"
    }
   ],
   "source": [
    "Yeongdeungpo_reviews = Yeongdeungpo_reviews.reset_index(drop=True)\n",
    "Yeongdeungpo_reviews.head(2)"
   ]
  },
  {
   "cell_type": "code",
   "execution_count": 132,
   "metadata": {},
   "outputs": [
    {
     "name": "stdout",
     "output_type": "stream",
     "text": [
      "name      0\n",
      "review    0\n",
      "dtype: int64\n"
     ]
    }
   ],
   "source": [
    "Yeongdeungpo_reviews['review'] = Yeongdeungpo_reviews['review'].str.replace('\\n', ' ')\n",
    "Yeongdeungpo_reviews['review'] = Yeongdeungpo_reviews['review'].str.replace('[~!]', ' ', regex=True) # regex=True : 정규표현식으로 해석(디폴트)\n",
    "# Jungrang_sentiment['content'] = Jungrang_sentiment['content'].str.replace('[^가-힣]', ' ')\n",
    "Yeongdeungpo_reviews['review'] = Yeongdeungpo_reviews['review'].str.replace(\"[^ㄱ-ㅎㅏ-ㅣ가-힣 ]\",\"\") # 한글과 공백 제외하고 모두 제거\n",
    "Yeongdeungpo_reviews['review'].replace('', np.nan, inplace=True) # 공백은 Null 값으로 변경\n",
    "print(Yeongdeungpo_reviews.isnull().sum())"
   ]
  },
  {
   "cell_type": "code",
   "execution_count": 133,
   "metadata": {},
   "outputs": [
    {
     "name": "stdout",
     "output_type": "stream",
     "text": [
      "전처리 후 샘플의 개수 : 16288\n"
     ]
    }
   ],
   "source": [
    "Yeongdeungpo_reviews = Yeongdeungpo_reviews.dropna(how='any') # Null 값 제거\n",
    "print('전처리 후 샘플의 개수 :',len(Yeongdeungpo_reviews))"
   ]
  },
  {
   "cell_type": "code",
   "execution_count": 135,
   "metadata": {},
   "outputs": [],
   "source": [
    "stop_words = ['은', '는', '이', '가', '을', '를', '다', '의', '가', '이', '은', '한', '에', '하', '고', '인', '듯', '과', '와', '네', '들', '듯', '지', '임', '게']\n",
    "Yeongdeungpo_reviews['tokenized'] = Yeongdeungpo_reviews['review'].apply(tokenizer.morphs)\n",
    "Yeongdeungpo_reviews['tokenized'] = Yeongdeungpo_reviews['tokenized'].apply(lambda x: [item for item in x if item not in stop_words])"
   ]
  },
  {
   "cell_type": "code",
   "execution_count": 136,
   "metadata": {},
   "outputs": [
    {
     "data": {
      "text/html": [
       "<div>\n",
       "<style scoped>\n",
       "    .dataframe tbody tr th:only-of-type {\n",
       "        vertical-align: middle;\n",
       "    }\n",
       "\n",
       "    .dataframe tbody tr th {\n",
       "        vertical-align: top;\n",
       "    }\n",
       "\n",
       "    .dataframe thead th {\n",
       "        text-align: right;\n",
       "    }\n",
       "</style>\n",
       "<table border=\"1\" class=\"dataframe\">\n",
       "  <thead>\n",
       "    <tr style=\"text-align: right;\">\n",
       "      <th></th>\n",
       "      <th>name</th>\n",
       "      <th>review</th>\n",
       "      <th>tokenized</th>\n",
       "    </tr>\n",
       "  </thead>\n",
       "  <tbody>\n",
       "    <tr>\n",
       "      <th>0</th>\n",
       "      <td>건양의료재단 김안과병원</td>\n",
       "      <td>보험수가</td>\n",
       "      <td>[보험, 수가]</td>\n",
       "    </tr>\n",
       "    <tr>\n",
       "      <th>1</th>\n",
       "      <td>건양의료재단 김안과병원</td>\n",
       "      <td>...</td>\n",
       "      <td>[...]</td>\n",
       "    </tr>\n",
       "    <tr>\n",
       "      <th>2</th>\n",
       "      <td>건양의료재단 김안과병원</td>\n",
       "      <td>좋아요</td>\n",
       "      <td>[좋아요]</td>\n",
       "    </tr>\n",
       "    <tr>\n",
       "      <th>3</th>\n",
       "      <td>건양의료재단 김안과병원</td>\n",
       "      <td>[1년째 다니는 중] 안과 대표 병원 중 한 곳이죠. 망막 병동이 아예 따로 있을 ...</td>\n",
       "      <td>[[, 1년, 째, 다니는, 중, ], 안과, 대표, 병원, 중, 곳, 죠, ., ...</td>\n",
       "    </tr>\n",
       "    <tr>\n",
       "      <th>4</th>\n",
       "      <td>건양의료재단 김안과병원</td>\n",
       "      <td>친절해요</td>\n",
       "      <td>[친절해요]</td>\n",
       "    </tr>\n",
       "    <tr>\n",
       "      <th>5</th>\n",
       "      <td>건양의료재단 김안과병원</td>\n",
       "      <td>굿</td>\n",
       "      <td>[굿]</td>\n",
       "    </tr>\n",
       "    <tr>\n",
       "      <th>6</th>\n",
       "      <td>건양의료재단 김안과병원</td>\n",
       "      <td>근래 다니는 중에 제일 대기자가 없던 진료였습니다.  그런데도 진료시간은 40분이나...</td>\n",
       "      <td>[근래, 다니는, 중, 제일, 대, 기자, 없던, 진료, 였습니다, ., 그런데도,...</td>\n",
       "    </tr>\n",
       "    <tr>\n",
       "      <th>7</th>\n",
       "      <td>건양의료재단 김안과병원</td>\n",
       "      <td>...</td>\n",
       "      <td>[...]</td>\n",
       "    </tr>\n",
       "    <tr>\n",
       "      <th>8</th>\n",
       "      <td>건양의료재단 김안과병원</td>\n",
       "      <td>좋아요</td>\n",
       "      <td>[좋아요]</td>\n",
       "    </tr>\n",
       "    <tr>\n",
       "      <th>9</th>\n",
       "      <td>건양의료재단 김안과병원</td>\n",
       "      <td>친절해요 ^^</td>\n",
       "      <td>[친절해요, ^^]</td>\n",
       "    </tr>\n",
       "  </tbody>\n",
       "</table>\n",
       "</div>"
      ],
      "text/plain": [
       "           name                                             review  \\\n",
       "0  건양의료재단 김안과병원                                               보험수가   \n",
       "1  건양의료재단 김안과병원                                                ...   \n",
       "2  건양의료재단 김안과병원                                                좋아요   \n",
       "3  건양의료재단 김안과병원  [1년째 다니는 중] 안과 대표 병원 중 한 곳이죠. 망막 병동이 아예 따로 있을 ...   \n",
       "4  건양의료재단 김안과병원                                               친절해요   \n",
       "5  건양의료재단 김안과병원                                                  굿   \n",
       "6  건양의료재단 김안과병원  근래 다니는 중에 제일 대기자가 없던 진료였습니다.  그런데도 진료시간은 40분이나...   \n",
       "7  건양의료재단 김안과병원                                                ...   \n",
       "8  건양의료재단 김안과병원                                                좋아요   \n",
       "9  건양의료재단 김안과병원                                            친절해요 ^^   \n",
       "\n",
       "                                           tokenized  \n",
       "0                                           [보험, 수가]  \n",
       "1                                              [...]  \n",
       "2                                              [좋아요]  \n",
       "3  [[, 1년, 째, 다니는, 중, ], 안과, 대표, 병원, 중, 곳, 죠, ., ...  \n",
       "4                                             [친절해요]  \n",
       "5                                                [굿]  \n",
       "6  [근래, 다니는, 중, 제일, 대, 기자, 없던, 진료, 였습니다, ., 그런데도,...  \n",
       "7                                              [...]  \n",
       "8                                              [좋아요]  \n",
       "9                                         [친절해요, ^^]  "
      ]
     },
     "execution_count": 136,
     "metadata": {},
     "output_type": "execute_result"
    }
   ],
   "source": [
    "Yeongdeungpo_reviews.head(10)"
   ]
  },
  {
   "cell_type": "code",
   "execution_count": 138,
   "metadata": {},
   "outputs": [
    {
     "name": "stdout",
     "output_type": "stream",
     "text": [
      "예측 결과가 'prediction_results.csv' 파일로 저장되었습니다.\n"
     ]
    }
   ],
   "source": [
    "# 새로운 데이터에 대한 TF-IDF 벡터화\n",
    "new_data_tfidf = tfidf_vectorizer.transform(Yeongdeungpo_reviews['review'])\n",
    "\n",
    "# 학습된 모델을 사용하여 예측\n",
    "new_predictions = classifier.predict(new_data_tfidf)\n",
    "\n",
    "# 새로운 리뷰에 대한 감성 예측 결과를 DataFrame으로 변환\n",
    "result_df = pd.DataFrame({'리뷰': Yeongdeungpo_reviews['review'], '예측 감성': new_predictions})\n",
    "\n",
    "# CSV 파일로 저장\n",
    "result_df.to_csv('../results/ML/prediction_results.csv', index=False, encoding='utf-8')\n",
    "\n",
    "print(\"예측 결과가 'prediction_results.csv' 파일로 저장되었습니다.\")"
   ]
  }
 ],
 "metadata": {
  "kernelspec": {
   "display_name": "bert",
   "language": "python",
   "name": "python3"
  },
  "language_info": {
   "codemirror_mode": {
    "name": "ipython",
    "version": 3
   },
   "file_extension": ".py",
   "mimetype": "text/x-python",
   "name": "python",
   "nbconvert_exporter": "python",
   "pygments_lexer": "ipython3",
   "version": "3.9.13"
  }
 },
 "nbformat": 4,
 "nbformat_minor": 2
}
